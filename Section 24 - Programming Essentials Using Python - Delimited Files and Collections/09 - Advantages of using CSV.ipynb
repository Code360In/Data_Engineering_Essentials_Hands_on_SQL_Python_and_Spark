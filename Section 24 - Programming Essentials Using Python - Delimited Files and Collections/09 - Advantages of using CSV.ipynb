{
 "cells": [
  {
   "cell_type": "markdown",
   "id": "694a6c84",
   "metadata": {},
   "source": [
    "## Advantages of using CSV\n",
    "\n",
    "Let us go through the advantages related to CSV.\n",
    "\n",
    "   * Readability and lesser code while dealing with files containing delimited records or lines.\n",
    "   * We can avoid iterable of strings as intermediate data structure while reading delimited data from files as well as writing the iterables of tuples or dicts into delimited files.\n",
    "   * Data processing libraries such as **pandas**, **pysaprk**, etc have lot more options while dealing with delimited files as well as iterables using tuples or dicts. But the additional capabiblities comes with additional overhead.\n",
    "   * We typically use **csv** over **pandas** or **pyspark** as part of backend development for web or mobile applications. Libraries such as **pandas** and **pyspark** are more relevant for data driven applications which involves heavy weight data processing."
   ]
  }
 ],
 "metadata": {
  "kernelspec": {
   "display_name": "Python 3 (ipykernel)",
   "language": "python",
   "name": "python3"
  },
  "language_info": {
   "codemirror_mode": {
    "name": "ipython",
    "version": 3
   },
   "file_extension": ".py",
   "mimetype": "text/x-python",
   "name": "python",
   "nbconvert_exporter": "python",
   "pygments_lexer": "ipython3",
   "version": "3.9.7"
  }
 },
 "nbformat": 4,
 "nbformat_minor": 5
}
