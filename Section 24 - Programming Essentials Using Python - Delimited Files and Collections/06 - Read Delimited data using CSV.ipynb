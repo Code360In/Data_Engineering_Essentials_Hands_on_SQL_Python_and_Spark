{
 "cells": [
  {
   "cell_type": "markdown",
   "id": "c8414de7",
   "metadata": {},
   "source": [
    "## Read Delimited data using CSV\n",
    "\n",
    "let us understand how to read data from delimited files using Python I/O functions as well as `csv`. `csv` can be used to read iterable of delimited strings into iterable of tuples or dicts.\n",
    "\n",
    "* We will go through the steps related to how to read the contents of the file into list of tuples. We will also see how we can apply transformations such as changing the data types of elements in each of the tuple.\n",
    "* Also, we will go through the steps related to how to read the contents of the file into list of dicts."
   ]
  },
  {
   "cell_type": "code",
   "execution_count": null,
   "id": "c475dba3",
   "metadata": {},
   "outputs": [],
   "source": [
    "!ls -lhtr /data/retail_db/orders"
   ]
  },
  {
   "cell_type": "code",
   "execution_count": null,
   "id": "e712c86c",
   "metadata": {},
   "outputs": [],
   "source": [
    "!head -5 /data/retail_db/orders/part-00000"
   ]
  },
  {
   "cell_type": "code",
   "execution_count": null,
   "id": "487e2121",
   "metadata": {},
   "outputs": [],
   "source": [
    "import csv"
   ]
  },
  {
   "cell_type": "code",
   "execution_count": null,
   "id": "2a228bc0",
   "metadata": {},
   "outputs": [],
   "source": [
    "orders_file = open('/data/retail_db/orders/part-00000')"
   ]
  },
  {
   "cell_type": "code",
   "execution_count": null,
   "id": "8c5c6424",
   "metadata": {},
   "outputs": [],
   "source": [
    "orders_list = orders_file.read().splitlines()"
   ]
  },
  {
   "cell_type": "code",
   "execution_count": null,
   "id": "e27049dd",
   "metadata": {},
   "outputs": [],
   "source": [
    "type(orders_list)"
   ]
  },
  {
   "cell_type": "code",
   "execution_count": null,
   "id": "112e8975",
   "metadata": {},
   "outputs": [],
   "source": [
    "csv.reader?"
   ]
  },
  {
   "cell_type": "code",
   "execution_count": null,
   "id": "2a96765c",
   "metadata": {},
   "outputs": [],
   "source": [
    "orders_list[:10]"
   ]
  },
  {
   "cell_type": "code",
   "execution_count": null,
   "id": "7965c90c",
   "metadata": {},
   "outputs": [],
   "source": [
    "orders = csv.reader(orders_list)"
   ]
  },
  {
   "cell_type": "code",
   "execution_count": null,
   "id": "66f99597",
   "metadata": {},
   "outputs": [],
   "source": [
    "type(orders)"
   ]
  },
  {
   "cell_type": "code",
   "execution_count": null,
   "id": "da68fd58",
   "metadata": {},
   "outputs": [],
   "source": [
    "orders = csv.reader(order_list)\n",
    "list(orders)[:10]"
   ]
  },
  {
   "cell_type": "code",
   "execution_count": null,
   "id": "17c1bb95",
   "metadata": {},
   "outputs": [],
   "source": [
    "orders = csv.reader(order_list)\n",
    "list(orders)[0]"
   ]
  },
  {
   "cell_type": "code",
   "execution_count": null,
   "id": "75df5be6",
   "metadata": {},
   "outputs": [],
   "source": [
    "order"
   ]
  },
  {
   "cell_type": "code",
   "execution_count": null,
   "id": "7affdfda",
   "metadata": {},
   "outputs": [],
   "source": [
    "order[0]"
   ]
  },
  {
   "cell_type": "code",
   "execution_count": null,
   "id": "7c45e655",
   "metadata": {},
   "outputs": [],
   "source": [
    "str.isdigit?"
   ]
  },
  {
   "cell_type": "code",
   "execution_count": null,
   "id": "9da1516a",
   "metadata": {},
   "outputs": [],
   "source": [
    "order[0].isdigit"
   ]
  },
  {
   "cell_type": "code",
   "execution_count": null,
   "id": "e0046209",
   "metadata": {},
   "outputs": [],
   "source": [
    "order[1].isdigit"
   ]
  },
  {
   "cell_type": "code",
   "execution_count": null,
   "id": "dc2341a1",
   "metadata": {},
   "outputs": [],
   "source": [
    "int(order[1]) if order[1].isdigit() else order[0]"
   ]
  },
  {
   "cell_type": "code",
   "execution_count": null,
   "id": "2d6f34b4",
   "metadata": {},
   "outputs": [],
   "source": [
    "lis(map(lambda item: int(item) if item.isdigit() else item, order))"
   ]
  },
  {
   "cell_type": "code",
   "execution_count": null,
   "id": "57d1cbb6",
   "metadata": {},
   "outputs": [],
   "source": [
    "tuple(map(lambda item: int(item) if item.isdigit() else item, order))"
   ]
  },
  {
   "cell_type": "code",
   "execution_count": null,
   "id": "428f231e",
   "metadata": {},
   "outputs": [],
   "source": [
    "orders = csv.reader(order_list)\n",
    "\n",
    "list(\n",
    "    tuple(\n",
    "        map(\n",
    "            lamda order: tuple(map(lambda item: int(item) if item.isdigit() else item, order)),\n",
    "            orders\n",
    "        )\n",
    "    )\n",
    ")[:10]"
   ]
  },
  {
   "cell_type": "markdown",
   "id": "7b6075a2",
   "metadata": {},
   "source": [
    "* Here is the code to convert the data in a CSV file to list of tuples using `csv`."
   ]
  },
  {
   "cell_type": "code",
   "execution_count": null,
   "id": "cc878845",
   "metadata": {},
   "outputs": [],
   "source": [
    "orders_file = open('/data/retail_db/orders/part-00000')\n",
    "orders_list = orders_file.read().spltlines()\n",
    "\n",
    "orders = csv.reader(order_list)\n",
    "\n",
    "list(\n",
    "    tuple(\n",
    "        map(\n",
    "            lamda order: tuple(map(lambda item: int(item) if item.isdigit() else item, order)),\n",
    "            orders\n",
    "        )\n",
    "    )\n",
    ")[:10]"
   ]
  },
  {
   "cell_type": "markdown",
   "id": "e18878fb",
   "metadata": {},
   "source": [
    "* Let us see how can read interable of CSV strings into list of dict type objects using `csv.DicReader`."
   ]
  },
  {
   "cell_type": "code",
   "execution_count": null,
   "id": "afec93cc",
   "metadata": {},
   "outputs": [],
   "source": [
    "csv.DictReader?"
   ]
  },
  {
   "cell_type": "code",
   "execution_count": null,
   "id": "64c43e10",
   "metadata": {},
   "outputs": [],
   "source": [
    "users = [\n",
    "    '1,Scott,Tiger',\n",
    "    '2,Donald,Duck'\n",
    "]"
   ]
  },
  {
   "cell_type": "code",
   "execution_count": null,
   "id": "3833061a",
   "metadata": {},
   "outputs": [],
   "source": [
    "csv.DicReader(users, fieldnames=['user_id', 'user_first_name', 'user_last_name'])"
   ]
  },
  {
   "cell_type": "code",
   "execution_count": null,
   "id": "57ab879c",
   "metadata": {},
   "outputs": [],
   "source": [
    "list(csv.DicReader(users, fieldnames=['user_id', 'user_first_name', 'user_last_name']))"
   ]
  },
  {
   "cell_type": "code",
   "execution_count": null,
   "id": "d91dba8c",
   "metadata": {},
   "outputs": [],
   "source": [
    "users_dicts = list(csv.DicReader(users, fieldnames=['user_id', 'user_first_name', 'user_last_name']))"
   ]
  },
  {
   "cell_type": "code",
   "execution_count": null,
   "id": "75ddf2fd",
   "metadata": {},
   "outputs": [],
   "source": [
    "users_dicts"
   ]
  },
  {
   "cell_type": "code",
   "execution_count": null,
   "id": "05f60e30",
   "metadata": {},
   "outputs": [],
   "source": [
    "users_dicts[0]"
   ]
  },
  {
   "cell_type": "code",
   "execution_count": null,
   "id": "dae88749",
   "metadata": {},
   "outputs": [],
   "source": [
    "users_dicts[0]['user_first_name']"
   ]
  },
  {
   "cell_type": "code",
   "execution_count": null,
   "id": "76ea43a9",
   "metadata": {},
   "outputs": [],
   "source": [
    "list(csv.DicReader(orders_list, fieldnames=['order_id', 'order_date', 'order_customer_id', 'order_status']))[:10]"
   ]
  },
  {
   "cell_type": "code",
   "execution_count": null,
   "id": "390dc6d8",
   "metadata": {},
   "outputs": [],
   "source": [
    "orders = list(csv.DicReader(orders_list, fieldnames=['order_id', 'order_date', 'order_customer_id', 'order_status']))"
   ]
  },
  {
   "cell_type": "code",
   "execution_count": null,
   "id": "13c85b89",
   "metadata": {},
   "outputs": [],
   "source": [
    "orders[:3]"
   ]
  },
  {
   "cell_type": "code",
   "execution_count": null,
   "id": "a96b80cf",
   "metadata": {},
   "outputs": [],
   "source": [
    "orders = orders[0]"
   ]
  },
  {
   "cell_type": "code",
   "execution_count": null,
   "id": "f86cebe5",
   "metadata": {},
   "outputs": [],
   "source": [
    "type(orders)"
   ]
  }
 ],
 "metadata": {
  "kernelspec": {
   "display_name": "Python 3 (ipykernel)",
   "language": "python",
   "name": "python3"
  },
  "language_info": {
   "codemirror_mode": {
    "name": "ipython",
    "version": 3
   },
   "file_extension": ".py",
   "mimetype": "text/x-python",
   "name": "python",
   "nbconvert_exporter": "python",
   "pygments_lexer": "ipython3",
   "version": "3.9.7"
  }
 },
 "nbformat": 4,
 "nbformat_minor": 5
}
