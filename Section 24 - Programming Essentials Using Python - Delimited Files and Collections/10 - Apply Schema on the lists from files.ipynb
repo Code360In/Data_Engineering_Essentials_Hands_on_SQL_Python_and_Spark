{
 "cells": [
  {
   "cell_type": "markdown",
   "id": "4ff6663f",
   "metadata": {},
   "source": [
    "## Apply Schema on the lists from files\n",
    "\n",
    "Let us understand how to apply schema while processing the data from the files.\n",
    "\n",
    "   * In many cases, data files might not contain the metadata such as column names, data types, etc.\n",
    "   * We might get the data metadata in the form of separate files. Also,it is commom that metadata is available via Database Tables or REST based schema registries.\n",
    "   * We need to make sure that the metadata (schema) is applied on the data as part of data processing.\n",
    "   \n",
    "In this case data files are available under **/data/retail_db,** the json file with metadata is available under **schemas/retail_db/retail.json.**"
   ]
  },
  {
   "cell_type": "code",
   "execution_count": null,
   "id": "7be8fdec",
   "metadata": {},
   "outputs": [],
   "source": [
    "!ls -ltr /data/retail_db"
   ]
  },
  {
   "cell_type": "code",
   "execution_count": null,
   "id": "548ae83a",
   "metadata": {},
   "outputs": [],
   "source": [
    "!ls -ltr /data/retail_db/retail.json"
   ]
  },
  {
   "cell_type": "code",
   "execution_count": null,
   "id": "45465ccf",
   "metadata": {},
   "outputs": [],
   "source": [
    "!cat schemas/retail_db/retail.json"
   ]
  },
  {
   "cell_type": "code",
   "execution_count": null,
   "id": "af5486da",
   "metadata": {},
   "outputs": [],
   "source": [
    "!ls -ltr /data/retail_db/orders"
   ]
  },
  {
   "cell_type": "code",
   "execution_count": null,
   "id": "dcbd2fb4",
   "metadata": {},
   "outputs": [],
   "source": [
    "# Read orders data into list of strings\n",
    "\n",
    "orders_path = '/data/retail_db/orders/part-00000'\n",
    "orders = open(orders_path). \\\n",
    "    read(). \\\n",
    "    splitlines()"
   ]
  },
  {
   "cell_type": "code",
   "execution_count": null,
   "id": "69f06e27",
   "metadata": {},
   "outputs": [],
   "source": [
    "orders[:10]"
   ]
  },
  {
   "cell_type": "code",
   "execution_count": null,
   "id": "ae50136b",
   "metadata": {},
   "outputs": [],
   "source": [
    "# Load schemas into dict using json\n",
    "\n",
    "import json\n",
    "retail_schemas = json.load(open('schemas/retail_db/retail.json'))"
   ]
  },
  {
   "cell_type": "code",
   "execution_count": null,
   "id": "e7915424",
   "metadata": {},
   "outputs": [],
   "source": [
    "retail_schemas"
   ]
  },
  {
   "cell_type": "code",
   "execution_count": null,
   "id": "51244692",
   "metadata": {},
   "outputs": [],
   "source": [
    "# Get the schema for relevant data set\n",
    "\n",
    "retail_schemas['orders']"
   ]
  },
  {
   "cell_type": "code",
   "execution_count": null,
   "id": "97747b7c",
   "metadata": {},
   "outputs": [],
   "source": [
    "# Fetch the column names\n",
    "\n",
    "columns = list(map(lambda col: col['column_name'], retail_schemas['orders']))"
   ]
  },
  {
   "cell_type": "code",
   "execution_count": null,
   "id": "76e370c3",
   "metadata": {},
   "outputs": [],
   "source": [
    "columns"
   ]
  },
  {
   "cell_type": "code",
   "execution_count": null,
   "id": "53e0aa64",
   "metadata": {},
   "outputs": [],
   "source": [
    "import csv"
   ]
  },
  {
   "cell_type": "code",
   "execution_count": null,
   "id": "311c5e6d",
   "metadata": {},
   "outputs": [],
   "source": [
    "csv.DictReader?"
   ]
  },
  {
   "cell_type": "code",
   "execution_count": null,
   "id": "8f7cd3cb",
   "metadata": {},
   "outputs": [],
   "source": [
    "# Create DictReader object using list of strings and column names\n",
    "# We will get list of dicts. The keys in the dicts are from columns\n",
    "\n",
    "csv_reader = csv.DictReader(open(orders_path), fieldnames = columns)"
   ]
  },
  {
   "cell_type": "code",
   "execution_count": null,
   "id": "d41ac2fa",
   "metadata": {},
   "outputs": [],
   "source": [
    "csv_reader"
   ]
  },
  {
   "cell_type": "code",
   "execution_count": null,
   "id": "4e6f876a",
   "metadata": {},
   "outputs": [],
   "source": [
    "list(csv_reader)[:10]"
   ]
  },
  {
   "cell_type": "code",
   "execution_count": null,
   "id": "93ad5a7f",
   "metadata": {},
   "outputs": [],
   "source": [
    "folder_name = '/data/retail_db/orders'"
   ]
  },
  {
   "cell_type": "code",
   "execution_count": null,
   "id": "f10f7dde",
   "metadata": {},
   "outputs": [],
   "source": [
    "import os\n",
    "file_names = os.listdir(folder_name)"
   ]
  },
  {
   "cell_type": "code",
   "execution_count": null,
   "id": "524f6220",
   "metadata": {},
   "outputs": [],
   "source": [
    "file_names"
   ]
  },
  {
   "cell_type": "code",
   "execution_count": null,
   "id": "9abda267",
   "metadata": {},
   "outputs": [],
   "source": [
    "l1 = [1, 2, 3]"
   ]
  },
  {
   "cell_type": "code",
   "execution_count": null,
   "id": "82e74f89",
   "metadata": {},
   "outputs": [],
   "source": [
    "l2 = [4, 5]"
   ]
  },
  {
   "cell_type": "code",
   "execution_count": null,
   "id": "59dfd16d",
   "metadata": {},
   "outputs": [],
   "source": [
    "l1 + l2"
   ]
  },
  {
   "cell_type": "code",
   "execution_count": null,
   "id": "cedac88a",
   "metadata": {},
   "outputs": [],
   "source": [
    "import os\n",
    "import json\n",
    "import csv\n",
    "\n",
    "def get_dicts(base_folder, data_set_name, schema_file):\n",
    "    file_names = os.listdir(f'{base_folder} / {data_set_name}')\n",
    "    retail_schemas = json.load(open(schema_file))\n",
    "    columns = list(map(lambda col: col['column_name'], retail_schemas[data_set_name]))\n",
    "    data = []\n",
    "    for file_name in file_names:\n",
    "        file_path = f'{base_folder} / {data_set_name} / {file_name}'\n",
    "        csv_reader = csv.DictReader(open(file_path), fieldnames = clomuns)\n",
    "        data += list(csv_reader)\n",
    "    return data"
   ]
  },
  {
   "cell_type": "code",
   "execution_count": null,
   "id": "b3640499",
   "metadata": {},
   "outputs": [],
   "source": [
    "data = get_dicts('/data/retail_db/orders', 'orders', 'schemas/retail_db/retail.json')"
   ]
  },
  {
   "cell_type": "code",
   "execution_count": null,
   "id": "18d4b3b2",
   "metadata": {},
   "outputs": [],
   "source": [
    "len(data)"
   ]
  },
  {
   "cell_type": "code",
   "execution_count": null,
   "id": "1df8d581",
   "metadata": {},
   "outputs": [],
   "source": [
    "data[:10]"
   ]
  },
  {
   "cell_type": "code",
   "execution_count": null,
   "id": "07fd15c6",
   "metadata": {},
   "outputs": [],
   "source": [
    "data = get_dicts('/data/retail_db/orders', 'orders_items', 'schemas/retail_db/retail.json')"
   ]
  },
  {
   "cell_type": "code",
   "execution_count": null,
   "id": "1714cf15",
   "metadata": {},
   "outputs": [],
   "source": [
    "len(data)"
   ]
  },
  {
   "cell_type": "code",
   "execution_count": null,
   "id": "d0e5f27d",
   "metadata": {},
   "outputs": [],
   "source": [
    "data[:10]"
   ]
  }
 ],
 "metadata": {
  "kernelspec": {
   "display_name": "Python 3 (ipykernel)",
   "language": "python",
   "name": "python3"
  },
  "language_info": {
   "codemirror_mode": {
    "name": "ipython",
    "version": 3
   },
   "file_extension": ".py",
   "mimetype": "text/x-python",
   "name": "python",
   "nbconvert_exporter": "python",
   "pygments_lexer": "ipython3",
   "version": "3.9.7"
  }
 },
 "nbformat": 4,
 "nbformat_minor": 5
}
