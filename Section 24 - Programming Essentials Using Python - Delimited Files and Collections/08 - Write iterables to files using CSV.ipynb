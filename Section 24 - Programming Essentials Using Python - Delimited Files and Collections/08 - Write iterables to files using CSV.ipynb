{
 "cells": [
  {
   "cell_type": "markdown",
   "id": "b471c7fb",
   "metadata": {},
   "source": [
    "## Write iterables to files using CSV\n",
    "\n",
    "Let us understand how to write data in iterables such as list of tuples to delimited files using Python I/O functions as well as `csv`. `csv` can also be used to write iterable of dicts into delimited files."
   ]
  },
  {
   "cell_type": "code",
   "execution_count": null,
   "id": "4f0b3d90",
   "metadata": {},
   "outputs": [],
   "source": [
    "orders = [(1,'2013-07-25 00:00:00.0', 11599, 'CLOSED'),\n",
    "          (2,'2013-07-25 00:00:00.0', 256, 'PENDING_PAYMENT'),\n",
    "          (3,'2013-07-25 00:00:00.0', 1211, 'COMPLETE'),\n",
    "          (4,'2013-07-25 00:00:00.0', 8827, 'CLOSED'),\n",
    "          (5,'2013-07-25 00:00:00.0', 11318, 'COMPLETE'),\n",
    "          (6,'2013-07-25 00:00:00.0', 7130, 'COMPLETE'),\n",
    "          (7,'2013-07-25 00:00:00.0', 4530, 'COMPLETE'),\n",
    "          (8,'2013-07-25 00:00:00.0', 2911, 'PROCESSING'),\n",
    "          (9,'2013-07-25 00:00:00.0', 5657, 'PENDING_PAYMENT'),\n",
    "          (10,'2013-07-25 00:00:00.0', 5648, 'PENDING_PAYMENT')\n",
    "         ]\n",
    "\n",
    "orders_csv = map(lambda order: ','.join(map(lambda item: str(item), order)), orders)"
   ]
  },
  {
   "cell_type": "code",
   "execution_count": null,
   "id": "c0f85d36",
   "metadata": {},
   "outputs": [],
   "source": [
    "orders_csv"
   ]
  },
  {
   "cell_type": "code",
   "execution_count": null,
   "id": "93d17fe8",
   "metadata": {},
   "outputs": [],
   "source": [
    "list(orders_csv)"
   ]
  },
  {
   "cell_type": "code",
   "execution_count": null,
   "id": "3e6d2931",
   "metadata": {},
   "outputs": [],
   "source": [
    "!rm -rf data/retail_db/orders"
   ]
  },
  {
   "cell_type": "code",
   "execution_count": null,
   "id": "a5a85250",
   "metadata": {},
   "outputs": [],
   "source": [
    "!mkdir -p data/retail_db/orders"
   ]
  },
  {
   "cell_type": "code",
   "execution_count": null,
   "id": "6f77a681",
   "metadata": {},
   "outputs": [],
   "source": [
    "orders_file = open('data/retail_db/orders/part-00000', 'w')\n",
    "\n",
    "orders_csv = map(lambda order: ','.join(map(lambda item: str(item), order)), orders)\n",
    "\n",
    "for order in orders_csv:\n",
    "    orders_file.write(f'{order}\\n')\n",
    "    \n",
    "orders_file.close()"
   ]
  },
  {
   "cell_type": "code",
   "execution_count": null,
   "id": "37667047",
   "metadata": {},
   "outputs": [],
   "source": [
    "!ls -ltr data/retail_db/orders/part-00000"
   ]
  },
  {
   "cell_type": "code",
   "execution_count": null,
   "id": "1d17a658",
   "metadata": {},
   "outputs": [],
   "source": [
    "!cat data/retail_db/orders/part-00000"
   ]
  },
  {
   "cell_type": "markdown",
   "id": "4cca8e6b",
   "metadata": {},
   "source": [
    "* Writing iterables of tuples using `csv.writer`."
   ]
  },
  {
   "cell_type": "code",
   "execution_count": null,
   "id": "255901a5",
   "metadata": {},
   "outputs": [],
   "source": [
    "orders = [(1,'2013-07-25 00:00:00.0', 11599, 'CLOSED'),\n",
    "          (2,'2013-07-25 00:00:00.0', 256, 'PENDING_PAYMENT'),\n",
    "          (3,'2013-07-25 00:00:00.0', 1211, 'COMPLETE'),\n",
    "          (4,'2013-07-25 00:00:00.0', 8827, 'CLOSED'),\n",
    "          (5,'2013-07-25 00:00:00.0', 11318, 'COMPLETE'),\n",
    "          (6,'2013-07-25 00:00:00.0', 7130, 'COMPLETE'),\n",
    "          (7,'2013-07-25 00:00:00.0', 4530, 'COMPLETE'),\n",
    "          (8,'2013-07-25 00:00:00.0', 2911, 'PROCESSING'),\n",
    "          (9,'2013-07-25 00:00:00.0', 5657, 'PENDING_PAYMENT'),\n",
    "          (10,'2013-07-25 00:00:00.0', 5648, 'PENDING_PAYMENT')\n",
    "         ]"
   ]
  },
  {
   "cell_type": "code",
   "execution_count": null,
   "id": "9a85138c",
   "metadata": {},
   "outputs": [],
   "source": [
    "import csv"
   ]
  },
  {
   "cell_type": "code",
   "execution_count": null,
   "id": "12f50e3c",
   "metadata": {},
   "outputs": [],
   "source": [
    "csv.writer?"
   ]
  },
  {
   "cell_type": "code",
   "execution_count": null,
   "id": "45f6a98f",
   "metadata": {},
   "outputs": [],
   "source": [
    "!rm data/retail_db/orders/part-00000"
   ]
  },
  {
   "cell_type": "code",
   "execution_count": null,
   "id": "4f8b5fbb",
   "metadata": {},
   "outputs": [],
   "source": [
    "orders_file = open('data/retail_db/orders/part-00000', 'w')"
   ]
  },
  {
   "cell_type": "code",
   "execution_count": null,
   "id": "98f86550",
   "metadata": {},
   "outputs": [],
   "source": [
    "csv_writer = csv.writer(orders_file)"
   ]
  },
  {
   "cell_type": "code",
   "execution_count": null,
   "id": "03d781a2",
   "metadata": {},
   "outputs": [],
   "source": [
    "csv_writer.writerows(orders)"
   ]
  },
  {
   "cell_type": "code",
   "execution_count": null,
   "id": "e30dca22",
   "metadata": {},
   "outputs": [],
   "source": [
    "orders_file.close()"
   ]
  },
  {
   "cell_type": "code",
   "execution_count": null,
   "id": "8f4b842f",
   "metadata": {},
   "outputs": [],
   "source": [
    "!ls -ltr data/retail_db/orders/part-00000"
   ]
  },
  {
   "cell_type": "code",
   "execution_count": null,
   "id": "c4cf5072",
   "metadata": {},
   "outputs": [],
   "source": [
    "!cat data/retail_db/orders/part-00000"
   ]
  },
  {
   "cell_type": "markdown",
   "id": "c16d1252",
   "metadata": {},
   "source": [
    "* We can also write into delimited text files using other delimiters than comma."
   ]
  },
  {
   "cell_type": "code",
   "execution_count": null,
   "id": "25b3d33f",
   "metadata": {},
   "outputs": [],
   "source": [
    "!rm data/retail_db/orders/part-00000"
   ]
  },
  {
   "cell_type": "code",
   "execution_count": null,
   "id": "ec986e28",
   "metadata": {},
   "outputs": [],
   "source": [
    "orders_file = open('data/retail_db/orders/part-00000', 'w')\n",
    "csv_writer = csv.writer(orders_file, delimiter=',')\n",
    "csv_writer.writerows(orders)\n",
    "orders_file.close()"
   ]
  },
  {
   "cell_type": "code",
   "execution_count": null,
   "id": "9a377149",
   "metadata": {},
   "outputs": [],
   "source": [
    "!ls -ltr data/retail_db/orders/part-00000"
   ]
  },
  {
   "cell_type": "markdown",
   "id": "8bc0e289",
   "metadata": {},
   "source": [
    "* We can also write list of dicts into delimited strings using `csv.DictWriter`."
   ]
  },
  {
   "cell_type": "code",
   "execution_count": null,
   "id": "a188d25f",
   "metadata": {},
   "outputs": [],
   "source": [
    "orders = [\n",
    "    {'order_id': 1, 'order_date': '2013-07-25 00:00:00.0', 'order_customer_id': 11599, 'order_status': 'CLOSED'},\n",
    "    {'order_id': 2, 'order_date': '2013-07-25 00:00:00.0', 'order_customer_id': 256, 'order_status': 'PENDING_PAYMENT'},\n",
    "    {'order_id': 3, 'order_date': '2013-07-25 00:00:00.0', 'order_customer_id': 1211, 'order_status': 'COMPLETE'},\n",
    "    {'order_id': 4, 'order_date': '2013-07-25 00:00:00.0', 'order_customer_id': 8827, 'order_status': 'CLOSED'},\n",
    "    {'order_id': 5, 'order_date': '2013-07-25 00:00:00.0', 'order_customer_id': 11318, 'order_status': 'COMPLETE'},\n",
    "    {'order_id': 6, 'order_date': '2013-07-25 00:00:00.0', 'order_customer_id': 7130, 'order_status': 'COMPLETE'},\n",
    "    {'order_id': 7, 'order_date': '2013-07-25 00:00:00.0', 'order_customer_id': 4530, 'order_status': 'COMPLETE'},\n",
    "    {'order_id': 8, 'order_date': '2013-07-25 00:00:00.0', 'order_customer_id': 2911, 'order_status': 'PROCESSING'},\n",
    "    {'order_id': 9, 'order_date': '2013-07-25 00:00:00.0', 'order_customer_id': 5657, 'order_status': 'PENDING_PAYMENT'},\n",
    "    {'order_id': 10', order_date': ,'2013-07-25 00:00:00.0', 'order_customer_id': 5648, 'order_status': 'PENDING_PAYMENT'}\n",
    "]"
   ]
  },
  {
   "cell_type": "code",
   "execution_count": null,
   "id": "9f64c323",
   "metadata": {},
   "outputs": [],
   "source": [
    "!rm data/retail_db/orders/part-00000"
   ]
  },
  {
   "cell_type": "code",
   "execution_count": null,
   "id": "ad0f24b1",
   "metadata": {},
   "outputs": [],
   "source": [
    "orders_file = open('data/retail_db/orders/part-00000', 'w')"
   ]
  },
  {
   "cell_type": "code",
   "execution_count": null,
   "id": "505c5a38",
   "metadata": {},
   "outputs": [],
   "source": [
    "csv.DictWriter?"
   ]
  },
  {
   "cell_type": "code",
   "execution_count": null,
   "id": "150c95b5",
   "metadata": {},
   "outputs": [],
   "source": [
    "csv_writer = csv.DictWriter(\n",
    "    orders_file,\n",
    "    fieldnames= ['order_id', 'order_date', 'order_customer_id', 'order_status'],\n",
    "    delimiter=','\n",
    ")"
   ]
  },
  {
   "cell_type": "code",
   "execution_count": null,
   "id": "0c21358b",
   "metadata": {},
   "outputs": [],
   "source": [
    "csv_writer.writerows(orders)"
   ]
  },
  {
   "cell_type": "code",
   "execution_count": null,
   "id": "45e3e258",
   "metadata": {},
   "outputs": [],
   "source": [
    "orders_file.close()"
   ]
  },
  {
   "cell_type": "code",
   "execution_count": null,
   "id": "1de1b185",
   "metadata": {},
   "outputs": [],
   "source": [
    "!ls -ltr data/retail_db/orders/part-00000"
   ]
  },
  {
   "cell_type": "code",
   "execution_count": null,
   "id": "53897880",
   "metadata": {},
   "outputs": [],
   "source": [
    "!cat data/retail_db/orders/part-00000"
   ]
  }
 ],
 "metadata": {
  "kernelspec": {
   "display_name": "Python 3 (ipykernel)",
   "language": "python",
   "name": "python3"
  },
  "language_info": {
   "codemirror_mode": {
    "name": "ipython",
    "version": 3
   },
   "file_extension": ".py",
   "mimetype": "text/x-python",
   "name": "python",
   "nbconvert_exporter": "python",
   "pygments_lexer": "ipython3",
   "version": "3.9.7"
  }
 },
 "nbformat": 4,
 "nbformat_minor": 5
}
