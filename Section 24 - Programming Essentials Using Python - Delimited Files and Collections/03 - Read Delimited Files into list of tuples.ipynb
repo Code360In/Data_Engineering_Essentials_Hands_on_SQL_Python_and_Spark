{
 "cells": [
  {
   "cell_type": "markdown",
   "id": "08262c47",
   "metadata": {},
   "source": [
    "## Read Delimited Files into list of tuples\n",
    "\n",
    "Let us go through reading delimited files into list of tuples. Here are the steps involved.\n",
    "\n",
    "\n",
    "* Open the file in read mode (default).\n",
    "* Read the data in tne file as string using `read` and then use `splitlines` to create a collection.\n",
    "* At this time, we will have a list where each element is a line from the file.\n",
    "* The data in each element is typically delimited. We have to read the data at each attribute level.\n",
    "* We typically process further to create list of tuples or list of dicts. Each string will be converted to tuple or a dict.\n",
    "* We can either use conventional loops or list comprehensions or functions like `map` to convert each element in the list to a tuple or dict. For now, we will focus on tuple."
   ]
  },
  {
   "cell_type": "code",
   "execution_count": null,
   "id": "2ad4c318",
   "metadata": {},
   "outputs": [],
   "source": [
    "!ls -ltr /data/retail_db/orders"
   ]
  },
  {
   "cell_type": "code",
   "execution_count": null,
   "id": "b41735a4",
   "metadata": {},
   "outputs": [],
   "source": [
    "!head -5 /data/retail_db/orders/part-00000"
   ]
  },
  {
   "cell_type": "code",
   "execution_count": null,
   "id": "f68970ea",
   "metadata": {},
   "outputs": [],
   "source": [
    "!wc -l /data/retail_db/orders/part-00000"
   ]
  },
  {
   "cell_type": "markdown",
   "id": "c91a7b5b",
   "metadata": {},
   "source": [
    "* Open the file in read mode."
   ]
  },
  {
   "cell_type": "code",
   "execution_count": null,
   "id": "b25becc8",
   "metadata": {},
   "outputs": [],
   "source": [
    "orders_file = open('/data/retail_db/orders/part-00000')"
   ]
  },
  {
   "cell_type": "markdown",
   "id": "33f1b587",
   "metadata": {},
   "source": [
    "* Read the data from the file into list of strings"
   ]
  },
  {
   "cell_type": "code",
   "execution_count": null,
   "id": "30c5a7ac",
   "metadata": {},
   "outputs": [],
   "source": [
    "orders_list = orders_file.read().splitlines()"
   ]
  },
  {
   "cell_type": "code",
   "execution_count": null,
   "id": "ec65b460",
   "metadata": {},
   "outputs": [],
   "source": [
    "type(orders_list)"
   ]
  },
  {
   "cell_type": "code",
   "execution_count": null,
   "id": "eb8fbb5a",
   "metadata": {},
   "outputs": [],
   "source": [
    "orders_list[:10]"
   ]
  },
  {
   "cell_type": "code",
   "execution_count": null,
   "id": "83bb582d",
   "metadata": {},
   "outputs": [],
   "source": [
    "len(orders_list)"
   ]
  },
  {
   "cell_type": "code",
   "execution_count": null,
   "id": "551aa44e",
   "metadata": {},
   "outputs": [],
   "source": [
    "orders_list[0]"
   ]
  },
  {
   "cell_type": "code",
   "execution_count": null,
   "id": "9b8e2c67",
   "metadata": {},
   "outputs": [],
   "source": [
    "type(orders_list[0])"
   ]
  },
  {
   "cell_type": "markdown",
   "id": "c8be0d4f",
   "metadata": {},
   "source": [
    "* Coberting each string in **orders_list** into list of tuples using conventional `for` loo"
   ]
  },
  {
   "cell_type": "code",
   "execution_count": null,
   "id": "5f0eddd3",
   "metadata": {},
   "outputs": [],
   "source": [
    "order = orders_list[0]"
   ]
  },
  {
   "cell_type": "code",
   "execution_count": null,
   "id": "bf9793e1",
   "metadata": {},
   "outputs": [],
   "source": [
    "order.split(',')"
   ]
  },
  {
   "cell_type": "code",
   "execution_count": null,
   "id": "f055c130",
   "metadata": {},
   "outputs": [],
   "source": [
    "tuple(order.split(','))"
   ]
  },
  {
   "cell_type": "code",
   "execution_count": null,
   "id": "c24d7df8",
   "metadata": {},
   "outputs": [],
   "source": [
    "tuple((int(order.split(',')[0]), order.split(',')[1], int(order.split(',')[2]), order.split(',')[3]))"
   ]
  },
  {
   "cell_type": "code",
   "execution_count": null,
   "id": "7dfdc731",
   "metadata": {},
   "outputs": [],
   "source": [
    "orders_conventional_for = []\n",
    "\n",
    "for order in orders_list:\n",
    "    order_details = order.split(',')\n",
    "    orders_conventional_for.append((int(order_details[0]), order_details[1], int(order_details[2]), order_details[3]))"
   ]
  },
  {
   "cell_type": "code",
   "execution_count": null,
   "id": "070ab69d",
   "metadata": {},
   "outputs": [],
   "source": [
    "orders_conventional_for[:10]"
   ]
  },
  {
   "cell_type": "code",
   "execution_count": null,
   "id": "2b687b2e",
   "metadata": {},
   "outputs": [],
   "source": [
    "len(orders_conventional_for)"
   ]
  },
  {
   "cell_type": "code",
   "execution_count": null,
   "id": "99cdc18f",
   "metadata": {},
   "outputs": [],
   "source": [
    "orders_conventional_for[0]"
   ]
  },
  {
   "cell_type": "code",
   "execution_count": null,
   "id": "af6200bb",
   "metadata": {},
   "outputs": [],
   "source": [
    "type(orders_conventional_for[0])"
   ]
  },
  {
   "cell_type": "markdown",
   "id": "3d2ca954",
   "metadata": {},
   "source": [
    "* Converting each string in **orders_list** into list of tuples using list comprehensions."
   ]
  },
  {
   "cell_type": "code",
   "execution_count": null,
   "id": "91ead457",
   "metadata": {},
   "outputs": [],
   "source": [
    "orders_list_comprehension = [\n",
    "    (int(order.split(',')[0]), order.split(',')[1], int(order.split(',')[2]), order.split(',')[3]) for order in orders_list_comprehension: orders_listt_comprehension.append((int(order_details[0]), order_details[1], int(order_details[2]), order_details[3]))\n",
    "]"
   ]
  },
  {
   "cell_type": "code",
   "execution_count": null,
   "id": "a133ea12",
   "metadata": {},
   "outputs": [],
   "source": [
    "len(orders_list_comprehension)"
   ]
  },
  {
   "cell_type": "code",
   "execution_count": null,
   "id": "beec0c02",
   "metadata": {},
   "outputs": [],
   "source": [
    "orders_list_comprehension[0]"
   ]
  },
  {
   "cell_type": "code",
   "execution_count": null,
   "id": "bca01c32",
   "metadata": {},
   "outputs": [],
   "source": [
    "type(orders_list_comprehension[0])"
   ]
  },
  {
   "cell_type": "markdown",
   "id": "1bff9bbb",
   "metadata": {},
   "source": [
    "* Converting each string in **orders_list** into list of tuples using `map`."
   ]
  },
  {
   "cell_type": "code",
   "execution_count": null,
   "id": "203c5876",
   "metadata": {},
   "outputs": [],
   "source": [
    "order_list_map = map(\n",
    "    lambda order: (\n",
    "        int(order.split(',')[0]), order.split(',')[1], int(order.split(',')[2]), order.split(',')[3]    \n",
    "    ),\n",
    "    orders_list\n",
    ")"
   ]
  },
  {
   "cell_type": "code",
   "execution_count": null,
   "id": "c4fbdb62",
   "metadata": {},
   "outputs": [],
   "source": [
    "type(order_list_map)"
   ]
  },
  {
   "cell_type": "code",
   "execution_count": null,
   "id": "4cc5c7d7",
   "metadata": {},
   "outputs": [],
   "source": [
    "list(order_list_map[:10])"
   ]
  },
  {
   "cell_type": "code",
   "execution_count": null,
   "id": "76d84421",
   "metadata": {},
   "outputs": [],
   "source": [
    "order_list_map = map(\n",
    "    lambda order: (\n",
    "        int(order.split(',')[0]), order.split(',')[1], int(order.split(',')[2]), order.split(',')[3]    \n",
    "    ),\n",
    "    orders_list\n",
    ")\n",
    "\n",
    "len(list(order_list_map))"
   ]
  },
  {
   "cell_type": "code",
   "execution_count": null,
   "id": "29f5383c",
   "metadata": {},
   "outputs": [],
   "source": [
    "order_list_map = map(\n",
    "    lambda order: (\n",
    "        int(order.split(',')[0]), order.split(',')[1], int(order.split(',')[2]), order.split(',')[3]    \n",
    "    ),\n",
    "    orders_list\n",
    ")\n",
    "\n",
    "list(order_list_map)[0]"
   ]
  },
  {
   "cell_type": "code",
   "execution_count": null,
   "id": "644d308f",
   "metadata": {},
   "outputs": [],
   "source": [
    "order_list_map = map(\n",
    "    lambda order: (\n",
    "        int(order.split(',')[0]), order.split(',')[1], int(order.split(',')[2]), order.split(',')[3]    \n",
    "    ),\n",
    "    orders_list\n",
    ")\n",
    "\n",
    "type(order_list_map[0])"
   ]
  }
 ],
 "metadata": {
  "kernelspec": {
   "display_name": "Python 3 (ipykernel)",
   "language": "python",
   "name": "python3"
  },
  "language_info": {
   "codemirror_mode": {
    "name": "ipython",
    "version": 3
   },
   "file_extension": ".py",
   "mimetype": "text/x-python",
   "name": "python",
   "nbconvert_exporter": "python",
   "pygments_lexer": "ipython3",
   "version": "3.9.7"
  }
 },
 "nbformat": 4,
 "nbformat_minor": 5
}
