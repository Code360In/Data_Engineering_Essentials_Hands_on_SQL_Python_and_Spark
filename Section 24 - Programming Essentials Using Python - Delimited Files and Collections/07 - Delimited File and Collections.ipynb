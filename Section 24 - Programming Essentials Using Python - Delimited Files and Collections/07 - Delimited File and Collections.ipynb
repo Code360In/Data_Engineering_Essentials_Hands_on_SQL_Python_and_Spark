{
 "cells": [
  {
   "cell_type": "markdown",
   "id": "21d69690",
   "metadata": {},
   "source": [
    "## Delimited Files and Collections\n",
    "\n",
    "As part of this section or module, we will be going through the details about dealing with delimited files and collections.\n",
    "\n",
    "   * Overview of Delimited Text Files.\n",
    "   * Recap of Basic File I/O.\n",
    "   * Read Delimited Files into List.\n",
    "   * Write Delimited Strings into Files.\n",
    "   * Overview of CSV Module.\n",
    "   * Read Delimited Data using CSV.\n",
    "   * Write Iterables to Files using CSV.\n",
    "   * Advantages of using CSV Module.\n",
    "   * Apply Schema on Lists from Files."
   ]
  }
 ],
 "metadata": {
  "kernelspec": {
   "display_name": "Python 3 (ipykernel)",
   "language": "python",
   "name": "python3"
  },
  "language_info": {
   "codemirror_mode": {
    "name": "ipython",
    "version": 3
   },
   "file_extension": ".py",
   "mimetype": "text/x-python",
   "name": "python",
   "nbconvert_exporter": "python",
   "pygments_lexer": "ipython3",
   "version": "3.9.7"
  }
 },
 "nbformat": 4,
 "nbformat_minor": 5
}
