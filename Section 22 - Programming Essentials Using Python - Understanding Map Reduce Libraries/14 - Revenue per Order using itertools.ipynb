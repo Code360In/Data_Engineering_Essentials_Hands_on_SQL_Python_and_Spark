{
 "cells": [
  {
   "cell_type": "markdown",
   "id": "87a5d7b5",
   "metadata": {},
   "source": [
    "## Revenue per Order using itertools\n",
    "\n",
    "Get revenue per order using order_items data set."
   ]
  },
  {
   "cell_type": "code",
   "execution_count": null,
   "id": "ec4821c7",
   "metadata": {},
   "outputs": [],
   "source": [
    "%run 02_preparing_data_sets.ipynb"
   ]
  },
  {
   "cell_type": "code",
   "execution_count": null,
   "id": "b8d64aad",
   "metadata": {},
   "outputs": [],
   "source": [
    "order_items[:4]"
   ]
  },
  {
   "cell_type": "code",
   "execution_count": null,
   "id": "b633e4ce",
   "metadata": {},
   "outputs": [],
   "source": [
    "order_subtotals = map(lambda oi: (int(oi.split(',')[1]), float(oi.split(',')[4])), order_items)"
   ]
  },
  {
   "cell_type": "code",
   "execution_count": null,
   "id": "8290b97d",
   "metadata": {},
   "outputs": [],
   "source": [
    "list(order_subtotals)[:3]"
   ]
  },
  {
   "cell_type": "code",
   "execution_count": null,
   "id": "84f25716",
   "metadata": {},
   "outputs": [],
   "source": [
    "order_subtotals = map(lambda oi: (int(oi.split(',')[1]), float(oi.split(',')[4])), order_items)\n",
    "order_subtotals_sorted = sorted(order_subtotals)"
   ]
  },
  {
   "cell_type": "code",
   "execution_count": null,
   "id": "69be57cd",
   "metadata": {},
   "outputs": [],
   "source": [
    "order_subtotals_sorted[:3]"
   ]
  },
  {
   "cell_type": "code",
   "execution_count": null,
   "id": "02bef1be",
   "metadata": {},
   "outputs": [],
   "source": [
    "import itertools as iter"
   ]
  },
  {
   "cell_type": "code",
   "execution_count": null,
   "id": "6311300b",
   "metadata": {},
   "outputs": [],
   "source": [
    "order_subtotals_grouped = iter.groupby(order_subtotals_sorted, lambda rec: rec[0])"
   ]
  },
  {
   "cell_type": "code",
   "execution_count": null,
   "id": "6a155374",
   "metadata": {},
   "outputs": [],
   "source": [
    "list(order_subtotals_grouped)[:3]"
   ]
  },
  {
   "cell_type": "code",
   "execution_count": null,
   "id": "568451da",
   "metadata": {},
   "outputs": [],
   "source": [
    "order_subtotals = map(lambda oi: (int(oi.split(',')[1]), float(oi.split(',')[4])), order_items)\n",
    "order_subtotals_sorted = sorted(order_subtotals)\n",
    "\n",
    "order_subtotals_grouped = iter.groupby(order_subtotals_sorted, lambda rec: rec[0])"
   ]
  },
  {
   "cell_type": "code",
   "execution_count": null,
   "id": "07e27d6d",
   "metadata": {},
   "outputs": [],
   "source": [
    "cnt = 0\n",
    "for e in order_subtotals_grouped:\n",
    "    if cnt == 10: break\n",
    "    print(f'{e[0]} contains {list(e[1])}')\n",
    "    cnt += 1"
   ]
  },
  {
   "cell_type": "code",
   "execution_count": null,
   "id": "e88d095a",
   "metadata": {},
   "outputs": [],
   "source": [
    "i = [(2, 199.99), (2, 250.0), (2, 129.99)]"
   ]
  },
  {
   "cell_type": "code",
   "execution_count": null,
   "id": "4b4bcfa3",
   "metadata": {},
   "outputs": [],
   "source": [
    "list(map(lambda rec: rec[1], i))"
   ]
  },
  {
   "cell_type": "code",
   "execution_count": null,
   "id": "e7d0e5e3",
   "metadata": {},
   "outputs": [],
   "source": [
    "# this will go as part of first argument to starmap\n",
    "sum(list(map(lambda rec: rec[1], i)))"
   ]
  },
  {
   "cell_type": "code",
   "execution_count": null,
   "id": "579cf3d3",
   "metadata": {},
   "outputs": [],
   "source": [
    "order_subtotals = map(lambda oi: (int(oi.split(',')[1]), float(oi.split(',')[4])), order_items)\n",
    "order_subtotals_sorted = sorted(order_subtotals)\n",
    "\n",
    "import itertools as iter\n",
    "\n",
    "order_subtotals_grouped = iter.groupby(order_subtotals_sorted, lambda rec: rec[0])\n",
    "\n",
    "list(order_subtotals_grouped)[:3]"
   ]
  },
  {
   "cell_type": "code",
   "execution_count": null,
   "id": "8cadceb5",
   "metadata": {},
   "outputs": [],
   "source": [
    "order_subtotals = map(lambda oi: (int(oi.split(',')[1]), float(oi.split(',')[4])), order_items)\n",
    "order_subtotals_sorted = sorted(order_subtotals)\n",
    "\n",
    "order_subtotals_grouped = iter.groupby(order_subtotals_sorted, lambda rec: rec[0])\n",
    "\n",
    "order_revenue = iter.starmap(\n",
    "    lambda key, values: (key, round(sum(list(map(lambda rec: rec[1], values))), 2)), \n",
    "    order_subtotals_grouped\n",
    ")"
   ]
  },
  {
   "cell_type": "code",
   "execution_count": null,
   "id": "c6475286",
   "metadata": {},
   "outputs": [],
   "source": [
    "list(order_revenue)[:3]"
   ]
  },
  {
   "cell_type": "markdown",
   "id": "920756ad",
   "metadata": {},
   "source": [
    "```{note}\n",
    "Alternative solution by avoiding first map.\n",
    "```"
   ]
  },
  {
   "cell_type": "code",
   "execution_count": null,
   "id": "2e8437fb",
   "metadata": {},
   "outputs": [],
   "source": [
    "order_items_sorted = sorted(order_items, key=lambda oi: int(oi.split(',')[1]))\n",
    "\n",
    "order_items_grouped = iter.groupby(order_items_sorted, lambda oi: int(oi.split(',')[1]))"
   ]
  },
  {
   "cell_type": "code",
   "execution_count": null,
   "id": "a71e72d2",
   "metadata": {},
   "outputs": [],
   "source": [
    "order_items[1:4]"
   ]
  },
  {
   "cell_type": "code",
   "execution_count": null,
   "id": "05a2df55",
   "metadata": {},
   "outputs": [],
   "source": [
    "order_items_sorted = sorted(order_items, key=lambda oi: int(oi.split(',')[1]))\n",
    "\n",
    "order_items_grouped = iter.groupby(order_items_sorted, lambda oi: int(oi.split(',')[1]))\n",
    "\n",
    "cnt = 0\n",
    "for e in order_items_grouped:\n",
    "    if cnt == 10: break\n",
    "    print(f'{e[0]} contains {list(e[1])}')\n",
    "    cnt += 1"
   ]
  },
  {
   "cell_type": "code",
   "execution_count": null,
   "id": "4909c024",
   "metadata": {},
   "outputs": [],
   "source": [
    "values = order_items[1:4]"
   ]
  },
  {
   "cell_type": "code",
   "execution_count": null,
   "id": "a9912f82",
   "metadata": {},
   "outputs": [],
   "source": [
    "values"
   ]
  },
  {
   "cell_type": "code",
   "execution_count": null,
   "id": "b0febee2",
   "metadata": {},
   "outputs": [],
   "source": [
    "list(map(lambda rec: float(rec.split(',')[4]), values))"
   ]
  },
  {
   "cell_type": "code",
   "execution_count": null,
   "id": "884e20a3",
   "metadata": {},
   "outputs": [],
   "source": [
    "sum(list(map(lambda rec: float(rec.split(',')[4]), values)))"
   ]
  },
  {
   "cell_type": "code",
   "execution_count": null,
   "id": "4b59162d",
   "metadata": {},
   "outputs": [],
   "source": [
    "order_revenue = iter.starmap(\n",
    "    lambda key, values: (key, round(sum(list(map(lambda rec: float(rec.split(',')[4]), values))), 2)), \n",
    "    order_items_grouped\n",
    ")"
   ]
  },
  {
   "cell_type": "code",
   "execution_count": null,
   "id": "c960c8f5",
   "metadata": {},
   "outputs": [],
   "source": [
    "list(order_revenue)[:3]"
   ]
  }
 ],
 "metadata": {
  "kernelspec": {
   "display_name": "Python 3 (ipykernel)",
   "language": "python",
   "name": "python3"
  },
  "language_info": {
   "codemirror_mode": {
    "name": "ipython",
    "version": 3
   },
   "file_extension": ".py",
   "mimetype": "text/x-python",
   "name": "python",
   "nbconvert_exporter": "python",
   "pygments_lexer": "ipython3",
   "version": "3.9.7"
  }
 },
 "nbformat": 4,
 "nbformat_minor": 5
}
