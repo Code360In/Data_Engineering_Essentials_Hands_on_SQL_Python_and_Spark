{
 "cells": [
  {
   "cell_type": "markdown",
   "id": "a7e3d82a",
   "metadata": {},
   "source": [
    "## Row Level Transformations using Map\n",
    "\n",
    "Lets us understand how we can perform row level transformation using `map`. Here are some of the examples.\n",
    "\n",
    "* Derive new fields from existing fields.\n",
    "* Get last 4 digits of social security number. \n",
    "* Standardize phone numbers.\n",
    "* Convert names to lower or upper case.\n",
    "* Break down the address into street, city, state, zip code.\n",
    "* Encrypt confidential information such as social security number or other unique ids such as Asdhaar."
   ]
  },
  {
   "cell_type": "code",
   "execution_count": null,
   "id": "79e50364",
   "metadata": {},
   "outputs": [],
   "source": [
    "%run 02-preparing_data_sets.ipynb"
   ]
  },
  {
   "cell_type": "code",
   "execution_count": null,
   "id": "50687843",
   "metadata": {},
   "outputs": [],
   "source": [
    "orders[:10]"
   ]
  },
  {
   "cell_type": "code",
   "execution_count": null,
   "id": "7149b9a3",
   "metadata": {},
   "outputs": [],
   "source": [
    "len(orders)"
   ]
  },
  {
   "cell_type": "code",
   "execution_count": null,
   "id": "4b526169",
   "metadata": {},
   "outputs": [],
   "source": [
    "order_items[:10]"
   ]
  },
  {
   "cell_type": "code",
   "execution_count": null,
   "id": "d5ca66c6",
   "metadata": {},
   "outputs": [],
   "source": [
    "len(order_items)"
   ]
  },
  {
   "cell_type": "markdown",
   "id": "d1f706da",
   "metadata": {},
   "source": [
    "## Task 1\n",
    "\n",
    "Get day name of each date in our orders data set. Output should be tuple with 3 elements.\n",
    "\n",
    "* order_id of type integer\n",
    "* order_date of type string\n",
    "* order_day_name of type string"
   ]
  },
  {
   "cell_type": "code",
   "execution_count": null,
   "id": "1f093d73",
   "metadata": {},
   "outputs": [],
   "source": [
    "import datetime as dt\n",
    "d = dt.datetime.strptime('2013-07-25 00:00:00.0'.split(' ')[0], '%Y-%m-%d')"
   ]
  },
  {
   "cell_type": "code",
   "execution_count": null,
   "id": "3702e320",
   "metadata": {},
   "outputs": [],
   "source": [
    "d"
   ]
  },
  {
   "cell_type": "code",
   "execution_count": null,
   "id": "61f87cd0",
   "metadata": {},
   "outputs": [],
   "source": [
    "d.weekday()"
   ]
  },
  {
   "cell_type": "code",
   "execution_count": null,
   "id": "57cec46a",
   "metadata": {},
   "outputs": [],
   "source": [
    "import calendar"
   ]
  },
  {
   "cell_type": "code",
   "execution_count": null,
   "id": "4b4a3f09",
   "metadata": {},
   "outputs": [],
   "source": [
    "list(calendar.day_name)"
   ]
  },
  {
   "cell_type": "code",
   "execution_count": null,
   "id": "33db02a8",
   "metadata": {},
   "outputs": [],
   "source": [
    "calendar.day_name[d.weekday()]"
   ]
  },
  {
   "cell_type": "code",
   "execution_count": null,
   "id": "6f60a37c",
   "metadata": {},
   "outputs": [],
   "source": [
    "import datetime as d, calendar as c\n",
    "order = '1,2013-07-25 00:00:00.0,11599,CLOSED'"
   ]
  },
  {
   "cell_type": "code",
   "execution_count": null,
   "id": "fe1fdc06",
   "metadata": {},
   "outputs": [],
   "source": [
    "order.split(',')[1].split(' ')[0]"
   ]
  },
  {
   "cell_type": "code",
   "execution_count": null,
   "id": "3ea0c004",
   "metadata": {},
   "outputs": [],
   "source": [
    "dt.datetime.strptime(order.split(',')[1].split(' ')[0], '%Y-%m-%d')"
   ]
  },
  {
   "cell_type": "code",
   "execution_count": null,
   "id": "345665a4",
   "metadata": {},
   "outputs": [],
   "source": [
    "dt.datetime.strptime(order.split(',')[1].split(' ')[0], '%Y-%m-%d').weekday()"
   ]
  },
  {
   "cell_type": "code",
   "execution_count": null,
   "id": "5ec7d019",
   "metadata": {},
   "outputs": [],
   "source": [
    "c.day_name[dt.datetime.strptime(order.split(',')[1].split(' ')[0], '%Y-%m-%d').weekday()]"
   ]
  },
  {
   "cell_type": "code",
   "execution_count": null,
   "id": "364e42b1",
   "metadata": {},
   "outputs": [],
   "source": [
    "import datetime as dt, calendar as c\n",
    "order_dates = map (\n",
    "    lambda order: c.day_name[dt.datetime.strptime(order.split(',')[1].split(' ')[0], '%Y-%m-%d').weekday()],\n",
    "    orders\n",
    ")"
   ]
  },
  {
   "cell_type": "code",
   "execution_count": null,
   "id": "c6bfd929",
   "metadata": {},
   "outputs": [],
   "source": [
    "list(order_dates)[:10]"
   ]
  },
  {
   "cell_type": "markdown",
   "id": "7bd94b91",
   "metadata": {},
   "source": [
    "We can use lambda function as long as we do not have assignment operations. Howevwe, we might end up compromising readability."
   ]
  },
  {
   "cell_type": "code",
   "execution_count": null,
   "id": "2bc7e755",
   "metadata": {},
   "outputs": [],
   "source": [
    "import datetime as dt, calendar as c\n",
    "order_dates = map (\n",
    "    lambda order: (\n",
    "        int(order.split(',')[0]),\n",
    "        order.split(',')[1],\n",
    "        c.day_name[dt.datetime.strptime(order.split(',')[1].split(' ')[0], '%Y-%m-%d').weekday()]\n",
    "    ),\n",
    "    orders\n",
    ")"
   ]
  },
  {
   "cell_type": "code",
   "execution_count": null,
   "id": "47c632b0",
   "metadata": {},
   "outputs": [],
   "source": [
    "list(order_dates)[:10]"
   ]
  },
  {
   "cell_type": "markdown",
   "id": "9ce36bc2",
   "metadata": {},
   "source": [
    "Here is the example of implementation using named function."
   ]
  },
  {
   "cell_type": "code",
   "execution_count": null,
   "id": "6c0c5e1f",
   "metadata": {},
   "outputs": [],
   "source": [
    "def get_order_date(order):\n",
    "    order_details = order.split(',')\n",
    "    order_id = int(order_datails[0])\n",
    "    order_date = order.split(',')[1]\n",
    "    order_date_as_datetime = dt.datetime.strptime(order_date.split(' ')[0], '%Y-%m-%d')\n",
    "    order_day_name = c.day_name[order_date_as_datetime.weekday()]\n",
    "    return (order_id, order_date, order_day_name)"
   ]
  },
  {
   "cell_type": "code",
   "execution_count": null,
   "id": "b1c59774",
   "metadata": {},
   "outputs": [],
   "source": [
    "order_dates = map (\n",
    "    get order_date,\n",
    "    orders\n",
    ")"
   ]
  },
  {
   "cell_type": "code",
   "execution_count": null,
   "id": "4fcbe311",
   "metadata": {},
   "outputs": [],
   "source": [
    "list(order_dates)[:10]"
   ]
  },
  {
   "cell_type": "code",
   "execution_count": null,
   "id": "5cab27ff",
   "metadata": {},
   "outputs": [],
   "source": [
    "order_dates = map (\n",
    "    lambda order: get_order_date(order),\n",
    "    orders\n",
    ")"
   ]
  },
  {
   "cell_type": "code",
   "execution_count": null,
   "id": "36f35a19",
   "metadata": {},
   "outputs": [],
   "source": [
    "list(order_dates)[:10]"
   ]
  },
  {
   "cell_type": "markdown",
   "id": "e7a527c1",
   "metadata": {},
   "source": [
    "## Task 2\n",
    "\n",
    "Add weekend flag for Saturday and Sunday dates."
   ]
  },
  {
   "cell_type": "code",
   "execution_count": null,
   "id": "4ea9f4ae",
   "metadata": {},
   "outputs": [],
   "source": [
    "def get_order_date(order):\n",
    "    order_details = order.split(',')\n",
    "    order_id = int(order_datails[0])\n",
    "    order_date = order.split(',')[1]\n",
    "    order_date_as_datetime = dt.datetime.strptime(order_date.split(' ')[0], '%Y-%m-%d')\n",
    "    order_day_name = c.day_name[order_date_as_datetime.weekday()]\n",
    "    weekend_flag = True if order_date_as_datetime.weekday() in (5, 6) else False\n",
    "    return (order_id, order_date, order_day_name, weekend_flag)"
   ]
  },
  {
   "cell_type": "code",
   "execution_count": null,
   "id": "95701862",
   "metadata": {},
   "outputs": [],
   "source": [
    "order_dates = map (\n",
    "    get order_date,\n",
    "    orders\n",
    ")"
   ]
  },
  {
   "cell_type": "code",
   "execution_count": null,
   "id": "fc8e2551",
   "metadata": {},
   "outputs": [],
   "source": [
    "list(order_dates)[:10]"
   ]
  },
  {
   "cell_type": "markdown",
   "id": "f8752a5c",
   "metadata": {},
   "source": [
    "Validate whether weekend_flag is generated properly or not."
   ]
  },
  {
   "cell_type": "code",
   "execution_count": null,
   "id": "a4c0a7de",
   "metadata": {},
   "outputs": [],
   "source": [
    "def get_order_date(order):\n",
    "    order_details = order.split(',')\n",
    "    order_id = int(order_datails[0])\n",
    "    order_date = order.split(',')[1]\n",
    "    order_date_as_datetime = dt.datetime.strptime(order_date.split(' ')[0], '%Y-%m-%d')\n",
    "    order_day_name = c.day_name[order_date_as_datetime.weekday()]\n",
    "    weekend_flag = True if order_date_as_datetime.weekday() in (5, 6) else False\n",
    "    return (order_id, order_date, order_day_name, weekend_flag)"
   ]
  },
  {
   "cell_type": "code",
   "execution_count": null,
   "id": "5648e9f5",
   "metadata": {},
   "outputs": [],
   "source": [
    "order_dates = map (\n",
    "    get order_date,\n",
    "    orders\n",
    ")"
   ]
  },
  {
   "cell_type": "code",
   "execution_count": null,
   "id": "9f3858e1",
   "metadata": {},
   "outputs": [],
   "source": [
    "unique_dates = map(\n",
    "    lambda order: (order[1], order[2], order[3])\n",
    ")"
   ]
  },
  {
   "cell_type": "code",
   "execution_count": null,
   "id": "9df65599",
   "metadata": {},
   "outputs": [],
   "source": [
    "set(unique_dates)"
   ]
  },
  {
   "cell_type": "code",
   "execution_count": null,
   "id": "1d1fc0a8",
   "metadata": {},
   "outputs": [],
   "source": [
    "unique_dates_without_ids = map(\n",
    "    lambda order: (order[1], order[2], order[3]),\n",
    "    order_dates\n",
    ")"
   ]
  },
  {
   "cell_type": "code",
   "execution_count": null,
   "id": "bf0cb34e",
   "metadata": {},
   "outputs": [],
   "source": [
    "set(unique_dates_without_ids)"
   ]
  }
 ],
 "metadata": {
  "kernelspec": {
   "display_name": "Python 3 (ipykernel)",
   "language": "python",
   "name": "python3"
  },
  "language_info": {
   "codemirror_mode": {
    "name": "ipython",
    "version": 3
   },
   "file_extension": ".py",
   "mimetype": "text/x-python",
   "name": "python",
   "nbconvert_exporter": "python",
   "pygments_lexer": "ipython3",
   "version": "3.9.7"
  }
 },
 "nbformat": 4,
 "nbformat_minor": 5
}
