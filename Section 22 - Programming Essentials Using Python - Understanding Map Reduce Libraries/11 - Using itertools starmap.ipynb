{
 "cells": [
  {
   "cell_type": "markdown",
   "id": "86628a18",
   "metadata": {},
   "source": [
    "## Using itertools starmap\n",
    "\n",
    "Let us understand the usage of `starmap`. We will first create a collection with sales and commission percentage. Using that collection compute totalcommission amount. If the commission percent is None or Not present, treat it as 0.\n",
    "\n",
    "   * Each element in the collection is a tuple.\n",
    "   * First element is the sales amount and second element is commission percentage.\n",
    "   * Commission for each sale can be computed by multiplying commission percentage with sales (make sure to divide commission percentage by 100).\n",
    "   * Some of the records does not have commission percentage, in that case commission amount for that sale shall be 0."
   ]
  },
  {
   "cell_type": "code",
   "execution_count": 1,
   "id": "9be4b204",
   "metadata": {},
   "outputs": [],
   "source": [
    "import itertools as iter"
   ]
  },
  {
   "cell_type": "code",
   "execution_count": null,
   "id": "7f9aaf00",
   "metadata": {},
   "outputs": [],
   "source": [
    "transactions = [(376.0, 8),\n",
    "                (548.23, 14),\n",
    "                (107.93, 8),\n",
    "                (838.22, 14),\n",
    "                (846.85, 21),\n",
    "                (234.84, None),\n",
    "                (850.2, 21),\n",
    "                (992.2, 21),\n",
    "                (267.01, None),\n",
    "                (958.91, 21),\n",
    "                (412.59, None),\n",
    "                (283.14, None),\n",
    "                (350.01, 14),\n",
    "                (226.95, None),\n",
    "                (132.7, 14)\n",
    "               ]"
   ]
  }
 ],
 "metadata": {
  "kernelspec": {
   "display_name": "Python 3 (ipykernel)",
   "language": "python",
   "name": "python3"
  },
  "language_info": {
   "codemirror_mode": {
    "name": "ipython",
    "version": 3
   },
   "file_extension": ".py",
   "mimetype": "text/x-python",
   "name": "python",
   "nbconvert_exporter": "python",
   "pygments_lexer": "ipython3",
   "version": "3.9.7"
  }
 },
 "nbformat": 4,
 "nbformat_minor": 5
}
