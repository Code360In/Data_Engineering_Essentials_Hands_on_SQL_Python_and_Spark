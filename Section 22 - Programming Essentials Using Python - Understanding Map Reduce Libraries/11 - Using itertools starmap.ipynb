{
 "cells": [
  {
   "cell_type": "markdown",
   "id": "86628a18",
   "metadata": {},
   "source": [
    "## Using itertools starmap\n",
    "\n",
    "Let us understand the usage of `starmap`. We will first create a collection with sales and commission percentage. Using that collection compute totalcommission amount. If the commission percent is None or Not present, treat it as 0.\n",
    "\n",
    "   * Each element in the collection is a tuple.\n",
    "   * First element is the sales amount and second element is commission percentage.\n",
    "   * Commission for each sale can be computed by multiplying commission percentage with sales (make sure to divide commission percentage by 100).\n",
    "   * Some of the records does not have commission percentage, in that case commission amount for that sale shall be 0."
   ]
  },
  {
   "cell_type": "code",
   "execution_count": 1,
   "id": "9be4b204",
   "metadata": {},
   "outputs": [],
   "source": [
    "import itertools as iter"
   ]
  },
  {
   "cell_type": "code",
   "execution_count": 2,
   "id": "7f9aaf00",
   "metadata": {},
   "outputs": [],
   "source": [
    "transactions = [(376.0, 8),\n",
    "                (548.23, 14),\n",
    "                (107.93, 8),\n",
    "                (838.22, 14),\n",
    "                (846.85, 21),\n",
    "                (234.84, None),\n",
    "                (850.2, 21),\n",
    "                (992.2, 21),\n",
    "                (267.01, None),\n",
    "                (958.91, 21),\n",
    "                (412.59, None),\n",
    "                (283.14, None),\n",
    "                (350.01, 14),\n",
    "                (226.95, None),\n",
    "                (132.7, 14)\n",
    "               ]"
   ]
  },
  {
   "cell_type": "code",
   "execution_count": 3,
   "id": "dc133ab2",
   "metadata": {},
   "outputs": [
    {
     "name": "stdout",
     "output_type": "stream",
     "text": [
      "Help on class starmap in module itertools:\n",
      "\n",
      "class starmap(builtins.object)\n",
      " |  starmap(function, iterable, /)\n",
      " |  \n",
      " |  Return an iterator whose values are returned from the function evaluated with an argument tuple taken from the given sequence.\n",
      " |  \n",
      " |  Methods defined here:\n",
      " |  \n",
      " |  __getattribute__(self, name, /)\n",
      " |      Return getattr(self, name).\n",
      " |  \n",
      " |  __iter__(self, /)\n",
      " |      Implement iter(self).\n",
      " |  \n",
      " |  __next__(self, /)\n",
      " |      Implement next(self).\n",
      " |  \n",
      " |  __reduce__(...)\n",
      " |      Return state information for pickling.\n",
      " |  \n",
      " |  ----------------------------------------------------------------------\n",
      " |  Static methods defined here:\n",
      " |  \n",
      " |  __new__(*args, **kwargs) from builtins.type\n",
      " |      Create and return a new object.  See help(type) for accurate signature.\n",
      "\n"
     ]
    }
   ],
   "source": [
    "help(iter.starmap)"
   ]
  },
  {
   "cell_type": "code",
   "execution_count": 4,
   "id": "2bae8679",
   "metadata": {},
   "outputs": [],
   "source": [
    "a = iter.starmap(lambda rec: rec[0] * rec[1] if rec[1] else 0, transactions)"
   ]
  },
  {
   "cell_type": "code",
   "execution_count": 5,
   "id": "41cee1d4",
   "metadata": {},
   "outputs": [
    {
     "ename": "TypeError",
     "evalue": "<lambda>() takes 1 positional argument but 2 were given",
     "output_type": "error",
     "traceback": [
      "\u001b[1;31m---------------------------------------------------------------------------\u001b[0m",
      "\u001b[1;31mTypeError\u001b[0m                                 Traceback (most recent call last)",
      "\u001b[1;32mC:\\Users\\ROMULO~1\\AppData\\Local\\Temp/ipykernel_2324/2121088527.py\u001b[0m in \u001b[0;36m<module>\u001b[1;34m\u001b[0m\n\u001b[0;32m      1\u001b[0m \u001b[1;31m# This will fail. We have to pass elements from each tuple separately.\u001b[0m\u001b[1;33m\u001b[0m\u001b[1;33m\u001b[0m\u001b[0m\n\u001b[1;32m----> 2\u001b[1;33m \u001b[1;32mfor\u001b[0m \u001b[0mi\u001b[0m \u001b[1;32min\u001b[0m \u001b[0ma\u001b[0m\u001b[1;33m:\u001b[0m\u001b[1;33m\u001b[0m\u001b[1;33m\u001b[0m\u001b[0m\n\u001b[0m\u001b[0;32m      3\u001b[0m     \u001b[0mprint\u001b[0m\u001b[1;33m(\u001b[0m\u001b[0mi\u001b[0m\u001b[1;33m)\u001b[0m\u001b[1;33m\u001b[0m\u001b[1;33m\u001b[0m\u001b[0m\n",
      "\u001b[1;31mTypeError\u001b[0m: <lambda>() takes 1 positional argument but 2 were given"
     ]
    }
   ],
   "source": [
    "# This will fail. We have to pass elements from each tuple separately.\n",
    "for i in a:\n",
    "    print(i)"
   ]
  },
  {
   "cell_type": "code",
   "execution_count": 6,
   "id": "4a7fa9e2",
   "metadata": {},
   "outputs": [
    {
     "data": {
      "text/plain": [
       "<itertools.starmap at 0x280d5168eb0>"
      ]
     },
     "execution_count": 6,
     "metadata": {},
     "output_type": "execute_result"
    }
   ],
   "source": [
    "iter.starmap(\n",
    "    lambda sale_amount, comm_pct:\n",
    "        round(sale_amount * comm_pct / 100, 2) if comm_pct else 0,\n",
    "    transactions\n",
    ")"
   ]
  },
  {
   "cell_type": "code",
   "execution_count": 7,
   "id": "09b092e2",
   "metadata": {},
   "outputs": [],
   "source": [
    "a = iter.starmap(\n",
    "    lambda sale_amount, comm_pct:\n",
    "        round(sale_amount * comm_pct / 100, 2) if comm_pct else 0,\n",
    "    transactions\n",
    ")"
   ]
  },
  {
   "cell_type": "code",
   "execution_count": 8,
   "id": "fc528549",
   "metadata": {},
   "outputs": [
    {
     "name": "stdout",
     "output_type": "stream",
     "text": [
      "30.08\n",
      "76.75\n",
      "8.63\n",
      "117.35\n",
      "177.84\n",
      "0\n",
      "178.54\n",
      "208.36\n",
      "0\n",
      "201.37\n",
      "0\n",
      "0\n",
      "49.0\n",
      "0\n",
      "18.58\n"
     ]
    }
   ],
   "source": [
    "for i in a:\n",
    "    print(i)"
   ]
  },
  {
   "cell_type": "code",
   "execution_count": 9,
   "id": "4df72bb7",
   "metadata": {},
   "outputs": [
    {
     "data": {
      "text/plain": [
       "1066.5"
      ]
     },
     "execution_count": 9,
     "metadata": {},
     "output_type": "execute_result"
    }
   ],
   "source": [
    "sum(iter.starmap(lambda sale_amount, comm_pct: (round(sale_amount * comm_pct / 100, 2)) if comm_pct else (0), transactions))"
   ]
  }
 ],
 "metadata": {
  "kernelspec": {
   "display_name": "Python 3 (ipykernel)",
   "language": "python",
   "name": "python3"
  },
  "language_info": {
   "codemirror_mode": {
    "name": "ipython",
    "version": 3
   },
   "file_extension": ".py",
   "mimetype": "text/x-python",
   "name": "python",
   "nbconvert_exporter": "python",
   "pygments_lexer": "ipython3",
   "version": "3.9.7"
  }
 },
 "nbformat": 4,
 "nbformat_minor": 5
}
