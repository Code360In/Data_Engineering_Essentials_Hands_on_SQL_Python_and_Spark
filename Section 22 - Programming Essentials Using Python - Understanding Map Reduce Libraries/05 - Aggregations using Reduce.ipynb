{
 "cells": [
  {
   "cell_type": "markdown",
   "id": "4d79f3c9",
   "metadata": {},
   "source": [
    "## Aggregations using Reduce\n",
    "\n",
    "Lets us understand how to perform global aggregations using `reduce`.\n",
    "\n",
    "* We can use `reduce` on toip of `iterable` to return aggregated result.\n",
    "* It takes aggregation logic and iterable as arguments. We can pass aggregation logic either as regular function or lambda function.\n",
    "* `reduce` returns objects of type `int`, `float` etc. It is typically of type elements in the collection that is being processed.\n",
    "* Unlike `map` and `filter` we need to import `reduce` from functools."
   ]
  },
  {
   "cell_type": "code",
   "execution_count": null,
   "id": "f6ab31cd",
   "metadata": {},
   "outputs": [],
   "source": [
    "%run 02-preparing_data_sets.ipynb"
   ]
  },
  {
   "cell_type": "code",
   "execution_count": null,
   "id": "7209149c",
   "metadata": {},
   "outputs": [],
   "source": [
    "orders[:10]"
   ]
  },
  {
   "cell_type": "code",
   "execution_count": null,
   "id": "2b8f9dad",
   "metadata": {},
   "outputs": [],
   "source": [
    "len(orders)"
   ]
  },
  {
   "cell_type": "code",
   "execution_count": null,
   "id": "65a9c9d5",
   "metadata": {},
   "outputs": [],
   "source": [
    "order_items[:10]"
   ]
  },
  {
   "cell_type": "code",
   "execution_count": null,
   "id": "dac14281",
   "metadata": {},
   "outputs": [],
   "source": [
    "order_items[:10]"
   ]
  },
  {
   "cell_type": "code",
   "execution_count": null,
   "id": "5d9a5a84",
   "metadata": {},
   "outputs": [],
   "source": [
    "orders[:10]"
   ]
  },
  {
   "cell_type": "markdown",
   "id": "402c3f5f",
   "metadata": {},
   "source": [
    "## Task 1 - Get Count\n",
    "\n",
    "Use orders abd get total number of records for a given month (201401).\n",
    "\n",
    "* Filter the data.\n",
    "* Perform row level transformation by changing each record to 1.\n",
    "* Use reduce to aggregate."
   ]
  },
  {
   "cell_type": "code",
   "execution_count": null,
   "id": "7ec719e1",
   "metadata": {},
   "outputs": [],
   "source": [
    "orders[:10]"
   ]
  },
  {
   "cell_type": "code",
   "execution_count": null,
   "id": "f19adcd5",
   "metadata": {},
   "outputs": [],
   "source": [
    "order = '1,2013-07-25 00:00:00.011599, CLOSED'"
   ]
  },
  {
   "cell_type": "code",
   "execution_count": null,
   "id": "17b17a2c",
   "metadata": {},
   "outputs": [],
   "source": [
    "order.split(',')"
   ]
  },
  {
   "cell_type": "code",
   "execution_count": null,
   "id": "a9a6ccfe",
   "metadata": {},
   "outputs": [],
   "source": [
    "order.split(',')[1]"
   ]
  },
  {
   "cell_type": "code",
   "execution_count": null,
   "id": "3613e95f",
   "metadata": {},
   "outputs": [],
   "source": [
    "order.split(',')[1][:7]"
   ]
  },
  {
   "cell_type": "code",
   "execution_count": null,
   "id": "70ba4cbe",
   "metadata": {},
   "outputs": [],
   "source": [
    "order.split(',')[1][:7].replace('-', '')"
   ]
  },
  {
   "cell_type": "code",
   "execution_count": null,
   "id": "cc84b3a5",
   "metadata": {},
   "outputs": [],
   "source": [
    "int(order.split(',')[1][:7].replace('-', ''))"
   ]
  },
  {
   "cell_type": "code",
   "execution_count": null,
   "id": "0a24958c",
   "metadata": {},
   "outputs": [],
   "source": [
    "orders_filtered = filter(\n",
    "    lambda order: int(order.split(',')[1][:7].replace('-', '')) == 201307,\n",
    "    orders\n",
    ")"
   ]
  },
  {
   "cell_type": "code",
   "execution_count": null,
   "id": "f48e2ffc",
   "metadata": {},
   "outputs": [],
   "source": [
    "list(orders_filtered)[:10]"
   ]
  },
  {
   "cell_type": "code",
   "execution_count": null,
   "id": "1b5c42d9",
   "metadata": {},
   "outputs": [],
   "source": [
    "len(list(orders_filtered))"
   ]
  },
  {
   "cell_type": "code",
   "execution_count": null,
   "id": "39e1424e",
   "metadata": {},
   "outputs": [],
   "source": [
    "orders_mapped = map(\n",
    "    lambda order: 1,\n",
    "    orders_filtered\n",
    ")"
   ]
  },
  {
   "cell_type": "code",
   "execution_count": null,
   "id": "6aa62fbb",
   "metadata": {},
   "outputs": [],
   "source": [
    "list(orders_mapped)[:10]"
   ]
  },
  {
   "cell_type": "code",
   "execution_count": null,
   "id": "963c1154",
   "metadata": {},
   "outputs": [],
   "source": [
    "orders_filtered = filter(\n",
    "    lambda order: int(order.split(',')[1][:7].replace('-', '')) == 201307,\n",
    "    orders\n",
    ")\n",
    "\n",
    "orders_mapped = map(\n",
    "    lambda order: 1,\n",
    "    orders_filtered\n",
    ")\n",
    "\n",
    "len(list(orders_mapped))"
   ]
  },
  {
   "cell_type": "code",
   "execution_count": null,
   "id": "e7c82966",
   "metadata": {},
   "outputs": [],
   "source": [
    "from functools import reduce"
   ]
  },
  {
   "cell_type": "code",
   "execution_count": null,
   "id": "8091f9fa",
   "metadata": {},
   "outputs": [],
   "source": [
    "reduce?"
   ]
  },
  {
   "cell_type": "code",
   "execution_count": null,
   "id": "ecf4d67f",
   "metadata": {},
   "outputs": [],
   "source": [
    "orders_filtered = filter(\n",
    "    lambda order: int(order.split(',')[1][:7].replace('-', '')) == 201307,\n",
    "    orders\n",
    ")\n",
    "\n",
    "orders_mapped = map(\n",
    "    lambda order: 1,\n",
    "    orders_filtered\n",
    ")"
   ]
  },
  {
   "cell_type": "code",
   "execution_count": null,
   "id": "6df7815c",
   "metadata": {},
   "outputs": [],
   "source": [
    "reduce(\n",
    "    lambda tot, ele: tot + ele,\n",
    "    orders_mapped\n",
    ")"
   ]
  }
 ],
 "metadata": {
  "kernelspec": {
   "display_name": "Python 3 (ipykernel)",
   "language": "python",
   "name": "python3"
  },
  "language_info": {
   "codemirror_mode": {
    "name": "ipython",
    "version": 3
   },
   "file_extension": ".py",
   "mimetype": "text/x-python",
   "name": "python",
   "nbconvert_exporter": "python",
   "pygments_lexer": "ipython3",
   "version": "3.9.7"
  }
 },
 "nbformat": 4,
 "nbformat_minor": 5
}
