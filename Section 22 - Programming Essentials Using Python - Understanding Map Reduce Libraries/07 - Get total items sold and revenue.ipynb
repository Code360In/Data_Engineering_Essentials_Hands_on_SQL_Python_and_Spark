{
 "cells": [
  {
   "cell_type": "markdown",
   "id": "70650258",
   "metadata": {},
   "source": [
    "## Get total items sold and revenue\n",
    "\n",
    "Use order items data set and get total number of items sold as well as total revenue generated for a given product_id.\n",
    "\n",
    "   * Filter for items using `filter` related to a given product_id.\n",
    "   * Apply `map` to get order_item_quantity and order_item_subtotal.\n",
    "   * Use `reduce` to get total quantity and revenue for the items related to a given product_id."
   ]
  },
  {
   "cell_type": "code",
   "execution_count": null,
   "id": "297a6db0",
   "metadata": {},
   "outputs": [],
   "source": [
    "%run 02_preparing_data_sets.ipynb"
   ]
  },
  {
   "cell_type": "code",
   "execution_count": null,
   "id": "e7871a12",
   "metadata": {},
   "outputs": [],
   "source": [
    "order_items[:10]"
   ]
  },
  {
   "cell_type": "code",
   "execution_count": null,
   "id": "a5838906",
   "metadata": {},
   "outputs": [],
   "source": [
    "len(order_items)"
   ]
  },
  {
   "cell_type": "code",
   "execution_count": null,
   "id": "e293d492",
   "metadata": {},
   "outputs": [],
   "source": [
    "t1 = (1, 200.0)"
   ]
  },
  {
   "cell_type": "code",
   "execution_count": null,
   "id": "40e061c9",
   "metadata": {},
   "outputs": [],
   "source": [
    "t2 = (2, 300.0)"
   ]
  },
  {
   "cell_type": "code",
   "execution_count": null,
   "id": "38eefc65",
   "metadata": {},
   "outputs": [],
   "source": [
    "res = (0, 0.0)"
   ]
  },
  {
   "cell_type": "code",
   "execution_count": null,
   "id": "b8711b09",
   "metadata": {},
   "outputs": [],
   "source": [
    "res = (res[0] + t1[0], res[1] + t1[1])"
   ]
  },
  {
   "cell_type": "code",
   "execution_count": null,
   "id": "723d2763",
   "metadata": {},
   "outputs": [],
   "source": [
    "res"
   ]
  },
  {
   "cell_type": "code",
   "execution_count": null,
   "id": "62ddba28",
   "metadata": {},
   "outputs": [],
   "source": [
    "res = (res[0] + t2[0], res[1] + t2[1])"
   ]
  },
  {
   "cell_type": "code",
   "execution_count": null,
   "id": "e3193c1e",
   "metadata": {},
   "outputs": [],
   "source": [
    "res"
   ]
  },
  {
   "cell_type": "code",
   "execution_count": null,
   "id": "26b3e980",
   "metadata": {},
   "outputs": [],
   "source": [
    "items_for_product = filter(\n",
    "    lambda order_item: int(order_item.split(',')[2]) == 502,\n",
    "    order_items\n",
    ")"
   ]
  },
  {
   "cell_type": "code",
   "execution_count": null,
   "id": "6afba1d4",
   "metadata": {},
   "outputs": [],
   "source": [
    "list(items_for_product)[:10]"
   ]
  },
  {
   "cell_type": "code",
   "execution_count": null,
   "id": "27623d04",
   "metadata": {},
   "outputs": [],
   "source": [
    "items_for_product = filter(\n",
    "    lambda order_item: int(order_item.split(',')[2]) == 502,\n",
    "    order_items\n",
    ")\n",
    "item_details = map(\n",
    "    lambda order_item: (int(order_item.split(',')[3]), float(order_item.split(',')[4])),\n",
    "    items_for_product\n",
    ")"
   ]
  },
  {
   "cell_type": "code",
   "execution_count": null,
   "id": "e554f480",
   "metadata": {},
   "outputs": [],
   "source": [
    "list(item_details)[:10]"
   ]
  },
  {
   "cell_type": "code",
   "execution_count": null,
   "id": "d510ea61",
   "metadata": {},
   "outputs": [],
   "source": [
    "items_for_product = filter(\n",
    "    lambda order_item: int(order_item.split(',')[2]) == 502,\n",
    "    order_items\n",
    ")\n",
    "item_details = map(\n",
    "    lambda order_item: (int(order_item.split(',')[3]), float(order_item.split(',')[4])),\n",
    "    items_for_product\n",
    ")\n",
    "\n",
    "from functools import reduce\n",
    "reduce(\n",
    "    lambda tot, ele: (tot[0] + ele[0], tot[1] + ele[1]),\n",
    "    item_details\n",
    ")"
   ]
  }
 ],
 "metadata": {
  "kernelspec": {
   "display_name": "Python 3 (ipykernel)",
   "language": "python",
   "name": "python3"
  },
  "language_info": {
   "codemirror_mode": {
    "name": "ipython",
    "version": 3
   },
   "file_extension": ".py",
   "mimetype": "text/x-python",
   "name": "python",
   "nbconvert_exporter": "python",
   "pygments_lexer": "ipython3",
   "version": "3.9.7"
  }
 },
 "nbformat": 4,
 "nbformat_minor": 5
}
