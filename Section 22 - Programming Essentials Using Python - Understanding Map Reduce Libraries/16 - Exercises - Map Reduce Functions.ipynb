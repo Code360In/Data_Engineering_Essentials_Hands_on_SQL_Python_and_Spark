{
 "cells": [
  {
   "cell_type": "markdown",
   "id": "b7e189cc",
   "metadata": {},
   "source": [
    "## Exercises - Map Reduce Functions\n",
    "\n",
    "Here are the same exercises which you have solved before. Try to solve these using out-of-the-box Map Reduce APIs.\n",
    "\n",
    "   * Get number of COMPLETE orders placed by each customer.\n",
    "   * Get total number of PENDING or PENDING_PAYMENT orders for the month of 2014 January.\n",
    "   * Get outstanding amount for each month considering orders with status PAYMENT_REVIEW, PENDING_PAYMENT and PROCESSING.\n",
    "   \n",
    "## Details of Data\n",
    "\n",
    "Here are the details about the orders data which you can leverage to take care of these exercises.\n",
    "\n",
    "   * Location: `/data/retail_db/orders/part-00000`.\n",
    "   * Each record is line separated or line delimited.\n",
    "   * Attribute in each record is comma separated.\n",
    "   * Here are the columns in the orders data set.\n",
    "      * order_id"
   ]
  }
 ],
 "metadata": {
  "kernelspec": {
   "display_name": "Python 3 (ipykernel)",
   "language": "python",
   "name": "python3"
  },
  "language_info": {
   "codemirror_mode": {
    "name": "ipython",
    "version": 3
   },
   "file_extension": ".py",
   "mimetype": "text/x-python",
   "name": "python",
   "nbconvert_exporter": "python",
   "pygments_lexer": "ipython3",
   "version": "3.9.7"
  }
 },
 "nbformat": 4,
 "nbformat_minor": 5
}
