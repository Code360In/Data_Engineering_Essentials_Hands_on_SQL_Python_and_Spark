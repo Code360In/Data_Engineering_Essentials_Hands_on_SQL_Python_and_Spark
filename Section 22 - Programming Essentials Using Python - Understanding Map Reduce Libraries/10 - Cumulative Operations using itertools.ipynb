{
 "cells": [
  {
   "cell_type": "markdown",
   "id": "9a30a2ea",
   "metadata": {},
   "source": [
    "### Cumulative Operations using itertools\n",
    "\n",
    "Get cumulative sales from list of transactions."
   ]
  },
  {
   "cell_type": "code",
   "execution_count": 1,
   "id": "72c4729c",
   "metadata": {},
   "outputs": [],
   "source": [
    "# Cumulative totals [1, 3, 6, 10]\n",
    "# Cumulative product [1, 2, 3, 24]\n",
    "ns = [1, 2, 3, 4]"
   ]
  },
  {
   "cell_type": "code",
   "execution_count": 2,
   "id": "cd085992",
   "metadata": {},
   "outputs": [],
   "source": [
    "import itertools as iter"
   ]
  },
  {
   "cell_type": "code",
   "execution_count": 3,
   "id": "4779383d",
   "metadata": {},
   "outputs": [],
   "source": [
    "iter.accumulate?"
   ]
  },
  {
   "cell_type": "code",
   "execution_count": 4,
   "id": "e301a37b",
   "metadata": {},
   "outputs": [
    {
     "data": {
      "text/plain": [
       "<itertools.accumulate at 0x1daf03e7600>"
      ]
     },
     "execution_count": 4,
     "metadata": {},
     "output_type": "execute_result"
    }
   ],
   "source": [
    "iter.accumulate(ns)"
   ]
  },
  {
   "cell_type": "code",
   "execution_count": 5,
   "id": "b384f2bb",
   "metadata": {},
   "outputs": [
    {
     "data": {
      "text/plain": [
       "[1, 3, 6, 10]"
      ]
     },
     "execution_count": 5,
     "metadata": {},
     "output_type": "execute_result"
    }
   ],
   "source": [
    "list(iter.accumulate(ns))"
   ]
  },
  {
   "cell_type": "code",
   "execution_count": 6,
   "id": "9375dba1",
   "metadata": {},
   "outputs": [
    {
     "data": {
      "text/plain": [
       "[1, 2, 6, 24]"
      ]
     },
     "execution_count": 6,
     "metadata": {},
     "output_type": "execute_result"
    }
   ],
   "source": [
    "import operator as o\n",
    "list(iter.accumulate(ns, o.mul))"
   ]
  },
  {
   "cell_type": "code",
   "execution_count": 7,
   "id": "376c8b84",
   "metadata": {},
   "outputs": [],
   "source": [
    "sales = [\n",
    "    (202101, 10500),\n",
    "    (202102, 11250),\n",
    "    (202103, 13450),\n",
    "    (202104, 8500),\n",
    "    (202105, 9250),\n",
    "    (202106, 8760),\n",
    "    (202107, 12150),\n",
    "    (202108, 11850),\n",
    "    (202109, 10950),\n",
    "    (2021010, 9250),\n",
    "    (2021011, 14250),\n",
    "    (2021012, 13650)    \n",
    "]"
   ]
  },
  {
   "cell_type": "code",
   "execution_count": 8,
   "id": "bc358651",
   "metadata": {},
   "outputs": [],
   "source": [
    "iter.accumulate?"
   ]
  },
  {
   "cell_type": "code",
   "execution_count": 9,
   "id": "2ac32001",
   "metadata": {},
   "outputs": [
    {
     "data": {
      "text/plain": [
       "[(202101, 10500),\n",
       " (202102, 11250),\n",
       " (202103, 13450),\n",
       " (202104, 8500),\n",
       " (202105, 9250),\n",
       " (202106, 8760),\n",
       " (202107, 12150),\n",
       " (202108, 11850),\n",
       " (202109, 10950),\n",
       " (2021010, 9250),\n",
       " (2021011, 14250),\n",
       " (2021012, 13650)]"
      ]
     },
     "execution_count": 9,
     "metadata": {},
     "output_type": "execute_result"
    }
   ],
   "source": [
    "sales"
   ]
  },
  {
   "cell_type": "code",
   "execution_count": 10,
   "id": "6374d93c",
   "metadata": {},
   "outputs": [],
   "source": [
    "sale_months = map(lambda sale: sale[0], sales)"
   ]
  },
  {
   "cell_type": "code",
   "execution_count": 11,
   "id": "e2e38752",
   "metadata": {},
   "outputs": [
    {
     "data": {
      "text/plain": [
       "[202101,\n",
       " 202102,\n",
       " 202103,\n",
       " 202104,\n",
       " 202105,\n",
       " 202106,\n",
       " 202107,\n",
       " 202108,\n",
       " 202109,\n",
       " 2021010,\n",
       " 2021011,\n",
       " 2021012]"
      ]
     },
     "execution_count": 11,
     "metadata": {},
     "output_type": "execute_result"
    }
   ],
   "source": [
    "list(sale_months)"
   ]
  },
  {
   "cell_type": "code",
   "execution_count": 12,
   "id": "d5e5c79b",
   "metadata": {},
   "outputs": [],
   "source": [
    "sale_revenues = map(lambda sale: sale[1], sales)"
   ]
  },
  {
   "cell_type": "code",
   "execution_count": 13,
   "id": "1101c470",
   "metadata": {},
   "outputs": [
    {
     "data": {
      "text/plain": [
       "<map at 0x1daf03c75e0>"
      ]
     },
     "execution_count": 13,
     "metadata": {},
     "output_type": "execute_result"
    }
   ],
   "source": [
    "sale_revenues"
   ]
  },
  {
   "cell_type": "code",
   "execution_count": 14,
   "id": "b7d509d5",
   "metadata": {},
   "outputs": [
    {
     "data": {
      "text/plain": [
       "[10500,\n",
       " 11250,\n",
       " 13450,\n",
       " 8500,\n",
       " 9250,\n",
       " 8760,\n",
       " 12150,\n",
       " 11850,\n",
       " 10950,\n",
       " 9250,\n",
       " 14250,\n",
       " 13650]"
      ]
     },
     "execution_count": 14,
     "metadata": {},
     "output_type": "execute_result"
    }
   ],
   "source": [
    "list(sale_revenues)"
   ]
  },
  {
   "cell_type": "code",
   "execution_count": 15,
   "id": "498f6595",
   "metadata": {},
   "outputs": [],
   "source": [
    "cumulative_revenues = list(iter.accumulate(map(lambda sale: sale[1], sales)))"
   ]
  },
  {
   "cell_type": "code",
   "execution_count": 16,
   "id": "165627b4",
   "metadata": {},
   "outputs": [
    {
     "data": {
      "text/plain": [
       "[10500,\n",
       " 21750,\n",
       " 35200,\n",
       " 43700,\n",
       " 52950,\n",
       " 61710,\n",
       " 73860,\n",
       " 85710,\n",
       " 96660,\n",
       " 105910,\n",
       " 120160,\n",
       " 133810]"
      ]
     },
     "execution_count": 16,
     "metadata": {},
     "output_type": "execute_result"
    }
   ],
   "source": [
    "cumulative_revenues"
   ]
  },
  {
   "cell_type": "code",
   "execution_count": 17,
   "id": "d276a1ba",
   "metadata": {},
   "outputs": [
    {
     "data": {
      "text/plain": [
       "[(202101, 10500),\n",
       " (202102, 21750),\n",
       " (202103, 35200),\n",
       " (202104, 43700),\n",
       " (202105, 52950),\n",
       " (202106, 61710),\n",
       " (202107, 73860),\n",
       " (202108, 85710),\n",
       " (202109, 96660),\n",
       " (2021010, 105910),\n",
       " (2021011, 120160),\n",
       " (2021012, 133810)]"
      ]
     },
     "execution_count": 17,
     "metadata": {},
     "output_type": "execute_result"
    }
   ],
   "source": [
    "sale_months = map(lambda sale: sale[0], sales)\n",
    "sale_revenues = map(lambda sale: sale[1], sales)\n",
    "cumulative_revenues = list(iter.accumulate(map(lambda sale: sale[1], sales)))\n",
    "list(zip(sale_months, cumulative_revenues))"
   ]
  }
 ],
 "metadata": {
  "kernelspec": {
   "display_name": "Python 3 (ipykernel)",
   "language": "python",
   "name": "python3"
  },
  "language_info": {
   "codemirror_mode": {
    "name": "ipython",
    "version": 3
   },
   "file_extension": ".py",
   "mimetype": "text/x-python",
   "name": "python",
   "nbconvert_exporter": "python",
   "pygments_lexer": "ipython3",
   "version": "3.9.7"
  }
 },
 "nbformat": 4,
 "nbformat_minor": 5
}
