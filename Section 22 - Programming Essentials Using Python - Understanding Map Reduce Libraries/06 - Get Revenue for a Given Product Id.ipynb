{
 "cells": [
  {
   "cell_type": "markdown",
   "id": "046591ec",
   "metadata": {},
   "source": [
    "## Get Revenue for a given product_id\n",
    "\n",
    "Use order items data set and compute total revenue generated for a given product_id.\n",
    "\n",
    "   * Filter for given product_id.\n",
    "   * Extract order_item_subtotal for each item.\n",
    "   * Aggregate to get the revenue for a given product id."
   ]
  },
  {
   "cell_type": "code",
   "execution_count": null,
   "id": "9387ac36",
   "metadata": {},
   "outputs": [],
   "source": [
    "%run 02_preparing_data_sets.ipynb"
   ]
  },
  {
   "cell_type": "code",
   "execution_count": null,
   "id": "a3b6eace",
   "metadata": {},
   "outputs": [],
   "source": [
    "order_items[:10]"
   ]
  },
  {
   "cell_type": "code",
   "execution_count": null,
   "id": "d312ecb8",
   "metadata": {},
   "outputs": [],
   "source": [
    "len(order_items)"
   ]
  },
  {
   "cell_type": "code",
   "execution_count": null,
   "id": "ff7a622d",
   "metadata": {},
   "outputs": [],
   "source": [
    "order_item = order_items[0]"
   ]
  },
  {
   "cell_type": "code",
   "execution_count": null,
   "id": "cc0497ba",
   "metadata": {},
   "outputs": [],
   "source": [
    "order_item"
   ]
  },
  {
   "cell_type": "code",
   "execution_count": null,
   "id": "0af38ee7",
   "metadata": {},
   "outputs": [],
   "source": [
    "order_item.split(',')"
   ]
  },
  {
   "cell_type": "code",
   "execution_count": null,
   "id": "b0921296",
   "metadata": {},
   "outputs": [],
   "source": [
    "order_item.split(',')[2]"
   ]
  },
  {
   "cell_type": "code",
   "execution_count": null,
   "id": "dd48697a",
   "metadata": {},
   "outputs": [],
   "source": [
    "int(order_item.split(',')[2])"
   ]
  },
  {
   "cell_type": "code",
   "execution_count": null,
   "id": "0dd4ba75",
   "metadata": {},
   "outputs": [],
   "source": [
    "float(order_item.split(',')[4])"
   ]
  },
  {
   "cell_type": "code",
   "execution_count": null,
   "id": "333ec78e",
   "metadata": {},
   "outputs": [],
   "source": [
    "items_for_product = filter(\n",
    "    lambda order_item: int(order_item.split(',')[2]) == 502,\n",
    "    order_item\n",
    ")"
   ]
  },
  {
   "cell_type": "code",
   "execution_count": null,
   "id": "314a6ffe",
   "metadata": {},
   "outputs": [],
   "source": [
    "list(items_for_product)[:10]"
   ]
  },
  {
   "cell_type": "code",
   "execution_count": null,
   "id": "ac41ad95",
   "metadata": {},
   "outputs": [],
   "source": [
    "items_for_product = filter(\n",
    "    lambda order_item: int(order_item.split(',')[2]) == 502,\n",
    "    order_item\n",
    ")\n",
    "item_subtotals = map(\n",
    "    lambda order_item: float(order_item.split(',')[4]),\n",
    "    items_for_product\n",
    ")"
   ]
  },
  {
   "cell_type": "code",
   "execution_count": null,
   "id": "48ed2dc3",
   "metadata": {},
   "outputs": [],
   "source": [
    "list(item_subtotals)[:10]"
   ]
  },
  {
   "cell_type": "code",
   "execution_count": null,
   "id": "9ef0a703",
   "metadata": {},
   "outputs": [],
   "source": [
    "len(list(item_subtotals))"
   ]
  },
  {
   "cell_type": "code",
   "execution_count": null,
   "id": "1e19894a",
   "metadata": {},
   "outputs": [],
   "source": [
    "items_for_product = filter(\n",
    "    lambda order_item: int(order_item.split(',')[2]) == 502,\n",
    "    order_item\n",
    ")\n",
    "item_subtotals = map(\n",
    "    lambda order_item: float(order_item.split(',')[4]),\n",
    "    items_for_product\n",
    ")\n",
    "from functools import reduce\n",
    "reduce(\n",
    "    lambda total_revenue, item_revenue: total_revenue + item_revenue,\n",
    "    item_subtotals\n",
    ")"
   ]
  },
  {
   "cell_type": "markdown",
   "id": "47012d57",
   "metadata": {},
   "source": [
    "We can also aggregate using functions such as `add`, `min`, `max` etc to get the aggregated results."
   ]
  },
  {
   "cell_type": "code",
   "execution_count": null,
   "id": "98303f13",
   "metadata": {},
   "outputs": [],
   "source": [
    "from operator import add\n",
    "items_for_product = filter(\n",
    "    lambda order_item: int(order_item.split(',')[2]) == 502,\n",
    "    order_item\n",
    ")\n",
    "item_subtotals = map(\n",
    "    lambda order_item: float(order_item.split(',')[4]),\n",
    "    items_for_product\n",
    ")\n",
    "reduce(\n",
    "    add,\n",
    "    item_subtotals\n",
    ")"
   ]
  },
  {
   "cell_type": "code",
   "execution_count": null,
   "id": "2556bcc7",
   "metadata": {},
   "outputs": [],
   "source": [
    "from operator import add\n",
    "items_for_product = filter(\n",
    "    lambda order_item: int(order_item.split(',')[2]) == 502,\n",
    "    order_item\n",
    ")\n",
    "item_subtotals = map(\n",
    "    lambda order_item: float(order_item.split(',')[4]),\n",
    "    items_for_product\n",
    ")\n",
    "reduce(\n",
    "    min,\n",
    "    item_subtotals\n",
    ")"
   ]
  }
 ],
 "metadata": {
  "kernelspec": {
   "display_name": "Python 3 (ipykernel)",
   "language": "python",
   "name": "python3"
  },
  "language_info": {
   "codemirror_mode": {
    "name": "ipython",
    "version": 3
   },
   "file_extension": ".py",
   "mimetype": "text/x-python",
   "name": "python",
   "nbconvert_exporter": "python",
   "pygments_lexer": "ipython3",
   "version": "3.9.7"
  }
 },
 "nbformat": 4,
 "nbformat_minor": 5
}
