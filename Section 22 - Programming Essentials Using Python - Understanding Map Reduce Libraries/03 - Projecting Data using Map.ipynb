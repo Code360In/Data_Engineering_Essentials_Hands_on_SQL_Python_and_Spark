{
 "cells": [
  {
   "cell_type": "markdown",
   "id": "c15848ac",
   "metadata": {},
   "source": [
    "## Projecting Data using Map\n",
    "\n",
    "Lets us go through the details about `map` to project the data.\n",
    "* We can use `map` on top of `iterable` to return new `iterable` with all the transformed elements based up on the logic.\n",
    "* It takes transformation logic and iterable as arguments. We can pass transformation logic either as regular function or lambda function.\n",
    "* `map` returns a special iterable called as `map`. We have to type cast to regular collection such as `list` to preview the data or we can use for loop to iterate and print the data.\n",
    "* Data from objects such as `filter`,  `map` etc will be fluhed out once we read from it. \n",
    "* Number of elements in the `map` object is will be same `iterable` that is passed to it."
   ]
  },
  {
   "cell_type": "code",
   "execution_count": null,
   "id": "3d794d14",
   "metadata": {},
   "outputs": [],
   "source": [
    "%run 02-preparing_data_sets.ipynb"
   ]
  },
  {
   "cell_type": "code",
   "execution_count": null,
   "id": "2894ab68",
   "metadata": {},
   "outputs": [],
   "source": [
    "orders[:10]"
   ]
  },
  {
   "cell_type": "code",
   "execution_count": null,
   "id": "826b3585",
   "metadata": {},
   "outputs": [],
   "source": [
    "len(orders)"
   ]
  },
  {
   "cell_type": "code",
   "execution_count": null,
   "id": "6878af24",
   "metadata": {},
   "outputs": [],
   "source": [
    "order_items[:10]"
   ]
  },
  {
   "cell_type": "code",
   "execution_count": null,
   "id": "8ecc9679",
   "metadata": {},
   "outputs": [],
   "source": [
    "len(order_items)"
   ]
  },
  {
   "cell_type": "markdown",
   "id": "ea167050",
   "metadata": {},
   "source": [
    "* Get order_dates from orders"
   ]
  },
  {
   "cell_type": "code",
   "execution_count": null,
   "id": "d435eb10",
   "metadata": {},
   "outputs": [],
   "source": [
    "order = '1,2013-07-25 00:00:00.0,11599,CLOSED'\n",
    "order.split(',')[1]"
   ]
  },
  {
   "cell_type": "code",
   "execution_count": null,
   "id": "4d557791",
   "metadata": {},
   "outputs": [],
   "source": [
    "order_dates = map (\n",
    "    lambda order: order.split(',')[1],\n",
    "    orders\n",
    ")"
   ]
  },
  {
   "cell_type": "code",
   "execution_count": null,
   "id": "2eb4a83e",
   "metadata": {},
   "outputs": [],
   "source": [
    "type(order_dates)"
   ]
  },
  {
   "cell_type": "code",
   "execution_count": null,
   "id": "8b018da7",
   "metadata": {},
   "outputs": [],
   "source": [
    "list(order_dates)[:10]"
   ]
  },
  {
   "cell_type": "code",
   "execution_count": null,
   "id": "4c35d354",
   "metadata": {},
   "outputs": [],
   "source": [
    "len(orders)"
   ]
  },
  {
   "cell_type": "markdown",
   "id": "4a69011a",
   "metadata": {},
   "source": [
    "This will return 0 as data from map object `order_dates` is flushed out as part of the previous read."
   ]
  },
  {
   "cell_type": "code",
   "execution_count": null,
   "id": "1153bb2b",
   "metadata": {},
   "outputs": [],
   "source": [
    "len(list(order_dates))"
   ]
  },
  {
   "cell_type": "markdown",
   "id": "52e15a57",
   "metadata": {},
   "source": [
    "Creating order `order_dates` once again by invoking `map` function to validate the number of elements. Number of elements in `order_dates` is same as orders."
   ]
  },
  {
   "cell_type": "code",
   "execution_count": null,
   "id": "f63fd432",
   "metadata": {},
   "outputs": [],
   "source": [
    "order_dates = map (\n",
    "    lambda order: order.split(',')[1],\n",
    "    orders\n",
    ")"
   ]
  },
  {
   "cell_type": "code",
   "execution_count": null,
   "id": "254aad94",
   "metadata": {},
   "outputs": [],
   "source": [
    "len(list(order_dates))"
   ]
  },
  {
   "cell_type": "code",
   "execution_count": null,
   "id": "c40e51d8",
   "metadata": {},
   "outputs": [],
   "source": [
    "order_dates = map (\n",
    "    lambda order: order.split(',')[1],\n",
    "    orders\n",
    ")"
   ]
  },
  {
   "cell_type": "code",
   "execution_count": null,
   "id": "6bef9cca",
   "metadata": {},
   "outputs": [],
   "source": [
    "set(order_dates)"
   ]
  },
  {
   "cell_type": "code",
   "execution_count": null,
   "id": "910117a3",
   "metadata": {},
   "outputs": [],
   "source": [
    "order_dates = map (\n",
    "    lambda order: order.split(',')[1],\n",
    "    orders\n",
    ")"
   ]
  },
  {
   "cell_type": "code",
   "execution_count": null,
   "id": "6e9eb920",
   "metadata": {},
   "outputs": [],
   "source": [
    "len(set(order_dates))"
   ]
  },
  {
   "cell_type": "markdown",
   "id": "c5ba3c29",
   "metadata": {},
   "source": [
    "* User orders and extract order_id as well as order_date from each element in the form of a tuple. Make sure that order_id is of type int."
   ]
  },
  {
   "cell_type": "code",
   "execution_count": null,
   "id": "6dd4b228",
   "metadata": {},
   "outputs": [],
   "source": [
    "orders[:10]"
   ]
  },
  {
   "cell_type": "code",
   "execution_count": null,
   "id": "d36a92a0",
   "metadata": {},
   "outputs": [],
   "source": [
    "[(1, '2013-07-25 00:00:00.0'), (2, '2013-07-25 00:00:00.0')]"
   ]
  },
  {
   "cell_type": "code",
   "execution_count": null,
   "id": "171189d1",
   "metadata": {},
   "outputs": [],
   "source": [
    "order = orders[0]"
   ]
  },
  {
   "cell_type": "code",
   "execution_count": null,
   "id": "6f85f2f1",
   "metadata": {},
   "outputs": [],
   "source": [
    "(int(order.split(',')[0]), order.split(',')[1])"
   ]
  },
  {
   "cell_type": "code",
   "execution_count": null,
   "id": "098c5c7c",
   "metadata": {},
   "outputs": [],
   "source": [
    "orders_tuples = map (\n",
    "    lambda order: (int(order.split(',')[0]), order.split(',')[1]),\n",
    "    orders\n",
    ")"
   ]
  },
  {
   "cell_type": "code",
   "execution_count": null,
   "id": "5812fc1f",
   "metadata": {},
   "outputs": [],
   "source": [
    "list(order_tuples)[:10]"
   ]
  }
 ],
 "metadata": {
  "kernelspec": {
   "display_name": "Python 3 (ipykernel)",
   "language": "python",
   "name": "python3"
  },
  "language_info": {
   "codemirror_mode": {
    "name": "ipython",
    "version": 3
   },
   "file_extension": ".py",
   "mimetype": "text/x-python",
   "name": "python",
   "nbconvert_exporter": "python",
   "pygments_lexer": "ipython3",
   "version": "3.9.7"
  }
 },
 "nbformat": 4,
 "nbformat_minor": 5
}
