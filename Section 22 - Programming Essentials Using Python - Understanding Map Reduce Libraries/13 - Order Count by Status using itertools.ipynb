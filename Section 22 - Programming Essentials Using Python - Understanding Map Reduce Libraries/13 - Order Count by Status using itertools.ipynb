{
 "cells": [
  {
   "cell_type": "markdown",
   "id": "8c6f2bb6",
   "metadata": {},
   "source": [
    "## Order Count by Status using itertools\n",
    "\n",
    "Get count by order status using orders data set."
   ]
  },
  {
   "cell_type": "code",
   "execution_count": null,
   "id": "dfb1d08c",
   "metadata": {},
   "outputs": [],
   "source": [
    "%run 02_preparing_data_sets.ipynb"
   ]
  },
  {
   "cell_type": "code",
   "execution_count": null,
   "id": "8566b191",
   "metadata": {},
   "outputs": [],
   "source": [
    "orders[:3]"
   ]
  },
  {
   "cell_type": "code",
   "execution_count": null,
   "id": "15563f88",
   "metadata": {},
   "outputs": [],
   "source": [
    "orders_sorted = sorted(orders, key=lambda k: k.split(',')[3])"
   ]
  },
  {
   "cell_type": "code",
   "execution_count": null,
   "id": "f8b2403c",
   "metadata": {},
   "outputs": [],
   "source": [
    "orders_sorted[:3]"
   ]
  },
  {
   "cell_type": "code",
   "execution_count": null,
   "id": "4b8e0383",
   "metadata": {},
   "outputs": [],
   "source": [
    "import itertools as iter"
   ]
  },
  {
   "cell_type": "code",
   "execution_count": null,
   "id": "64bc5b4e",
   "metadata": {},
   "outputs": [],
   "source": [
    "orders_grouped = iter.groupby(orders_sorted, lambda order: order.split(',')[3])"
   ]
  },
  {
   "cell_type": "code",
   "execution_count": null,
   "id": "86da9c29",
   "metadata": {},
   "outputs": [],
   "source": [
    "orders_grouped"
   ]
  },
  {
   "cell_type": "code",
   "execution_count": null,
   "id": "d1470ab2",
   "metadata": {},
   "outputs": [],
   "source": [
    "list(orders_grouped)[:3]"
   ]
  },
  {
   "cell_type": "code",
   "execution_count": null,
   "id": "4d15d5c2",
   "metadata": {},
   "outputs": [],
   "source": [
    "orders_sorted = sorted(orders, key=lambda k: k.split(',')[3])\n",
    "orders_grouped = iter.groupby(orders_sorted, lambda order: order.split(',')[3])\n",
    "order_count_by_status = iter.starmap(lambda key, values: (key, len(list(values))), orders_grouped)"
   ]
  },
  {
   "cell_type": "code",
   "execution_count": null,
   "id": "66977a38",
   "metadata": {},
   "outputs": [],
   "source": [
    "order_count_by_status"
   ]
  },
  {
   "cell_type": "code",
   "execution_count": null,
   "id": "fc873877",
   "metadata": {},
   "outputs": [],
   "source": [
    "list(order_count_by_status)"
   ]
  }
 ],
 "metadata": {
  "kernelspec": {
   "display_name": "Python 3 (ipykernel)",
   "language": "python",
   "name": "python3"
  },
  "language_info": {
   "codemirror_mode": {
    "name": "ipython",
    "version": 3
   },
   "file_extension": ".py",
   "mimetype": "text/x-python",
   "name": "python",
   "nbconvert_exporter": "python",
   "pygments_lexer": "ipython3",
   "version": "3.9.7"
  }
 },
 "nbformat": 4,
 "nbformat_minor": 5
}
