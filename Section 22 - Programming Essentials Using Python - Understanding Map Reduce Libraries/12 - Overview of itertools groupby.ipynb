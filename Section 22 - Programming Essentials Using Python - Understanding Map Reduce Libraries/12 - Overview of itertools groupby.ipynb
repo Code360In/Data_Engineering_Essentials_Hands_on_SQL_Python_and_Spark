{
 "cells": [
  {
   "cell_type": "markdown",
   "id": "83568a81",
   "metadata": {},
   "source": [
    "## Overview of itertools groupby\n",
    "\n",
    "Let us understand how we can use `itertools.groupby` to take care of aggregations by key.\n",
    "\n",
    "* `itertools.groupby` can be used to get the data grouped by a key.\n",
    "* It can be used to take care of use cases similar to following by using aggregate functions after grouping by key.\n",
    "  * Get count by order status.\n",
    "  * Get revenue for each order.\n",
    "  * Get order count by month.\n",
    "* We need to ensure data is pre-sorted by the key, so that all the values associated with each key are grouped together."
   ]
  },
  {
   "cell_type": "code",
   "execution_count": 1,
   "id": "c677142c",
   "metadata": {},
   "outputs": [],
   "source": [
    "import itertools as iter"
   ]
  },
  {
   "cell_type": "code",
   "execution_count": 2,
   "id": "623c82ee",
   "metadata": {},
   "outputs": [],
   "source": [
    "iter.groupby?"
   ]
  },
  {
   "cell_type": "code",
   "execution_count": 3,
   "id": "487385fe",
   "metadata": {},
   "outputs": [],
   "source": [
    "l = [1, 1, 3, 2, 1, 3, 2]"
   ]
  },
  {
   "cell_type": "code",
   "execution_count": 4,
   "id": "6bc2f7d0",
   "metadata": {},
   "outputs": [],
   "source": [
    "l_grouped = iter.groupby(l)"
   ]
  },
  {
   "cell_type": "code",
   "execution_count": 5,
   "id": "bab4f9eb",
   "metadata": {},
   "outputs": [
    {
     "data": {
      "text/plain": [
       "itertools.groupby"
      ]
     },
     "execution_count": 5,
     "metadata": {},
     "output_type": "execute_result"
    }
   ],
   "source": [
    "type(l_grouped)"
   ]
  },
  {
   "cell_type": "code",
   "execution_count": 6,
   "id": "52bb17b4",
   "metadata": {},
   "outputs": [
    {
     "data": {
      "text/plain": [
       "[(1, <itertools._grouper at 0x1a55ef5bcd0>),\n",
       " (3, <itertools._grouper at 0x1a55ef5bf10>),\n",
       " (2, <itertools._grouper at 0x1a55ef5bee0>),\n",
       " (1, <itertools._grouper at 0x1a55eea26d0>),\n",
       " (3, <itertools._grouper at 0x1a55eea2f40>),\n",
       " (2, <itertools._grouper at 0x1a55eea2610>)]"
      ]
     },
     "execution_count": 6,
     "metadata": {},
     "output_type": "execute_result"
    }
   ],
   "source": [
    "list(l_grouped)"
   ]
  },
  {
   "cell_type": "code",
   "execution_count": 7,
   "id": "9bdda170",
   "metadata": {},
   "outputs": [],
   "source": [
    "l_sorted = sorted(l)"
   ]
  },
  {
   "cell_type": "code",
   "execution_count": 8,
   "id": "c4057735",
   "metadata": {},
   "outputs": [],
   "source": [
    "ls_grouped = iter.groupby(l_sorted)"
   ]
  },
  {
   "cell_type": "code",
   "execution_count": 9,
   "id": "16293bd3",
   "metadata": {},
   "outputs": [
    {
     "data": {
      "text/plain": [
       "[(1, <itertools._grouper at 0x1a55eea2e50>),\n",
       " (2, <itertools._grouper at 0x1a55eea29d0>),\n",
       " (3, <itertools._grouper at 0x1a55eea22e0>)]"
      ]
     },
     "execution_count": 9,
     "metadata": {},
     "output_type": "execute_result"
    }
   ],
   "source": [
    "list(ls_grouped)"
   ]
  },
  {
   "cell_type": "markdown",
   "id": "f6008aeb",
   "metadata": {},
   "source": [
    "Rebuilding l_sorted and ls_grouped as ls_grouped will be flushed out after being read by `list(ls_grouped)`."
   ]
  },
  {
   "cell_type": "code",
   "execution_count": 10,
   "id": "6d959254",
   "metadata": {},
   "outputs": [],
   "source": [
    "l_sorted = sorted(l)"
   ]
  },
  {
   "cell_type": "code",
   "execution_count": 11,
   "id": "16610783",
   "metadata": {},
   "outputs": [],
   "source": [
    "ls_grouped = iter.groupby(l_sorted)"
   ]
  },
  {
   "cell_type": "code",
   "execution_count": 12,
   "id": "e3497904",
   "metadata": {},
   "outputs": [
    {
     "name": "stdout",
     "output_type": "stream",
     "text": [
      "[1, 1, 1]\n",
      "[2, 2]\n",
      "[3, 3]\n"
     ]
    }
   ],
   "source": [
    "for e in ls_grouped:\n",
    "    print(list(e[1]))"
   ]
  },
  {
   "cell_type": "code",
   "execution_count": 13,
   "id": "e2aeb741",
   "metadata": {},
   "outputs": [
    {
     "data": {
      "text/plain": [
       "[(1, 3), (2, 2), (3, 2)]"
      ]
     },
     "execution_count": 13,
     "metadata": {},
     "output_type": "execute_result"
    }
   ],
   "source": [
    "l_sorted = sorted(l)\n",
    "ls_grouped = iter.groupby(l_sorted)\n",
    "list(iter.starmap(lambda key, values: (key, len(list(values))), ls_grouped))"
   ]
  }
 ],
 "metadata": {
  "kernelspec": {
   "display_name": "Python 3 (ipykernel)",
   "language": "python",
   "name": "python3"
  },
  "language_info": {
   "codemirror_mode": {
    "name": "ipython",
    "version": 3
   },
   "file_extension": ".py",
   "mimetype": "text/x-python",
   "name": "python",
   "nbconvert_exporter": "python",
   "pygments_lexer": "ipython3",
   "version": "3.9.7"
  }
 },
 "nbformat": 4,
 "nbformat_minor": 5
}
