{
 "cells": [
  {
   "cell_type": "markdown",
   "id": "a412aed5",
   "metadata": {},
   "source": [
    "##  Get Total Commission Amount\n",
    "\n",
    "A collection is provided with sales amount and commission percentage. Using that collection compute total commission amount. If the commision percent is None or not present, traet it as 0.\n",
    "\n",
    "   * Each element in the collection is a tuple.\n",
    "   * First element is the sales amount and second element is commission percentage.\n",
    "   * Commission for each sale can be computed by multiplying commission percentage with sales (make sure to divide commission percentage by 100).\n",
    "   * Some of the records does not have commission percentage, in that case commission amount for that sale shall be 0."
   ]
  },
  {
   "cell_type": "code",
   "execution_count": 1,
   "id": "82c4ba1e",
   "metadata": {},
   "outputs": [],
   "source": [
    "transactions = [(376.0, 8),\n",
    "                (548.23, 14),\n",
    "                (107.93, 8),\n",
    "                (838.22, 14),\n",
    "                (846.85, 21),\n",
    "                (234.84,),\n",
    "                (850.2, 21),\n",
    "                (992.2, 21),\n",
    "                (267.01,),\n",
    "                (958.91, 21),\n",
    "                (412.59,),\n",
    "                (283.14,),\n",
    "                (350.01, 14),\n",
    "                (226.95,),\n",
    "                (132.7, 14)\n",
    "               ]"
   ]
  },
  {
   "cell_type": "code",
   "execution_count": 2,
   "id": "a0eddda7",
   "metadata": {},
   "outputs": [
    {
     "data": {
      "text/plain": [
       "list"
      ]
     },
     "execution_count": 2,
     "metadata": {},
     "output_type": "execute_result"
    }
   ],
   "source": [
    "type(transactions)"
   ]
  },
  {
   "cell_type": "code",
   "execution_count": 3,
   "id": "2b8271c2",
   "metadata": {},
   "outputs": [
    {
     "data": {
      "text/plain": [
       "[(376.0, 8), (548.23, 14), (107.93, 8), (838.22, 14), (846.85, 21), (234.84,)]"
      ]
     },
     "execution_count": 3,
     "metadata": {},
     "output_type": "execute_result"
    }
   ],
   "source": [
    "transactions[:6]"
   ]
  },
  {
   "cell_type": "code",
   "execution_count": 4,
   "id": "f009a105",
   "metadata": {},
   "outputs": [],
   "source": [
    "sale = transactions[0]"
   ]
  },
  {
   "cell_type": "code",
   "execution_count": 5,
   "id": "7e6ee4d7",
   "metadata": {},
   "outputs": [
    {
     "data": {
      "text/plain": [
       "tuple"
      ]
     },
     "execution_count": 5,
     "metadata": {},
     "output_type": "execute_result"
    }
   ],
   "source": [
    "type(sale)"
   ]
  },
  {
   "cell_type": "code",
   "execution_count": 6,
   "id": "5391fbdb",
   "metadata": {},
   "outputs": [
    {
     "data": {
      "text/plain": [
       "(376.0, 8)"
      ]
     },
     "execution_count": 6,
     "metadata": {},
     "output_type": "execute_result"
    }
   ],
   "source": [
    "sale"
   ]
  },
  {
   "cell_type": "code",
   "execution_count": 7,
   "id": "65f99547",
   "metadata": {},
   "outputs": [],
   "source": [
    "commission_amount = round(sale[0] * (sale[1] / 100), 2)"
   ]
  },
  {
   "cell_type": "code",
   "execution_count": 8,
   "id": "ace8e5be",
   "metadata": {},
   "outputs": [
    {
     "data": {
      "text/plain": [
       "30.08"
      ]
     },
     "execution_count": 8,
     "metadata": {},
     "output_type": "execute_result"
    }
   ],
   "source": [
    "commission_amount"
   ]
  },
  {
   "cell_type": "code",
   "execution_count": 9,
   "id": "ebcacd13",
   "metadata": {},
   "outputs": [],
   "source": [
    "sale = (234.84,)"
   ]
  },
  {
   "cell_type": "code",
   "execution_count": null,
   "id": "144b1724",
   "metadata": {},
   "outputs": [],
   "source": [
    "# errors out\n",
    "sale[1]"
   ]
  },
  {
   "cell_type": "code",
   "execution_count": null,
   "id": "3b6ceada",
   "metadata": {},
   "outputs": [],
   "source": [
    "# errors out\n",
    "commission_amount = round(sale[0] * (sale[1] / 100), 2)"
   ]
  },
  {
   "cell_type": "code",
   "execution_count": 10,
   "id": "6c2b1ec8",
   "metadata": {},
   "outputs": [
    {
     "data": {
      "text/plain": [
       "1"
      ]
     },
     "execution_count": 10,
     "metadata": {},
     "output_type": "execute_result"
    }
   ],
   "source": [
    "len(sale)"
   ]
  },
  {
   "cell_type": "code",
   "execution_count": 11,
   "id": "1bfd1675",
   "metadata": {},
   "outputs": [],
   "source": [
    "commission_pct = sale[1] / 100 if len(sale) == 2 else 0"
   ]
  },
  {
   "cell_type": "code",
   "execution_count": 12,
   "id": "172b4ffb",
   "metadata": {},
   "outputs": [
    {
     "data": {
      "text/plain": [
       "0"
      ]
     },
     "execution_count": 12,
     "metadata": {},
     "output_type": "execute_result"
    }
   ],
   "source": [
    "commission_pct"
   ]
  },
  {
   "cell_type": "code",
   "execution_count": 13,
   "id": "6070ec84",
   "metadata": {},
   "outputs": [],
   "source": [
    "transactions_fixed = map(\n",
    "    lambda sale: sale[0] * (sale[1] / 100 if len(sale) == 2 else 0),\n",
    "    transactions\n",
    ")"
   ]
  },
  {
   "cell_type": "code",
   "execution_count": 14,
   "id": "d92684f4",
   "metadata": {},
   "outputs": [
    {
     "data": {
      "text/plain": [
       "[30.080000000000002,\n",
       " 76.75220000000002,\n",
       " 8.634400000000001,\n",
       " 117.35080000000002,\n",
       " 177.8385,\n",
       " 0.0,\n",
       " 178.542,\n",
       " 208.362,\n",
       " 0.0,\n",
       " 201.37109999999998,\n",
       " 0.0,\n",
       " 0.0,\n",
       " 49.001400000000004,\n",
       " 0.0,\n",
       " 18.578]"
      ]
     },
     "execution_count": 14,
     "metadata": {},
     "output_type": "execute_result"
    }
   ],
   "source": [
    "list(transactions_fixed)"
   ]
  },
  {
   "cell_type": "code",
   "execution_count": 15,
   "id": "f753c51e",
   "metadata": {},
   "outputs": [
    {
     "data": {
      "text/plain": [
       "1066.5"
      ]
     },
     "execution_count": 15,
     "metadata": {},
     "output_type": "execute_result"
    }
   ],
   "source": [
    "transactions_fixed = map(\n",
    "    lambda sale: sale[0] * (sale[1] / 100 if len(sale) == 2 else 0),\n",
    "    transactions\n",
    ")\n",
    "\n",
    "from functools import reduce\n",
    "reduce(\n",
    "    lambda tot, ele: round(tot + ele, 2),\n",
    "    transactions_fixed\n",
    ")"
   ]
  },
  {
   "cell_type": "markdown",
   "id": "ee4cfd6d",
   "metadata": {},
   "source": [
    "Using `map` function call as argument."
   ]
  },
  {
   "cell_type": "code",
   "execution_count": 16,
   "id": "bfde7783",
   "metadata": {},
   "outputs": [
    {
     "data": {
      "text/plain": [
       "1066.5"
      ]
     },
     "execution_count": 16,
     "metadata": {},
     "output_type": "execute_result"
    }
   ],
   "source": [
    "reduce(\n",
    "    lambda tot, ele: round(tot + ele, 2),\n",
    "   map(\n",
    "       lambda sale: sale[0] * (sale[1] / 100 if len(sale) == 2 else 0),\n",
    "        transactions\n",
    "   )\n",
    ")"
   ]
  },
  {
   "cell_type": "code",
   "execution_count": 17,
   "id": "e1d8ee6d",
   "metadata": {},
   "outputs": [
    {
     "data": {
      "text/plain": [
       "1066.51"
      ]
     },
     "execution_count": 17,
     "metadata": {},
     "output_type": "execute_result"
    }
   ],
   "source": [
    "from operator import add\n",
    "round(\n",
    "    reduce(\n",
    "        add,\n",
    "        map(\n",
    "            lambda sale: sale[0] * (sale[1] / 100 if len(sale) == 2 else 0),\n",
    "            transactions\n",
    "        )\n",
    "    ), 2\n",
    ")"
   ]
  }
 ],
 "metadata": {
  "kernelspec": {
   "display_name": "Python 3 (ipykernel)",
   "language": "python",
   "name": "python3"
  },
  "language_info": {
   "codemirror_mode": {
    "name": "ipython",
    "version": 3
   },
   "file_extension": ".py",
   "mimetype": "text/x-python",
   "name": "python",
   "nbconvert_exporter": "python",
   "pygments_lexer": "ipython3",
   "version": "3.9.7"
  }
 },
 "nbformat": 4,
 "nbformat_minor": 5
}
