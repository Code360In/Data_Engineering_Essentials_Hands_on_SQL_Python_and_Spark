{
 "cells": [
  {
   "cell_type": "markdown",
   "id": "7d94abc6",
   "metadata": {},
   "source": [
    "## Create JSON String\n",
    "\n",
    "Let us understand how to define JSON strings with in programs itself. Later we will see different ways of storing JSON data in files.\n",
    "\n",
    "We will se following examples of JSON strings.\n",
    "\n",
    "   * Single JSON document.\n",
    "   * Multiple JSON documents, with one JSON per line.\n",
    "   * Multiple JSON documents as an Array under one attribute. Most of the REST APIs which return multiple elements follow this approach.\n",
    "\n",
    "## Single JSON document\n",
    "\n",
    "Let us go through the details of Single JSON document.\n",
    "\n",
    "   * A single JSON can be in one line or are part of multiple lines.\n",
    "   * Here is an example of a single JSON as string in ine line."
   ]
  },
  {
   "cell_type": "code",
   "execution_count": 1,
   "id": "6a9b89b9",
   "metadata": {},
   "outputs": [],
   "source": [
    "person = '{\"id\": 1, \"first_name\": \"Francisco\", \"last_name\": \"Necolds\", \"email\": \"fnecolds0@vk.com\", \"gender\": \"Male\", \"ip_ddress\": \"243.67.63.34\"}'"
   ]
  },
  {
   "cell_type": "code",
   "execution_count": 2,
   "id": "34703824",
   "metadata": {},
   "outputs": [
    {
     "data": {
      "text/plain": [
       "str"
      ]
     },
     "execution_count": 2,
     "metadata": {},
     "output_type": "execute_result"
    }
   ],
   "source": [
    "type(person)"
   ]
  },
  {
   "cell_type": "markdown",
   "id": "808f8c17",
   "metadata": {},
   "source": [
    "* Here is an example of a single JSON as string that is part of multiple lines."
   ]
  },
  {
   "cell_type": "code",
   "execution_count": 3,
   "id": "41218e02",
   "metadata": {},
   "outputs": [],
   "source": [
    "person = '''{\n",
    "    \"id\": 1, \n",
    "    \"first_name\": \"Francisco\", \n",
    "    \"last_name\": \"Necolds\", \n",
    "    \"email\": \"fnecolds0@vk.com\", \n",
    "    \"gender\": \"Male\", \n",
    "    \"ip_ddress\": \"243.67.63.34\"\n",
    "}'''"
   ]
  },
  {
   "cell_type": "code",
   "execution_count": 4,
   "id": "f89b6f41",
   "metadata": {},
   "outputs": [
    {
     "data": {
      "text/plain": [
       "str"
      ]
     },
     "execution_count": 4,
     "metadata": {},
     "output_type": "execute_result"
    }
   ],
   "source": [
    "type(person)"
   ]
  },
  {
   "cell_type": "markdown",
   "id": "5fd809af",
   "metadata": {},
   "source": [
    "## Multiple JSON Documents - One per line\n",
    "\n",
    "Let us go through the details of multiple JSON Documents, with one JSON per line.\n",
    "\n",
    "   * All the lines will be part of one string.\n",
    "   * Each JSON will be separated by a new line. It is also known as new line character (`\\n`).\n",
    "   * Each line should contain one valid JSON document.\n",
    "   * There should not be a comma or any other character at the end of each line.\n",
    "   * Here is an example of representing multiple JSON documents as strings where each line will contain one JSON."
   ]
  },
  {
   "cell_type": "code",
   "execution_count": 5,
   "id": "324e15b7",
   "metadata": {},
   "outputs": [],
   "source": [
    "persons = '''{\"id\": 1, \"first_name\": \"Francisco\", \"last_name\": \"Necolds\", \"email\": \"fnecolds0@vk.com\", \"gender\": \"Male\", \"ip_ddress\": \"243.67.63.34\"}\n",
    "{\"id\": 2, \"first_name\": \"Dulce\", \"last_name\": \"Santos\", \"email\": \"dsantos1@mashable.com\", \"gender\": \"Female\", \"ip_ddress\": \"60.30.246.227\"}\n",
    "{\"id\": 3, \"first_name\": \"Prissie\", \"last_name\": \"Tebbett\", \"email\": \"ptebbett2@infoseek.co.jp\", \"gender\": \"Genderfluid\", \"ip_ddress\": \"22.21.162.56\"}\n",
    "{\"id\": 4, \"first_name\": \"Schuyler\", \"last_name\": \"Coppledike\", \"email\": \"scoppledike3@gnu.org\", \"gender\": \"Agender\", \"ip_ddress\": \"120.35.186.161\"}\n",
    "{\"id\": 5, \"first_name\": \"Leopold\", \"last_name\": \"Jarred\", \"email\": \"ljarred4@wp.com\", \"gender\": \"Agender\", \"ip_ddress\": \"30.119.34.4\"}\n",
    "{\"id\": 6, \"first_name\": \"Joanna\", \"last_name\": \"Teager\", \"email\": \"jteager5@apache.org\", \"gender\": \"Bigender\", \"ip_ddress\": \"245.221.176.34\"}\n",
    "{\"id\": 7, \"first_name\": \"Lion\", \"last_name\": \"Beere\", \"email\": \"lbeere6@bloomberg.com\", \"gender\": \"Polygender\", \"ip_ddress\": \"105.54.139.46\"}\n",
    "{\"id\": 8, \"first_name\": \"Marabel\", \"last_name\": \"Wornum\", \"email\": \"mwornum7@posterous.com\", \"gender\": \"Polygender\", \"ip_ddress\": \"247.229.14.25\"}\n",
    "{\"id\": 9, \"first_name\": \"Helenka\", \"last_name\": \"Mullender\", \"email\": \"hmullender8@cloudflare.com\", \"gender\": \"Non-binary\", \"ip_ddress\": \"133.216.118.88\"}\n",
    "{\"id\": 10, \"first_name\": \"Christine\", \"last_name\": \"Swane\", \"email\": \"cswane9@shop-pro.jp\", \"gender\": \"Polygender\", \"ip_ddress\": \"86.16.210.164\"}'''"
   ]
  },
  {
   "cell_type": "code",
   "execution_count": 6,
   "id": "6c85ff2a",
   "metadata": {},
   "outputs": [
    {
     "data": {
      "text/plain": [
       "str"
      ]
     },
     "execution_count": 6,
     "metadata": {},
     "output_type": "execute_result"
    }
   ],
   "source": [
    "type(persons)"
   ]
  },
  {
   "cell_type": "markdown",
   "id": "3e117fab",
   "metadata": {},
   "source": [
    "## Multiple JSON Documents - Array\n",
    "\n",
    "Let us go through the details of multiple JSON Documents as an array.\n",
    "\n",
    "   * The entire array of JSON documents will be represented as one JSON and one string.\n",
    "   * The JSON document with all the elements can be part of multiple lines.\n",
    "   * The JSON can be represented as array with out any attribute or it can be represented as JSON with one attribute. The value of this attribute will be JSON Array.\n",
    "   * Here is an example of representing multiple JSON documents as JSON Array."
   ]
  },
  {
   "cell_type": "code",
   "execution_count": 7,
   "id": "c2555ae5",
   "metadata": {},
   "outputs": [],
   "source": [
    "persons = '''[{\"id\": 1, \"first_name\": \"Francisco\", \"last_name\": \"Necolds\", \"email\": \"fnecolds0@vk.com\", \"gender\": \"Male\", \"ip_ddress\": \"243.67.63.34\"}\n",
    "{\"id\": 2, \"first_name\": \"Dulce\", \"last_name\": \"Santos\", \"email\": \"dsantos1@mashable.com\", \"gender\": \"Female\", \"ip_ddress\": \"60.30.246.227\"}\n",
    "{\"id\": 3, \"first_name\": \"Prissie\", \"last_name\": \"Tebbett\", \"email\": \"ptebbett2@infoseek.co.jp\", \"gender\": \"Genderfluid\", \"ip_ddress\": \"22.21.162.56\"}\n",
    "{\"id\": 4, \"first_name\": \"Schuyler\", \"last_name\": \"Coppledike\", \"email\": \"scoppledike3@gnu.org\", \"gender\": \"Agender\", \"ip_ddress\": \"120.35.186.161\"}\n",
    "{\"id\": 5, \"first_name\": \"Leopold\", \"last_name\": \"Jarred\", \"email\": \"ljarred4@wp.com\", \"gender\": \"Agender\", \"ip_ddress\": \"30.119.34.4\"}\n",
    "{\"id\": 6, \"first_name\": \"Joanna\", \"last_name\": \"Teager\", \"email\": \"jteager5@apache.org\", \"gender\": \"Bigender\", \"ip_ddress\": \"245.221.176.34\"}\n",
    "{\"id\": 7, \"first_name\": \"Lion\", \"last_name\": \"Beere\", \"email\": \"lbeere6@bloomberg.com\", \"gender\": \"Polygender\", \"ip_ddress\": \"105.54.139.46\"}\n",
    "{\"id\": 8, \"first_name\": \"Marabel\", \"last_name\": \"Wornum\", \"email\": \"mwornum7@posterous.com\", \"gender\": \"Polygender\", \"ip_ddress\": \"247.229.14.25\"}\n",
    "{\"id\": 9, \"first_name\": \"Helenka\", \"last_name\": \"Mullender\", \"email\": \"hmullender8@cloudflare.com\", \"gender\": \"Non-binary\", \"ip_ddress\": \"133.216.118.88\"}\n",
    "{\"id\": 10, \"first_name\": \"Christine\", \"last_name\": \"Swane\", \"email\": \"cswane9@shop-pro.jp\", \"gender\": \"Polygender\", \"ip_ddress\": \"86.16.210.164\"}]'''"
   ]
  },
  {
   "cell_type": "code",
   "execution_count": 8,
   "id": "9e92de9e",
   "metadata": {},
   "outputs": [],
   "source": [
    "persons = '''[\n",
    "    {\n",
    "        \"id\": 1, \n",
    "        \"first_name\": \"Francisco\",\n",
    "        \"last_name\": \"Necolds\", \n",
    "        \"email\": \"fnecolds0@vk.com\", \n",
    "        \"gender\": \"Male\", \n",
    "        \"ip_ddress\": \"243.67.63.34\"\n",
    "    },\n",
    "    {\n",
    "        \"id\": 2, \n",
    "        \"first_name\": \"Dulce\", \n",
    "        \"last_name\": \"Santos\", \n",
    "        \"email\": \"dsantos1@mashable.com\", \n",
    "        \"gender\": \"Female\", \n",
    "        \"ip_ddress\": \"60.30.246.227\"\n",
    "    },\n",
    "    {\n",
    "        \"id\": 3, \n",
    "        \"first_name\": \"Prissie\", \n",
    "        \"last_name\": \"Tebbett\", \n",
    "        \"email\": \"ptebbett2@infoseek.co.jp\", \n",
    "        \"gender\": \"Genderfluid\", \n",
    "        \"ip_ddress\": \"22.21.162.56\"\n",
    "    },\n",
    "    {\n",
    "        \"id\": 4, \n",
    "        \"first_name\": \n",
    "        \"Schuyler\", \n",
    "        \"last_name\": \"Coppledike\", \n",
    "        \"email\": \"scoppledike3@gnu.org\", \n",
    "        \"gender\": \"Agender\", \n",
    "        \"ip_ddress\": \"120.35.186.161\"\n",
    "    },\n",
    "    {\n",
    "        \"id\": 5, \n",
    "        \"first_name\": \"Leopold\", \n",
    "        \"last_name\": \"Jarred\", \n",
    "        \"email\": \"ljarred4@wp.com\", \n",
    "        \"gender\": \"Agender\", \n",
    "        \"ip_ddress\": \"30.119.34.4\"\n",
    "    },\n",
    "    {\n",
    "        \"id\": 6, \n",
    "        \"first_name\": \n",
    "        \"Joanna\", \n",
    "        \"last_name\": \"Teager\", \n",
    "        \"email\": \"jteager5@apache.org\", \n",
    "        \"gender\": \"Bigender\", \n",
    "        \"ip_ddress\": \"245.221.176.34\"\n",
    "    },\n",
    "    {\n",
    "        \"id\": 7, \n",
    "        \"first_name\": \"Lion\", \n",
    "        \"last_name\": \"Beere\", \n",
    "        \"email\": \"lbeere6@bloomberg.com\",\n",
    "        \"gender\": \"Polygender\", \n",
    "        \"ip_ddress\": \"105.54.139.46\"\n",
    "    },\n",
    "    {\n",
    "        \"id\": 8, \n",
    "        \"first_name\": \"Marabel\", \n",
    "        \"last_name\": \"Wornum\", \n",
    "        \"email\": \"mwornum7@posterous.com\", \n",
    "        \"gender\": \"Polygender\", \n",
    "        \"ip_ddress\": \"247.229.14.25\"\n",
    "    },\n",
    "    {\n",
    "        \"id\": 9, \n",
    "        \"first_name\": \"Helenka\", \n",
    "        \"last_name\": \"Mullender\", \n",
    "        \"email\": \"hmullender8@cloudflare.com\", \n",
    "        \"gender\": \"Non-binary\", \n",
    "        \"ip_ddress\": \"133.216.118.88\"\n",
    "    },\n",
    "    {\n",
    "        \"id\": 10, \n",
    "        \"first_name\": \"Christine\", \n",
    "        \"last_name\": \"Swane\", \n",
    "        \"email\": \"cswane9@shop-pro.jp\",\n",
    "        \"gender\": \"Polygender\", \n",
    "        \"ip_ddress\": \"86.16.210.164\"\n",
    "    }\n",
    "]'''"
   ]
  },
  {
   "cell_type": "markdown",
   "id": "4f013e0e",
   "metadata": {},
   "source": [
    "## Multiple JSON Documents - One Attribute\n",
    "\n",
    "Here is an example of representing multiple JSON documents as part of single document with single attribute where value is of type JSON Array."
   ]
  },
  {
   "cell_type": "code",
   "execution_count": 9,
   "id": "c1b48f49",
   "metadata": {},
   "outputs": [],
   "source": [
    "persons = '''{\n",
    "    \"results\": [\n",
    "        {\n",
    "            \"id\": 1, \n",
    "            \"first_name\": \"Francisco\",\n",
    "            \"last_name\": \"Necolds\", \n",
    "            \"email\": \"fnecolds0@vk.com\", \n",
    "            \"gender\": \"Male\", \n",
    "            \"ip_ddress\": \"243.67.63.34\"\n",
    "        },\n",
    "        {\n",
    "            \"id\": 2, \n",
    "            \"first_name\": \"Dulce\", \n",
    "            \"last_name\": \"Santos\", \n",
    "            \"email\": \"dsantos1@mashable.com\", \n",
    "            \"gender\": \"Female\", \n",
    "            \"ip_ddress\": \"60.30.246.227\"\n",
    "        },\n",
    "        {\n",
    "            \"id\": 3, \n",
    "            \"first_name\": \"Prissie\", \n",
    "            \"last_name\": \"Tebbett\", \n",
    "            \"email\": \"ptebbett2@infoseek.co.jp\", \n",
    "            \"gender\": \"Genderfluid\", \n",
    "            \"ip_ddress\": \"22.21.162.56\"\n",
    "        },\n",
    "        {\n",
    "            \"id\": 4, \n",
    "            \"first_name\": \n",
    "            \"Schuyler\", \n",
    "            \"last_name\": \"Coppledike\", \n",
    "            \"email\": \"scoppledike3@gnu.org\", \n",
    "            \"gender\": \"Agender\", \n",
    "            \"ip_ddress\": \"120.35.186.161\"\n",
    "        },\n",
    "        {\n",
    "            \"id\": 5, \n",
    "            \"first_name\": \"Leopold\", \n",
    "            \"last_name\": \"Jarred\", \n",
    "            \"email\": \"ljarred4@wp.com\", \n",
    "            \"gender\": \"Agender\", \n",
    "            \"ip_ddress\": \"30.119.34.4\"\n",
    "        },\n",
    "        {\n",
    "            \"id\": 6, \n",
    "            \"first_name\": \n",
    "            \"Joanna\", \n",
    "            \"last_name\": \"Teager\", \n",
    "            \"email\": \"jteager5@apache.org\", \n",
    "            \"gender\": \"Bigender\", \n",
    "            \"ip_ddress\": \"245.221.176.34\"\n",
    "        },\n",
    "        {\n",
    "            \"id\": 7, \n",
    "            \"first_name\": \"Lion\", \n",
    "            \"last_name\": \"Beere\", \n",
    "            \"email\": \"lbeere6@bloomberg.com\",\n",
    "            \"gender\": \"Polygender\", \n",
    "            \"ip_ddress\": \"105.54.139.46\"\n",
    "        },\n",
    "        {\n",
    "            \"id\": 8, \n",
    "            \"first_name\": \"Marabel\", \n",
    "            \"last_name\": \"Wornum\", \n",
    "            \"email\": \"mwornum7@posterous.com\", \n",
    "            \"gender\": \"Polygender\", \n",
    "            \"ip_ddress\": \"247.229.14.25\"\n",
    "        },\n",
    "        {\n",
    "            \"id\": 9, \n",
    "            \"first_name\": \"Helenka\", \n",
    "            \"last_name\": \"Mullender\", \n",
    "            \"email\": \"hmullender8@cloudflare.com\", \n",
    "            \"gender\": \"Non-binary\", \n",
    "            \"ip_ddress\": \"133.216.118.88\"\n",
    "        },\n",
    "        {\n",
    "            \"id\": 10, \n",
    "            \"first_name\": \"Christine\", \n",
    "            \"last_name\": \"Swane\", \n",
    "            \"email\": \"cswane9@shop-pro.jp\",\n",
    "            \"gender\": \"Polygender\", \n",
    "            \"ip_ddress\": \"86.16.210.164\"\n",
    "        }\n",
    "    ]\n",
    "}'''"
   ]
  }
 ],
 "metadata": {
  "kernelspec": {
   "display_name": "Python 3 (ipykernel)",
   "language": "python",
   "name": "python3"
  },
  "language_info": {
   "codemirror_mode": {
    "name": "ipython",
    "version": 3
   },
   "file_extension": ".py",
   "mimetype": "text/x-python",
   "name": "python",
   "nbconvert_exporter": "python",
   "pygments_lexer": "ipython3",
   "version": "3.9.7"
  }
 },
 "nbformat": 4,
 "nbformat_minor": 5
}
