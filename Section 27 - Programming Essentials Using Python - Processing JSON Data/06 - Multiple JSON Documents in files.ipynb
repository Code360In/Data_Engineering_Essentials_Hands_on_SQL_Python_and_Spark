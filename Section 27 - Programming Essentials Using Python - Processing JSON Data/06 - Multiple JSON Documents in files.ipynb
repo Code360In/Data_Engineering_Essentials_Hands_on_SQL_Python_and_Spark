{
 "cells": [
  {
   "cell_type": "markdown",
   "id": "c440bb51",
   "metadata": {},
   "source": [
    "## Multiple JSON Documents in files\n",
    "\n",
    "At times we might have multiple JSON documents in a text file. Typically, we will have one valid JSON per line. Let us understand the process of reading a file where there are multiple JSON documents one per line.\n",
    "\n",
    "   * If you use `pandas`, it is straight forward. However, we will talk about using `pandas` later.\n",
    "   * We cannot use `json` module directly. Here are the steps to use JSON module.\n",
    "       * Create file type object by passing the path to `open`.\n",
    "       * Use `read` to read the content in the file into a string.\n",
    "       * Once string object is created, we can use `splitlines` to convert these lines into list of strings. Here each element is of type string which contain json.\n",
    "       * Now we can iterate through the elements and convert each string with JSON to dict using `json.loads`."
   ]
  },
  {
   "cell_type": "code",
   "execution_count": null,
   "id": "8de94ab1",
   "metadata": {},
   "outputs": [],
   "source": [
    "import json"
   ]
  },
  {
   "cell_type": "code",
   "execution_count": null,
   "id": "8173348a",
   "metadata": {},
   "outputs": [],
   "source": [
    "json.loads?"
   ]
  },
  {
   "cell_type": "code",
   "execution_count": null,
   "id": "e06f987f",
   "metadata": {},
   "outputs": [],
   "source": [
    "json.load(open('customers.json'))"
   ]
  },
  {
   "cell_type": "markdown",
   "id": "394fa805",
   "metadata": {},
   "source": [
    "* Create file type object by passing the path to `open`."
   ]
  },
  {
   "cell_type": "code",
   "execution_count": null,
   "id": "5fd20aa4",
   "metadata": {},
   "outputs": [],
   "source": [
    "type(open('customers.json'))"
   ]
  },
  {
   "cell_type": "markdown",
   "id": "2ff625d7",
   "metadata": {},
   "source": [
    "* Use `read` to read the content in the file into a string."
   ]
  },
  {
   "cell_type": "code",
   "execution_count": null,
   "id": "55949514",
   "metadata": {},
   "outputs": [],
   "source": [
    "type(open('customers.json').read())"
   ]
  },
  {
   "cell_type": "code",
   "execution_count": null,
   "id": "5bad3483",
   "metadata": {},
   "outputs": [],
   "source": [
    "open('customers.json'),read()"
   ]
  },
  {
   "cell_type": "markdown",
   "id": "88b498d2",
   "metadata": {},
   "source": [
    "* Once string object is created, we can use `splitlines` to convert these lines into list of strings. Here each element is of type string which contain json."
   ]
  },
  {
   "cell_type": "code",
   "execution_count": null,
   "id": "7fe7871d",
   "metadata": {},
   "outputs": [],
   "source": [
    "customers_str_list = open('customers.json').read().splitlines()"
   ]
  },
  {
   "cell_type": "code",
   "execution_count": null,
   "id": "f659fa58",
   "metadata": {},
   "outputs": [],
   "source": [
    "type(customers_str_list)"
   ]
  },
  {
   "cell_type": "markdown",
   "id": "7865c312",
   "metadata": {},
   "source": [
    "* Each element in the list is of type string."
   ]
  },
  {
   "cell_type": "code",
   "execution_count": null,
   "id": "24adb43c",
   "metadata": {},
   "outputs": [],
   "source": [
    "type(customers_str_list[0])"
   ]
  },
  {
   "cell_type": "code",
   "execution_count": null,
   "id": "713eba2d",
   "metadata": {},
   "outputs": [],
   "source": [
    "len(customers_str_list)"
   ]
  },
  {
   "cell_type": "code",
   "execution_count": null,
   "id": "61e0385a",
   "metadata": {},
   "outputs": [],
   "source": [
    "customers_str_list[0]"
   ]
  },
  {
   "cell_type": "code",
   "execution_count": null,
   "id": "5f0b16a7",
   "metadata": {},
   "outputs": [],
   "source": [
    "json.loads(customers_dict_list[0])"
   ]
  },
  {
   "cell_type": "code",
   "execution_count": null,
   "id": "2a4f1ce0",
   "metadata": {},
   "outputs": [],
   "source": [
    "customers_str_list[:3]"
   ]
  },
  {
   "cell_type": "markdown",
   "id": "7a543b80",
   "metadata": {},
   "source": [
    "* Now we can iterate through the elements and convert each string with JSON to dict using `json.loads`."
   ]
  },
  {
   "cell_type": "code",
   "execution_count": null,
   "id": "ec255234",
   "metadata": {},
   "outputs": [],
   "source": [
    "customers_dict_list = [json.loads(customer) for customer in customers_str_list]"
   ]
  },
  {
   "cell_type": "code",
   "execution_count": null,
   "id": "aee2e900",
   "metadata": {},
   "outputs": [],
   "source": [
    "type(customers_dict_list)"
   ]
  },
  {
   "cell_type": "code",
   "execution_count": null,
   "id": "ca014b8c",
   "metadata": {},
   "outputs": [],
   "source": [
    "type(customers_dict_list[0])"
   ]
  },
  {
   "cell_type": "code",
   "execution_count": null,
   "id": "0dd12398",
   "metadata": {},
   "outputs": [],
   "source": [
    "customers_dict_list[0]"
   ]
  },
  {
   "cell_type": "markdown",
   "id": "5c817b83",
   "metadata": {},
   "source": [
    "* here is the logic to convert list of strings to list of dicts using `map` function."
   ]
  },
  {
   "cell_type": "code",
   "execution_count": null,
   "id": "c41bbed9",
   "metadata": {},
   "outputs": [],
   "source": [
    "customers_dict_list = list(map(json.loads, customer_str_list))"
   ]
  },
  {
   "cell_type": "code",
   "execution_count": null,
   "id": "b3272528",
   "metadata": {},
   "outputs": [],
   "source": [
    "type(customers_dict_list)"
   ]
  },
  {
   "cell_type": "code",
   "execution_count": null,
   "id": "300667b8",
   "metadata": {},
   "outputs": [],
   "source": [
    "type(customers_dict_list[0])"
   ]
  },
  {
   "cell_type": "code",
   "execution_count": null,
   "id": "112d15e7",
   "metadata": {},
   "outputs": [],
   "source": [
    "customers_dict_list[0]"
   ]
  }
 ],
 "metadata": {
  "kernelspec": {
   "display_name": "Python 3 (ipykernel)",
   "language": "python",
   "name": "python3"
  },
  "language_info": {
   "codemirror_mode": {
    "name": "ipython",
    "version": 3
   },
   "file_extension": ".py",
   "mimetype": "text/x-python",
   "name": "python",
   "nbconvert_exporter": "python",
   "pygments_lexer": "ipython3",
   "version": "3.9.7"
  }
 },
 "nbformat": 4,
 "nbformat_minor": 5
}
