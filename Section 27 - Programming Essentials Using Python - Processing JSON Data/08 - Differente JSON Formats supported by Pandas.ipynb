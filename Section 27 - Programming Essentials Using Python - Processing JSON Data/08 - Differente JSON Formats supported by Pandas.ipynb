{
 "cells": [
  {
   "cell_type": "markdown",
   "id": "362a9036",
   "metadata": {},
   "source": [
    "## Differente JSON Formats supported by Pandas\n",
    "\n",
    "Let us go through the details about different standard JSON formats supported by Pandas.\n",
    "\n",
    "   * Here are the arguments we need to pass to `read_json` or `to_json` for respective JSON formats.\n",
    "       * `orient=split` - columns, index, and data are separatec.\n",
    "       * `orient=records` - array of json documents (eg: courses.json)\n",
    "       * `lines=True` - Multiple jsons with one json per line (eg: customers.json)\n",
    "   * We can use `to_json` to display the output from buffer. We can also write to files using `to_json`.\n",
    "   * We can specify `orient` as part of `to_json` along with `_` as path or buffer to see the output with out writing the files. \n",
    "   * Here are examples with different supported JSON formats."
   ]
  },
  {
   "cell_type": "code",
   "execution_count": null,
   "id": "0a8d7068",
   "metadata": {},
   "outputs": [],
   "source": [
    "import pandas as pd"
   ]
  },
  {
   "cell_type": "code",
   "execution_count": null,
   "id": "ee13fb38",
   "metadata": {},
   "outputs": [],
   "source": [
    "!ls -ltr customers.json"
   ]
  },
  {
   "cell_type": "code",
   "execution_count": null,
   "id": "baebd7c5",
   "metadata": {},
   "outputs": [],
   "source": [
    "df = pd.read_jason('customers.json', lines=True)"
   ]
  },
  {
   "cell_type": "code",
   "execution_count": null,
   "id": "080e1117",
   "metadata": {},
   "outputs": [],
   "source": [
    "df"
   ]
  },
  {
   "cell_type": "code",
   "execution_count": null,
   "id": "f389cadf",
   "metadata": {},
   "outputs": [],
   "source": [
    "# columns, index and data are separated\n",
    "df.to_json(orient='split')"
   ]
  },
  {
   "cell_type": "code",
   "execution_count": null,
   "id": "652e02b7",
   "metadata": {},
   "outputs": [],
   "source": [
    "# creating data frame by using data from buffer\n",
    "df.read_json(_, orient='split')"
   ]
  },
  {
   "cell_type": "code",
   "execution_count": null,
   "id": "501da499",
   "metadata": {},
   "outputs": [],
   "source": [
    "# array of json documents\n",
    "df.to_json(orient='records')"
   ]
  },
  {
   "cell_type": "code",
   "execution_count": null,
   "id": "cfebd926",
   "metadata": {},
   "outputs": [],
   "source": [
    "# the default for orient is None which is similar to records\n",
    "pd.read_json(_)"
   ]
  },
  {
   "cell_type": "code",
   "execution_count": null,
   "id": "1f9efe80",
   "metadata": {},
   "outputs": [],
   "source": [
    "# multiple jsons with one json per line\n",
    "df.to_json(orient='records', lines=True)"
   ]
  },
  {
   "cell_type": "code",
   "execution_count": null,
   "id": "f7c7bd99",
   "metadata": {},
   "outputs": [],
   "source": [
    "# the default for orient is records\n",
    "pd.read_json(_, lines=True)"
   ]
  }
 ],
 "metadata": {
  "kernelspec": {
   "display_name": "Python 3 (ipykernel)",
   "language": "python",
   "name": "python3"
  },
  "language_info": {
   "codemirror_mode": {
    "name": "ipython",
    "version": 3
   },
   "file_extension": ".py",
   "mimetype": "text/x-python",
   "name": "python",
   "nbconvert_exporter": "python",
   "pygments_lexer": "ipython3",
   "version": "3.9.7"
  }
 },
 "nbformat": 4,
 "nbformat_minor": 5
}
