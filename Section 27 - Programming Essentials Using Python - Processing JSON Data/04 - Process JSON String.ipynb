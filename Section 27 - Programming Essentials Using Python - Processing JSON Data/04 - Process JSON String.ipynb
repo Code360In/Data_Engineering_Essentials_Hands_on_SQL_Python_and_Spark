{
 "cells": [
  {
   "cell_type": "markdown",
   "id": "c915383f",
   "metadata": {},
   "source": [
    "## Process JSON String\n",
    "\n",
    "Let us understand how to process JSON strings using Python as programming language. Later we will see diferent ways of storing JSON data in files.\n",
    "\n",
    "We will see following examples of processing JSON strings.\n",
    "\n",
    "   * Single JSON document.\n",
    "   * Multiple JSON documents, with one JSON per line.\n",
    "   * Multiple JSON documents as an Array under one attribute. Most of the REST APIs which return multiple elements follow this approach.\n",
    "   * We can process JSON Strings either by using `json` module or `pandas`.\n",
    "   * As part of developing backend for web or mobile applications we use `json` or some high level wrappers. For bulk data processing typically we fall back on module such as `pandas`.\n",
    "   * You should be familiar with both. For now, we will focus on `json`.\n",
    "   * We should first import `json` module to process the JSON strings using it.\n",
    "   * We have a function called as `loads` which takes a JSON in string and returns `dict`.\n",
    "   \n",
    "## Single JSON document\n",
    "\n",
    "Let us go through the details of processing Single JSON document.\n",
    "\n",
    "   * Import `json` module.\n",
    "   * Create JSON String.\n",
    "   * Pass the string to `json.loads`. It will return `dict`.\n",
    "   * Assign it to a variable and use it further."
   ]
  },
  {
   "cell_type": "code",
   "execution_count": 1,
   "id": "ffed565d",
   "metadata": {},
   "outputs": [],
   "source": [
    "import json"
   ]
  },
  {
   "cell_type": "code",
   "execution_count": 2,
   "id": "c80c6ae6",
   "metadata": {},
   "outputs": [],
   "source": [
    "person = '{\"id\": 1, \"first_name\": \"Francisco\", \"last_name\": \"Necolds\", \"email\": \"fnecolds0@vk.com\", \"gender\": \"Male\", \"ip_ddress\": \"243.67.63.34\"}'"
   ]
  },
  {
   "cell_type": "code",
   "execution_count": 3,
   "id": "9b8b9cd8",
   "metadata": {},
   "outputs": [
    {
     "data": {
      "text/plain": [
       "str"
      ]
     },
     "execution_count": 3,
     "metadata": {},
     "output_type": "execute_result"
    }
   ],
   "source": [
    "type(person)"
   ]
  },
  {
   "cell_type": "code",
   "execution_count": 4,
   "id": "39b0ae6d",
   "metadata": {},
   "outputs": [],
   "source": [
    "json.loads?"
   ]
  },
  {
   "cell_type": "code",
   "execution_count": 5,
   "id": "dc714533",
   "metadata": {},
   "outputs": [],
   "source": [
    "person_dict = json.loads(person)"
   ]
  },
  {
   "cell_type": "code",
   "execution_count": 6,
   "id": "7bd7a6be",
   "metadata": {},
   "outputs": [
    {
     "data": {
      "text/plain": [
       "dict"
      ]
     },
     "execution_count": 6,
     "metadata": {},
     "output_type": "execute_result"
    }
   ],
   "source": [
    "type(person_dict)"
   ]
  },
  {
   "cell_type": "code",
   "execution_count": 7,
   "id": "f2961af9",
   "metadata": {},
   "outputs": [
    {
     "name": "stdout",
     "output_type": "stream",
     "text": [
      "{'id': 1, 'first_name': 'Francisco', 'last_name': 'Necolds', 'email': 'fnecolds0@vk.com', 'gender': 'Male', 'ip_ddress': '243.67.63.34'}\n"
     ]
    }
   ],
   "source": [
    "print(person_dict)"
   ]
  },
  {
   "cell_type": "code",
   "execution_count": 8,
   "id": "07b34dd6",
   "metadata": {},
   "outputs": [
    {
     "data": {
      "text/plain": [
       "1"
      ]
     },
     "execution_count": 8,
     "metadata": {},
     "output_type": "execute_result"
    }
   ],
   "source": [
    "person_dict['id']"
   ]
  },
  {
   "cell_type": "code",
   "execution_count": 9,
   "id": "95037f6e",
   "metadata": {},
   "outputs": [
    {
     "data": {
      "text/plain": [
       "'Francisco'"
      ]
     },
     "execution_count": 9,
     "metadata": {},
     "output_type": "execute_result"
    }
   ],
   "source": [
    "person_dict['first_name']"
   ]
  },
  {
   "cell_type": "code",
   "execution_count": 10,
   "id": "025ab9c2",
   "metadata": {},
   "outputs": [
    {
     "data": {
      "text/plain": [
       "dict_keys(['id', 'first_name', 'last_name', 'email', 'gender', 'ip_ddress'])"
      ]
     },
     "execution_count": 10,
     "metadata": {},
     "output_type": "execute_result"
    }
   ],
   "source": [
    "person_dict.keys()"
   ]
  },
  {
   "cell_type": "code",
   "execution_count": 11,
   "id": "650fb4cd",
   "metadata": {},
   "outputs": [
    {
     "data": {
      "text/plain": [
       "dict_items([('id', 1), ('first_name', 'Francisco'), ('last_name', 'Necolds'), ('email', 'fnecolds0@vk.com'), ('gender', 'Male'), ('ip_ddress', '243.67.63.34')])"
      ]
     },
     "execution_count": 11,
     "metadata": {},
     "output_type": "execute_result"
    }
   ],
   "source": [
    "person_dict.items()"
   ]
  },
  {
   "cell_type": "markdown",
   "id": "87fbf19d",
   "metadata": {},
   "source": [
    "* Here is an example of a single JSON as string as string that is part of multiple lines."
   ]
  },
  {
   "cell_type": "code",
   "execution_count": 12,
   "id": "7069b904",
   "metadata": {},
   "outputs": [],
   "source": [
    "person_dict = json.loads(person)"
   ]
  },
  {
   "cell_type": "code",
   "execution_count": 13,
   "id": "61f91421",
   "metadata": {},
   "outputs": [
    {
     "data": {
      "text/plain": [
       "dict"
      ]
     },
     "execution_count": 13,
     "metadata": {},
     "output_type": "execute_result"
    }
   ],
   "source": [
    "type(person_dict)"
   ]
  },
  {
   "cell_type": "code",
   "execution_count": 14,
   "id": "f8e39f1d",
   "metadata": {},
   "outputs": [
    {
     "name": "stdout",
     "output_type": "stream",
     "text": [
      "{'id': 1, 'first_name': 'Francisco', 'last_name': 'Necolds', 'email': 'fnecolds0@vk.com', 'gender': 'Male', 'ip_ddress': '243.67.63.34'}\n"
     ]
    }
   ],
   "source": [
    "print(person_dict)"
   ]
  },
  {
   "cell_type": "markdown",
   "id": "51097623",
   "metadata": {},
   "source": [
    "## Multiple JSON Documents - One per line\n",
    "\n",
    "Let us gi through the steps involved in processing a string which contain one JSON per line.\n",
    "\n",
    "   * We should convert the string into list of JSON strings and then use `json.loads` to process each JSON.\n",
    "   * Import `json` module.\n",
    "   * Split the string into multiple strings using new line character (`\\n`) as delimiter. String have a function called as `splitlines` and we should be able to leverage it.\n",
    "   * Use `for` loop or `map` function to convert list of JSON Strings into list of dicts. We should use `json.loads` to convert each JSON String as dict."
   ]
  },
  {
   "cell_type": "code",
   "execution_count": 15,
   "id": "03eee154",
   "metadata": {},
   "outputs": [],
   "source": [
    "persons = '''{\"id\": 1, \"first_name\": \"Francisco\", \"last_name\": \"Necolds\", \"email\": \"fnecolds0@vk.com\", \"gender\": \"Male\", \"ip_ddress\": \"243.67.63.34\"}\n",
    "{\"id\": 2, \"first_name\": \"Dulce\", \"last_name\": \"Santos\", \"email\": \"dsantos1@mashable.com\", \"gender\": \"Female\", \"ip_ddress\": \"60.30.246.227\"}\n",
    "{\"id\": 3, \"first_name\": \"Prissie\", \"last_name\": \"Tebbett\", \"email\": \"ptebbett2@infoseek.co.jp\", \"gender\": \"Genderfluid\", \"ip_ddress\": \"22.21.162.56\"}\n",
    "{\"id\": 4, \"first_name\": \"Schuyler\", \"last_name\": \"Coppledike\", \"email\": \"scoppledike3@gnu.org\", \"gender\": \"Agender\", \"ip_ddress\": \"120.35.186.161\"}\n",
    "{\"id\": 5, \"first_name\": \"Leopold\", \"last_name\": \"Jarred\", \"email\": \"ljarred4@wp.com\", \"gender\": \"Agender\", \"ip_ddress\": \"30.119.34.4\"}\n",
    "{\"id\": 6, \"first_name\": \"Joanna\", \"last_name\": \"Teager\", \"email\": \"jteager5@apache.org\", \"gender\": \"Bigender\", \"ip_ddress\": \"245.221.176.34\"}\n",
    "{\"id\": 7, \"first_name\": \"Lion\", \"last_name\": \"Beere\", \"email\": \"lbeere6@bloomberg.com\", \"gender\": \"Polygender\", \"ip_ddress\": \"105.54.139.46\"}\n",
    "{\"id\": 8, \"first_name\": \"Marabel\", \"last_name\": \"Wornum\", \"email\": \"mwornum7@posterous.com\", \"gender\": \"Polygender\", \"ip_ddress\": \"247.229.14.25\"}\n",
    "{\"id\": 9, \"first_name\": \"Helenka\", \"last_name\": \"Mullender\", \"email\": \"hmullender8@cloudflare.com\", \"gender\": \"Non-binary\", \"ip_ddress\": \"133.216.118.88\"}\n",
    "{\"id\": 10, \"first_name\": \"Christine\", \"last_name\": \"Swane\", \"email\": \"cswane9@shop-pro.jp\", \"gender\": \"Polygender\", \"ip_ddress\": \"86.16.210.164\"}'''"
   ]
  },
  {
   "cell_type": "code",
   "execution_count": 16,
   "id": "cd452606",
   "metadata": {},
   "outputs": [
    {
     "data": {
      "text/plain": [
       "str"
      ]
     },
     "execution_count": 16,
     "metadata": {},
     "output_type": "execute_result"
    }
   ],
   "source": [
    "type(persons)"
   ]
  },
  {
   "cell_type": "code",
   "execution_count": 17,
   "id": "a7122e78",
   "metadata": {},
   "outputs": [],
   "source": [
    "persons.splitlines?"
   ]
  },
  {
   "cell_type": "code",
   "execution_count": 18,
   "id": "866bde81",
   "metadata": {},
   "outputs": [],
   "source": [
    "persons_list = persons.splitlines()"
   ]
  },
  {
   "cell_type": "code",
   "execution_count": 19,
   "id": "cec635ca",
   "metadata": {},
   "outputs": [
    {
     "data": {
      "text/plain": [
       "list"
      ]
     },
     "execution_count": 19,
     "metadata": {},
     "output_type": "execute_result"
    }
   ],
   "source": [
    "type(persons_list)"
   ]
  },
  {
   "cell_type": "code",
   "execution_count": 20,
   "id": "f82715fe",
   "metadata": {},
   "outputs": [
    {
     "data": {
      "text/plain": [
       "'{\"id\": 2, \"first_name\": \"Dulce\", \"last_name\": \"Santos\", \"email\": \"dsantos1@mashable.com\", \"gender\": \"Female\", \"ip_ddress\": \"60.30.246.227\"}'"
      ]
     },
     "execution_count": 20,
     "metadata": {},
     "output_type": "execute_result"
    }
   ],
   "source": [
    "persons_list[1]"
   ]
  },
  {
   "cell_type": "code",
   "execution_count": 21,
   "id": "26a22902",
   "metadata": {},
   "outputs": [
    {
     "data": {
      "text/plain": [
       "{'id': 1,\n",
       " 'first_name': 'Francisco',\n",
       " 'last_name': 'Necolds',\n",
       " 'email': 'fnecolds0@vk.com',\n",
       " 'gender': 'Male',\n",
       " 'ip_ddress': '243.67.63.34'}"
      ]
     },
     "execution_count": 21,
     "metadata": {},
     "output_type": "execute_result"
    }
   ],
   "source": [
    "json.loads(persons_list[0])"
   ]
  },
  {
   "cell_type": "code",
   "execution_count": 22,
   "id": "1c10a9db",
   "metadata": {},
   "outputs": [],
   "source": [
    "persons_dict_list = []\n",
    "\n",
    "for person in persons_list:\n",
    "    persons_dict_list.append(json.loads(person))"
   ]
  },
  {
   "cell_type": "code",
   "execution_count": 23,
   "id": "5410d6d1",
   "metadata": {},
   "outputs": [
    {
     "data": {
      "text/plain": [
       "list"
      ]
     },
     "execution_count": 23,
     "metadata": {},
     "output_type": "execute_result"
    }
   ],
   "source": [
    "type(persons_dict_list)"
   ]
  },
  {
   "cell_type": "code",
   "execution_count": 24,
   "id": "f5bdb1d8",
   "metadata": {},
   "outputs": [
    {
     "data": {
      "text/plain": [
       "dict"
      ]
     },
     "execution_count": 24,
     "metadata": {},
     "output_type": "execute_result"
    }
   ],
   "source": [
    "type(persons_dict_list[0])"
   ]
  },
  {
   "cell_type": "code",
   "execution_count": 25,
   "id": "9912b0b4",
   "metadata": {},
   "outputs": [
    {
     "data": {
      "text/plain": [
       "{'id': 1,\n",
       " 'first_name': 'Francisco',\n",
       " 'last_name': 'Necolds',\n",
       " 'email': 'fnecolds0@vk.com',\n",
       " 'gender': 'Male',\n",
       " 'ip_ddress': '243.67.63.34'}"
      ]
     },
     "execution_count": 25,
     "metadata": {},
     "output_type": "execute_result"
    }
   ],
   "source": [
    "persons_dict_list[0]"
   ]
  },
  {
   "cell_type": "code",
   "execution_count": 26,
   "id": "1ad67240",
   "metadata": {},
   "outputs": [
    {
     "data": {
      "text/plain": [
       "'Francisco'"
      ]
     },
     "execution_count": 26,
     "metadata": {},
     "output_type": "execute_result"
    }
   ],
   "source": [
    "persons_dict_list[0]['first_name']"
   ]
  },
  {
   "cell_type": "code",
   "execution_count": 27,
   "id": "c89dc1df",
   "metadata": {},
   "outputs": [],
   "source": [
    "persons_dict_list = [json.loads(person) for person in persons_list]"
   ]
  },
  {
   "cell_type": "code",
   "execution_count": 28,
   "id": "d02d2db7",
   "metadata": {},
   "outputs": [
    {
     "data": {
      "text/plain": [
       "list"
      ]
     },
     "execution_count": 28,
     "metadata": {},
     "output_type": "execute_result"
    }
   ],
   "source": [
    "type(persons_dict_list)"
   ]
  },
  {
   "cell_type": "code",
   "execution_count": 29,
   "id": "6367a406",
   "metadata": {},
   "outputs": [
    {
     "data": {
      "text/plain": [
       "dict"
      ]
     },
     "execution_count": 29,
     "metadata": {},
     "output_type": "execute_result"
    }
   ],
   "source": [
    "type(persons_dict_list[0])"
   ]
  },
  {
   "cell_type": "code",
   "execution_count": 30,
   "id": "819a4835",
   "metadata": {},
   "outputs": [
    {
     "data": {
      "text/plain": [
       "{'id': 1,\n",
       " 'first_name': 'Francisco',\n",
       " 'last_name': 'Necolds',\n",
       " 'email': 'fnecolds0@vk.com',\n",
       " 'gender': 'Male',\n",
       " 'ip_ddress': '243.67.63.34'}"
      ]
     },
     "execution_count": 30,
     "metadata": {},
     "output_type": "execute_result"
    }
   ],
   "source": [
    "persons_dict_list[0]"
   ]
  },
  {
   "cell_type": "markdown",
   "id": "0476d53b",
   "metadata": {},
   "source": [
    "* Converting list of strings to list of dicts using `map` function."
   ]
  },
  {
   "cell_type": "code",
   "execution_count": 31,
   "id": "0d4e02eb",
   "metadata": {},
   "outputs": [],
   "source": [
    "persons_dict_list = list(map(json.loads, persons_list))"
   ]
  },
  {
   "cell_type": "code",
   "execution_count": 32,
   "id": "f1eb1f3d",
   "metadata": {},
   "outputs": [
    {
     "data": {
      "text/plain": [
       "list"
      ]
     },
     "execution_count": 32,
     "metadata": {},
     "output_type": "execute_result"
    }
   ],
   "source": [
    "type(persons_dict_list)"
   ]
  },
  {
   "cell_type": "code",
   "execution_count": 33,
   "id": "49b20f25",
   "metadata": {},
   "outputs": [
    {
     "data": {
      "text/plain": [
       "dict"
      ]
     },
     "execution_count": 33,
     "metadata": {},
     "output_type": "execute_result"
    }
   ],
   "source": [
    "type(persons_dict_list[0])"
   ]
  },
  {
   "cell_type": "code",
   "execution_count": 34,
   "id": "2aa1cef2",
   "metadata": {},
   "outputs": [
    {
     "data": {
      "text/plain": [
       "{'id': 1,\n",
       " 'first_name': 'Francisco',\n",
       " 'last_name': 'Necolds',\n",
       " 'email': 'fnecolds0@vk.com',\n",
       " 'gender': 'Male',\n",
       " 'ip_ddress': '243.67.63.34'}"
      ]
     },
     "execution_count": 34,
     "metadata": {},
     "output_type": "execute_result"
    }
   ],
   "source": [
    "persons_dict_list[0]"
   ]
  },
  {
   "cell_type": "code",
   "execution_count": 35,
   "id": "7a969fc4",
   "metadata": {},
   "outputs": [
    {
     "data": {
      "text/plain": [
       "['Francisco',\n",
       " 'Dulce',\n",
       " 'Prissie',\n",
       " 'Schuyler',\n",
       " 'Leopold',\n",
       " 'Joanna',\n",
       " 'Lion',\n",
       " 'Marabel',\n",
       " 'Helenka',\n",
       " 'Christine']"
      ]
     },
     "execution_count": 35,
     "metadata": {},
     "output_type": "execute_result"
    }
   ],
   "source": [
    "list(map(lambda person: person['first_name'], persons_dict_list))"
   ]
  },
  {
   "cell_type": "code",
   "execution_count": 36,
   "id": "4a283ff8",
   "metadata": {},
   "outputs": [
    {
     "data": {
      "text/plain": [
       "[{'id': 2,\n",
       "  'first_name': 'Dulce',\n",
       "  'last_name': 'Santos',\n",
       "  'email': 'dsantos1@mashable.com',\n",
       "  'gender': 'Female',\n",
       "  'ip_ddress': '60.30.246.227'}]"
      ]
     },
     "execution_count": 36,
     "metadata": {},
     "output_type": "execute_result"
    }
   ],
   "source": [
    "list(filter(lambda person: person['gender'] == 'Female', persons_dict_list))"
   ]
  },
  {
   "cell_type": "markdown",
   "id": "ac577eda",
   "metadata": {},
   "source": [
    "## Multiple JSON Documents - Array\n",
    "\n",
    "Let us go through the details of processing multiple JSON Documents as an array.\n",
    "\n",
    "   * We should be able to use ´json.loads´. For the below string it will return Python list.\n",
    "   * Steps are same as processing single JSON document.\n",
    "       * Import `json` module.\n",
    "       * Use `json.loads` to convert to Python list.\n",
    "       * Process using Python capabilities."
   ]
  },
  {
   "cell_type": "code",
   "execution_count": null,
   "id": "a83d4e33",
   "metadata": {},
   "outputs": [],
   "source": [
    "persons = '''[{\"id\": 1, \"first_name\": \"Francisco\", \"last_name\": \"Necolds\", \"email\": \"fnecolds0@vk.com\", \"gender\": \"Male\", \"ip_ddress\": \"243.67.63.34\"}\n",
    "{\"id\": 2, \"first_name\": \"Dulce\", \"last_name\": \"Santos\", \"email\": \"dsantos1@mashable.com\", \"gender\": \"Female\", \"ip_ddress\": \"60.30.246.227\"}\n",
    "{\"id\": 3, \"first_name\": \"Prissie\", \"last_name\": \"Tebbett\", \"email\": \"ptebbett2@infoseek.co.jp\", \"gender\": \"Genderfluid\", \"ip_ddress\": \"22.21.162.56\"}\n",
    "{\"id\": 4, \"first_name\": \"Schuyler\", \"last_name\": \"Coppledike\", \"email\": \"scoppledike3@gnu.org\", \"gender\": \"Agender\", \"ip_ddress\": \"120.35.186.161\"}\n",
    "{\"id\": 5, \"first_name\": \"Leopold\", \"last_name\": \"Jarred\", \"email\": \"ljarred4@wp.com\", \"gender\": \"Agender\", \"ip_ddress\": \"30.119.34.4\"}\n",
    "{\"id\": 6, \"first_name\": \"Joanna\", \"last_name\": \"Teager\", \"email\": \"jteager5@apache.org\", \"gender\": \"Bigender\", \"ip_ddress\": \"245.221.176.34\"}\n",
    "{\"id\": 7, \"first_name\": \"Lion\", \"last_name\": \"Beere\", \"email\": \"lbeere6@bloomberg.com\", \"gender\": \"Polygender\", \"ip_ddress\": \"105.54.139.46\"}\n",
    "{\"id\": 8, \"first_name\": \"Marabel\", \"last_name\": \"Wornum\", \"email\": \"mwornum7@posterous.com\", \"gender\": \"Polygender\", \"ip_ddress\": \"247.229.14.25\"}\n",
    "{\"id\": 9, \"first_name\": \"Helenka\", \"last_name\": \"Mullender\", \"email\": \"hmullender8@cloudflare.com\", \"gender\": \"Non-binary\", \"ip_ddress\": \"133.216.118.88\"}\n",
    "{\"id\": 10, \"first_name\": \"Christine\", \"last_name\": \"Swane\", \"email\": \"cswane9@shop-pro.jp\", \"gender\": \"Polygender\", \"ip_ddress\": \"86.16.210.164\"}]'''"
   ]
  },
  {
   "cell_type": "code",
   "execution_count": null,
   "id": "6585d27f",
   "metadata": {},
   "outputs": [],
   "source": [
    "persons_dict_list = json.loads(persons)"
   ]
  },
  {
   "cell_type": "code",
   "execution_count": null,
   "id": "250b5ba9",
   "metadata": {},
   "outputs": [],
   "source": [
    "type(persons_dict_list)"
   ]
  },
  {
   "cell_type": "code",
   "execution_count": null,
   "id": "93cfd184",
   "metadata": {},
   "outputs": [],
   "source": [
    "type(persons_dict_list[0])"
   ]
  },
  {
   "cell_type": "code",
   "execution_count": null,
   "id": "15e0563b",
   "metadata": {},
   "outputs": [],
   "source": [
    "persons_dict_list[0]"
   ]
  },
  {
   "cell_type": "markdown",
   "id": "21aa354a",
   "metadata": {},
   "source": [
    "* When we use `json.loads` on below string, it will create a dict where value will be a list."
   ]
  },
  {
   "cell_type": "code",
   "execution_count": null,
   "id": "16a7b6f8",
   "metadata": {},
   "outputs": [],
   "source": [
    "persons = '''[\n",
    "    {\n",
    "        \"id\": 1, \n",
    "        \"first_name\": \"Francisco\",\n",
    "        \"last_name\": \"Necolds\", \n",
    "        \"email\": \"fnecolds0@vk.com\", \n",
    "        \"gender\": \"Male\", \n",
    "        \"ip_ddress\": \"243.67.63.34\"\n",
    "    },\n",
    "    {\n",
    "        \"id\": 2, \n",
    "        \"first_name\": \"Dulce\", \n",
    "        \"last_name\": \"Santos\", \n",
    "        \"email\": \"dsantos1@mashable.com\", \n",
    "        \"gender\": \"Female\", \n",
    "        \"ip_ddress\": \"60.30.246.227\"\n",
    "    },\n",
    "    {\n",
    "        \"id\": 3, \n",
    "        \"first_name\": \"Prissie\", \n",
    "        \"last_name\": \"Tebbett\", \n",
    "        \"email\": \"ptebbett2@infoseek.co.jp\", \n",
    "        \"gender\": \"Genderfluid\", \n",
    "        \"ip_ddress\": \"22.21.162.56\"\n",
    "    },\n",
    "    {\n",
    "        \"id\": 4, \n",
    "        \"first_name\": \n",
    "        \"Schuyler\", \n",
    "        \"last_name\": \"Coppledike\", \n",
    "        \"email\": \"scoppledike3@gnu.org\", \n",
    "        \"gender\": \"Agender\", \n",
    "        \"ip_ddress\": \"120.35.186.161\"\n",
    "    },\n",
    "    {\n",
    "        \"id\": 5, \n",
    "        \"first_name\": \"Leopold\", \n",
    "        \"last_name\": \"Jarred\", \n",
    "        \"email\": \"ljarred4@wp.com\", \n",
    "        \"gender\": \"Agender\", \n",
    "        \"ip_ddress\": \"30.119.34.4\"\n",
    "    },\n",
    "    {\n",
    "        \"id\": 6, \n",
    "        \"first_name\": \n",
    "        \"Joanna\", \n",
    "        \"last_name\": \"Teager\", \n",
    "        \"email\": \"jteager5@apache.org\", \n",
    "        \"gender\": \"Bigender\", \n",
    "        \"ip_ddress\": \"245.221.176.34\"\n",
    "    },\n",
    "    {\n",
    "        \"id\": 7, \n",
    "        \"first_name\": \"Lion\", \n",
    "        \"last_name\": \"Beere\", \n",
    "        \"email\": \"lbeere6@bloomberg.com\",\n",
    "        \"gender\": \"Polygender\", \n",
    "        \"ip_ddress\": \"105.54.139.46\"\n",
    "    },\n",
    "    {\n",
    "        \"id\": 8, \n",
    "        \"first_name\": \"Marabel\", \n",
    "        \"last_name\": \"Wornum\", \n",
    "        \"email\": \"mwornum7@posterous.com\", \n",
    "        \"gender\": \"Polygender\", \n",
    "        \"ip_ddress\": \"247.229.14.25\"\n",
    "    },\n",
    "    {\n",
    "        \"id\": 9, \n",
    "        \"first_name\": \"Helenka\", \n",
    "        \"last_name\": \"Mullender\", \n",
    "        \"email\": \"hmullender8@cloudflare.com\", \n",
    "        \"gender\": \"Non-binary\", \n",
    "        \"ip_ddress\": \"133.216.118.88\"\n",
    "    },\n",
    "    {\n",
    "        \"id\": 10, \n",
    "        \"first_name\": \"Christine\", \n",
    "        \"last_name\": \"Swane\", \n",
    "        \"email\": \"cswane9@shop-pro.jp\",\n",
    "        \"gender\": \"Polygender\", \n",
    "        \"ip_ddress\": \"86.16.210.164\"\n",
    "    }\n",
    "]'''"
   ]
  },
  {
   "cell_type": "code",
   "execution_count": null,
   "id": "3d24c35d",
   "metadata": {},
   "outputs": [],
   "source": [
    "persons_result = json.loads(persons)"
   ]
  },
  {
   "cell_type": "code",
   "execution_count": null,
   "id": "9089912f",
   "metadata": {},
   "outputs": [],
   "source": [
    "type(persons_result)"
   ]
  },
  {
   "cell_type": "code",
   "execution_count": null,
   "id": "530d2ab0",
   "metadata": {},
   "outputs": [],
   "source": [
    "persons_result.keys()"
   ]
  },
  {
   "cell_type": "code",
   "execution_count": null,
   "id": "2be0106f",
   "metadata": {},
   "outputs": [],
   "source": [
    "type(persons_result['results'])"
   ]
  },
  {
   "cell_type": "code",
   "execution_count": null,
   "id": "403eba68",
   "metadata": {},
   "outputs": [],
   "source": [
    "type(persons_result['results'][0])"
   ]
  },
  {
   "cell_type": "code",
   "execution_count": null,
   "id": "19de7031",
   "metadata": {},
   "outputs": [],
   "source": [
    "persons_result['results'][0]"
   ]
  },
  {
   "cell_type": "code",
   "execution_count": null,
   "id": "9eca55e9",
   "metadata": {},
   "outputs": [],
   "source": [
    "results = person_results['results']"
   ]
  },
  {
   "cell_type": "code",
   "execution_count": null,
   "id": "d2295075",
   "metadata": {},
   "outputs": [],
   "source": [
    "type(results)"
   ]
  },
  {
   "cell_type": "code",
   "execution_count": null,
   "id": "4606a4a1",
   "metadata": {},
   "outputs": [],
   "source": [
    "results[0]"
   ]
  }
 ],
 "metadata": {
  "kernelspec": {
   "display_name": "Python 3 (ipykernel)",
   "language": "python",
   "name": "python3"
  },
  "language_info": {
   "codemirror_mode": {
    "name": "ipython",
    "version": 3
   },
   "file_extension": ".py",
   "mimetype": "text/x-python",
   "name": "python",
   "nbconvert_exporter": "python",
   "pygments_lexer": "ipython3",
   "version": "3.9.7"
  }
 },
 "nbformat": 4,
 "nbformat_minor": 5
}
