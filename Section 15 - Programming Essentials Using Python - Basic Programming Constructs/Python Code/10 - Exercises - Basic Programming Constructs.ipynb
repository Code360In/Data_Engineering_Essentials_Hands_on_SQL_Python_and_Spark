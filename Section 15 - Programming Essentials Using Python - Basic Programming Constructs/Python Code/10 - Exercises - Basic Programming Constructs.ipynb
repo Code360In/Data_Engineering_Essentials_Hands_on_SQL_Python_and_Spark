{
 "cells": [
  {
   "cell_type": "markdown",
   "id": "03da4b87",
   "metadata": {},
   "source": [
    "## Exercises - Basic Programming Constructs\n",
    "\n",
    "Please take care of following exercises\n",
    "    \n",
    "   * Get sum of integers for a given range."
   ]
  },
  {
   "cell_type": "code",
   "execution_count": 1,
   "id": "4a7a372f",
   "metadata": {},
   "outputs": [
    {
     "name": "stdout",
     "output_type": "stream",
     "text": [
      "45\n"
     ]
    }
   ],
   "source": [
    "lb = 5\n",
    "ub = 10\n",
    "\n",
    "total = 0\n",
    "for i in range(lb, ub + 1):\n",
    "    total += i\n",
    "\n",
    "print(total)"
   ]
  },
  {
   "cell_type": "markdown",
   "id": "4b4fd1f3",
   "metadata": {},
   "source": [
    " * If you recollect your high school mathematics, there is a formula to get sum of integers for 1 to n. It is nothing but**(n * (n + 1)) / 2.** Using that we should be able to get sum of integers with in a given range between lower bound (lb) and upper bound (ub). It is nothing but\n",
    "\n",
    "**((ub * (ub + 1)) / 2) - (((lb - 1) * lb) / 2)**"
   ]
  },
  {
   "cell_type": "code",
   "execution_count": 2,
   "id": "268aedaf",
   "metadata": {},
   "outputs": [
    {
     "name": "stdout",
     "output_type": "stream",
     "text": [
      "10\n"
     ]
    }
   ],
   "source": [
    "lb1 = lb - 1\n",
    "res1 = lb1 * (lb1 + 1) / 2\n",
    "print(int(res1))"
   ]
  },
  {
   "cell_type": "code",
   "execution_count": 3,
   "id": "74385337",
   "metadata": {},
   "outputs": [
    {
     "name": "stdout",
     "output_type": "stream",
     "text": [
      "55\n"
     ]
    }
   ],
   "source": [
    "res2 = ub * (ub + 1) / 2\n",
    "print(int(res2))"
   ]
  },
  {
   "cell_type": "code",
   "execution_count": 4,
   "id": "4e31edab",
   "metadata": {},
   "outputs": [
    {
     "name": "stdout",
     "output_type": "stream",
     "text": [
      "45\n"
     ]
    }
   ],
   "source": [
    "# Complexity: o(1)\n",
    "print(int(res2 - res1))"
   ]
  },
  {
   "cell_type": "code",
   "execution_count": 5,
   "id": "34d86a7b",
   "metadata": {},
   "outputs": [],
   "source": [
    "# o(1) is much solution when compared to o(n)"
   ]
  },
  {
   "cell_type": "markdown",
   "id": "a5234262",
   "metadata": {},
   "source": [
    "## Exercise 2 - Get sum of squares of integers\n",
    "\n",
    "Get sum of squares of integers for a given range using **formula** - for 2 to 4, it should be 29. You can google around to get the formula for sum of squares of integers for 1 to n."
   ]
  },
  {
   "cell_type": "code",
   "execution_count": 6,
   "id": "a645f469",
   "metadata": {},
   "outputs": [],
   "source": [
    "def sum_of_squares_2(N):\n",
    "    \"Compute the sum of squares 1**2 + 2**2 + ... + N**2.\"\n",
    "    # Initialize the output value to 0\n",
    "    result = 0\n",
    "    for n in range(2, N + 1):\n",
    "        # Update the result by adding the next term\n",
    "        result = result + n ** 2\n",
    "    return result"
   ]
  },
  {
   "cell_type": "code",
   "execution_count": 7,
   "id": "29be3d4e",
   "metadata": {},
   "outputs": [
    {
     "data": {
      "text/plain": [
       "29"
      ]
     },
     "execution_count": 7,
     "metadata": {},
     "output_type": "execute_result"
    }
   ],
   "source": [
    "sum_of_squares_2(4)"
   ]
  },
  {
   "cell_type": "markdown",
   "id": "6720aebf",
   "metadata": {},
   "source": [
    "## Exercise 3 - Get sum of even numbers\n",
    "\n",
    "Get sum of even number for a given range - for 5 to 10, it should be 24."
   ]
  },
  {
   "cell_type": "code",
   "execution_count": 8,
   "id": "bb2a94e8",
   "metadata": {},
   "outputs": [
    {
     "name": "stdout",
     "output_type": "stream",
     "text": [
      "Enter the start of range: 5\n",
      "Enter the end of range: 10\n",
      "24\n"
     ]
    }
   ],
   "source": [
    "# Python program to print Even Numbers in given range\n",
    "  \n",
    "start = int(input(\"Enter the start of range: \"))\n",
    "end = int(input(\"Enter the end of range: \"))\n",
    "sum = 0\n",
    "\n",
    "# iterating each number in list\n",
    "for num in range(start, end + 1):\n",
    "      \n",
    "    # checking condition\n",
    "    if num % 2 == 0:\n",
    "        sum += num\n",
    "print(sum)"
   ]
  },
  {
   "cell_type": "markdown",
   "id": "46b93ec7",
   "metadata": {},
   "source": [
    "## Exercise 4 - Get sum of numbers in a list\n",
    "\n",
    "Create a collection using [1, 6, 8, 3, 7, 2, 9] abd get sum of even numbers. Answer should be 16."
   ]
  },
  {
   "cell_type": "code",
   "execution_count": 9,
   "id": "9c304976",
   "metadata": {},
   "outputs": [
    {
     "name": "stdout",
     "output_type": "stream",
     "text": [
      "16\n"
     ]
    }
   ],
   "source": [
    "# Declaring a list\n",
    "numbers = [1, 6, 8, 3, 7, 2, 9]\n",
    "sum = 0\n",
    "\n",
    "for num in numbers:\n",
    "      \n",
    "    # checking condition\n",
    "    if num % 2 == 0:\n",
    "        sum += num\n",
    "print(sum)"
   ]
  },
  {
   "cell_type": "markdown",
   "id": "146fa53d",
   "metadata": {},
   "source": [
    "## Exercise 5 - Get sum of numbers divisible by 3\n",
    "\n",
    "Using the same collection get sum of numbers divisible by 3. Answer should be 18."
   ]
  },
  {
   "cell_type": "code",
   "execution_count": 10,
   "id": "31fd2d98",
   "metadata": {},
   "outputs": [
    {
     "name": "stdout",
     "output_type": "stream",
     "text": [
      "18\n"
     ]
    }
   ],
   "source": [
    "# Declaring a list\n",
    "numbers = [1, 6, 8, 3, 7, 2, 9]\n",
    "sum = 0\n",
    "\n",
    "for num in numbers:\n",
    "      \n",
    "    # checking condition\n",
    "    if num % 3 == 0:\n",
    "        sum += num\n",
    "print(sum)"
   ]
  }
 ],
 "metadata": {
  "kernelspec": {
   "display_name": "Python 3 (ipykernel)",
   "language": "python",
   "name": "python3"
  },
  "language_info": {
   "codemirror_mode": {
    "name": "ipython",
    "version": 3
   },
   "file_extension": ".py",
   "mimetype": "text/x-python",
   "name": "python",
   "nbconvert_exporter": "python",
   "pygments_lexer": "ipython3",
   "version": "3.9.7"
  }
 },
 "nbformat": 4,
 "nbformat_minor": 5
}
