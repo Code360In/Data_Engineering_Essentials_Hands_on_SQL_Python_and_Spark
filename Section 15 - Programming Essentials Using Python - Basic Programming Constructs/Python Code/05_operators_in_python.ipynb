{
 "cells": [
  {
   "cell_type": "markdown",
   "metadata": {},
   "source": [
    "## Operators in Python\n",
    "As any programming language Python supports all types of Operations. There are several categories of operators. For now we will cover Arithmetic and Comparison Operators."
   ]
  },
  {
   "cell_type": "markdown",
   "metadata": {},
   "source": [
    "* Arithmetic Operators\n",
    "  * Addition (+)\n",
    "  * Subtraction (-)\n",
    "  * Multiplication (*)\n",
    "  * Division (/)\n",
    "  * Mod (%) returns reminder\n",
    "  * `+` is also used for concatenation of strings. \n",
    "* Comparison Operators - typically return boolean value (True or False)\n",
    "  * Equals (==)\n",
    "  * Not Equals (!=)\n",
    "  * Negation (! before expression)\n",
    "  * Greater Than (>)\n",
    "  * Less Than (<)\n",
    "  * Greater Than or Equals To (>=)\n",
    "  * Less Than or Equals To (<=)"
   ]
  }
 ],
 "metadata": {
  "kernelspec": {
   "display_name": "Python 3 (ipykernel)",
   "language": "python",
   "name": "python3"
  },
  "language_info": {
   "codemirror_mode": {
    "name": "ipython",
    "version": 3
   },
   "file_extension": ".py",
   "mimetype": "text/x-python",
   "name": "python",
   "nbconvert_exporter": "python",
   "pygments_lexer": "ipython3",
   "version": "3.9.7"
  }
 },
 "nbformat": 4,
 "nbformat_minor": 4
}
