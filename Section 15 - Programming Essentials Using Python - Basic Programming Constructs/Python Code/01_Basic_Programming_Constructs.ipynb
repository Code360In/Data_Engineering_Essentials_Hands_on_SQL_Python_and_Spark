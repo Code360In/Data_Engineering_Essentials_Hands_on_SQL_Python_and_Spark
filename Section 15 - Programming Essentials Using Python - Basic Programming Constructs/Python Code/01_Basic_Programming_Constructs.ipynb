{
 "cells": [
  {
   "cell_type": "markdown",
   "id": "4433245e",
   "metadata": {},
   "source": [
    "## Basic Programming Constructs\n",
    "\n",
    "As part of this section we will see basic programming constructs in Python.\n",
    "\n",
    "   * Getting Help\n",
    "   * Variables and Objects\n",
    "   * Data Types - Commonly used\n",
    "   * Operators in Python\n",
    "   * Comments and Doc Strings\n",
    "   * Conditionals\n",
    "   * All about for loops\n",
    "   * Running OS Commands\n",
    "   * Exercises"
   ]
  }
 ],
 "metadata": {
  "kernelspec": {
   "display_name": "Python 3 (ipykernel)",
   "language": "python",
   "name": "python3"
  },
  "language_info": {
   "codemirror_mode": {
    "name": "ipython",
    "version": 3
   },
   "file_extension": ".py",
   "mimetype": "text/x-python",
   "name": "python",
   "nbconvert_exporter": "python",
   "pygments_lexer": "ipython3",
   "version": "3.9.7"
  }
 },
 "nbformat": 4,
 "nbformat_minor": 5
}
