{
 "cells": [
  {
   "cell_type": "markdown",
   "id": "ef7089b4",
   "metadata": {},
   "source": [
    "## Eval and Exec\n",
    "\n",
    "Let us understand how we can use `eval` and `exec` in Python.\n",
    "\n",
    "   * Typically we perform arithmetic operations like this `a = b + c`.\n",
    "   * We can also use `eval` and `exec` for the same.\n",
    "   * `eval` typically evaluates the expression. We need to assign the value to some variable when we use `eval`.\n",
    "   * `exec` executes the statement."
   ]
  },
  {
   "cell_type": "code",
   "execution_count": 1,
   "id": "b30a81e5",
   "metadata": {},
   "outputs": [],
   "source": [
    "b = 10"
   ]
  },
  {
   "cell_type": "code",
   "execution_count": 2,
   "id": "61d6e179",
   "metadata": {},
   "outputs": [],
   "source": [
    "c = 20"
   ]
  },
  {
   "cell_type": "code",
   "execution_count": 3,
   "id": "00d20663",
   "metadata": {},
   "outputs": [],
   "source": [
    "a = b + c"
   ]
  },
  {
   "cell_type": "code",
   "execution_count": 4,
   "id": "6798ef2e",
   "metadata": {},
   "outputs": [
    {
     "data": {
      "text/plain": [
       "30"
      ]
     },
     "execution_count": 4,
     "metadata": {},
     "output_type": "execute_result"
    }
   ],
   "source": [
    "a"
   ]
  },
  {
   "cell_type": "code",
   "execution_count": 5,
   "id": "d304c3fe",
   "metadata": {},
   "outputs": [
    {
     "data": {
      "text/plain": [
       "30"
      ]
     },
     "execution_count": 5,
     "metadata": {},
     "output_type": "execute_result"
    }
   ],
   "source": [
    "# Typically we assign the result of eval to a variable or object\n",
    "eval('b + c')"
   ]
  },
  {
   "cell_type": "code",
   "execution_count": 6,
   "id": "521cf4ff",
   "metadata": {},
   "outputs": [],
   "source": [
    "# Variable or object will be created when we use exec\n",
    "exec('d = b + c')"
   ]
  },
  {
   "cell_type": "code",
   "execution_count": 7,
   "id": "298bd151",
   "metadata": {},
   "outputs": [
    {
     "data": {
      "text/plain": [
       "30"
      ]
     },
     "execution_count": 7,
     "metadata": {},
     "output_type": "execute_result"
    }
   ],
   "source": [
    "d"
   ]
  },
  {
   "cell_type": "code",
   "execution_count": 8,
   "id": "e31129cb",
   "metadata": {},
   "outputs": [],
   "source": [
    "def calc(a, b, op):\n",
    "    return eval(f'{a} {op} {b}')"
   ]
  },
  {
   "cell_type": "code",
   "execution_count": 9,
   "id": "542ed46c",
   "metadata": {},
   "outputs": [
    {
     "data": {
      "text/plain": [
       "3"
      ]
     },
     "execution_count": 9,
     "metadata": {},
     "output_type": "execute_result"
    }
   ],
   "source": [
    "calc(1, 2, '+')"
   ]
  },
  {
   "cell_type": "code",
   "execution_count": 10,
   "id": "2e3a7044",
   "metadata": {},
   "outputs": [
    {
     "data": {
      "text/plain": [
       "200"
      ]
     },
     "execution_count": 10,
     "metadata": {},
     "output_type": "execute_result"
    }
   ],
   "source": [
    "calc(10, 20, '*')"
   ]
  }
 ],
 "metadata": {
  "kernelspec": {
   "display_name": "Python 3 (ipykernel)",
   "language": "python",
   "name": "python3"
  },
  "language_info": {
   "codemirror_mode": {
    "name": "ipython",
    "version": 3
   },
   "file_extension": ".py",
   "mimetype": "text/x-python",
   "name": "python",
   "nbconvert_exporter": "python",
   "pygments_lexer": "ipython3",
   "version": "3.9.7"
  }
 },
 "nbformat": 4,
 "nbformat_minor": 5
}
