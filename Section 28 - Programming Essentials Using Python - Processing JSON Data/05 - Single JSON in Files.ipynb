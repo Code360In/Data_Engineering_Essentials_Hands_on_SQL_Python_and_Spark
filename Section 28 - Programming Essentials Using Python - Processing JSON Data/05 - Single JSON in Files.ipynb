{
 "cells": [
  {
   "cell_type": "markdown",
   "id": "49cbe136",
   "metadata": {},
   "source": [
    "## Single JSON in Files\n",
    "\n",
    "Let us understand how to process single JSON in Files. We can leverage `json` or `pandas` module for the same. For now, we will focus on `json` module.\n",
    "\n",
    "   * Here are the files used for the demo.\n",
    "       * **single_document.json**\n",
    "       * **youtube_playlist_items.json** - This is an example for REST API calls which return results in the form of list. The list will be part of one of the attributes in response JSON.\n",
    "   * Here are the steps you need to follow to review these documents using Jupyter Environment.\n",
    "       * Go to the sidebar and select the file.\n",
    "       * Right click on the file and click on **Open With -> Editor.**\n",
    "       * It will open the json file as a plain text file or raw text file.\n",
    "   * Both the documents have the data in single json.\n",
    "   \n",
    "Here are the steps to process a file which contain a simple JSON. You need to use `json.load` by passing file object (`io.TextIOWrapper`).\n",
    "\n",
    "   * Pass the path of the file and create a File Object.\n",
    "   * Invoke `json.load` by passing the file object as argument.\n",
    "   * It will return `dict`.\n",
    "   * We can leverage dict operations to process the data further."
   ]
  },
  {
   "cell_type": "code",
   "execution_count": 1,
   "id": "fed90df4",
   "metadata": {},
   "outputs": [],
   "source": [
    "import json"
   ]
  },
  {
   "cell_type": "code",
   "execution_count": null,
   "id": "73a045e2",
   "metadata": {},
   "outputs": [],
   "source": [
    "!ls -ltr single_document.json"
   ]
  },
  {
   "cell_type": "code",
   "execution_count": null,
   "id": "f9c2af8b",
   "metadata": {},
   "outputs": [],
   "source": [
    "type('single_document.json')"
   ]
  },
  {
   "cell_type": "code",
   "execution_count": null,
   "id": "08e03d53",
   "metadata": {},
   "outputs": [],
   "source": [
    "json.load?"
   ]
  },
  {
   "cell_type": "code",
   "execution_count": null,
   "id": "2a617db2",
   "metadata": {},
   "outputs": [],
   "source": [
    "type(open('single_document.json'))"
   ]
  },
  {
   "cell_type": "code",
   "execution_count": null,
   "id": "635b5c7b",
   "metadata": {},
   "outputs": [],
   "source": [
    "single_json = json.load(open('single_document.json'))"
   ]
  },
  {
   "cell_type": "code",
   "execution_count": null,
   "id": "1a2009ed",
   "metadata": {},
   "outputs": [],
   "source": [
    "single_json"
   ]
  },
  {
   "cell_type": "code",
   "execution_count": null,
   "id": "22eaaec9",
   "metadata": {},
   "outputs": [],
   "source": [
    "type(single_json)"
   ]
  },
  {
   "cell_type": "code",
   "execution_count": null,
   "id": "506b614a",
   "metadata": {},
   "outputs": [],
   "source": [
    "single_json.keys()"
   ]
  },
  {
   "cell_type": "code",
   "execution_count": null,
   "id": "6d16c82c",
   "metadata": {},
   "outputs": [],
   "source": [
    "single_json.values()"
   ]
  },
  {
   "cell_type": "code",
   "execution_count": null,
   "id": "6a8a49db",
   "metadata": {},
   "outputs": [],
   "source": [
    "single_json.items()"
   ]
  },
  {
   "cell_type": "code",
   "execution_count": null,
   "id": "f5806019",
   "metadata": {},
   "outputs": [],
   "source": [
    "single_json['first_name']"
   ]
  },
  {
   "cell_type": "markdown",
   "id": "ead7025e",
   "metadata": {},
   "source": [
    "The file **youtube_playlist_items.json** is an example for YouTube Data API response. It contain complex JSON structure.\n",
    "\n",
    "   * First let us understand the definition of YouTube Playlist.\n",
    "       * A YouTube Playlist is nothing but series of videos.\n",
    "       * Playlist also have name, URL as well as description.\n",
    "       * Each video will have video id and its attributes.\n",
    "       * The result for YouTube Playlist Items contain both Playlist level details as well as the details about videos that are part of the playlist.\n",
    "       * The details of videos are made availble as part of attribute called as **items.** The value for **items** is of type JSON Array.\n",
    "   * You can follow the same steps as above to read the JSON in the file **youtube_playlist_items.json** into a dict.\n",
    "   * However, the dict will be of complex structure. You can see **items** as of type `list`."
   ]
  },
  {
   "cell_type": "code",
   "execution_count": null,
   "id": "88f41cf1",
   "metadata": {},
   "outputs": [],
   "source": [
    "results_json = json.load(open('youtube_playlist_items.json'))"
   ]
  },
  {
   "cell_type": "code",
   "execution_count": null,
   "id": "e14049ef",
   "metadata": {},
   "outputs": [],
   "source": [
    "results_json"
   ]
  },
  {
   "cell_type": "code",
   "execution_count": null,
   "id": "9f2b145b",
   "metadata": {},
   "outputs": [],
   "source": [
    "# reading items. It contain details of videos in the playlist\n",
    "results_json['items']"
   ]
  },
  {
   "cell_type": "code",
   "execution_count": null,
   "id": "a60a4b8f",
   "metadata": {},
   "outputs": [],
   "source": [
    "type(results_json['items'])"
   ]
  },
  {
   "cell_type": "code",
   "execution_count": null,
   "id": "b675007b",
   "metadata": {},
   "outputs": [],
   "source": [
    "results_json['items'][0]"
   ]
  },
  {
   "cell_type": "code",
   "execution_count": null,
   "id": "1dddb4be",
   "metadata": {},
   "outputs": [],
   "source": [
    "results_json['items'][0]['contentDetails']"
   ]
  },
  {
   "cell_type": "code",
   "execution_count": null,
   "id": "0218f517",
   "metadata": {},
   "outputs": [],
   "source": [
    "# Here is an example of printing item details.\n",
    "for playlist_item in results_json['items']:\n",
    "    print(playlist_item)"
   ]
  },
  {
   "cell_type": "code",
   "execution_count": null,
   "id": "aff6389c",
   "metadata": {},
   "outputs": [],
   "source": [
    "# Here is an example of getting only contentDetails for each item.\n",
    "for playlist_item in results_json['items']:\n",
    "    print(playlist_item['contentDetails'])"
   ]
  },
  {
   "cell_type": "code",
   "execution_count": null,
   "id": "bb411d54",
   "metadata": {},
   "outputs": [],
   "source": [
    "# Here is how you can get video ids (using map function)\n",
    "list(\n",
    "    map(\n",
    "        lambda playlist_item: playlist_item['contentDetails']['videoId'],\n",
    "    )\n",
    ")"
   ]
  },
  {
   "cell_type": "code",
   "execution_count": null,
   "id": "9340a7e3",
   "metadata": {},
   "outputs": [],
   "source": [
    "list(\n",
    "    map(\n",
    "        lambda playlist_item: playlist_item['contentDetails'],\n",
    "    )\n",
    ")"
   ]
  }
 ],
 "metadata": {
  "kernelspec": {
   "display_name": "Python 3 (ipykernel)",
   "language": "python",
   "name": "python3"
  },
  "language_info": {
   "codemirror_mode": {
    "name": "ipython",
    "version": 3
   },
   "file_extension": ".py",
   "mimetype": "text/x-python",
   "name": "python",
   "nbconvert_exporter": "python",
   "pygments_lexer": "ipython3",
   "version": "3.9.7"
  }
 },
 "nbformat": 4,
 "nbformat_minor": 5
}
