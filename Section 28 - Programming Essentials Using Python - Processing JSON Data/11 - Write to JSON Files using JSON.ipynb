{
 "cells": [
  {
   "cell_type": "markdown",
   "id": "8a1d0b52",
   "metadata": {},
   "source": [
    "## Write to JSON Files using JSON\n",
    "\n",
    "Let us understand how to write to JSON files using `json` module.\n",
    "\n",
    "   * We can use `dump` to save JSON data to files. We can also generate a JSON string from a `dict` using `dumps`.\n",
    "\n",
    "In the below example we will see how to dump a dict to a string. We will see a bit more advanced example of writing list of dicts into JSON file shortly."
   ]
  },
  {
   "cell_type": "code",
   "execution_count": 1,
   "id": "0913f591",
   "metadata": {},
   "outputs": [],
   "source": [
    "course = {'course_name': 'Programming using Python',\n",
    "         'course_author': 'Bob Dillon',\n",
    "         'course_status': 'published',\n",
    "         'course_published_dt': '2020-09-30'}"
   ]
  },
  {
   "cell_type": "code",
   "execution_count": 2,
   "id": "4cd43187",
   "metadata": {},
   "outputs": [
    {
     "data": {
      "text/plain": [
       "dict"
      ]
     },
     "execution_count": 2,
     "metadata": {},
     "output_type": "execute_result"
    }
   ],
   "source": [
    "type(course)"
   ]
  },
  {
   "cell_type": "code",
   "execution_count": 3,
   "id": "3add90fb",
   "metadata": {},
   "outputs": [],
   "source": [
    "import json"
   ]
  },
  {
   "cell_type": "code",
   "execution_count": 4,
   "id": "1cebd9e0",
   "metadata": {},
   "outputs": [
    {
     "data": {
      "text/plain": [
       "'{\"course_name\": \"Programming using Python\", \"course_author\": \"Bob Dillon\", \"course_status\": \"published\", \"course_published_dt\": \"2020-09-30\"}'"
      ]
     },
     "execution_count": 4,
     "metadata": {},
     "output_type": "execute_result"
    }
   ],
   "source": [
    "json.dumps(course)"
   ]
  },
  {
   "cell_type": "code",
   "execution_count": 5,
   "id": "a8e66da7",
   "metadata": {},
   "outputs": [
    {
     "data": {
      "text/plain": [
       "str"
      ]
     },
     "execution_count": 5,
     "metadata": {},
     "output_type": "execute_result"
    }
   ],
   "source": [
    "type(json.dumps(course))"
   ]
  },
  {
   "cell_type": "code",
   "execution_count": 6,
   "id": "dfc05430",
   "metadata": {},
   "outputs": [],
   "source": [
    "course = [{'course_name': 'Programming using Python',\n",
    "         'course_author': 'Bob Dillon',\n",
    "         'course_status': 'published',\n",
    "         'course_published_dt': '2020-09-30'},\n",
    "         {'course_name': 'Data Engineering using Python',\n",
    "         'course_author': 'Bob Dillon',\n",
    "         'course_status': 'published',\n",
    "         'course_published_dt': '2020-07-15'},\n",
    "         {'course_name': 'Data Engineering using Scala',\n",
    "         'course_author': 'Elvis Presley',\n",
    "         'course_status': 'draft',\n",
    "         'course_published_dt': None},\n",
    "         {'course_name': 'Programming using Scala',\n",
    "         'course_author': 'Elvis Presley',\n",
    "         'course_status': 'published',\n",
    "         'course_published_dt': '2020-10-05'},\n",
    "         {'course_name': 'Programming using Java',\n",
    "         'course_author': 'Mike Jack',\n",
    "         'course_status': 'inactive',\n",
    "         'course_published_dt': '2020-08-10'},\n",
    "         {'course_name': 'Web Applications - Python Flask',\n",
    "         'course_author': 'Bob Dilion',\n",
    "         'course_status': 'inactive',\n",
    "         'course_published_dt': '2020-07-20'},\n",
    "         {'course_name': 'Web Applications - Java Spring',\n",
    "         'course_author': 'Mike Jack',\n",
    "         'course_status': 'draft',\n",
    "         'course_published_dt': None},\n",
    "         {'course_name': 'Pipeline Orchestration - Python',\n",
    "         'course_author': 'Bob Dilion',\n",
    "         'course_status': 'draft',\n",
    "         'course_published_dt': None},\n",
    "         {'course_name': 'Streaming Pipeline - Python',\n",
    "         'course_author': 'Bob Dilion',\n",
    "         'course_status': 'draft',\n",
    "         'course_published_dt': '2020-10-05'},\n",
    "         {'course_name': 'Web Applications - Scala play',\n",
    "         'course_author': 'Elvis Presley',\n",
    "         'course_status': 'inactive',\n",
    "         'course_published_dt': '2020-09-30'},\n",
    "         {'course_name': 'Web Applications - Python Django',\n",
    "         'course_author': 'Bob Dilion',\n",
    "         'course_status': 'published',\n",
    "         'course_published_dt': '2020-06-23'},\n",
    "         {'course_name': 'Server Automation - Ansible',\n",
    "         'course_author': 'Uncle Sam',\n",
    "         'course_status': 'published',\n",
    "         'course_published_dt': '2020-07-05'}]"
   ]
  },
  {
   "cell_type": "code",
   "execution_count": 7,
   "id": "ca103476",
   "metadata": {},
   "outputs": [
    {
     "data": {
      "text/plain": [
       "'[{\"course_name\": \"Programming using Python\", \"course_author\": \"Bob Dillon\", \"course_status\": \"published\", \"course_published_dt\": \"2020-09-30\"}, {\"course_name\": \"Data Engineering using Python\", \"course_author\": \"Bob Dillon\", \"course_status\": \"published\", \"course_published_dt\": \"2020-07-15\"}, {\"course_name\": \"Data Engineering using Scala\", \"course_author\": \"Elvis Presley\", \"course_status\": \"draft\", \"course_published_dt\": null}, {\"course_name\": \"Programming using Scala\", \"course_author\": \"Elvis Presley\", \"course_status\": \"published\", \"course_published_dt\": \"2020-10-05\"}, {\"course_name\": \"Web Applications - Scala play\", \"course_author\": \"Elvis Presley\", \"course_status\": \"inactive\", \"course_published_dt\": \"2020-09-30\"}, {\"course_name\": \"Web Applications - Python Django\", \"course_author\": \"Bob Dilion\", \"course_status\": \"published\", \"course_published_dt\": \"2020-06-23\"}, {\"course_name\": \"Server Automation - Ansible\", \"course_author\": \"Uncle Sam\", \"course_status\": \"published\", \"course_published_dt\": \"2020-07-05\"}]'"
      ]
     },
     "execution_count": 7,
     "metadata": {},
     "output_type": "execute_result"
    }
   ],
   "source": [
    "# This will dump json as a string object (not to file)\n",
    "json.dumps(course)"
   ]
  },
  {
   "cell_type": "markdown",
   "id": "8ec9fae9",
   "metadata": {},
   "source": [
    "Here are the steps involved in writing data in single JSON to JSON files using `json` module.\n",
    "\n",
    "   * Make sure you have a dict or any other object which can be converted to single valid json.\n",
    "   * Open the file in write mode.\n",
    "   * Write the data into the file. You have to use `json.dump` to write to file.\n",
    "   * Close the file."
   ]
  },
  {
   "cell_type": "code",
   "execution_count": 8,
   "id": "f41de840",
   "metadata": {},
   "outputs": [],
   "source": [
    "# list of dicts\n",
    "course = [{'course_name': 'Programming using Python',\n",
    "         'course_author': 'Bob Dillon',\n",
    "         'course_status': 'published',\n",
    "         'course_published_dt': '2020-09-30'},\n",
    "         {'course_name': 'Data Engineering using Python',\n",
    "         'course_author': 'Bob Dillon',\n",
    "         'course_status': 'published',\n",
    "         'course_published_dt': '2020-07-15'},\n",
    "         {'course_name': 'Data Engineering using Scala',\n",
    "         'course_author': 'Elvis Presley',\n",
    "         'course_status': 'draft',\n",
    "         'course_published_dt': None},\n",
    "         {'course_name': 'Programming using Scala',\n",
    "         'course_author': 'Elvis Presley',\n",
    "         'course_status': 'published',\n",
    "         'course_published_dt': '2020-10-05'},\n",
    "         {'course_name': 'Programming using Java',\n",
    "         'course_author': 'Mike Jack',\n",
    "         'course_status': 'inactive',\n",
    "         'course_published_dt': '2020-08-10'},\n",
    "         {'course_name': 'Web Applications - Python Flask',\n",
    "         'course_author': 'Bob Dilion',\n",
    "         'course_status': 'inactive',\n",
    "         'course_published_dt': '2020-07-20'},\n",
    "         {'course_name': 'Web Applications - Java Spring',\n",
    "         'course_author': 'Mike Jack',\n",
    "         'course_status': 'draft',\n",
    "         'course_published_dt': None},\n",
    "         {'course_name': 'Pipeline Orchestration - Python',\n",
    "         'course_author': 'Bob Dilion',\n",
    "         'course_status': 'draft',\n",
    "         'course_published_dt': None},\n",
    "         {'course_name': 'Streaming Pipeline - Python',\n",
    "         'course_author': 'Bob Dilion',\n",
    "         'course_status': 'draft',\n",
    "         'course_published_dt': '2020-10-05'},\n",
    "         {'course_name': 'Web Applications - Scala play',\n",
    "         'course_author': 'Elvis Presley',\n",
    "         'course_status': 'inactive',\n",
    "         'course_published_dt': '2020-09-30'},\n",
    "         {'course_name': 'Web Applications - Python Django',\n",
    "         'course_author': 'Bob Dilion',\n",
    "         'course_status': 'published',\n",
    "         'course_published_dt': '2020-06-23'},\n",
    "         {'course_name': 'Server Automation - Ansible',\n",
    "         'course_author': 'Uncle Sam',\n",
    "         'course_status': 'published',\n",
    "         'course_published_dt': '2020-07-05'}]"
   ]
  },
  {
   "cell_type": "code",
   "execution_count": 9,
   "id": "473f513d",
   "metadata": {},
   "outputs": [],
   "source": [
    "json.dump?"
   ]
  },
  {
   "cell_type": "code",
   "execution_count": 10,
   "id": "bb4ae0ae",
   "metadata": {},
   "outputs": [],
   "source": [
    "open?"
   ]
  },
  {
   "cell_type": "code",
   "execution_count": null,
   "id": "7c4aac85",
   "metadata": {},
   "outputs": [],
   "source": [
    "!mkdir -p data/courses"
   ]
  },
  {
   "cell_type": "code",
   "execution_count": null,
   "id": "3e4d89f1",
   "metadata": {},
   "outputs": [],
   "source": [
    "# Opening the file in write mode\n",
    "courses_file = open('data/courses/courses.json', 'w')"
   ]
  },
  {
   "cell_type": "code",
   "execution_count": null,
   "id": "a8818789",
   "metadata": {},
   "outputs": [],
   "source": [
    "# Dumpling the list of dicts as JSON array into the file\n",
    "json.dump(courses, courses_file)"
   ]
  },
  {
   "cell_type": "code",
   "execution_count": null,
   "id": "6ede4725",
   "metadata": {},
   "outputs": [],
   "source": [
    "# Closing the file\n",
    "courses_file.close()"
   ]
  },
  {
   "cell_type": "code",
   "execution_count": null,
   "id": "074db591",
   "metadata": {},
   "outputs": [],
   "source": [
    "!ls -ltr data/courses/courses.json"
   ]
  },
  {
   "cell_type": "code",
   "execution_count": null,
   "id": "dc9f4782",
   "metadata": {},
   "outputs": [],
   "source": [
    "!cat data/courses/courses.json"
   ]
  },
  {
   "cell_type": "markdown",
   "id": "5ab95086",
   "metadata": {},
   "source": [
    "Here are the steps involved in dumping a JSON array to the file.\n",
    "\n",
    "   * Make sure you have list of dicts.\n",
    "   * Open the file in write mode.\n",
    "   * Write the data into the file. You have to use `json.dump` to write to file.\n",
    "   * You have to dump one element at a time into the file until the dicts are written to file.\n",
    "   * Close the file."
   ]
  },
  {
   "cell_type": "code",
   "execution_count": null,
   "id": "231b909d",
   "metadata": {},
   "outputs": [],
   "source": [
    "!rm data/courses/courses.json"
   ]
  },
  {
   "cell_type": "code",
   "execution_count": null,
   "id": "2e78f7f1",
   "metadata": {},
   "outputs": [],
   "source": [
    "# opening the file in write mode\n",
    "courses_file = open('data/courses/courses.json', 'w')"
   ]
  },
  {
   "cell_type": "code",
   "execution_count": null,
   "id": "7f54067f",
   "metadata": {},
   "outputs": [],
   "source": [
    "len(courses)"
   ]
  },
  {
   "cell_type": "code",
   "execution_count": null,
   "id": "ab6bc739",
   "metadata": {},
   "outputs": [],
   "source": [
    "# Writing each dict as JSON document as line in the file\n",
    "for course in corses:\n",
    "    # Writing one JSON at a time.\n",
    "    json.dump(course, courses_file)\n",
    "    # We need to add new line character after each JSON document\n",
    "    courses_file.write('\\n')"
   ]
  },
  {
   "cell_type": "code",
   "execution_count": null,
   "id": "e6ddf805",
   "metadata": {},
   "outputs": [],
   "source": [
    "# Closing the file\n",
    "courses_file.close()"
   ]
  },
  {
   "cell_type": "code",
   "execution_count": null,
   "id": "8f84a709",
   "metadata": {},
   "outputs": [],
   "source": [
    "!ls -ltr data/courses/courses.json"
   ]
  },
  {
   "cell_type": "code",
   "execution_count": null,
   "id": "a5acde22",
   "metadata": {},
   "outputs": [],
   "source": [
    "!cat data/courses/courses.json"
   ]
  },
  {
   "cell_type": "code",
   "execution_count": null,
   "id": "8777080a",
   "metadata": {},
   "outputs": [],
   "source": [
    "import pandas as pd"
   ]
  },
  {
   "cell_type": "code",
   "execution_count": null,
   "id": "3fbfb1cf",
   "metadata": {},
   "outputs": [],
   "source": [
    "pd.read_json('data/courses/courses.json', lines=True)"
   ]
  }
 ],
 "metadata": {
  "kernelspec": {
   "display_name": "Python 3 (ipykernel)",
   "language": "python",
   "name": "python3"
  },
  "language_info": {
   "codemirror_mode": {
    "name": "ipython",
    "version": 3
   },
   "file_extension": ".py",
   "mimetype": "text/x-python",
   "name": "python",
   "nbconvert_exporter": "python",
   "pygments_lexer": "ipython3",
   "version": "3.9.7"
  }
 },
 "nbformat": 4,
 "nbformat_minor": 5
}
