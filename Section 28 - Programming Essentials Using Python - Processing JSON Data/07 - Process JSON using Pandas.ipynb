{
 "cells": [
  {
   "cell_type": "markdown",
   "id": "cf05b84f",
   "metadata": {},
   "source": [
    "## Process JSON using Pandas\n",
    "\n",
    "Let us understand how to process JSON using Pandas.\n",
    "\n",
    "   * We can use `read_json` to read JSON documents from file into a Data Frame.\n",
    "   * It works well with **customers.json** where we have one valid JSON document per line."
   ]
  },
  {
   "cell_type": "code",
   "execution_count": null,
   "id": "b2189887",
   "metadata": {},
   "outputs": [],
   "source": [
    "import pandas as pd"
   ]
  },
  {
   "cell_type": "code",
   "execution_count": null,
   "id": "8a5fcaa9",
   "metadata": {},
   "outputs": [],
   "source": [
    "pd.read_json?"
   ]
  },
  {
   "cell_type": "code",
   "execution_count": null,
   "id": "7f8e899a",
   "metadata": {},
   "outputs": [],
   "source": [
    "pd.read_json('customers.json', lines=True)"
   ]
  },
  {
   "cell_type": "markdown",
   "id": "28005976",
   "metadata": {},
   "source": [
    "* It is not straight forward to create data frame using **youtube_playlist_items.json** where we have one single JSON document with multiple attributes.\n",
    "* We can extract **items** and create data frame using `pd.DataFrame` by passing the list of dicts to it."
   ]
  },
  {
   "cell_type": "code",
   "execution_count": null,
   "id": "8b37677c",
   "metadata": {},
   "outputs": [],
   "source": [
    "import json"
   ]
  },
  {
   "cell_type": "code",
   "execution_count": null,
   "id": "c27e4dca",
   "metadata": {},
   "outputs": [],
   "source": [
    "type(open('youtube_playlist_items.json'))"
   ]
  },
  {
   "cell_type": "code",
   "execution_count": null,
   "id": "93497495",
   "metadata": {},
   "outputs": [],
   "source": [
    "json.load(open('youtube_playlist_items.json'))['items'][0]"
   ]
  },
  {
   "cell_type": "code",
   "execution_count": null,
   "id": "04a260cd",
   "metadata": {},
   "outputs": [],
   "source": [
    "yt_items = json.load(open('youtube_playlist_items.json'))['items']"
   ]
  },
  {
   "cell_type": "code",
   "execution_count": null,
   "id": "0adc9467",
   "metadata": {},
   "outputs": [],
   "source": [
    "type(yt_items)"
   ]
  },
  {
   "cell_type": "code",
   "execution_count": null,
   "id": "eb88b7d4",
   "metadata": {},
   "outputs": [],
   "source": [
    "yt_items"
   ]
  },
  {
   "cell_type": "code",
   "execution_count": null,
   "id": "adc1ff6c",
   "metadata": {},
   "outputs": [],
   "source": [
    "pd.DataFrame(yt_items)"
   ]
  },
  {
   "cell_type": "code",
   "execution_count": null,
   "id": "b162f258",
   "metadata": {},
   "outputs": [],
   "source": [
    "# Nested json are flattened\n",
    "pd.json_normalize(json.load(open('youtube_playlist_items.json'))['items'])"
   ]
  }
 ],
 "metadata": {
  "kernelspec": {
   "display_name": "Python 3 (ipykernel)",
   "language": "python",
   "name": "python3"
  },
  "language_info": {
   "codemirror_mode": {
    "name": "ipython",
    "version": 3
   },
   "file_extension": ".py",
   "mimetype": "text/x-python",
   "name": "python",
   "nbconvert_exporter": "python",
   "pygments_lexer": "ipython3",
   "version": "3.9.7"
  }
 },
 "nbformat": 4,
 "nbformat_minor": 5
}
