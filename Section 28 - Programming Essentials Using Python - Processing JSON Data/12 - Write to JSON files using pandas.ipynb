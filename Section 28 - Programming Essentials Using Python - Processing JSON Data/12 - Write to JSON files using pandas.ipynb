{
 "cells": [
  {
   "cell_type": "markdown",
   "id": "8b95bec1",
   "metadata": {},
   "source": [
    "## Write to JSON files using pandas\n",
    "\n",
    "Let us understand how to write to JSON files using `pandas` module.\n",
    "\n",
    "   * We can use `to_json` to write to JSON file using `pandas`."
   ]
  },
  {
   "cell_type": "code",
   "execution_count": null,
   "id": "97249da7",
   "metadata": {},
   "outputs": [],
   "source": [
    "import pandas as pd"
   ]
  },
  {
   "cell_type": "code",
   "execution_count": null,
   "id": "3339c3e8",
   "metadata": {},
   "outputs": [],
   "source": [
    "courses = [{'course_name': 'Programming using Python',\n",
    "         'course_author': 'Bob Dillon',\n",
    "         'course_status': 'published',\n",
    "         'course_published_dt': '2020-09-30'},\n",
    "         {'course_name': 'Data Engineering using Python',\n",
    "         'course_author': 'Bob Dillon',\n",
    "         'course_status': 'published',\n",
    "         'course_published_dt': '2020-07-15'}]"
   ]
  },
  {
   "cell_type": "code",
   "execution_count": null,
   "id": "27716d24",
   "metadata": {},
   "outputs": [],
   "source": [
    "df = pd.DataFrame(courses)"
   ]
  },
  {
   "cell_type": "code",
   "execution_count": null,
   "id": "5f0c827c",
   "metadata": {},
   "outputs": [],
   "source": [
    "df"
   ]
  },
  {
   "cell_type": "code",
   "execution_count": null,
   "id": "5a042b0b",
   "metadata": {},
   "outputs": [],
   "source": [
    "df.to_json?"
   ]
  },
  {
   "cell_type": "markdown",
   "id": "ed61fb6f",
   "metadata": {},
   "source": [
    "* Dumping a JSON documents into a file with one JSON document per line."
   ]
  },
  {
   "cell_type": "code",
   "execution_count": null,
   "id": "10c1636b",
   "metadata": {},
   "outputs": [],
   "source": [
    "courses = [{'course_name': 'Programming using Python',\n",
    "         'course_author': 'Bob Dillon',\n",
    "         'course_status': 'published',\n",
    "         'course_published_dt': '2020-09-30'},\n",
    "         {'course_name': 'Data Engineering using Python',\n",
    "         'course_author': 'Bob Dillon',\n",
    "         'course_status': 'published',\n",
    "         'course_published_dt': '2020-07-15'},\n",
    "         {'course_name': 'Data Engineering using Scala',\n",
    "         'course_author': 'Elvis Presley',\n",
    "         'course_status': 'draft',\n",
    "         'course_published_dt': None},\n",
    "         {'course_name': 'Programming using Scala',\n",
    "         'course_author': 'Elvis Presley',\n",
    "         'course_status': 'published',\n",
    "         'course_published_dt': '2020-10-05'},\n",
    "         {'course_name': 'Programming using Java',\n",
    "         'course_author': 'Mike Jack',\n",
    "         'course_status': 'inactive',\n",
    "         'course_published_dt': '2020-08-10'},\n",
    "         {'course_name': 'Web Applications - Python Flask',\n",
    "         'course_author': 'Bob Dilion',\n",
    "         'course_status': 'inactive',\n",
    "         'course_published_dt': '2020-07-20'},\n",
    "         {'course_name': 'Web Applications - Java Spring',\n",
    "         'course_author': 'Mike Jack',\n",
    "         'course_status': 'draft',\n",
    "         'course_published_dt': None},\n",
    "         {'course_name': 'Pipeline Orchestration - Python',\n",
    "         'course_author': 'Bob Dilion',\n",
    "         'course_status': 'draft',\n",
    "         'course_published_dt': None},\n",
    "         {'course_name': 'Streaming Pipeline - Python',\n",
    "         'course_author': 'Bob Dilion',\n",
    "         'course_status': 'draft',\n",
    "         'course_published_dt': '2020-10-05'},\n",
    "         {'course_name': 'Web Applications - Scala play',\n",
    "         'course_author': 'Elvis Presley',\n",
    "         'course_status': 'inactive',\n",
    "         'course_published_dt': '2020-09-30'},\n",
    "         {'course_name': 'Web Applications - Python Django',\n",
    "         'course_author': 'Bob Dilion',\n",
    "         'course_status': 'published',\n",
    "         'course_published_dt': '2020-06-23'},\n",
    "         {'course_name': 'Server Automation - Ansible',\n",
    "         'course_author': 'Uncle Sam',\n",
    "         'course_status': 'published',\n",
    "         'course_published_dt': '2020-07-05'}]"
   ]
  },
  {
   "cell_type": "code",
   "execution_count": null,
   "id": "fa75e92e",
   "metadata": {},
   "outputs": [],
   "source": [
    "!rm data/courses/courses.json"
   ]
  },
  {
   "cell_type": "code",
   "execution_count": null,
   "id": "6523e4c7",
   "metadata": {},
   "outputs": [],
   "source": [
    "import pandas as pd"
   ]
  },
  {
   "cell_type": "code",
   "execution_count": null,
   "id": "4d597c31",
   "metadata": {},
   "outputs": [],
   "source": [
    "courses_df = pd.DataFrame(courses)"
   ]
  },
  {
   "cell_type": "code",
   "execution_count": null,
   "id": "18ad8684",
   "metadata": {},
   "outputs": [],
   "source": [
    "courses_df"
   ]
  },
  {
   "cell_type": "code",
   "execution_count": null,
   "id": "9856c85f",
   "metadata": {},
   "outputs": [],
   "source": [
    "courses_df.to_json('data/courses/courses.json', orient='records', lines=True)"
   ]
  },
  {
   "cell_type": "code",
   "execution_count": null,
   "id": "f33db783",
   "metadata": {},
   "outputs": [],
   "source": [
    "!ls -ltr data/courses/courses.json"
   ]
  },
  {
   "cell_type": "code",
   "execution_count": null,
   "id": "4de0101d",
   "metadata": {},
   "outputs": [],
   "source": [
    "!cat data/courses/courses.json"
   ]
  },
  {
   "cell_type": "markdown",
   "id": "27c17e49",
   "metadata": {},
   "source": [
    "* We casn also write Pandas dataframe to json file with orient split."
   ]
  },
  {
   "cell_type": "code",
   "execution_count": null,
   "id": "5e1881c6",
   "metadata": {},
   "outputs": [],
   "source": [
    "courses_df"
   ]
  },
  {
   "cell_type": "code",
   "execution_count": null,
   "id": "fd6fd514",
   "metadata": {},
   "outputs": [],
   "source": [
    "courses_df.to_json('data/courses/courses.json', orient='split')"
   ]
  },
  {
   "cell_type": "code",
   "execution_count": null,
   "id": "e11e62d1",
   "metadata": {},
   "outputs": [],
   "source": [
    "!ls -ltr data/courses/courses.json"
   ]
  },
  {
   "cell_type": "code",
   "execution_count": null,
   "id": "6dc7e2ac",
   "metadata": {},
   "outputs": [],
   "source": [
    "!cat data/courses/courses.json"
   ]
  },
  {
   "cell_type": "markdown",
   "id": "b10fe5b5",
   "metadata": {},
   "source": [
    "* We casn also write Pandas dataframe to json file with orient records. It will generate string with valid JSON."
   ]
  },
  {
   "cell_type": "code",
   "execution_count": null,
   "id": "088b740e",
   "metadata": {},
   "outputs": [],
   "source": [
    "courses_df.to_json('data/courses/courses.json', orient='records')"
   ]
  },
  {
   "cell_type": "code",
   "execution_count": null,
   "id": "561786fc",
   "metadata": {},
   "outputs": [],
   "source": [
    "!ls -ltr data/courses/courses.json"
   ]
  },
  {
   "cell_type": "code",
   "execution_count": null,
   "id": "5fe6fe1b",
   "metadata": {},
   "outputs": [],
   "source": [
    "!cat data/courses/courses.json"
   ]
  }
 ],
 "metadata": {
  "kernelspec": {
   "display_name": "Python 3 (ipykernel)",
   "language": "python",
   "name": "python3"
  },
  "language_info": {
   "codemirror_mode": {
    "name": "ipython",
    "version": 3
   },
   "file_extension": ".py",
   "mimetype": "text/x-python",
   "name": "python",
   "nbconvert_exporter": "python",
   "pygments_lexer": "ipython3",
   "version": "3.9.7"
  }
 },
 "nbformat": 4,
 "nbformat_minor": 5
}
