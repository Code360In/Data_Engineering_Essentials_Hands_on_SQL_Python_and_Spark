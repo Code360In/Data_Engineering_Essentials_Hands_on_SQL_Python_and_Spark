{
 "cells": [
  {
   "cell_type": "markdown",
   "id": "56389153",
   "metadata": {},
   "source": [
    "## Processing JSON Data\n",
    "\n",
    "As part of this section or module we will get an overview about processing JSON data. We will primarily focus on using `json` or `pandas` to process data in JSON format.\n",
    "\n",
    "   * Overview of JSON.\n",
    "   * JSON Data Types.\n",
    "   * Create JSON String.\n",
    "   * Process JSON String.\n",
    "   * Single JSON Document in Files.\n",
    "   * Multiple JSON Documents in files.\n",
    "   * Process JSON using Pandas.\n",
    "   * Differente JSON Formats supported by Pandas.\n",
    "   * Common Use Cases for JSON.\n",
    "   * Write to JSON Files using JSON module.\n",
    "   * Write to JSON Files using Pandas."
   ]
  }
 ],
 "metadata": {
  "kernelspec": {
   "display_name": "Python 3 (ipykernel)",
   "language": "python",
   "name": "python3"
  },
  "language_info": {
   "codemirror_mode": {
    "name": "ipython",
    "version": 3
   },
   "file_extension": ".py",
   "mimetype": "text/x-python",
   "name": "python",
   "nbconvert_exporter": "python",
   "pygments_lexer": "ipython3",
   "version": "3.9.7"
  }
 },
 "nbformat": 4,
 "nbformat_minor": 5
}
