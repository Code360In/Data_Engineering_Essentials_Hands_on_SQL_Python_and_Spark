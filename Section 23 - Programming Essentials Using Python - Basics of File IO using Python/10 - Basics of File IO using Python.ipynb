{
 "cells": [
  {
   "cell_type": "markdown",
   "id": "0154b433",
   "metadata": {},
   "source": [
    "## Basics of File I/O using Python\n",
    "\n",
    "As part of this section or module we will go through some of the basics related to File I/O using Python as programming language.\n",
    "\n",
    "   * Overview of File I/O.\n",
    "   * Folders and Files.\n",
    "   * File Paths and Names.\n",
    "   * Ovewrview of Retail Data.\n",
    "   * Read Text File into String.\n",
    "   * Write String to Text File.\n",
    "   * Overview of Modes to Write into Files.\n",
    "   * Overview of Delimited Strings.\n",
    "   * Read CSV into List of Strings.\n",
    "   * Write Strings to File in Append Mode.\n",
    "   * Managing Files and Folders using Python."
   ]
  }
 ],
 "metadata": {
  "kernelspec": {
   "display_name": "Python 3 (ipykernel)",
   "language": "python",
   "name": "python3"
  },
  "language_info": {
   "codemirror_mode": {
    "name": "ipython",
    "version": 3
   },
   "file_extension": ".py",
   "mimetype": "text/x-python",
   "name": "python",
   "nbconvert_exporter": "python",
   "pygments_lexer": "ipython3",
   "version": "3.9.7"
  }
 },
 "nbformat": 4,
 "nbformat_minor": 5
}
