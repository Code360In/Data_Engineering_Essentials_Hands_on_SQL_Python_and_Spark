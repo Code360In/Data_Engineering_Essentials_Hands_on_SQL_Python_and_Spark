{
 "cells": [
  {
   "cell_type": "markdown",
   "id": "4eae3e75",
   "metadata": {},
   "source": [
    "## Write strings to file in append mode\n",
    "\n",
    "Let us see how can write multiple strings from a list to file in append mode.\n",
    "\n",
    "   * We cannot write the list of strings into file properly all at once."
   ]
  },
  {
   "cell_type": "code",
   "execution_count": 1,
   "id": "6cccd931",
   "metadata": {},
   "outputs": [],
   "source": [
    "departments = [\n",
    "    '2,Fitness',\n",
    "    '3,Footwear',\n",
    "    '4,Apparel',\n",
    "    '5,Golf',\n",
    "    '6,Outdoors',\n",
    "    '7,Fan Shop'\n",
    "]"
   ]
  },
  {
   "cell_type": "code",
   "execution_count": null,
   "id": "9ae5d8ef",
   "metadata": {},
   "outputs": [],
   "source": [
    "file = open('data/departments.txt', 'w')"
   ]
  },
  {
   "cell_type": "code",
   "execution_count": null,
   "id": "55f47f30",
   "metadata": {},
   "outputs": [],
   "source": [
    "# Fails\n",
    "file.write(departments)"
   ]
  },
  {
   "cell_type": "code",
   "execution_count": null,
   "id": "f20b5357",
   "metadata": {},
   "outputs": [],
   "source": [
    "file.close()"
   ]
  },
  {
   "cell_type": "markdown",
   "id": "43f0459d",
   "metadata": {},
   "source": [
    "Here are steps involved in writing list of strings in the form of CSV to a file.\n",
    "\n",
    "   * Make sure that data in the list contains delimited strings.\n",
    "   * Open the file in append mode.\n",
    "   * Iterate through the list and write one element at a time into the file.\n",
    "   * Close the file.\n",
    "\n",
    "Make sure to validate whether data is written properly or not in the file."
   ]
  },
  {
   "cell_type": "code",
   "execution_count": 2,
   "id": "ed34c750",
   "metadata": {},
   "outputs": [],
   "source": [
    "departments = [\n",
    "    '2,Fitness',\n",
    "    '3,Footwear',\n",
    "    '4,Apparel',\n",
    "    '5,Golf',\n",
    "    '6,Outdoors',\n",
    "    '7,Fan Shop'\n",
    "]"
   ]
  },
  {
   "cell_type": "code",
   "execution_count": null,
   "id": "894f1409",
   "metadata": {},
   "outputs": [],
   "source": [
    "file = open('data/departments.txt', 'a')"
   ]
  },
  {
   "cell_type": "code",
   "execution_count": null,
   "id": "bdfb75c7",
   "metadata": {},
   "outputs": [],
   "source": [
    "for department in departments:\n",
    "    file.write(department)"
   ]
  },
  {
   "cell_type": "code",
   "execution_count": null,
   "id": "c1294f66",
   "metadata": {},
   "outputs": [],
   "source": [
    "file.close()"
   ]
  },
  {
   "cell_type": "code",
   "execution_count": null,
   "id": "f7720a1d",
   "metadata": {},
   "outputs": [],
   "source": [
    "!ls -ltr data/departments.txt"
   ]
  },
  {
   "cell_type": "code",
   "execution_count": null,
   "id": "f9d4ec4b",
   "metadata": {},
   "outputs": [],
   "source": [
    "# No new line characters\n",
    "!cat data/departments.txt"
   ]
  },
  {
   "cell_type": "code",
   "execution_count": null,
   "id": "322af75a",
   "metadata": {},
   "outputs": [],
   "source": [
    "!rm data/departments.txt"
   ]
  },
  {
   "cell_type": "code",
   "execution_count": null,
   "id": "58eeb1e4",
   "metadata": {},
   "outputs": [],
   "source": [
    "departments = [\n",
    "    '2,Fitness',\n",
    "    '3,Footwear',\n",
    "    '4,Apparel',\n",
    "    '5,Golf',\n",
    "    '6,Outdoors',\n",
    "    '7,Fan Shop'\n",
    "]"
   ]
  },
  {
   "cell_type": "code",
   "execution_count": null,
   "id": "aef836cb",
   "metadata": {},
   "outputs": [],
   "source": [
    "file = open('data/departments.txt', 'a')"
   ]
  },
  {
   "cell_type": "code",
   "execution_count": null,
   "id": "bba1f9cc",
   "metadata": {},
   "outputs": [],
   "source": [
    "for department in departments:\n",
    "    file.write(f'{department}\\n')"
   ]
  },
  {
   "cell_type": "code",
   "execution_count": null,
   "id": "7e4a7b6a",
   "metadata": {},
   "outputs": [],
   "source": [
    "file.close()"
   ]
  },
  {
   "cell_type": "code",
   "execution_count": null,
   "id": "039ef104",
   "metadata": {},
   "outputs": [],
   "source": [
    "!ls -ltr data/departments.txt"
   ]
  },
  {
   "cell_type": "code",
   "execution_count": null,
   "id": "01f963dc",
   "metadata": {},
   "outputs": [],
   "source": [
    "# With new line characters\n",
    "!cat data/departments.txt"
   ]
  },
  {
   "cell_type": "code",
   "execution_count": null,
   "id": "88d00c72",
   "metadata": {},
   "outputs": [],
   "source": [
    "!wc -l data/departments.txt"
   ]
  },
  {
   "cell_type": "markdown",
   "id": "a8f74897",
   "metadata": {},
   "source": [
    "* You can also build one big string and write into the file in one short. However you need to ensure that the line delimiter is placed between the elements."
   ]
  },
  {
   "cell_type": "code",
   "execution_count": null,
   "id": "1c17c05e",
   "metadata": {},
   "outputs": [],
   "source": [
    "!rm data/departments.txt"
   ]
  },
  {
   "cell_type": "code",
   "execution_count": 3,
   "id": "4a388e46",
   "metadata": {},
   "outputs": [],
   "source": [
    "departments = [\n",
    "    '2,Fitness',\n",
    "    '3,Footwear',\n",
    "    '4,Apparel',\n",
    "    '5,Golf',\n",
    "    '6,Outdoors',\n",
    "    '7,Fan Shop'\n",
    "]"
   ]
  },
  {
   "cell_type": "code",
   "execution_count": null,
   "id": "568cf80e",
   "metadata": {},
   "outputs": [],
   "source": [
    "data = '\\n'.join(departments)"
   ]
  },
  {
   "cell_type": "code",
   "execution_count": null,
   "id": "7bcc8569",
   "metadata": {},
   "outputs": [],
   "source": [
    "type(departments)"
   ]
  },
  {
   "cell_type": "code",
   "execution_count": null,
   "id": "0b5239bc",
   "metadata": {},
   "outputs": [],
   "source": [
    "data"
   ]
  },
  {
   "cell_type": "code",
   "execution_count": null,
   "id": "63f1f4ea",
   "metadata": {},
   "outputs": [],
   "source": [
    "file = open('data/departments.txt', 'a')"
   ]
  },
  {
   "cell_type": "code",
   "execution_count": null,
   "id": "aa6b5260",
   "metadata": {},
   "outputs": [],
   "source": [
    "file.write(data)"
   ]
  },
  {
   "cell_type": "code",
   "execution_count": null,
   "id": "1068ba08",
   "metadata": {},
   "outputs": [],
   "source": [
    "file.close()"
   ]
  },
  {
   "cell_type": "code",
   "execution_count": null,
   "id": "5bb03fef",
   "metadata": {},
   "outputs": [],
   "source": [
    "!ls -ltr data/departments.txt"
   ]
  },
  {
   "cell_type": "code",
   "execution_count": null,
   "id": "f59393a8",
   "metadata": {},
   "outputs": [],
   "source": [
    "# With new line characters\n",
    "!cat data/departments.txt"
   ]
  },
  {
   "cell_type": "code",
   "execution_count": null,
   "id": "8afe6e58",
   "metadata": {},
   "outputs": [],
   "source": [
    "!wc -l data/departments.txt"
   ]
  }
 ],
 "metadata": {
  "kernelspec": {
   "display_name": "Python 3 (ipykernel)",
   "language": "python",
   "name": "python3"
  },
  "language_info": {
   "codemirror_mode": {
    "name": "ipython",
    "version": 3
   },
   "file_extension": ".py",
   "mimetype": "text/x-python",
   "name": "python",
   "nbconvert_exporter": "python",
   "pygments_lexer": "ipython3",
   "version": "3.9.7"
  }
 },
 "nbformat": 4,
 "nbformat_minor": 5
}
