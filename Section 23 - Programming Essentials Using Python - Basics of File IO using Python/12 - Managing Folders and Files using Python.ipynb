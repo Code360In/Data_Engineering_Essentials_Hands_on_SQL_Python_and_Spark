{
 "cells": [
  {
   "cell_type": "markdown",
   "id": "f692c24e",
   "metadata": {},
   "source": [
    "## Managing Folders and Files using Python\n",
    "\n",
    "Let us quickly recap details about folders and files, especially using Linux. You need to be comfortable with the following.\n",
    "\n",
    "   * Differentiating Files and Folders. Keep in mind that Folders and Directories means the samething.\n",
    "   * Understanding Absolute or Fully Qualified Path.\n",
    "   * Understanding Relative Path.\n",
    "   * Understanding File or Folder permissions.\n",
    "   \n",
    "We will first see how we can leverage subprocess to run Linux commands to manage files and then we will go through the above topics.\n",
    "\n",
    "We will be running the following commands using Python `subprocess` module. That way, you will also pick up the relevance of `subprocess` as well."
   ]
  },
  {
   "cell_type": "code",
   "execution_count": null,
   "id": "b38b2b96",
   "metadata": {},
   "outputs": [],
   "source": [
    "# Listing files and folders under /data/retail_db.\n",
    "ls -ltr /data/retail_db\n",
    "\n",
    "# Listing files in the present working directory.\n",
    "ls -ltr\n",
    "\n",
    "# Listing files in the name directory. ~ representes home directory.\n",
    "# You can find the ~ key on the left side of 1 in most of the keyboards.\n",
    "ls -ltr ~"
   ]
  },
  {
   "cell_type": "code",
   "execution_count": null,
   "id": "083bf28c",
   "metadata": {},
   "outputs": [],
   "source": [
    "import sunbprocess"
   ]
  },
  {
   "cell_type": "code",
   "execution_count": null,
   "id": "4e3ba6c9",
   "metadata": {},
   "outputs": [],
   "source": [
    "# Output is not reader friendly.\n",
    "# Output is of type bytes.\n",
    "subprocess.check_output('ls -ltr /data/retail_db', shell=True)"
   ]
  },
  {
   "cell_type": "code",
   "execution_count": null,
   "id": "26a6392f",
   "metadata": {},
   "outputs": [],
   "source": [
    "# We can decode to string and apply string functions.\n",
    "# Now the output is of type string\n",
    "subprocess.check_output('ls -ltr /data/retail_db', shell=True).decode('utf-8')"
   ]
  },
  {
   "cell_type": "code",
   "execution_count": null,
   "id": "af29fccf",
   "metadata": {},
   "outputs": [],
   "source": [
    "# We can use splitlines to convert this big string into list of strings.\n",
    "# Splitlines will use new line character as the delimiter.\n",
    "subprocess.check_output('ls -ltr /data/retail_db', shell=True).decode('utf-8').splitlines()"
   ]
  },
  {
   "cell_type": "code",
   "execution_count": null,
   "id": "d4b3b09c",
   "metadata": {},
   "outputs": [],
   "source": [
    "# We can iterate through the list and print one item at a time.\n",
    "# Now the output will be reader friendly\n",
    "output = subprocess.check_output('ls -ltr /data/retail_db', shell=True).decode('utf-8').splitlines()\n",
    "for line in output:\n",
    "    print(line)"
   ]
  },
  {
   "cell_type": "code",
   "execution_count": null,
   "id": "93f2bfe5",
   "metadata": {},
   "outputs": [],
   "source": [
    "subprocess.check_output('ls -ltr', shell=True).decode('utf-8').splitlines()"
   ]
  },
  {
   "cell_type": "code",
   "execution_count": null,
   "id": "5defe4ad",
   "metadata": {},
   "outputs": [],
   "source": [
    "!pwd"
   ]
  },
  {
   "cell_type": "code",
   "execution_count": null,
   "id": "4f3aaf50",
   "metadata": {},
   "outputs": [],
   "source": [
    "subprocess.check_output('ls -l', shell=True).decode('utf-8').splitlines()"
   ]
  },
  {
   "cell_type": "code",
   "execution_count": null,
   "id": "58b29930",
   "metadata": {},
   "outputs": [],
   "source": [
    "subprocess.check_output('ls -ltr /home/itversity', shell=True).decode('utf-8').splitlines()"
   ]
  },
  {
   "cell_type": "code",
   "execution_count": null,
   "id": "bf502368",
   "metadata": {},
   "outputs": [],
   "source": [
    "subprocess.check_output('ls -ltr ~', shell=True).decode('utf-8').splitlines()"
   ]
  },
  {
   "cell_type": "code",
   "execution_count": null,
   "id": "2f5b785e",
   "metadata": {},
   "outputs": [],
   "source": [
    "subprocess.check_output('ls -ltr data', shell=True).decode('utf-8').splitlines()"
   ]
  }
 ],
 "metadata": {
  "kernelspec": {
   "display_name": "Python 3 (ipykernel)",
   "language": "python",
   "name": "python3"
  },
  "language_info": {
   "codemirror_mode": {
    "name": "ipython",
    "version": 3
   },
   "file_extension": ".py",
   "mimetype": "text/x-python",
   "name": "python",
   "nbconvert_exporter": "python",
   "pygments_lexer": "ipython3",
   "version": "3.9.7"
  }
 },
 "nbformat": 4,
 "nbformat_minor": 5
}
