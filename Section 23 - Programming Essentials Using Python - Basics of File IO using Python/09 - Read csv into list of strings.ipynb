{
 "cells": [
  {
   "cell_type": "markdown",
   "id": "faeb0515",
   "metadata": {},
   "source": [
    "## Read csv into list of strings\n",
    "\n",
    "Let us read csv data into list of strings. First let us go through the steps involved in reading csv data into list of strings.\n",
    "\n",
    "* Create file object using `open` in read mode.\n",
    "* Invoke `read` function to read the contents in the file into memory.\n",
    "* `csv` files typically contains multiple lines where each line have multiple attribute values. Values related to fifferent attributes in each line are typically delimited or separated.\n",
    "* Lines (also know as records) are typically delimited or separated by new line character. We can use `splitlines` on the output of `read` function to create list of strings.\n",
    "\n",
    "Even though CSV stands for comma separated values, we often find the data separated by other separators or delimiters than comma. Tab character (\\t), Pipe Character (|) are also commonly used. They are also known as tsv and psv sometimes."
   ]
  },
  {
   "cell_type": "code",
   "execution_count": null,
   "id": "b1ce5998",
   "metadata": {},
   "outputs": [],
   "source": [
    "!ls -ltr /data/retail_db/categories/"
   ]
  },
  {
   "cell_type": "code",
   "execution_count": null,
   "id": "15d5c457",
   "metadata": {},
   "outputs": [],
   "source": [
    "# Viewing file contents using Linux commands\n",
    "!cat /data/retail_db/categories/part-00000"
   ]
  },
  {
   "cell_type": "code",
   "execution_count": null,
   "id": "c2f61905",
   "metadata": {},
   "outputs": [],
   "source": [
    "# Create file object\n",
    "file = open('/data/retail_db/categories/part-00000')"
   ]
  },
  {
   "cell_type": "code",
   "execution_count": null,
   "id": "820088c1",
   "metadata": {},
   "outputs": [],
   "source": [
    "# read file contents into the memory\n",
    "data = file.read()"
   ]
  },
  {
   "cell_type": "code",
   "execution_count": null,
   "id": "d7cc0f18",
   "metadata": {},
   "outputs": [],
   "source": [
    "type(data)"
   ]
  },
  {
   "cell_type": "code",
   "execution_count": null,
   "id": "cd6ca272",
   "metadata": {},
   "outputs": [],
   "source": [
    "# One big string. You can find new line characters in between\n",
    "data"
   ]
  },
  {
   "cell_type": "code",
   "execution_count": null,
   "id": "a7bd9e14",
   "metadata": {},
   "outputs": [],
   "source": [
    "# Create list of strings (each line in the file will be element in a string)\n",
    "categories = data.split('\\n')"
   ]
  },
  {
   "cell_type": "code",
   "execution_count": null,
   "id": "44e0caa6",
   "metadata": {},
   "outputs": [],
   "source": [
    "type(categories)"
   ]
  },
  {
   "cell_type": "code",
   "execution_count": null,
   "id": "67fe8af7",
   "metadata": {},
   "outputs": [],
   "source": [
    "# Data in the file /data/retail_db/categories/part-00000 is now in a list\n",
    "# Each element in the list is a line in the file\n",
    "categories"
   ]
  },
  {
   "cell_type": "code",
   "execution_count": null,
   "id": "44e6ca15",
   "metadata": {},
   "outputs": [],
   "source": [
    "!wc -l /data/retail_db/categories/part-00000"
   ]
  },
  {
   "cell_type": "code",
   "execution_count": null,
   "id": "005d1445",
   "metadata": {},
   "outputs": [],
   "source": [
    "len(categories)"
   ]
  },
  {
   "cell_type": "code",
   "execution_count": null,
   "id": "bfed68f4",
   "metadata": {},
   "outputs": [],
   "source": [
    "# Same thing can be achieved using splitlines\n",
    "categories = data.splitlines()"
   ]
  },
  {
   "cell_type": "code",
   "execution_count": null,
   "id": "1192e2d9",
   "metadata": {},
   "outputs": [],
   "source": [
    "categories"
   ]
  },
  {
   "cell_type": "code",
   "execution_count": null,
   "id": "31f88820",
   "metadata": {},
   "outputs": [],
   "source": [
    "!wc -l /data/retail_db/categories/part-00000"
   ]
  },
  {
   "cell_type": "code",
   "execution_count": null,
   "id": "a2ebd5a6",
   "metadata": {},
   "outputs": [],
   "source": [
    "len(categories)"
   ]
  }
 ],
 "metadata": {
  "kernelspec": {
   "display_name": "Python 3 (ipykernel)",
   "language": "python",
   "name": "python3"
  },
  "language_info": {
   "codemirror_mode": {
    "name": "ipython",
    "version": 3
   },
   "file_extension": ".py",
   "mimetype": "text/x-python",
   "name": "python",
   "nbconvert_exporter": "python",
   "pygments_lexer": "ipython3",
   "version": "3.9.7"
  }
 },
 "nbformat": 4,
 "nbformat_minor": 5
}
