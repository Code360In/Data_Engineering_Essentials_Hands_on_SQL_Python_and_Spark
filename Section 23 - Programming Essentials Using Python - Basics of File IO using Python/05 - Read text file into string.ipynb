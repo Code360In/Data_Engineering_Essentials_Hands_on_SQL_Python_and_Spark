{
 "cells": [
  {
   "cell_type": "markdown",
   "id": "44c48aad",
   "metadata": {},
   "source": [
    "## Read text file into string\n",
    "\n",
    "Let mus read text file into the string. We will use one of the from the files related to retail_db data set.\n",
    "   * We will use `orders` data set to see how to read text file into string using basic Python I/O libraries.\n",
    "   * Location `/data/retail_db/orders`.\n",
    "\n",
    "Here are the steps involved to read the file into string.\n",
    "   * Check the type of the file.\n",
    "   * Use `open` to create a file type object. It is nothing but a pointer to read the data from the file.\n",
    "   * Invoke `read` to read the contents of the file into a string. At this time the contents of the file will be loaded as Python object of type `str` into the memory."
   ]
  },
  {
   "cell_type": "code",
   "execution_count": null,
   "id": "1f6726df",
   "metadata": {},
   "outputs": [],
   "source": [
    "!ls -ltr /data/retail_db/orders"
   ]
  },
  {
   "cell_type": "code",
   "execution_count": null,
   "id": "d34619f3",
   "metadata": {},
   "outputs": [],
   "source": [
    "! file /data/retail_db/orders/part-00000"
   ]
  },
  {
   "cell_type": "markdown",
   "id": "a8fe27eb",
   "metadata": {},
   "source": [
    "* You can get help on open function using `help(open)`. You should review the below part from the help to see different modes supported. The default is `rt`. It will open the file for reading using text mode.\n",
    "\n",
    "\n",
    "* ========= ===================================================================================\n",
    "* Character Meaning\n",
    "* ========= ===================================================================================\n",
    "* `r`       open for reading (default)\n",
    "*`w`        open for writing, truncating the file first\n",
    "*`x`        create a new file and open it for writing\n",
    "*`a`        open for writing, appending to the end of the file if it exists\n",
    "*`b`        binary mode\n",
    "*`t`        text mode (default)\n",
    "*`+`        open a disk file for updating (reading and writing)\n",
    "*`U`        universal newline mode (deprecated)\n",
    "*======= ======================================================================================="
   ]
  },
  {
   "cell_type": "code",
   "execution_count": null,
   "id": "63cfdaac",
   "metadata": {},
   "outputs": [],
   "source": [
    "help(open)"
   ]
  },
  {
   "cell_type": "code",
   "execution_count": null,
   "id": "1bb3fabd",
   "metadata": {},
   "outputs": [],
   "source": [
    "!ls -ltr /data/retail_db/orders/part-00000"
   ]
  },
  {
   "cell_type": "code",
   "execution_count": null,
   "id": "04a88b4c",
   "metadata": {},
   "outputs": [],
   "source": [
    "# Creating file type object\n",
    "file = open('/data/retail_db/orders/part-00000')"
   ]
  },
  {
   "cell_type": "code",
   "execution_count": null,
   "id": "11289717",
   "metadata": {},
   "outputs": [],
   "source": [
    "# Checking type of the object created\n",
    "type(file)"
   ]
  },
  {
   "cell_type": "markdown",
   "id": "8608c434",
   "metadata": {},
   "source": [
    "file.read?"
   ]
  },
  {
   "cell_type": "code",
   "execution_count": null,
   "id": "8c2f3a07",
   "metadata": {},
   "outputs": [],
   "source": [
    "# Reading the contents of the file\n",
    "data = file.read()"
   ]
  },
  {
   "cell_type": "code",
   "execution_count": null,
   "id": "c44c1173",
   "metadata": {},
   "outputs": [],
   "source": [
    "type(data)"
   ]
  }
 ],
 "metadata": {
  "kernelspec": {
   "display_name": "Python 3 (ipykernel)",
   "language": "python",
   "name": "python3"
  },
  "language_info": {
   "codemirror_mode": {
    "name": "ipython",
    "version": 3
   },
   "file_extension": ".py",
   "mimetype": "text/x-python",
   "name": "python",
   "nbconvert_exporter": "python",
   "pygments_lexer": "ipython3",
   "version": "3.9.7"
  }
 },
 "nbformat": 4,
 "nbformat_minor": 5
}
