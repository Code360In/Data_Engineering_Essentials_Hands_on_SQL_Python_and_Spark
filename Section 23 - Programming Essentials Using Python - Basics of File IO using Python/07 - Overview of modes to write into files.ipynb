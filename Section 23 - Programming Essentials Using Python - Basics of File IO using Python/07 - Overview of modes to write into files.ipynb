{
 "cells": [
  {
   "cell_type": "markdown",
   "id": "a5dbf23d",
   "metadata": {},
   "source": [
    "## Overview of modes to write into files\n",
    "\n",
    "Let us go through the details related to the modes that are used to write data into files. Already we have seen `r` which is default as well as `w`. They are meant for read and write respectively.\n",
    "\n",
    "```\n",
    "========= ===================================================================================\n",
    "Character Meaning\n",
    "======== ===================================================================================\n",
    "`r`      open for reading (default)\n",
    "`w`      open for writing, truncating the file first\n",
    "`x`      create a new file and open it for writing\n",
    "`a`      open for writing, appending to the end of the file if it exists\n",
    "`b`      binary mode\n",
    "`t`      text mode (default)\n",
    "`+`      open a disk file for updating (reading and writing)\n",
    "`U`      universal newline mode (deprecated)\n",
    "======== ======================================================================================\n",
    "```\n",
    "\n",
    "* `r` is used for read and `w`, `a`, `x` are used for write.\n",
    "* We can read or write either in binary or text mode. Unless specified operations are performed in text mode.\n",
    "* We need to combine `b` with read or write operations to perform read or write in binary mode.\n"
   ]
  },
  {
   "cell_type": "markdown",
   "id": "2b030b3d",
   "metadata": {},
   "source": [
    "## Overwriting the existing file using w\n",
    "\n",
    "If the file does not exists, it will create otherwise it will overwrite."
   ]
  },
  {
   "cell_type": "code",
   "execution_count": null,
   "id": "8409024c",
   "metadata": {},
   "outputs": [],
   "source": [
    "!rm data/overwrite.txt"
   ]
  },
  {
   "cell_type": "code",
   "execution_count": null,
   "id": "b5390a9f",
   "metadata": {},
   "outputs": [],
   "source": [
    "file = open('data/overwrite.txt', 'w')"
   ]
  },
  {
   "cell_type": "code",
   "execution_count": null,
   "id": "9d302864",
   "metadata": {},
   "outputs": [],
   "source": [
    "data = 'Writing in file - attemp 1'"
   ]
  },
  {
   "cell_type": "code",
   "execution_count": null,
   "id": "7a8c17bd",
   "metadata": {},
   "outputs": [],
   "source": [
    "len(data)"
   ]
  },
  {
   "cell_type": "code",
   "execution_count": null,
   "id": "2b8e1e7c",
   "metadata": {},
   "outputs": [],
   "source": [
    "file.write(data)"
   ]
  },
  {
   "cell_type": "code",
   "execution_count": null,
   "id": "fb9c86d7",
   "metadata": {},
   "outputs": [],
   "source": [
    "file.close()"
   ]
  },
  {
   "cell_type": "code",
   "execution_count": null,
   "id": "09e9488a",
   "metadata": {},
   "outputs": [],
   "source": [
    "!cat data/overwrite.txt"
   ]
  },
  {
   "cell_type": "code",
   "execution_count": null,
   "id": "97d46da3",
   "metadata": {},
   "outputs": [],
   "source": [
    "file = open('data/overwrite.txt', 'w')"
   ]
  },
  {
   "cell_type": "code",
   "execution_count": null,
   "id": "fe80e052",
   "metadata": {},
   "outputs": [],
   "source": [
    "data = 'Writing in file - attemp 2'"
   ]
  },
  {
   "cell_type": "code",
   "execution_count": null,
   "id": "9caa9df7",
   "metadata": {},
   "outputs": [],
   "source": [
    "file.write(data)"
   ]
  },
  {
   "cell_type": "code",
   "execution_count": null,
   "id": "c2997cc4",
   "metadata": {},
   "outputs": [],
   "source": [
    "file.close()"
   ]
  },
  {
   "cell_type": "code",
   "execution_count": null,
   "id": "7f84f334",
   "metadata": {},
   "outputs": [],
   "source": [
    "# Data is overwritten\n",
    "!cat data/overwrite.txt"
   ]
  },
  {
   "cell_type": "markdown",
   "id": "0cc6c26e",
   "metadata": {},
   "source": [
    "## Appending into existing file using a\n",
    "\n",
    "If the file does not exists, it will create otherwise it will append."
   ]
  },
  {
   "cell_type": "code",
   "execution_count": null,
   "id": "5a41ca15",
   "metadata": {},
   "outputs": [],
   "source": [
    "!rm data/append.txt"
   ]
  },
  {
   "cell_type": "code",
   "execution_count": null,
   "id": "57eadc4f",
   "metadata": {},
   "outputs": [],
   "source": [
    "file = open('data/append.txt', 'a')"
   ]
  },
  {
   "cell_type": "code",
   "execution_count": null,
   "id": "3a6dbfa6",
   "metadata": {},
   "outputs": [],
   "source": [
    "data = 'Writing in file - attemp 1'"
   ]
  },
  {
   "cell_type": "code",
   "execution_count": null,
   "id": "f12c341e",
   "metadata": {},
   "outputs": [],
   "source": [
    "file.write(data)"
   ]
  },
  {
   "cell_type": "code",
   "execution_count": null,
   "id": "7bd15571",
   "metadata": {},
   "outputs": [],
   "source": [
    "file.close()"
   ]
  },
  {
   "cell_type": "code",
   "execution_count": null,
   "id": "1bef2eeb",
   "metadata": {},
   "outputs": [],
   "source": [
    "!cat data/append.txt"
   ]
  },
  {
   "cell_type": "code",
   "execution_count": null,
   "id": "e829b51e",
   "metadata": {},
   "outputs": [],
   "source": [
    "file = open('data/append.txt', 'w')"
   ]
  },
  {
   "cell_type": "code",
   "execution_count": null,
   "id": "6b11cdf2",
   "metadata": {},
   "outputs": [],
   "source": [
    "data = 'Writing in file - attemp 2'"
   ]
  },
  {
   "cell_type": "code",
   "execution_count": null,
   "id": "b4077f1f",
   "metadata": {},
   "outputs": [],
   "source": [
    "# Data is appended\n",
    "!cat data/append.txt"
   ]
  },
  {
   "cell_type": "markdown",
   "id": "6779d070",
   "metadata": {},
   "source": [
    "## Write into file using x\n",
    "\n",
    "If the file already exists, it will fail."
   ]
  },
  {
   "cell_type": "code",
   "execution_count": null,
   "id": "715900aa",
   "metadata": {},
   "outputs": [],
   "source": [
    "!rm data/new_file.txt"
   ]
  },
  {
   "cell_type": "code",
   "execution_count": null,
   "id": "54898c50",
   "metadata": {},
   "outputs": [],
   "source": [
    "file = open('data/new_file.txt', 'x')"
   ]
  },
  {
   "cell_type": "code",
   "execution_count": null,
   "id": "6bc822cc",
   "metadata": {},
   "outputs": [],
   "source": [
    "data = 'Writing in file - attemp 1'"
   ]
  },
  {
   "cell_type": "code",
   "execution_count": null,
   "id": "1ed4677c",
   "metadata": {},
   "outputs": [],
   "source": [
    "file.write(data)"
   ]
  },
  {
   "cell_type": "code",
   "execution_count": null,
   "id": "9775910e",
   "metadata": {},
   "outputs": [],
   "source": [
    "file.close()"
   ]
  },
  {
   "cell_type": "code",
   "execution_count": null,
   "id": "2256aaf1",
   "metadata": {},
   "outputs": [],
   "source": [
    "!cat data/new_file.txt"
   ]
  },
  {
   "cell_type": "code",
   "execution_count": null,
   "id": "927e559b",
   "metadata": {},
   "outputs": [],
   "source": [
    "# Fails, as the file already exists\n",
    "file = open('data/new_file.txt', 'x')"
   ]
  }
 ],
 "metadata": {
  "kernelspec": {
   "display_name": "Python 3 (ipykernel)",
   "language": "python",
   "name": "python3"
  },
  "language_info": {
   "codemirror_mode": {
    "name": "ipython",
    "version": 3
   },
   "file_extension": ".py",
   "mimetype": "text/x-python",
   "name": "python",
   "nbconvert_exporter": "python",
   "pygments_lexer": "ipython3",
   "version": "3.9.7"
  }
 },
 "nbformat": 4,
 "nbformat_minor": 5
}
