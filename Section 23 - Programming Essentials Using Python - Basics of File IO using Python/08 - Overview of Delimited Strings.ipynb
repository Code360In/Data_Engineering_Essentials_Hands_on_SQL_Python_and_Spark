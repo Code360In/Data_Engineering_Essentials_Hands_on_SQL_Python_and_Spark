{
 "cells": [
  {
   "cell_type": "markdown",
   "id": "4d3143b0",
   "metadata": {},
   "source": [
    "## Overview of Delimited Strings\n",
    "\n",
    "Let us get an overview of delimited strings. As part of this topic we will primarily deal with Python objects (not the data in the files).\n",
    "\n",
    "* At times, we read the text files and the text files might contain delimited lines.\n",
    "* Also, we might want to read the data from a database or a REST API into the text files. Each line might be delimited records.\n",
    "* In both the scenarios, we deal with strings. The strings typically contain multiple attribute values separated by a delimiter or separator.\n",
    "* Comma separated or delimited string - `1,2013-07-25 00:00:00.0,1159,CLOSED`\n",
    "* Pipe `|` separated or delimited string - `1|2013-07-25 00:00:00.0|1159|CLOSED`\n",
    "* Tab separated or delimiter string - `1\\2013-07-25 00:00:00.0\\1159\\CLOSED`\n",
    "* Tab is special character. When we open the file, we will not see `\\t`, intead we see some spaces. We will see an example at a later point in time. But we use `\\t` to create tab delimited strings."
   ]
  },
  {
   "cell_type": "code",
   "execution_count": 1,
   "id": "8fdfdc91",
   "metadata": {},
   "outputs": [],
   "source": [
    "comma_separated = '1,2013-07-25 00:00:00.0,1159,CLOSED'"
   ]
  },
  {
   "cell_type": "code",
   "execution_count": 2,
   "id": "7ffc060f",
   "metadata": {},
   "outputs": [
    {
     "name": "stdout",
     "output_type": "stream",
     "text": [
      "1,2013-07-25 00:00:00.0,1159,CLOSED\n"
     ]
    }
   ],
   "source": [
    "print(comma_separated)"
   ]
  },
  {
   "cell_type": "code",
   "execution_count": 3,
   "id": "e41a8e93",
   "metadata": {},
   "outputs": [
    {
     "data": {
      "text/plain": [
       "str"
      ]
     },
     "execution_count": 3,
     "metadata": {},
     "output_type": "execute_result"
    }
   ],
   "source": [
    "type(comma_separated)"
   ]
  },
  {
   "cell_type": "code",
   "execution_count": 4,
   "id": "e70e665d",
   "metadata": {},
   "outputs": [],
   "source": [
    "pipe_separated = '1|2013-07-25 00:00:00.0|1159|CLOSED'"
   ]
  },
  {
   "cell_type": "code",
   "execution_count": 5,
   "id": "26333d06",
   "metadata": {},
   "outputs": [
    {
     "name": "stdout",
     "output_type": "stream",
     "text": [
      "1|2013-07-25 00:00:00.0|1159|CLOSED\n"
     ]
    }
   ],
   "source": [
    "print(pipe_separated)"
   ]
  },
  {
   "cell_type": "code",
   "execution_count": 6,
   "id": "05dc0741",
   "metadata": {},
   "outputs": [
    {
     "data": {
      "text/plain": [
       "str"
      ]
     },
     "execution_count": 6,
     "metadata": {},
     "output_type": "execute_result"
    }
   ],
   "source": [
    "type(pipe_separated)"
   ]
  },
  {
   "cell_type": "code",
   "execution_count": 7,
   "id": "0485c35b",
   "metadata": {},
   "outputs": [],
   "source": [
    "tab_separated = '1\\2013-07-25 00:00:00.0\\1159\\CLOSED'"
   ]
  },
  {
   "cell_type": "code",
   "execution_count": 8,
   "id": "d6e10078",
   "metadata": {},
   "outputs": [
    {
     "name": "stdout",
     "output_type": "stream",
     "text": [
      "13-07-25 00:00:00.0M9\\CLOSED\n"
     ]
    }
   ],
   "source": [
    "print(tab_separated)"
   ]
  },
  {
   "cell_type": "code",
   "execution_count": 9,
   "id": "c1f0eabb",
   "metadata": {},
   "outputs": [
    {
     "data": {
      "text/plain": [
       "str"
      ]
     },
     "execution_count": 9,
     "metadata": {},
     "output_type": "execute_result"
    }
   ],
   "source": [
    "type(tab_separated)"
   ]
  }
 ],
 "metadata": {
  "kernelspec": {
   "display_name": "Python 3 (ipykernel)",
   "language": "python",
   "name": "python3"
  },
  "language_info": {
   "codemirror_mode": {
    "name": "ipython",
    "version": 3
   },
   "file_extension": ".py",
   "mimetype": "text/x-python",
   "name": "python",
   "nbconvert_exporter": "python",
   "pygments_lexer": "ipython3",
   "version": "3.9.7"
  }
 },
 "nbformat": 4,
 "nbformat_minor": 5
}
