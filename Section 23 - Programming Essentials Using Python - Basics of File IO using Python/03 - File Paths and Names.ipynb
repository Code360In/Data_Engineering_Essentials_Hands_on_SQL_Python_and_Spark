{
 "cells": [
  {
   "cell_type": "markdown",
   "id": "89bcf2ef",
   "metadata": {},
   "source": [
    "## File Paths and Names\n",
    "\n",
    "Lets us quickly review about file paths and names. Typically, we will have folder and file name associated while processing a file.\n",
    "\n",
    "* A file might be part of a directory structure with multiple levels.\n",
    "* All the directories in the path are typically separated by `/`.\n",
    "* The last part of path is pypically the name of a file or the name of a folder which contain multiple files.\n",
    "* For first class Python functions, we typically pass a file and hence last part will be the name of the file. We pass these names as strings."
   ]
  },
  {
   "cell_type": "code",
   "execution_count": null,
   "id": "8562e580",
   "metadata": {},
   "outputs": [],
   "source": [
    "# Folder which contain multiple folders and files\n",
    "!ls -ltr /data/retail_db"
   ]
  },
  {
   "cell_type": "code",
   "execution_count": null,
   "id": "447ee406",
   "metadata": {},
   "outputs": [],
   "source": [
    "# The folder contains files related to orders data set\n",
    "# As of now we have only one file\n",
    "!ls -ltr /data/retail_db/orders"
   ]
  },
  {
   "cell_type": "code",
   "execution_count": null,
   "id": "9ab9ded4",
   "metadata": {},
   "outputs": [],
   "source": [
    "# You can see that the directories in the hierarchy are separared by /\n",
    "# The last part is a file\n",
    "!ls -ltr /data/retail_db/orders/part-00000"
   ]
  },
  {
   "cell_type": "code",
   "execution_count": null,
   "id": "5485f0d4",
   "metadata": {},
   "outputs": [],
   "source": [
    "# You can use head command to confirm it is a text file\n",
    "!head -5 /data/retail_db/orders/part-00000"
   ]
  },
  {
   "cell_type": "markdown",
   "id": "f8ae3440",
   "metadata": {},
   "source": [
    "We can pass `/data/retail_db/orders/part-00000` as string to first class Python functions to perform File I/O."
   ]
  }
 ],
 "metadata": {
  "kernelspec": {
   "display_name": "Python 3 (ipykernel)",
   "language": "python",
   "name": "python3"
  },
  "language_info": {
   "codemirror_mode": {
    "name": "ipython",
    "version": 3
   },
   "file_extension": ".py",
   "mimetype": "text/x-python",
   "name": "python",
   "nbconvert_exporter": "python",
   "pygments_lexer": "ipython3",
   "version": "3.9.7"
  }
 },
 "nbformat": 4,
 "nbformat_minor": 5
}
