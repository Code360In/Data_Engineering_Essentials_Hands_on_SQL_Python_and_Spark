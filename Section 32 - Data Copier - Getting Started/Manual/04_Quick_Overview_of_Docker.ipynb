{
 "cells": [
  {
   "cell_type": "markdown",
   "id": "863a239d",
   "metadata": {},
   "source": [
    "## Quick Overview of Docker\n",
    "\n",
    "Docker is one of the key technology to learn. Let us quickly review some of the key concepts related to Docker.\n",
    "\n",
    "   * Overview of Docker Images.\n",
    "   * Managing Docker Images.\n",
    "   * Overview of Docker Containers.\n",
    "   * Starting Containers using Images.\n",
    "   * Managing Docker Containers.\n",
    "   * Usage and Characteristics of Docker Containers.\n",
    "      * Images are reusable.\n",
    "      * Containers are ephemeral (stateless).\n",
    "      * Production Databases should not be running on Docker Containers.\n",
    "      * Production Applications are typically deployed using Docker Containers."
   ]
  }
 ],
 "metadata": {
  "kernelspec": {
   "display_name": "Python 3 (ipykernel)",
   "language": "python",
   "name": "python3"
  },
  "language_info": {
   "codemirror_mode": {
    "name": "ipython",
    "version": 3
   },
   "file_extension": ".py",
   "mimetype": "text/x-python",
   "name": "python",
   "nbconvert_exporter": "python",
   "pygments_lexer": "ipython3",
   "version": "3.9.7"
  }
 },
 "nbformat": 4,
 "nbformat_minor": 5
}
