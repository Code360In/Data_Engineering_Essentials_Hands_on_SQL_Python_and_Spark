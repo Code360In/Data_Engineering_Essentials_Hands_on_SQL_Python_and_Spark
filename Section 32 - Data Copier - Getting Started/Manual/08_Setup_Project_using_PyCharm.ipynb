{
 "cells": [
  {
   "cell_type": "markdown",
   "id": "791a44ca",
   "metadata": {},
   "source": [
    "## Setup Project using PyCharm\n",
    "Let us setup project using PyCharm. I will be using PyCharm Enterprise Edition. However, you can use Community Edition as well.\n",
    "* Create New Project by name **data-copier**.\n",
    "* Make sure virtual environment is created with name **dc-venv**. It will make sure we are in appropriate virtual environment related to our project.\n",
    "* Create a program by name **app.py**.\n",
    "* Add below code to it and validate using PyCharm.\n",
    "```python\n",
    "def main():\n",
    "    print(\"Hello World!\")\n",
    "\n",
    "\n",
    "if __name__ == \"__main__\":\n",
    "    main()\n",
    "```\n"
   ]
  }
 ],
 "metadata": {
  "kernelspec": {
   "display_name": "Python 3 (ipykernel)",
   "language": "python",
   "name": "python3"
  },
  "language_info": {
   "codemirror_mode": {
    "name": "ipython",
    "version": 3
   },
   "file_extension": ".py",
   "mimetype": "text/x-python",
   "name": "python",
   "nbconvert_exporter": "python",
   "pygments_lexer": "ipython3",
   "version": "3.9.7"
  }
 },
 "nbformat": 4,
 "nbformat_minor": 5
}
