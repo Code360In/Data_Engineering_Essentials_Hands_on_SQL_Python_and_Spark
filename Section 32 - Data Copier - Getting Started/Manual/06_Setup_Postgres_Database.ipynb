{
 "cells": [
  {
   "cell_type": "markdown",
   "id": "b453cd4c",
   "metadata": {},
   "source": [
    "## Setup Postgres Database\n",
    "Let us setup a database using Postgres as part of Docker Container.\n",
    "* Pull image `docker pull postgres`\n",
    "* Create folder for Postgres Database\n",
    "```shell script\n",
    "mkdir retail_pg\n",
    "```\n",
    "* Create and start container using `docker run`\n",
    "```shell script\n",
    "docker run \\\n",
    "  --name retail_pg \\\n",
    "  -e POSTGRES_PASSWORD=itversity \\\n",
    "  -d \\\n",
    "  -v `pwd`/data/retail_db_json:/data/retail_db_json \\\n",
    "  -v `pwd`/retail_pg:/var/lib/postgresql/data \\\n",
    "  -p 5452:5432 \\\n",
    "  postgres\n",
    "\n",
    "# Windows using Powershell\n",
    "docker run --name retail_pg -e POSTGRES_PASSWORD=itversity -d -v C:\\Users\\dgadiraju\\Projects\\data-copier\\retail_pg:/var/lib/postgresql/data -v C:\\Users\\dgadiraju\\Projects\\retail_db_json:/retail_db_json -p 5452:5432 postgres\n",
    "```\n",
    "* We can review the logs by using `docker logs -f pg_retail_db` command.\n",
    "* Make sure retail_db is either mounted or copied on to the Docker Container.\n",
    "* Connect to Postgres database using `docker exec`\n",
    "```shell script\n",
    "docker exec \\\n",
    "  -it retail_pg \\\n",
    "  psql -U postgres\n",
    "\n",
    "# On Windows\n",
    "docker exec -it retail_pg psql -U postgres\n",
    "```\n",
    "* Create Database and User as part of Postgres running in Docker\n",
    "```sql\n",
    "CREATE DATABASE retail_db;\n",
    "CREATE USER retail_user WITH ENCRYPTED PASSWORD 'itversity';\n",
    "GRANT ALL PRIVILEGES ON DATABASE retail_db TO retail_user;\n",
    "```\n",
    "* Run **/retail_db_json/create_db_tables_pg.sql** to create tables using Postgres CLI.\n",
    "```shell script\n",
    "docker exec \\\n",
    "  -it retail_pg \\\n",
    "  psql -U retail_user \\\n",
    "  -d retail_db  \\\n",
    "  -f /data/retail_db/create_db_tables_pg.sql\n",
    "\n",
    "# On Windows\n",
    "docker exec -it retail_pg psql -U retail_user -d retail_db -f /retail_db_json/create_db_tables_pg.sql\n",
    "```\n"
   ]
  }
 ],
 "metadata": {
  "kernelspec": {
   "display_name": "Python 3 (ipykernel)",
   "language": "python",
   "name": "python3"
  },
  "language_info": {
   "codemirror_mode": {
    "name": "ipython",
    "version": 3
   },
   "file_extension": ".py",
   "mimetype": "text/x-python",
   "name": "python",
   "nbconvert_exporter": "python",
   "pygments_lexer": "ipython3",
   "version": "3.9.7"
  }
 },
 "nbformat": 4,
 "nbformat_minor": 5
}
