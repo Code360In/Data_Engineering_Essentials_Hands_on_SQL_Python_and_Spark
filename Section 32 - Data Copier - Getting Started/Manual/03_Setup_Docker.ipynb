{
 "cells": [
  {
   "cell_type": "markdown",
   "id": "647f797f",
   "metadata": {},
   "source": [
    "## Setup Docker\n",
    "\n",
    "Let us understand different options to setup Docker using different environments. We will also see how to set up Docker on Cloud9.\n",
    "   * If your Mac or PC have 16 GB RAM and Quad Core, I would recommend to setup Docker Desktop. Just Google and Set it up.\n",
    "   * For Windows, there might be some restrictions on Windows 10 Home and older versions.\n",
    "   * If you do not want to install locally, you can setup the whole development environment using AWS Cloud9. Make sure to choose Ubuntu as OS while setting up AWS Cloud9."
   ]
  }
 ],
 "metadata": {
  "kernelspec": {
   "display_name": "Python 3 (ipykernel)",
   "language": "python",
   "name": "python3"
  },
  "language_info": {
   "codemirror_mode": {
    "name": "ipython",
    "version": 3
   },
   "file_extension": ".py",
   "mimetype": "text/x-python",
   "name": "python",
   "nbconvert_exporter": "python",
   "pygments_lexer": "ipython3",
   "version": "3.9.7"
  }
 },
 "nbformat": 4,
 "nbformat_minor": 5
}
