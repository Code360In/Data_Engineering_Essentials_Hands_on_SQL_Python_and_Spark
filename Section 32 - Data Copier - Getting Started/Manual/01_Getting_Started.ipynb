{
 "cells": [
  {
   "cell_type": "markdown",
   "id": "b1e193f3",
   "metadata": {},
   "source": [
    "## Getting Started\n",
    "\n",
    "As part of this module we will set up the development environment to develop an application to copy data from JSON Files to a target database (Postgres).\n",
    "\n",
    "   * Problem Statement - Data Copier.\n",
    "   * Setup Docker.\n",
    "   * Quick Overview of Docker.\n",
    "   * Prepare Dataset.\n",
    "   * Setup Postgres Database.\n",
    "   * Overview of Postgres.\n",
    "   * Setup Project using PyCharm.\n",
    "   * Managing Dependencies.\n",
    "   * Create GitHub Repository."
   ]
  }
 ],
 "metadata": {
  "kernelspec": {
   "display_name": "Python 3 (ipykernel)",
   "language": "python",
   "name": "python3"
  },
  "language_info": {
   "codemirror_mode": {
    "name": "ipython",
    "version": 3
   },
   "file_extension": ".py",
   "mimetype": "text/x-python",
   "name": "python",
   "nbconvert_exporter": "python",
   "pygments_lexer": "ipython3",
   "version": "3.9.7"
  }
 },
 "nbformat": 4,
 "nbformat_minor": 5
}
