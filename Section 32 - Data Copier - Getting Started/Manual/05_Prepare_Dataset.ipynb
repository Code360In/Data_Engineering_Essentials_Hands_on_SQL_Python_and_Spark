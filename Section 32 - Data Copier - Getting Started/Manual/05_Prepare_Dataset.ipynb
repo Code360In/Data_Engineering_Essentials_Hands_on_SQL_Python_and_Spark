{
 "cells": [
  {
   "cell_type": "markdown",
   "id": "a02ed126",
   "metadata": {},
   "source": [
    "## Prepare Dataset\n",
    "\n",
    "Let us prepare dataset to play around. Dataset is part of GitHub Repository.\n",
    "\n",
    "   * The data set is called as retail_db. It is a hypothetical data set provided by Cloudera as part of Cloudera QuickStart VM.\n",
    "   * Clone **retail_db** repository from GitHub. We will use this repository to setup tables and load data as part of the database.\n",
    "```shell script\n",
    "git clone https://www.github.com/itversity/retail_db_json.git\n",
    "```\n",
    "* It has some scripts as well as json separated files as well.\n",
    "* As part of this usecase we will use scripts which will create tables as well as load data sets.\n",
    "* **create_db_tables_pg.sql** is the script which will facilitate us to create tables alone. It will not load data into the tables. "
   ]
  }
 ],
 "metadata": {
  "kernelspec": {
   "display_name": "Python 3 (ipykernel)",
   "language": "python",
   "name": "python3"
  },
  "language_info": {
   "codemirror_mode": {
    "name": "ipython",
    "version": 3
   },
   "file_extension": ".py",
   "mimetype": "text/x-python",
   "name": "python",
   "nbconvert_exporter": "python",
   "pygments_lexer": "ipython3",
   "version": "3.9.7"
  }
 },
 "nbformat": 4,
 "nbformat_minor": 5
}
