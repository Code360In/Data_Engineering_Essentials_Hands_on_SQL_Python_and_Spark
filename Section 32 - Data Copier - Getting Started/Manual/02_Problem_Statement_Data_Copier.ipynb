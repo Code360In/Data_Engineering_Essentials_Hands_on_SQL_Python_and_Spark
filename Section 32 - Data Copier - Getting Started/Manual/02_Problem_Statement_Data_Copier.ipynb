{
 "cells": [
  {
   "cell_type": "markdown",
   "id": "6f42dc9a",
   "metadata": {},
   "source": [
    "## Problem Statement - Data Copier\n",
    "\n",
    "Let us go through the problem statement for our project. We would like to develop the code to copy data which are in files using JSON Format to Postgres Database.\n",
    "\n",
    "Data is available in another repository called as retail_db_json. We will see how to setup the repository later. But we will review the data now."
   ]
  }
 ],
 "metadata": {
  "kernelspec": {
   "display_name": "Python 3 (ipykernel)",
   "language": "python",
   "name": "python3"
  },
  "language_info": {
   "codemirror_mode": {
    "name": "ipython",
    "version": 3
   },
   "file_extension": ".py",
   "mimetype": "text/x-python",
   "name": "python",
   "nbconvert_exporter": "python",
   "pygments_lexer": "ipython3",
   "version": "3.9.7"
  }
 },
 "nbformat": 4,
 "nbformat_minor": 5
}
