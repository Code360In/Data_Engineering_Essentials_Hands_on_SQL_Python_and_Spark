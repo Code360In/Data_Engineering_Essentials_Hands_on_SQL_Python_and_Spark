{
 "cells": [
  {
   "cell_type": "markdown",
   "id": "173ea6b2",
   "metadata": {},
   "source": [
    "## Managing Dependencies\n",
    "Let us see how we can manage dependencies for Python Projects.\n",
    "* We use Pip to manage dependencies for Python based Projects.\n",
    "* Here is the typical life cycle.\n",
    "  * Search for Python libraries using [https://pypi.org](https://pypi.org).\n",
    "  * One can install directly using `pip install` Command. For example `pip install configparser`.\n",
    "  * To overcome compatibility issues, we need to decide on versions.\n",
    "  * We can also pass version of the library to `pip install` command. For example `pip install configparser==5.0.0`.\n",
    "* For projects we keep track of all the external libraries using a text file - e.g. **requirements.txt**.\n",
    "* We can add libraries to our project using **requirements.txt**. For example, here we are adding Pandas to our project.\n",
    "```text\n",
    "pandas==1.3.2\n",
    "```\n",
    "* We will take care of other libraries later.\n",
    "* Once libraries are defined as part of **requirements.txt**, we can run `pip install -r requirements.txt`.\n",
    "* We can also uninstall all the libraries using relevant command."
   ]
  }
 ],
 "metadata": {
  "kernelspec": {
   "display_name": "Python 3 (ipykernel)",
   "language": "python",
   "name": "python3"
  },
  "language_info": {
   "codemirror_mode": {
    "name": "ipython",
    "version": 3
   },
   "file_extension": ".py",
   "mimetype": "text/x-python",
   "name": "python",
   "nbconvert_exporter": "python",
   "pygments_lexer": "ipython3",
   "version": "3.9.7"
  }
 },
 "nbformat": 4,
 "nbformat_minor": 5
}
