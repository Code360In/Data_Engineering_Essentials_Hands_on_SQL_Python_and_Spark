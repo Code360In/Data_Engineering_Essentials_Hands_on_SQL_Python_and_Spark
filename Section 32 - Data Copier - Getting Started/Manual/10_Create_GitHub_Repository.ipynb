{
 "cells": [
  {
   "cell_type": "markdown",
   "id": "ce6fabdf",
   "metadata": {},
   "source": [
    "## Create GitHub Repository\n",
    "As we have skeleton of the project, let us setup GitHub repository to streamline future code changes.\n",
    "* GitHub can be used to version our application.\n",
    "* We can initialize GitHub repository by saying `git init`. It will create **.git** directory to keep track of changes.\n",
    "* GitHub should only contain source code related to our application. Hence, we should ignore non source code files and folders such as following:\n",
    "  * **.idea** - a folder created by PyCharm to keep track of IDE preferences and settings.\n",
    "  * **__pycache__** - a file which contain bytecode of the program which can be interpreted by Python interpreter.\n",
    "  * **data-copier-env** - a directory which is created when virtual environment is added to our project.\n",
    "  * We might add other files in future.\n",
    "```text\n",
    "dc-venv\n",
    "__pycache__\n",
    ".idea\n",
    "```\n",
    "* Add the source code files to keep track of changes and then commit.\n",
    "```shell script\n",
    "git add . \n",
    "# Adds all the files recursively from the directory in which command is executed\n",
    "# We can also add specific files or directories\n",
    "git commit\n",
    "# Review all the files and make sure only source code files are included along with README.md\n",
    "# Add commit message and save. If you are not comfortable with command line you can use Pycharm Git Plugin.\n",
    "# You can also give commit message with git commit itself\n",
    "git commit -m \"Initial Commit\"\n",
    "```\n",
    "* Now go to [GitHub Website](https://www.github.com) and add a repository as demonstrated. Make sure to sign up if you do not have account.\n",
    "* Follow the instructions provided after repository is created to push the existing repository.\n"
   ]
  }
 ],
 "metadata": {
  "kernelspec": {
   "display_name": "Python 3 (ipykernel)",
   "language": "python",
   "name": "python3"
  },
  "language_info": {
   "codemirror_mode": {
    "name": "ipython",
    "version": 3
   },
   "file_extension": ".py",
   "mimetype": "text/x-python",
   "name": "python",
   "nbconvert_exporter": "python",
   "pygments_lexer": "ipython3",
   "version": "3.9.7"
  }
 },
 "nbformat": 4,
 "nbformat_minor": 5
}
