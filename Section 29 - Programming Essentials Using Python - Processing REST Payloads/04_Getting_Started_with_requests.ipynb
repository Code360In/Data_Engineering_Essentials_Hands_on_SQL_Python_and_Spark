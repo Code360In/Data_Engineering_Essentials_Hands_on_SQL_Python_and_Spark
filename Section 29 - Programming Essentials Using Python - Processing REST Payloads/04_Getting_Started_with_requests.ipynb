{
 "cells": [
  {
   "cell_type": "markdown",
   "id": "4fb7a981",
   "metadata": {},
   "source": [
    "## Getting Started with requests\n",
    "\n",
    "Let us get started with requests module. You might have to install `requests` using `pip`.\n",
    "\n",
    "   * `requests` is part of many other 3rd party libraries. You can check whether it is already installed or not."
   ]
  },
  {
   "cell_type": "code",
   "execution_count": null,
   "id": "2ad8753f",
   "metadata": {},
   "outputs": [],
   "source": [
    "!pip list|grep request"
   ]
  },
  {
   "cell_type": "code",
   "execution_count": null,
   "id": "6905c8f7",
   "metadata": {},
   "outputs": [],
   "source": [
    "!pip install requests"
   ]
  },
  {
   "cell_type": "markdown",
   "id": "1715516c",
   "metadata": {},
   "source": [
    "* You need to import before you start using it as part of your Python program."
   ]
  },
  {
   "cell_type": "code",
   "execution_count": null,
   "id": "f54376a9",
   "metadata": {},
   "outputs": [],
   "source": [
    "import requests"
   ]
  },
  {
   "cell_type": "markdown",
   "id": "ef830b17",
   "metadata": {},
   "source": [
    "* Here are some of the important functions from `requests` module we use on regular basis. The below functions are to support common REST API calls."
   ]
  },
  {
   "cell_type": "code",
   "execution_count": null,
   "id": "a862b329",
   "metadata": {},
   "outputs": [],
   "source": [
    "import requests"
   ]
  },
  {
   "cell_type": "code",
   "execution_count": null,
   "id": "76da00e5",
   "metadata": {},
   "outputs": [],
   "source": [
    "url = \"https://api.github.com/users/dgadiraju/repos\""
   ]
  },
  {
   "cell_type": "code",
   "execution_count": null,
   "id": "159eca8c",
   "metadata": {},
   "outputs": [],
   "source": [
    "type(url)"
   ]
  },
  {
   "cell_type": "code",
   "execution_count": null,
   "id": "40e230bb",
   "metadata": {},
   "outputs": [],
   "source": [
    "payload = {}\n",
    "headers = {}"
   ]
  },
  {
   "cell_type": "code",
   "execution_count": null,
   "id": "91cbd9bb",
   "metadata": {},
   "outputs": [],
   "source": [
    "requests.request?"
   ]
  },
  {
   "cell_type": "code",
   "execution_count": null,
   "id": "9eabd3dc",
   "metadata": {},
   "outputs": [],
   "source": [
    "response = requests.request(\"GET\", url, headers=headers, data=payload)"
   ]
  },
  {
   "cell_type": "code",
   "execution_count": null,
   "id": "8530bd43",
   "metadata": {},
   "outputs": [],
   "source": [
    "type(response)"
   ]
  },
  {
   "cell_type": "code",
   "execution_count": null,
   "id": "fbed0d21",
   "metadata": {},
   "outputs": [],
   "source": [
    "response.text"
   ]
  },
  {
   "cell_type": "code",
   "execution_count": null,
   "id": "f2af2165",
   "metadata": {},
   "outputs": [],
   "source": [
    "requests.get?"
   ]
  },
  {
   "cell_type": "code",
   "execution_count": null,
   "id": "548a6981",
   "metadata": {},
   "outputs": [],
   "source": [
    "requests.post?"
   ]
  },
  {
   "cell_type": "code",
   "execution_count": null,
   "id": "3ead7d5b",
   "metadata": {},
   "outputs": [],
   "source": []
  }
 ],
 "metadata": {
  "kernelspec": {
   "display_name": "Python 3 (ipykernel)",
   "language": "python",
   "name": "python3"
  },
  "language_info": {
   "codemirror_mode": {
    "name": "ipython",
    "version": 3
   },
   "file_extension": ".py",
   "mimetype": "text/x-python",
   "name": "python",
   "nbconvert_exporter": "python",
   "pygments_lexer": "ipython3",
   "version": "3.9.7"
  }
 },
 "nbformat": 4,
 "nbformat_minor": 5
}
