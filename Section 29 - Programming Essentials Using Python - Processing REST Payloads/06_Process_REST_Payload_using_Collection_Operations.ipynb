{
 "cells": [
  {
   "cell_type": "markdown",
   "id": "a2016b64",
   "metadata": {},
   "source": [
    "## Process REST Payload using Collection Operations\n",
    "\n",
    "Let us understand how to process REST Payload using Collection Operations.\n",
    "\n",
    "   * We can get details about all the public repositories using `GET /repositories` from **https://api.github.com**.\n",
    "   * As it is getting or reading data from external application the details are available via `GET`. We will have JSON Array as part of the Payload.\n",
    "   * We can convert this JSON Array to Python `list`. Each element in the list will be of type `dict`.\n",
    "   * Let us understand how the data in this list of dicts can be processed using Python core collection operations.   \n",
    "   * Let us quickly review the output of the REST API using `curl`."
   ]
  },
  {
   "cell_type": "code",
   "execution_count": null,
   "id": "25a30c4e",
   "metadata": {},
   "outputs": [],
   "source": [
    "!curl https://api.github.com/repositories"
   ]
  },
  {
   "cell_type": "markdown",
   "id": "67407e01",
   "metadata": {},
   "source": [
    "* We can get the payload of public repositories using `requests.get`.\n",
    "* We can convert to Python list using `json()`.\n"
   ]
  },
  {
   "cell_type": "code",
   "execution_count": null,
   "id": "2d1ff44e",
   "metadata": {},
   "outputs": [],
   "source": [
    "import requests"
   ]
  },
  {
   "cell_type": "markdown",
   "id": "7cf348c3",
   "metadata": {},
   "source": [
    "* We can convert `payload` which is of string type and contains valid JSON to `dict` or `list` using `json` module."
   ]
  },
  {
   "cell_type": "code",
   "execution_count": null,
   "id": "96ee2f5d",
   "metadata": {},
   "outputs": [],
   "source": [
    "payload = requests.get(\"https://api.github.com/repositories\", params={'since':369}).json()"
   ]
  },
  {
   "cell_type": "code",
   "execution_count": null,
   "id": "6ba9d866",
   "metadata": {},
   "outputs": [],
   "source": [
    "payload"
   ]
  },
  {
   "cell_type": "code",
   "execution_count": null,
   "id": "3730387d",
   "metadata": {},
   "outputs": [],
   "source": [
    "since = int(input(\"Enter the repo id from which you want to get repositories: \"))"
   ]
  },
  {
   "cell_type": "code",
   "execution_count": null,
   "id": "ecd72db4",
   "metadata": {},
   "outputs": [],
   "source": [
    "repos = requests.get(f\"https://api.github.com/repositories?={since}\").json()"
   ]
  },
  {
   "cell_type": "code",
   "execution_count": null,
   "id": "e0d9487b",
   "metadata": {},
   "outputs": [],
   "source": [
    "type(repos)"
   ]
  },
  {
   "cell_type": "code",
   "execution_count": null,
   "id": "29267a60",
   "metadata": {},
   "outputs": [],
   "source": [
    "# A string with valid json array\n",
    "repos"
   ]
  },
  {
   "cell_type": "code",
   "execution_count": null,
   "id": "530c8711",
   "metadata": {},
   "outputs": [],
   "source": []
  }
 ],
 "metadata": {
  "kernelspec": {
   "display_name": "Python 3 (ipykernel)",
   "language": "python",
   "name": "python3"
  },
  "language_info": {
   "codemirror_mode": {
    "name": "ipython",
    "version": 3
   },
   "file_extension": ".py",
   "mimetype": "text/x-python",
   "name": "python",
   "nbconvert_exporter": "python",
   "pygments_lexer": "ipython3",
   "version": "3.9.7"
  }
 },
 "nbformat": 4,
 "nbformat_minor": 5
}
