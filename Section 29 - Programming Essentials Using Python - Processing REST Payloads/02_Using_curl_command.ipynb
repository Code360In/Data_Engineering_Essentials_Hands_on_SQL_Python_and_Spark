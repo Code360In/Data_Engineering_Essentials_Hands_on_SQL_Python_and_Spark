{
 "cells": [
  {
   "cell_type": "markdown",
   "id": "cd790b34",
   "metadata": {},
   "source": [
    "## Using curl command\n",
    "\n",
    "Let us understand how we can use curl command to place REST requests to get the response from the external applications.\n",
    "\n",
    "   * `curl` is available in almost all operating sytems. It is a command which can be leveraged to talk to external applications via REST APIs.\n",
    "   * We can make make all standard REST APIs calls using `curl`.\n",
    "   * At time we have to get authenticated or authorized to use REST APIs calls and for that we typically have to pass tokens as part of headers.\n",
    "   * We can use `curl` when authenticated or authorized is required. We need to understand how to pass tokens or credentials while using `curl` command.\n",
    "   * We can pass any request type (such as GET, POST, etc) to `curl`. The default is `GET`.\n",
    "   * Here is an example of simple `GET` using `curl`."
   ]
  },
  {
   "cell_type": "code",
   "execution_count": null,
   "id": "23171133",
   "metadata": {},
   "outputs": [],
   "source": [
    "!curl https://api.github.com"
   ]
  },
  {
   "cell_type": "markdown",
   "id": "dc836456",
   "metadata": {},
   "source": [
    "* We have to use `curl-X` to pass request type. Here is an example where we are explicitly passing `GET`."
   ]
  },
  {
   "cell_type": "code",
   "execution_count": null,
   "id": "d57897aa",
   "metadata": {},
   "outputs": [],
   "source": [
    "!curl -X GET https://api.github.com"
   ]
  }
 ],
 "metadata": {
  "kernelspec": {
   "display_name": "Python 3 (ipykernel)",
   "language": "python",
   "name": "python3"
  },
  "language_info": {
   "codemirror_mode": {
    "name": "ipython",
    "version": 3
   },
   "file_extension": ".py",
   "mimetype": "text/x-python",
   "name": "python",
   "nbconvert_exporter": "python",
   "pygments_lexer": "ipython3",
   "version": "3.9.7"
  }
 },
 "nbformat": 4,
 "nbformat_minor": 5
}
