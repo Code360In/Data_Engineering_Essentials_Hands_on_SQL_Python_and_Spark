{
 "cells": [
  {
   "cell_type": "markdown",
   "id": "7f9aa588",
   "metadata": {},
   "source": [
    "## Pre-defined Functions\n",
    "\n",
    "Let us go through the list of commonly used Pre-defined Functions.\n",
    "\n",
    "   * Overview of Pre-defined Functions.\n",
    "   * Numeric Functions.\n",
    "   * Overview of Strings\n",
    "   * String Manipulation Functions.\n",
    "   * Formating Strings.\n",
    "   * Print and Input Functions.\n",
    "   * Date Manipulation Functions.\n",
    "   * Special Functions."
   ]
  }
 ],
 "metadata": {
  "kernelspec": {
   "display_name": "Python 3 (ipykernel)",
   "language": "python",
   "name": "python3"
  },
  "language_info": {
   "codemirror_mode": {
    "name": "ipython",
    "version": 3
   },
   "file_extension": ".py",
   "mimetype": "text/x-python",
   "name": "python",
   "nbconvert_exporter": "python",
   "pygments_lexer": "ipython3",
   "version": "3.9.7"
  }
 },
 "nbformat": 4,
 "nbformat_minor": 5
}
