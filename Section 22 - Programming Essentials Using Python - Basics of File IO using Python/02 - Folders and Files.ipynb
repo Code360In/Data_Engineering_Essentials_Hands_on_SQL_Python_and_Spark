{
 "cells": [
  {
   "cell_type": "markdown",
   "id": "ab8796fe",
   "metadata": {},
   "source": [
    "## Folders and Files\n",
    "\n",
    "Lets us quickly recap details about folders and files, especially using Linux. You need to be comfortable with the following.\n",
    "\n",
    "* Differentiating Files and Folders. Keep in mind that Folders and Directories means the samething.\n",
    "* Understanding Absolute or Fully Qualified Path.\n",
    "* Understanding Relative Path.\n",
    "* Understanding File or Folder permissions."
   ]
  },
  {
   "cell_type": "code",
   "execution_count": null,
   "id": "052accee",
   "metadata": {},
   "outputs": [],
   "source": [
    "# Listing files in the present working directory\n",
    "!ls -ltr"
   ]
  },
  {
   "cell_type": "code",
   "execution_count": null,
   "id": "eec405a5",
   "metadata": {},
   "outputs": [],
   "source": [
    "# Listing files and folders under /data/retail_db\n",
    "!ls -ltr /data/retail_db"
   ]
  },
  {
   "cell_type": "markdown",
   "id": "cb6a7884",
   "metadata": {},
   "source": [
    "## Absolute and Relative Paths\n",
    "\n",
    "Let us get into the details related to accessing the files either by using absolute as well as relative paths.\n",
    "\n",
    "* In Linux, absolute path typically start with `/`. For example the absolute path of `retail_db` which we have used above is `/data/retail_db`.\n",
    "* Now I would like to perform this task to understand about **relative path.** You can access files using relative paths.\n",
    "    * Open Terminal\n",
    "    * Run `cd /data/retails_db`. You are using absolute path of `retail_db` here to change to that directory.\n",
    "    * Run `ls -ltr`. You should see the files and folders. The entries which start with `d` are folders or directories."
   ]
  },
  {
   "cell_type": "code",
   "execution_count": null,
   "id": "17564867",
   "metadata": {},
   "outputs": [],
   "source": [
    "!pwd"
   ]
  },
  {
   "cell_type": "code",
   "execution_count": null,
   "id": "738e9e6e",
   "metadata": {},
   "outputs": [],
   "source": [
    "!ls -ltr"
   ]
  },
  {
   "cell_type": "code",
   "execution_count": null,
   "id": "d95317b7",
   "metadata": {},
   "outputs": [],
   "source": [
    "# Listing files in the home directory. ~ represents home directory. It is a key on the keyboard.\n",
    "# You can find the ~ key on the left side of 1 in most of the keyboards.\n",
    "!ls -ltr ~"
   ]
  },
  {
   "cell_type": "markdown",
   "id": "2182c0d8",
   "metadata": {},
   "source": [
    "* The lines which start with `d` represents folders or directories.\n",
    "* The lines which start with `-` represents files.\n",
    "\n",
    "Let us go through the one sample in detail and understand what they actually mean.\n",
    "\n",
    "    drwxr-xr-x 5 itversity itversity 4096 Jul 13 07:21 itversity-material.\n",
    "    \n",
    "* `drwxr-xr-x` - Permissions of the file or folder.\n",
    "* `5` - ignore for now\n",
    "* First `itversity` - Owner\n",
    "* Second `itversity` - Group\n",
    "* `4096` - Size of file or folder\n",
    "* `Jul 13 07:21` - Last modified time\n",
    "* `setup-aitflow` - File name or folder name\n",
    "* `rwx` after `d` tells that `itversity` who is owner over this file or folder have `read`, `write` and `execute` permissions.\n",
    "* I am currently logged in as `itversity` and hence I will be able to perform `read`, `write` and `execute` operations on the directory `setup-airflow`"
   ]
  }
 ],
 "metadata": {
  "kernelspec": {
   "display_name": "Python 3 (ipykernel)",
   "language": "python",
   "name": "python3"
  },
  "language_info": {
   "codemirror_mode": {
    "name": "ipython",
    "version": 3
   },
   "file_extension": ".py",
   "mimetype": "text/x-python",
   "name": "python",
   "nbconvert_exporter": "python",
   "pygments_lexer": "ipython3",
   "version": "3.9.7"
  }
 },
 "nbformat": 4,
 "nbformat_minor": 5
}
