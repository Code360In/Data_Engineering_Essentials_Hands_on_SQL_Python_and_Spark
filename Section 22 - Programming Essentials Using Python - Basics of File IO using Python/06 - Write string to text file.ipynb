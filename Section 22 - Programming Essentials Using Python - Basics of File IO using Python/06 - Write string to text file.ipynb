{
 "cells": [
  {
   "cell_type": "markdown",
   "id": "0b003126",
   "metadata": {},
   "source": [
    "## Write string to text file\n",
    "\n",
    "Let us understand how to write string to the text file. Here are the steps involved to write string to text file.\n",
    "\n",
    "* Make sure the target directory is available and the user have write permissions.\n",
    "* You need to have a string object to write into the file using default mode. The default mode is text or `t`.\n",
    "* The file object should be created in write mode using `open` function.\n",
    "* You can use `write` on file object to write the content into the file.\n",
    "* We need to make sure that file object is closed to reflect the data in the file. Until we close, we will not be able to read the contents of the file."
   ]
  },
  {
   "cell_type": "code",
   "execution_count": null,
   "id": "f7e2ce9a",
   "metadata": {},
   "outputs": [],
   "source": [
    "# Create folder to write the data to for pratice.\n",
    "!mkdir -p data"
   ]
  },
  {
   "cell_type": "code",
   "execution_count": null,
   "id": "dd643953",
   "metadata": {},
   "outputs": [],
   "source": [
    "# We will use data folder in the current directory\n",
    "# As we have created the folder, we will typically have write permissions on it\n",
    "!ls -ltr|grep data"
   ]
  },
  {
   "cell_type": "code",
   "execution_count": null,
   "id": "4e3a3d9b",
   "metadata": {},
   "outputs": [],
   "source": [
    "# Check if the files exists\n",
    "!ls -ltr data"
   ]
  },
  {
   "cell_type": "code",
   "execution_count": null,
   "id": "fd1db447",
   "metadata": {},
   "outputs": [],
   "source": [
    "# You can also validate whether you are able to create files or not using touch command\n",
    "!touch data/validating_write_permissions"
   ]
  },
  {
   "cell_type": "code",
   "execution_count": null,
   "id": "7882c8d2",
   "metadata": {},
   "outputs": [],
   "source": [
    "!ls -ltr data"
   ]
  },
  {
   "cell_type": "code",
   "execution_count": null,
   "id": "8048caf1",
   "metadata": {},
   "outputs": [],
   "source": [
    "!rm data/validating_write_permissions"
   ]
  },
  {
   "cell_type": "code",
   "execution_count": null,
   "id": "cad0e5eb",
   "metadata": {},
   "outputs": [],
   "source": [
    "!rm data/sample_data.txt"
   ]
  },
  {
   "cell_type": "code",
   "execution_count": null,
   "id": "9df83df2",
   "metadata": {},
   "outputs": [],
   "source": [
    "content = 'Sample Text which will be written to file'"
   ]
  },
  {
   "cell_type": "code",
   "execution_count": null,
   "id": "88112cc6",
   "metadata": {},
   "outputs": [],
   "source": [
    "type(content)"
   ]
  },
  {
   "cell_type": "code",
   "execution_count": null,
   "id": "d6212ed7",
   "metadata": {},
   "outputs": [],
   "source": [
    "# Now us create the file object in write mode\n",
    "# The default file format or mode is text\n",
    "file = open('data/sample_data.txt', 'w')"
   ]
  },
  {
   "cell_type": "code",
   "execution_count": null,
   "id": "f5f752ce",
   "metadata": {},
   "outputs": [],
   "source": [
    "file.write?"
   ]
  },
  {
   "cell_type": "code",
   "execution_count": null,
   "id": "980c5186",
   "metadata": {},
   "outputs": [],
   "source": [
    "# Returns the size of the file\n",
    "# By default the contents of the file will be overwritten if the file already exists\n",
    "file.write(content)"
   ]
  },
  {
   "cell_type": "code",
   "execution_count": null,
   "id": "0b89e6cb",
   "metadata": {},
   "outputs": [],
   "source": [
    "file.close()"
   ]
  },
  {
   "cell_type": "code",
   "execution_count": null,
   "id": "9cceb979",
   "metadata": {},
   "outputs": [],
   "source": [
    "!cat data/sample_data.txt"
   ]
  }
 ],
 "metadata": {
  "kernelspec": {
   "display_name": "Python 3 (ipykernel)",
   "language": "python",
   "name": "python3"
  },
  "language_info": {
   "codemirror_mode": {
    "name": "ipython",
    "version": 3
   },
   "file_extension": ".py",
   "mimetype": "text/x-python",
   "name": "python",
   "nbconvert_exporter": "python",
   "pygments_lexer": "ipython3",
   "version": "3.9.7"
  }
 },
 "nbformat": 4,
 "nbformat_minor": 5
}
