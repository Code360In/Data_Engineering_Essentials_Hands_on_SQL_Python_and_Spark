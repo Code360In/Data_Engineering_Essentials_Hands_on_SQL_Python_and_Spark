{
 "cells": [
  {
   "cell_type": "markdown",
   "id": "433b34db",
   "metadata": {},
   "source": [
    "## Overview of Collections - list and set\n",
    "\n",
    "Let us get an overview of list and set as part of the Python Collections.\n",
    "\n",
    "   * Overview of list and set\n",
    "   * Common Operations\n",
    "   * Accessing Elements from Lists\n",
    "   * Adding Elements to list\n",
    "   * Updating and Deleting Elements - list\n",
    "   * Otjer list operations\n",
    "   * Adding and Deleting Elements - set\n",
    "   * Typical set operations\n",
    "   * Validating set\n",
    "   * list and set - Usage\n",
    "   * Exercises - list and set\n",
    "   * list of delimited strings\n",
    "   * Sorting data in lists and sets\n",
    "   * Exercises - Sorting lists and sets"
   ]
  }
 ],
 "metadata": {
  "kernelspec": {
   "display_name": "Python 3 (ipykernel)",
   "language": "python",
   "name": "python3"
  },
  "language_info": {
   "codemirror_mode": {
    "name": "ipython",
    "version": 3
   },
   "file_extension": ".py",
   "mimetype": "text/x-python",
   "name": "python",
   "nbconvert_exporter": "python",
   "pygments_lexer": "ipython3",
   "version": "3.9.7"
  }
 },
 "nbformat": 4,
 "nbformat_minor": 5
}
