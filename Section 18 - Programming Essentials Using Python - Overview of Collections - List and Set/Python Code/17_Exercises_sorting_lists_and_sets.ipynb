{
 "cells": [
  {
   "cell_type": "markdown",
   "id": "de075799",
   "metadata": {},
   "source": [
    "## Exercises - Sorting lists and sets\n",
    "\n",
    "Let us perform few exercises to sort lists and sets."
   ]
  },
  {
   "cell_type": "markdown",
   "id": "8b656c47",
   "metadata": {},
   "source": [
    "### Exercise - 1 - Sort Players by name\n",
    "\n",
    "Sort famous players bt their name. The list contains comma separated strings with player name followed by the sport they play."
   ]
  },
  {
   "cell_type": "code",
   "execution_count": 25,
   "id": "7acd28cb",
   "metadata": {},
   "outputs": [],
   "source": [
    "famous_players = [\n",
    "    'Pete Sampras,Tenis',\n",
    "    'Sachin Tendulkar,Cricket',\n",
    "    'Brian Lara,Cricket',\n",
    "    'Diego Maradona,Soccer',\n",
    "    'Roger Federer,Tennis',\n",
    "    'Ian Thorpe,Swimming',\n",
    "    'Ronaldo,Soccer',\n",
    "    'Usain Bolt,Badminton',\n",
    "    'P. V. Sindhu,Badminton',\n",
    "    'Shane Warne,Cricket',\n",
    "    'David Beckham,Soccer',\n",
    "    'Michael Phelps,Swimming'\n",
    "]"
   ]
  },
  {
   "cell_type": "code",
   "execution_count": 3,
   "id": "53769914",
   "metadata": {},
   "outputs": [
    {
     "data": {
      "text/plain": [
       "['Brian Lara,Cricket',\n",
       " 'David Beckham,Soccer',\n",
       " 'Diego Maradona,Soccer',\n",
       " 'Ian Thorpe,Swimming',\n",
       " 'Michael Phelps,Swimming',\n",
       " 'P. V. Sindhu,Badminton',\n",
       " 'Pete Sampras,Tenis',\n",
       " 'Roger Federer,Tennis',\n",
       " 'Ronaldo,Soccer',\n",
       " 'Sachin Tendulkar,Cricket',\n",
       " 'Shane Warne,Cricket',\n",
       " 'Usain Bolt,Badminton']"
      ]
     },
     "execution_count": 3,
     "metadata": {},
     "output_type": "execute_result"
    }
   ],
   "source": [
    "# Your code should go here\n",
    "sorted(famous_players)"
   ]
  },
  {
   "cell_type": "markdown",
   "id": "e87d9b43",
   "metadata": {},
   "source": [
    "* Here is the desired output.\n",
    "\n",
    "[\n",
    " 'Brian Lara,Cricket',\n",
    " \n",
    " 'David Beckham,Soccer',\n",
    " \n",
    " 'Diego Maradona,Soccer',\n",
    " \n",
    " 'Ian Thorpe,Swimming',\n",
    " \n",
    " 'Michael Phelps,Swimming',\n",
    " \n",
    " 'P. V. Sindhu,Badminton',\n",
    " \n",
    " 'Pete Sampras,Tenis',\n",
    " \n",
    " 'Roger Federer,Tennis',\n",
    " \n",
    " 'Ronaldo,Soccer',\n",
    " \n",
    " 'Sachin Tendulkar,Cricket',\n",
    " \n",
    " 'Shane Warne,Cricket',\n",
    " \n",
    " 'Usain Bolt,Badminton']"
   ]
  },
  {
   "cell_type": "markdown",
   "id": "35ee17b8",
   "metadata": {},
   "source": [
    "### Exercise 2 - Sort Players by sport and the by name\n",
    "\n",
    "Sort famous playres by the sport name. The list contains comma separated strings with player name followed by the sport they play. You need to sort the data by sport and then with in each sport you need to sort by name of the player.\n",
    "\n",
    "**The process of sorting data on multiple attributes is know as composite sorting. This is an exercise related to composite sorting based on 2 fields.**"
   ]
  },
  {
   "cell_type": "code",
   "execution_count": 38,
   "id": "c2daa504",
   "metadata": {},
   "outputs": [],
   "source": [
    "famous_players = [\n",
    "    'Pete Sampras,Tenis',\n",
    "    'Sachin Tendulkar,Cricket',\n",
    "    'Brian Lara,Cricket',\n",
    "    'Diego Maradona,Soccer',\n",
    "    'Roger Federer,Tennis',\n",
    "    'Ian Thorpe,Swimming',\n",
    "    'Ronaldo,Soccer',\n",
    "    'Usain Bolt,Badminton',\n",
    "    'P. V. Sindhu,Badminton',\n",
    "    'Shane Warne,Cricket',\n",
    "    'David Beckham,Soccer',\n",
    "    'Michael Phelps,Swimming'\n",
    "]"
   ]
  },
  {
   "cell_type": "code",
   "execution_count": 62,
   "id": "3116611c",
   "metadata": {},
   "outputs": [],
   "source": [
    "# Your code should go here\n",
    "ply = famous_players[0]"
   ]
  },
  {
   "cell_type": "code",
   "execution_count": null,
   "id": "cbe92f72",
   "metadata": {},
   "outputs": [],
   "source": [
    "ply.split(',')"
   ]
  },
  {
   "cell_type": "code",
   "execution_count": 59,
   "id": "2b680c39",
   "metadata": {},
   "outputs": [],
   "source": [
    "plya = ply.split(',')"
   ]
  },
  {
   "cell_type": "code",
   "execution_count": 61,
   "id": "0ff4e83a",
   "metadata": {},
   "outputs": [
    {
     "data": {
      "text/plain": [
       "['Usain Bolt,Badminton',\n",
       " 'P. V. Sindhu,Badminton',\n",
       " 'Sachin Tendulkar,Cricket',\n",
       " 'Brian Lara,Cricket',\n",
       " 'Shane Warne,Cricket',\n",
       " 'Diego Maradona,Soccer',\n",
       " 'Ronaldo,Soccer',\n",
       " 'David Beckham,Soccer',\n",
       " 'Ian Thorpe,Swimming',\n",
       " 'Michael Phelps,Swimming',\n",
       " 'Pete Sampras,Tenis',\n",
       " 'Roger Federer,Tennis']"
      ]
     },
     "execution_count": 61,
     "metadata": {},
     "output_type": "execute_result"
    }
   ],
   "source": [
    "sorted(famous_players, key=lambda ply: ply.split(',')[1])"
   ]
  },
  {
   "cell_type": "markdown",
   "id": "5f36261b",
   "metadata": {},
   "source": [
    "* Here is the desired output."
   ]
  },
  {
   "cell_type": "raw",
   "id": "5f0f18bc",
   "metadata": {},
   "source": [
    "['Usain Bolt,Badminton',\n",
    " 'P. V. Sindhu,Badminton',\n",
    " 'Sachin Tendulkar,Cricket',\n",
    " 'Brian Lara,Cricket',\n",
    " 'Shane Warne,Cricket',\n",
    " 'Diego Maradona,Soccer',\n",
    " 'Ronaldo,Soccer',\n",
    " 'David Beckham,Soccer',\n",
    " 'Ian Thorpe,Swimming',\n",
    " 'Michael Phelps,Swimming',\n",
    " 'Pete Sampras,Tenis',\n",
    " 'Roger Federer,Tennis']"
   ]
  },
  {
   "cell_type": "markdown",
   "id": "e834d5ac",
   "metadata": {},
   "source": [
    "### Exercise 3 - Sort inventory by quantity\n",
    "\n",
    "Sort the set of inventory by quantity. Each element of the set is of type string where we have inventory item and corresponding quantity separated by:\n",
    "\n",
    "   * Please not that, quantity is missing for couple of items.\n",
    "   * Data should be sorted in ascending order by quantity numerically.\n",
    "   * The items with missing quantity should come on top."
   ]
  },
  {
   "cell_type": "code",
   "execution_count": 1,
   "id": "e4d03e78",
   "metadata": {},
   "outputs": [],
   "source": [
    "inventory = {\n",
    "    'almond milk:5',\n",
    "    'cake mix:50',\n",
    "    'cardamom:2',\n",
    "    'cashews:',\n",
    "    'pistachios:3',\n",
    "    'rice:50',\n",
    "    'sugar:10',\n",
    "    'vegetable oil:',\n",
    "    'wheat:300'\n",
    "    \n",
    "}"
   ]
  },
  {
   "cell_type": "code",
   "execution_count": 17,
   "id": "ebaf5eed",
   "metadata": {},
   "outputs": [
    {
     "name": "stdout",
     "output_type": "stream",
     "text": [
      "almond milk:5\n",
      "cake mix:50\n",
      "cardamom:2\n",
      "cashews:\n",
      "pistachios:3\n",
      "rice:50\n",
      "sugar:10\n",
      "vegetable oil:\n",
      "wheat:300\n"
     ]
    }
   ],
   "source": [
    "for e in sorted(inventory):\n",
    "    print(e)"
   ]
  },
  {
   "cell_type": "markdown",
   "id": "93581b75",
   "metadata": {},
   "source": [
    "### Exercise 4 - Sorting by Number of Enrollments\n",
    "\n",
    "Let us sort the data by number of enrollments in descending order.\n",
    "\n",
    "   * We have list of courses. Each course have several attribute values which are comma separated or delimited.\n",
    "   * Here is an example for one course. Each course record is of type string.\n",
    "   ```json\n",
    "    '1,2020 Complete Python Bootcamp: From Zero to Hero in Python,Beginner,1100093,4.6,318066'\n",
    "   ```\n",
    "   * We have course ide, course title, suitable for or level (3rd attribute), number of enrollments (4th attribute), cumulative rating and then number of ratings for each course.\n",
    "   * We need to sort the data based on number of enrollments in descending order."
   ]
  },
  {
   "cell_type": "code",
   "execution_count": 5,
   "id": "249583ef",
   "metadata": {},
   "outputs": [],
   "source": [
    "corses = [\n",
    "    '1,2020 Complete Python Bootcamp: From Zero to Hero in Python,Begineer,1100093,4.6,318066',\n",
    "    '4,Angular - The Complete Guide (2020 Edition),Intermediate, 422557,4.6,129984',\n",
    "    '12,Automate the Boring Stuff with Python Programming,Advanced,692617,4.6,70508',\n",
    "    '10,Complete C# Unity Game Developer 2D,Advanced,364934,4.6,78989',\n",
    "    '5,Java Programming Masterclass for Software Developers,Advanced,502572,4.6,123798',\n",
    "    '15,Learn Python Programming Masterclass,Advanced,240790,4.5,58677',\n",
    "    '3,Machine Learning A-Z: hands-On Python & R In Data Science,Intermediate,692812,4.5,132228',\n",
    "    '14,Modern React with Redux [2020 Update],Intermediate,203214,4.7,60835',\n",
    "    '8,Python for Data Science and Machine Learning Bootcamp,Intermediate,387789,4.6,87403',\n",
    "    '18,Selenium WebDriver with Java - Basics to Advanced+Frameworks,Advanced,148562,4.6,49947',\n",
    "    '21,Spring & Hibernate for Begineers (includes Spring Boot),Advanced,177053,4.6,45329',\n",
    "    '7,The Complete 2020 Web Development Bootcamp,Beginner,270656,4.7,88098',\n",
    "    '9,The Complete JavaScript Course 2020: Build Real Projects!,Intermediate,347979,4.6,83521',\n",
    "    '16,The Complete Node.js Developer Course (3rd Edition),Advanced,202922,4.7,50885',\n",
    "    '13,The Complete Web Developer Course 2.0,Intermediate,273598,4.5,63175',\n",
    "    '11,The Data Science Course 2020: Complete Data Science Bootcamp,Beginner,325047,4.5,76907',\n",
    "    '20,The Ultimate MySQL Bootcamp: Go from SQL Beginner to Expert,Beginner,203366,4.6,45382',\n",
    "    '2,The Web Developer Bootcamp,Begineer,596726,4.6,182',\n",
    "    '19,',\n",
    "    '17,'\n",
    "]"
   ]
  },
  {
   "cell_type": "code",
   "execution_count": 6,
   "id": "7701dd5c",
   "metadata": {},
   "outputs": [
    {
     "data": {
      "text/plain": [
       "['',\n",
       " '',\n",
       " '',\n",
       " '',\n",
       " '',\n",
       " '',\n",
       " '',\n",
       " '',\n",
       " '01,2020 Complete Python Bootcamp: From Zero to Hero in Python,Begineer,1100093,4.6,318066',\n",
       " '03,Machine Learning A-Z: hands-On Python & R In Data Science,Intermediate,692812,4.5,132228',\n",
       " '04,Angular - The Complete Guide (2020 Edition),Intermediate, 422557,4.6,129984',\n",
       " '05,Java Programming Masterclass for Software Developers,Advanced,502572,4.6,123798',\n",
       " '07,The Complete 2020 Web Development Bootcamp,Beginner,270656,4.7,88098',\n",
       " '08,Python for Data Science and Machine Learning Bootcamp,Intermediate,387789,4.6,87403',\n",
       " '10,Complete C# Unity Game Developer 2D,Advanced,364934,4.6,78989',\n",
       " '12,Automate the Boring Stuff with Python Programming,Advanced,692617,4.6,70508',\n",
       " '14,Modern React with Redux [2020 Update],Intermediate,203214,4.7,60835',\n",
       " '15,Learn Python Programming Masterclass,Advanced,240790,4.5,58677',\n",
       " '18,Selenium WebDriver with Java - Basics to Advanced+Frameworks,Advanced,148562,4.6,49947',\n",
       " '21,Spring & Hibernate for Begineers (includes Spring Boot),Advanced,177053,4.6,45329']"
      ]
     },
     "execution_count": 6,
     "metadata": {},
     "output_type": "execute_result"
    }
   ],
   "source": [
    "sorted(corses)"
   ]
  },
  {
   "cell_type": "code",
   "execution_count": null,
   "id": "e59f03d1",
   "metadata": {},
   "outputs": [],
   "source": []
  }
 ],
 "metadata": {
  "kernelspec": {
   "display_name": "Python 3 (ipykernel)",
   "language": "python",
   "name": "python3"
  },
  "language_info": {
   "codemirror_mode": {
    "name": "ipython",
    "version": 3
   },
   "file_extension": ".py",
   "mimetype": "text/x-python",
   "name": "python",
   "nbconvert_exporter": "python",
   "pygments_lexer": "ipython3",
   "version": "3.9.7"
  }
 },
 "nbformat": 4,
 "nbformat_minor": 5
}
