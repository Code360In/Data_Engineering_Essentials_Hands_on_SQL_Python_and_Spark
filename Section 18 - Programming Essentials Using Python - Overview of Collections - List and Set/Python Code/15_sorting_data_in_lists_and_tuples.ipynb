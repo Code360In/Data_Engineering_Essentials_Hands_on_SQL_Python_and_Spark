{
 "cells": [
  {
   "cell_type": "markdown",
   "id": "ef2f66e7-a485-4b86-86ea-a0b2dd42e401",
   "metadata": {},
   "source": [
    "## Sorting Data in lists and tuples\n",
    "\n",
    "Let us go through the details about sorting data in lists and sets.\n",
    "* We can use `sorted` function to sort any collection - list, set, dict or tuple. For now, let's focus on list and set.\n",
    "* `sorted` always returns a new list. We typically assign it to a new variable to process the newly created sorted list further.\n",
    "* On top of `list`, we can also invoke `sort` function. While `sorted` creates new list, `sort` will update the existing list. The sorting done by `sort` is also known as **inplace** sorting.\n",
    "* While `sorted` returns a new list, `sort` on top of list returns nothing.\n",
    "* Both `sorted` and `sort` takes same arguments.\n",
    "* We can use `reverse` to sort in reverse order.\n",
    "* We can also sort the data based upon comparison logic passed using `key` argument.\n",
    "* We use `sorted` more often than `list.sort` for following reasons.\n",
    "  * `sorted` can be used on all types of collections - list, set, dict, tuple or any other collection type.\n",
    "  * The original collection will not be touched.\n",
    "  * We can pass `sorted` function to other functions as part of chained calling. For example if we would like to get unique records after sorting, we can say `set(sorted(l))`. It is not possible with `list.sort`"
   ]
  },
  {
   "cell_type": "code",
   "execution_count": 1,
   "id": "46076f56-e50a-4afd-929c-2f65a39ea86e",
   "metadata": {},
   "outputs": [],
   "source": [
    "# Run this to see the syntax of sorted\n",
    "sorted?"
   ]
  },
  {
   "cell_type": "code",
   "execution_count": 2,
   "id": "dc0f4b0f-f18c-4d29-ae61-e5463abf203e",
   "metadata": {},
   "outputs": [],
   "source": [
    "# Run this to see the syntax of sort function\n",
    "list.sort?"
   ]
  },
  {
   "cell_type": "markdown",
   "id": "e4bb1d56-22ca-4b06-90f6-4ab825b06243",
   "metadata": {},
   "source": [
    "* Sorting a simple list using `sorted`"
   ]
  },
  {
   "cell_type": "code",
   "execution_count": 3,
   "id": "3470c532-fbeb-4ff8-9c83-2b2f8796b2e0",
   "metadata": {},
   "outputs": [],
   "source": [
    "l = [1, 3, 2, 6, 4]"
   ]
  },
  {
   "cell_type": "code",
   "execution_count": 4,
   "id": "447a7374-7ddd-4f92-b54c-7e21fecfe92e",
   "metadata": {},
   "outputs": [
    {
     "data": {
      "text/plain": [
       "[1, 2, 3, 4, 6]"
      ]
     },
     "execution_count": 4,
     "metadata": {},
     "output_type": "execute_result"
    }
   ],
   "source": [
    "sorted(l)"
   ]
  },
  {
   "cell_type": "code",
   "execution_count": 5,
   "id": "1b115246-de5b-45cf-bb51-89914c6d4ed4",
   "metadata": {},
   "outputs": [
    {
     "data": {
      "text/plain": [
       "list"
      ]
     },
     "execution_count": 5,
     "metadata": {},
     "output_type": "execute_result"
    }
   ],
   "source": [
    "type(sorted(l))"
   ]
  },
  {
   "cell_type": "code",
   "execution_count": 6,
   "id": "a7ec6c85-a54f-4b4d-9354-43f895715dbe",
   "metadata": {},
   "outputs": [
    {
     "data": {
      "text/plain": [
       "[1, 3, 2, 6, 4]"
      ]
     },
     "execution_count": 6,
     "metadata": {},
     "output_type": "execute_result"
    }
   ],
   "source": [
    "# l did not change\n",
    "l"
   ]
  },
  {
   "cell_type": "code",
   "execution_count": 7,
   "id": "a82a8a69-499c-4255-92b6-856dc0648ce8",
   "metadata": {},
   "outputs": [],
   "source": [
    "# Typical usage for further processing\n",
    "l_sorted = sorted(l)"
   ]
  },
  {
   "cell_type": "code",
   "execution_count": 8,
   "id": "103beb8b-826d-4ab3-8e19-cffc6514e0cb",
   "metadata": {},
   "outputs": [
    {
     "data": {
      "text/plain": [
       "list"
      ]
     },
     "execution_count": 8,
     "metadata": {},
     "output_type": "execute_result"
    }
   ],
   "source": [
    "type(l_sorted)"
   ]
  },
  {
   "cell_type": "code",
   "execution_count": 9,
   "id": "9dc9e50d-481f-468e-8a6d-141825882b6a",
   "metadata": {},
   "outputs": [
    {
     "data": {
      "text/plain": [
       "[1, 2, 3, 4, 6]"
      ]
     },
     "execution_count": 9,
     "metadata": {},
     "output_type": "execute_result"
    }
   ],
   "source": [
    "l_sorted"
   ]
  },
  {
   "cell_type": "code",
   "execution_count": 10,
   "id": "913d75f1",
   "metadata": {},
   "outputs": [
    {
     "data": {
      "text/plain": [
       "[6, 4, 3, 2, 1]"
      ]
     },
     "execution_count": 10,
     "metadata": {},
     "output_type": "execute_result"
    }
   ],
   "source": [
    "sorted(l, reverse=True)"
   ]
  },
  {
   "cell_type": "markdown",
   "id": "e1756cea-8655-4277-9c40-a088a5c79112",
   "metadata": {},
   "source": [
    "* Sorting a simple list using `sort`"
   ]
  },
  {
   "cell_type": "code",
   "execution_count": 11,
   "id": "f8014877-ac8f-48db-a4cc-b223a6934ba5",
   "metadata": {},
   "outputs": [],
   "source": [
    "l = [1, 3, 2, 6, 4]"
   ]
  },
  {
   "cell_type": "code",
   "execution_count": 12,
   "id": "e664f263",
   "metadata": {},
   "outputs": [
    {
     "data": {
      "text/plain": [
       "[1, 3, 2, 6, 4]"
      ]
     },
     "execution_count": 12,
     "metadata": {},
     "output_type": "execute_result"
    }
   ],
   "source": [
    "l"
   ]
  },
  {
   "cell_type": "code",
   "execution_count": 13,
   "id": "f2973787-9a84-4004-ba01-f5806b3d4057",
   "metadata": {},
   "outputs": [],
   "source": [
    "# We typically don't assign to another variable.\n",
    "l.sort()"
   ]
  },
  {
   "cell_type": "code",
   "execution_count": 14,
   "id": "42edc5cc-7e95-4302-b039-fb33a9ee9ca6",
   "metadata": {},
   "outputs": [
    {
     "data": {
      "text/plain": [
       "NoneType"
      ]
     },
     "execution_count": 14,
     "metadata": {},
     "output_type": "execute_result"
    }
   ],
   "source": [
    "type(l.sort())"
   ]
  },
  {
   "cell_type": "code",
   "execution_count": 15,
   "id": "8deca4f1-f342-419b-b8e3-5f36b200bb6d",
   "metadata": {},
   "outputs": [
    {
     "data": {
      "text/plain": [
       "[1, 2, 3, 4, 6]"
      ]
     },
     "execution_count": 15,
     "metadata": {},
     "output_type": "execute_result"
    }
   ],
   "source": [
    "l"
   ]
  },
  {
   "cell_type": "markdown",
   "id": "46bca547-bc12-45ec-90da-9056682f3075",
   "metadata": {},
   "source": [
    "* Sorting a set using `sort`"
   ]
  },
  {
   "cell_type": "code",
   "execution_count": 16,
   "id": "36eb99de-170a-487c-be84-d5457a9438ce",
   "metadata": {},
   "outputs": [],
   "source": [
    "s = {1, 4, 2}"
   ]
  },
  {
   "cell_type": "code",
   "execution_count": 17,
   "id": "1997aa4e",
   "metadata": {},
   "outputs": [
    {
     "data": {
      "text/plain": [
       "{1, 2, 4}"
      ]
     },
     "execution_count": 17,
     "metadata": {},
     "output_type": "execute_result"
    }
   ],
   "source": [
    "s"
   ]
  },
  {
   "cell_type": "code",
   "execution_count": null,
   "id": "2b8075f2-34be-42b5-bf90-89a4e67d5ddf",
   "metadata": {},
   "outputs": [],
   "source": [
    "# This will fail as sort is available only on top of list but not set\n",
    "s.sort()"
   ]
  },
  {
   "cell_type": "code",
   "execution_count": 18,
   "id": "a4634edd-456e-47bf-8f40-3efadb4cecc1",
   "metadata": {},
   "outputs": [
    {
     "data": {
      "text/plain": [
       "[1, 2, 4]"
      ]
     },
     "execution_count": 18,
     "metadata": {},
     "output_type": "execute_result"
    }
   ],
   "source": [
    "sorted(s)"
   ]
  },
  {
   "cell_type": "code",
   "execution_count": 19,
   "id": "e567ed1b",
   "metadata": {},
   "outputs": [
    {
     "data": {
      "text/plain": [
       "[4, 2, 1]"
      ]
     },
     "execution_count": 19,
     "metadata": {},
     "output_type": "execute_result"
    }
   ],
   "source": [
    "sorted(s, reverse=True)"
   ]
  },
  {
   "cell_type": "code",
   "execution_count": 20,
   "id": "2def0e34",
   "metadata": {},
   "outputs": [
    {
     "data": {
      "text/plain": [
       "list"
      ]
     },
     "execution_count": 20,
     "metadata": {},
     "output_type": "execute_result"
    }
   ],
   "source": [
    "type(sorted(s))"
   ]
  },
  {
   "cell_type": "markdown",
   "id": "98891f24-332c-464c-9b07-14781239d806",
   "metadata": {},
   "source": [
    "* Reverse sorting of a list or a set using `sorted`. Similar process can be followed for `list.sort` as well."
   ]
  },
  {
   "cell_type": "code",
   "execution_count": 21,
   "id": "1b941201-0988-4a09-aef5-6efa6b79bc52",
   "metadata": {},
   "outputs": [],
   "source": [
    "l = [1, 3, 2, 6, 4]"
   ]
  },
  {
   "cell_type": "code",
   "execution_count": 22,
   "id": "2d8d22dd-141d-47ea-b1b5-b82976a040a6",
   "metadata": {},
   "outputs": [
    {
     "data": {
      "text/plain": [
       "[6, 4, 3, 2, 1]"
      ]
     },
     "execution_count": 22,
     "metadata": {},
     "output_type": "execute_result"
    }
   ],
   "source": [
    "sorted(l, reverse=True)"
   ]
  },
  {
   "cell_type": "code",
   "execution_count": 23,
   "id": "0dd3cd81",
   "metadata": {},
   "outputs": [],
   "source": [
    "l.sort(reverse=True)"
   ]
  },
  {
   "cell_type": "code",
   "execution_count": 24,
   "id": "419e1436",
   "metadata": {},
   "outputs": [
    {
     "data": {
      "text/plain": [
       "[6, 4, 3, 2, 1]"
      ]
     },
     "execution_count": 24,
     "metadata": {},
     "output_type": "execute_result"
    }
   ],
   "source": [
    "l"
   ]
  }
 ],
 "metadata": {
  "kernelspec": {
   "display_name": "Python 3 (ipykernel)",
   "language": "python",
   "name": "python3"
  },
  "language_info": {
   "codemirror_mode": {
    "name": "ipython",
    "version": 3
   },
   "file_extension": ".py",
   "mimetype": "text/x-python",
   "name": "python",
   "nbconvert_exporter": "python",
   "pygments_lexer": "ipython3",
   "version": "3.9.7"
  }
 },
 "nbformat": 4,
 "nbformat_minor": 5
}
