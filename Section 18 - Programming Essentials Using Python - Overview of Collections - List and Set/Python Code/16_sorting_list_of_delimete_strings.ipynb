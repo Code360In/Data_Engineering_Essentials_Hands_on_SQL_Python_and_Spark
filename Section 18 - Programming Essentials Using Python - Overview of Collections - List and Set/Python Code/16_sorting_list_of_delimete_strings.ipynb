{
 "cells": [
  {
   "cell_type": "markdown",
   "id": "47f13709-7153-4746-aad2-4474404c985a",
   "metadata": {},
   "source": [
    "### Task 1 - Sort employees based upon their salary\n",
    "\n",
    "Let us perform a task to sort employees based upon their salary.\n",
    "* We will create employee list in the form strings.\n",
    "* Employee list will contain employee id, email and salary."
   ]
  },
  {
   "cell_type": "code",
   "execution_count": 1,
   "id": "30455e87-16e9-4961-ac59-3a5d9bcf9d95",
   "metadata": {},
   "outputs": [],
   "source": [
    "employees = [\n",
    "    '1,ktrett0@independent.co.uk,6998.95',\n",
    "    '2,khaddock1@deviantart.com,10572.4',\n",
    "    '3,ecraft2@dell.com,3967.35',\n",
    "    '4,drussam3@t-online.de,17672.44',\n",
    "    '5,graigatt4@github.io,11660.67',\n",
    "    '6,bjaxon5@salon.com,18614.93',\n",
    "    '7,araulston6@list-manage.com,11550.75',\n",
    "    '8,mcobb7@mozilla.com,17016.15',\n",
    "    '9,grobardley8@unesco.org,14141.25',\n",
    "    '10,bbuye9@vkontakte.ru,12193.2'\n",
    "]"
   ]
  },
  {
   "cell_type": "code",
   "execution_count": 2,
   "id": "3a5a4486",
   "metadata": {},
   "outputs": [
    {
     "data": {
      "text/plain": [
       "list"
      ]
     },
     "execution_count": 2,
     "metadata": {},
     "output_type": "execute_result"
    }
   ],
   "source": [
    "type(employees)"
   ]
  },
  {
   "cell_type": "code",
   "execution_count": 3,
   "id": "7b6873d8",
   "metadata": {},
   "outputs": [
    {
     "data": {
      "text/plain": [
       "'1,ktrett0@independent.co.uk,6998.95'"
      ]
     },
     "execution_count": 3,
     "metadata": {},
     "output_type": "execute_result"
    }
   ],
   "source": [
    "employees[0]"
   ]
  },
  {
   "cell_type": "markdown",
   "id": "3b899ba8-db08-4978-8d96-348ac74ed8d8",
   "metadata": {},
   "source": [
    "* We need to sort the data by comparing salaries between employees.\n",
    "* We can define custom comparitor using `key` argument.\n",
    "* Each element or record in the list is comma seperated.\n",
    "* We need to extract the salary as float for right comparison.\n",
    "* Here is how we can extract the salary."
   ]
  },
  {
   "cell_type": "code",
   "execution_count": 4,
   "id": "bad007ab-d801-4be4-b67f-fe0bd2e42027",
   "metadata": {},
   "outputs": [
    {
     "data": {
      "text/plain": [
       "'1,ktrett0@independent.co.uk,6998.95'"
      ]
     },
     "execution_count": 4,
     "metadata": {},
     "output_type": "execute_result"
    }
   ],
   "source": [
    "# Reading first element\n",
    "employees[0]"
   ]
  },
  {
   "cell_type": "code",
   "execution_count": 5,
   "id": "c96fce5c-8d47-4146-a516-981690bc6b1a",
   "metadata": {},
   "outputs": [],
   "source": [
    "emp = employees[0]"
   ]
  },
  {
   "cell_type": "code",
   "execution_count": 6,
   "id": "9b9ace4f-ec58-444a-887e-83b7a31cfe2a",
   "metadata": {},
   "outputs": [
    {
     "data": {
      "text/plain": [
       "str"
      ]
     },
     "execution_count": 6,
     "metadata": {},
     "output_type": "execute_result"
    }
   ],
   "source": [
    "type(emp)"
   ]
  },
  {
   "cell_type": "code",
   "execution_count": 7,
   "id": "05924f94",
   "metadata": {},
   "outputs": [
    {
     "data": {
      "text/plain": [
       "'1,ktrett0@independent.co.uk,6998.95'"
      ]
     },
     "execution_count": 7,
     "metadata": {},
     "output_type": "execute_result"
    }
   ],
   "source": [
    "emp"
   ]
  },
  {
   "cell_type": "code",
   "execution_count": 8,
   "id": "e42981a4-5a3e-4373-b599-34089bf66b0f",
   "metadata": {},
   "outputs": [
    {
     "data": {
      "text/plain": [
       "['1', 'ktrett0@independent.co.uk', '6998.95']"
      ]
     },
     "execution_count": 8,
     "metadata": {},
     "output_type": "execute_result"
    }
   ],
   "source": [
    "# We can use split with ',' as delimiter.\n",
    "# It will create a list of strings.\n",
    "# The list contains 3 elements - id, email and salary\n",
    "# All 3 will be of type string\n",
    "emp.split(',')"
   ]
  },
  {
   "cell_type": "code",
   "execution_count": 9,
   "id": "c126255d-a27b-4c93-87ce-9fca9f34e7bf",
   "metadata": {},
   "outputs": [],
   "source": [
    "emp_list = emp.split(',')"
   ]
  },
  {
   "cell_type": "code",
   "execution_count": 10,
   "id": "bec51f97-2092-48ed-8ad0-03d44ae8f204",
   "metadata": {},
   "outputs": [
    {
     "data": {
      "text/plain": [
       "list"
      ]
     },
     "execution_count": 10,
     "metadata": {},
     "output_type": "execute_result"
    }
   ],
   "source": [
    "type(emp_list)"
   ]
  },
  {
   "cell_type": "code",
   "execution_count": 11,
   "id": "c216d790",
   "metadata": {},
   "outputs": [
    {
     "data": {
      "text/plain": [
       "['1', 'ktrett0@independent.co.uk', '6998.95']"
      ]
     },
     "execution_count": 11,
     "metadata": {},
     "output_type": "execute_result"
    }
   ],
   "source": [
    "emp_list"
   ]
  },
  {
   "cell_type": "code",
   "execution_count": 12,
   "id": "3a6d55fd-63e7-4e28-adcd-69a910532a76",
   "metadata": {},
   "outputs": [
    {
     "name": "stdout",
     "output_type": "stream",
     "text": [
      "Data type of 1 is <class 'str'>\n",
      "Data type of ktrett0@independent.co.uk is <class 'str'>\n",
      "Data type of 6998.95 is <class 'str'>\n"
     ]
    }
   ],
   "source": [
    "for e in emp_list:\n",
    "    print(f'Data type of {e} is {type(e)}')"
   ]
  },
  {
   "cell_type": "code",
   "execution_count": 13,
   "id": "ab6b6e84-812d-4176-9281-aeeb145787bd",
   "metadata": {},
   "outputs": [
    {
     "data": {
      "text/plain": [
       "'6998.95'"
      ]
     },
     "execution_count": 13,
     "metadata": {},
     "output_type": "execute_result"
    }
   ],
   "source": [
    "# Getting salary\n",
    "emp_list[2]"
   ]
  },
  {
   "cell_type": "code",
   "execution_count": 14,
   "id": "b6c3fbcb-4162-4c28-ba5f-638a9a007b6a",
   "metadata": {},
   "outputs": [
    {
     "data": {
      "text/plain": [
       "'6998.95'"
      ]
     },
     "execution_count": 14,
     "metadata": {},
     "output_type": "execute_result"
    }
   ],
   "source": [
    "# We can also -1 to read from the last\n",
    "emp_list[-1]"
   ]
  },
  {
   "cell_type": "code",
   "execution_count": 15,
   "id": "ce30a4aa-dd1c-488d-8909-cee95d8a44d4",
   "metadata": {},
   "outputs": [
    {
     "data": {
      "text/plain": [
       "6998.95"
      ]
     },
     "execution_count": 15,
     "metadata": {},
     "output_type": "execute_result"
    }
   ],
   "source": [
    "# We need to change the data type to float or decimal for right comparison.\n",
    "float(emp_list[-1])"
   ]
  },
  {
   "cell_type": "code",
   "execution_count": 16,
   "id": "2b5af5c3-beeb-490d-b03a-5469dbcec21c",
   "metadata": {},
   "outputs": [
    {
     "data": {
      "text/plain": [
       "6998.95"
      ]
     },
     "execution_count": 16,
     "metadata": {},
     "output_type": "execute_result"
    }
   ],
   "source": [
    "# Complete logic\n",
    "float(emp.split(',')[-1])"
   ]
  },
  {
   "cell_type": "code",
   "execution_count": 17,
   "id": "8ec5776b-03e3-40e1-976f-01df9b99970c",
   "metadata": {},
   "outputs": [
    {
     "data": {
      "text/plain": [
       "['3,ecraft2@dell.com,3967.35',\n",
       " '1,ktrett0@independent.co.uk,6998.95',\n",
       " '2,khaddock1@deviantart.com,10572.4',\n",
       " '7,araulston6@list-manage.com,11550.75',\n",
       " '5,graigatt4@github.io,11660.67',\n",
       " '10,bbuye9@vkontakte.ru,12193.2',\n",
       " '9,grobardley8@unesco.org,14141.25',\n",
       " '8,mcobb7@mozilla.com,17016.15',\n",
       " '4,drussam3@t-online.de,17672.44',\n",
       " '6,bjaxon5@salon.com,18614.93']"
      ]
     },
     "execution_count": 17,
     "metadata": {},
     "output_type": "execute_result"
    }
   ],
   "source": [
    "# We can pass the comparison logic to key function in sorted\n",
    "# You can see the output. It is sorted in ascending order by salary.\n",
    "sorted(employees, key=lambda emp: float(emp.split(',')[-1]))"
   ]
  },
  {
   "cell_type": "code",
   "execution_count": 18,
   "id": "a5eaf4d2-41c2-4473-845d-6ddc7f1cbd6b",
   "metadata": {},
   "outputs": [
    {
     "data": {
      "text/plain": [
       "['6,bjaxon5@salon.com,18614.93',\n",
       " '4,drussam3@t-online.de,17672.44',\n",
       " '8,mcobb7@mozilla.com,17016.15',\n",
       " '9,grobardley8@unesco.org,14141.25',\n",
       " '10,bbuye9@vkontakte.ru,12193.2',\n",
       " '5,graigatt4@github.io,11660.67',\n",
       " '7,araulston6@list-manage.com,11550.75',\n",
       " '2,khaddock1@deviantart.com,10572.4',\n",
       " '1,ktrett0@independent.co.uk,6998.95',\n",
       " '3,ecraft2@dell.com,3967.35']"
      ]
     },
     "execution_count": 18,
     "metadata": {},
     "output_type": "execute_result"
    }
   ],
   "source": [
    "# You can reverse by using reverse keywork argument\n",
    "# reverse will be applied on custom comparison passed as part of key\n",
    "sorted(employees, key=lambda emp: float(emp.split(',')[-1]), reverse=True)"
   ]
  },
  {
   "cell_type": "code",
   "execution_count": 19,
   "id": "ffd55f9b",
   "metadata": {},
   "outputs": [],
   "source": [
    "employees.sort(key=lambda emp: float(emp.split(',')[-1]))"
   ]
  },
  {
   "cell_type": "code",
   "execution_count": 20,
   "id": "8fb9ddc7",
   "metadata": {},
   "outputs": [
    {
     "data": {
      "text/plain": [
       "['3,ecraft2@dell.com,3967.35',\n",
       " '1,ktrett0@independent.co.uk,6998.95',\n",
       " '2,khaddock1@deviantart.com,10572.4',\n",
       " '7,araulston6@list-manage.com,11550.75',\n",
       " '5,graigatt4@github.io,11660.67',\n",
       " '10,bbuye9@vkontakte.ru,12193.2',\n",
       " '9,grobardley8@unesco.org,14141.25',\n",
       " '8,mcobb7@mozilla.com,17016.15',\n",
       " '4,drussam3@t-online.de,17672.44',\n",
       " '6,bjaxon5@salon.com,18614.93']"
      ]
     },
     "execution_count": 20,
     "metadata": {},
     "output_type": "execute_result"
    }
   ],
   "source": [
    "employees"
   ]
  },
  {
   "cell_type": "code",
   "execution_count": 21,
   "id": "3f124894",
   "metadata": {},
   "outputs": [],
   "source": [
    "employees.sort(key=lambda emp: float(emp.split(',')[-1]), reverse=True)"
   ]
  },
  {
   "cell_type": "code",
   "execution_count": 22,
   "id": "f165944d",
   "metadata": {},
   "outputs": [
    {
     "data": {
      "text/plain": [
       "['6,bjaxon5@salon.com,18614.93',\n",
       " '4,drussam3@t-online.de,17672.44',\n",
       " '8,mcobb7@mozilla.com,17016.15',\n",
       " '9,grobardley8@unesco.org,14141.25',\n",
       " '10,bbuye9@vkontakte.ru,12193.2',\n",
       " '5,graigatt4@github.io,11660.67',\n",
       " '7,araulston6@list-manage.com,11550.75',\n",
       " '2,khaddock1@deviantart.com,10572.4',\n",
       " '1,ktrett0@independent.co.uk,6998.95',\n",
       " '3,ecraft2@dell.com,3967.35']"
      ]
     },
     "execution_count": 22,
     "metadata": {},
     "output_type": "execute_result"
    }
   ],
   "source": [
    "employees"
   ]
  },
  {
   "cell_type": "code",
   "execution_count": 23,
   "id": "db78c5db",
   "metadata": {},
   "outputs": [
    {
     "data": {
      "text/plain": [
       "['1,ktrett0@independent.co.uk,6998.95',\n",
       " '3,ecraft2@dell.com,3967.35',\n",
       " '6,bjaxon5@salon.com,18614.93',\n",
       " '4,drussam3@t-online.de,17672.44',\n",
       " '8,mcobb7@mozilla.com,17016.15',\n",
       " '9,grobardley8@unesco.org,14141.25',\n",
       " '10,bbuye9@vkontakte.ru,12193.2',\n",
       " '5,graigatt4@github.io,11660.67',\n",
       " '7,araulston6@list-manage.com,11550.75',\n",
       " '2,khaddock1@deviantart.com,10572.4']"
      ]
     },
     "execution_count": 23,
     "metadata": {},
     "output_type": "execute_result"
    }
   ],
   "source": [
    "sorted(employees, key=lambda emp: emp.split(',')[-1], reverse=True)"
   ]
  },
  {
   "cell_type": "code",
   "execution_count": 24,
   "id": "e8ccd379",
   "metadata": {},
   "outputs": [
    {
     "data": {
      "text/plain": [
       "True"
      ]
     },
     "execution_count": 24,
     "metadata": {},
     "output_type": "execute_result"
    }
   ],
   "source": [
    "'6' > '18614'"
   ]
  }
 ],
 "metadata": {
  "kernelspec": {
   "display_name": "Python 3 (ipykernel)",
   "language": "python",
   "name": "python3"
  },
  "language_info": {
   "codemirror_mode": {
    "name": "ipython",
    "version": 3
   },
   "file_extension": ".py",
   "mimetype": "text/x-python",
   "name": "python",
   "nbconvert_exporter": "python",
   "pygments_lexer": "ipython3",
   "version": "3.9.7"
  }
 },
 "nbformat": 4,
 "nbformat_minor": 5
}
