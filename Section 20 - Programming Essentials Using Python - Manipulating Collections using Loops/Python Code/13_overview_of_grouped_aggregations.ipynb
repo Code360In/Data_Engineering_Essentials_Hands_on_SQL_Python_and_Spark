{
 "cells": [
  {
   "cell_type": "markdown",
   "id": "01620a88",
   "metadata": {},
   "source": [
    "## Overview of Grouped Aggregations\n",
    "\n",
    "Here are some of the examples for grouped aggregations.\n",
    "\n",
    "   * Get number of employees for each department\n",
    "   * Get daily revenue for a given month (aggregation for a given day and filtering based up on month)\n",
    "   * Number of courses enrolled by each student\n",
    "   * Number of students enrolled for each course"
   ]
  },
  {
   "cell_type": "code",
   "execution_count": null,
   "id": "122f430f",
   "metadata": {},
   "outputs": [],
   "source": [
    "%run 07_preparing_data_sets.ipynd"
   ]
  },
  {
   "cell_type": "code",
   "execution_count": null,
   "id": "2628f595",
   "metadata": {},
   "outputs": [],
   "source": [
    "orders[:10]"
   ]
  },
  {
   "cell_type": "code",
   "execution_count": null,
   "id": "35b64ae7",
   "metadata": {},
   "outputs": [],
   "source": [
    "order_items[:10]"
   ]
  }
 ],
 "metadata": {
  "kernelspec": {
   "display_name": "Python 3 (ipykernel)",
   "language": "python",
   "name": "python3"
  },
  "language_info": {
   "codemirror_mode": {
    "name": "ipython",
    "version": 3
   },
   "file_extension": ".py",
   "mimetype": "text/x-python",
   "name": "python",
   "nbconvert_exporter": "python",
   "pygments_lexer": "ipython3",
   "version": "3.9.7"
  }
 },
 "nbformat": 4,
 "nbformat_minor": 5
}
