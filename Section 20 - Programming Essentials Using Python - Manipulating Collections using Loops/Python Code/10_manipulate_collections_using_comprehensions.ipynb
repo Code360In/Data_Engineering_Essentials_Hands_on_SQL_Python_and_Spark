{
 "cells": [
  {
   "cell_type": "markdown",
   "id": "5e830faa",
   "metadata": {},
   "source": [
    "## Manipulate Collections using Comprehensions\n",
    "\n",
    "Comprehensions is alternative way of manipulating lists using conventional loops.\n",
    "\n",
    "   * Comprehensions reduce the effort of coding and improves readability when we want to apply basic transformations on the data.\n",
    "   * We can apply comprehensions on lists, sets, as well as dicts.\n",
    "   * We can create a new list using list comprehensions by applying simple row level transformations.\n",
    "   * We can also perform simple aggregations using list comprehensions."
   ]
  }
 ],
 "metadata": {
  "kernelspec": {
   "display_name": "Python 3 (ipykernel)",
   "language": "python",
   "name": "python3"
  },
  "language_info": {
   "codemirror_mode": {
    "name": "ipython",
    "version": 3
   },
   "file_extension": ".py",
   "mimetype": "text/x-python",
   "name": "python",
   "nbconvert_exporter": "python",
   "pygments_lexer": "ipython3",
   "version": "3.9.7"
  }
 },
 "nbformat": 4,
 "nbformat_minor": 5
}
