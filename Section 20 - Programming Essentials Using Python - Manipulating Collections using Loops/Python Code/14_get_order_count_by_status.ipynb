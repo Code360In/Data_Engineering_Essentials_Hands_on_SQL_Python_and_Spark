{
 "cells": [
  {
   "cell_type": "markdown",
   "id": "75656d9e",
   "metadata": {},
   "source": [
    "## Get Order Count by Status\n",
    "\n",
    "Create a function get_count_by_order_status which takes orders list as argument and returns a dict which contain order_status and corresponding count."
   ]
  },
  {
   "cell_type": "code",
   "execution_count": null,
   "id": "22b25f17",
   "metadata": {},
   "outputs": [],
   "source": [
    "%run 07_preparing_data_sets.ipynd"
   ]
  },
  {
   "cell_type": "code",
   "execution_count": null,
   "id": "d8728e07",
   "metadata": {},
   "outputs": [],
   "source": [
    "orders[:10]"
   ]
  },
  {
   "cell_type": "code",
   "execution_count": null,
   "id": "89a53dbc",
   "metadata": {},
   "outputs": [],
   "source": [
    "order_items[:10]"
   ]
  },
  {
   "cell_type": "code",
   "execution_count": null,
   "id": "47a07cba",
   "metadata": {},
   "outputs": [],
   "source": [
    "order = orders[0]"
   ]
  },
  {
   "cell_type": "code",
   "execution_count": null,
   "id": "1b36dfdd",
   "metadata": {},
   "outputs": [],
   "source": [
    "order_count = {}"
   ]
  },
  {
   "cell_type": "code",
   "execution_count": null,
   "id": "ee9c18a0",
   "metadata": {},
   "outputs": [],
   "source": [
    "order_status = order.split(',')[3]"
   ]
  },
  {
   "cell_type": "code",
   "execution_count": null,
   "id": "994bb825",
   "metadata": {},
   "outputs": [],
   "source": [
    "order_status"
   ]
  },
  {
   "cell_type": "code",
   "execution_count": null,
   "id": "83969e22",
   "metadata": {},
   "outputs": [],
   "source": [
    "order_status in order_count"
   ]
  },
  {
   "cell_type": "code",
   "execution_count": null,
   "id": "bc31e516",
   "metadata": {},
   "outputs": [],
   "source": [
    "if order_status in order_count:\n",
    "    order_count[order_status] +=1"
   ]
  },
  {
   "cell_type": "code",
   "execution_count": null,
   "id": "e58c1545",
   "metadata": {},
   "outputs": [],
   "source": [
    "order_count"
   ]
  },
  {
   "cell_type": "code",
   "execution_count": null,
   "id": "549492d8",
   "metadata": {},
   "outputs": [],
   "source": [
    "order_status not in order_count"
   ]
  },
  {
   "cell_type": "code",
   "execution_count": null,
   "id": "0b574aa1",
   "metadata": {},
   "outputs": [],
   "source": [
    "if order_status not in order_count:\n",
    "    order_count[order_status] = 1"
   ]
  },
  {
   "cell_type": "code",
   "execution_count": null,
   "id": "2fae3b21",
   "metadata": {},
   "outputs": [],
   "source": [
    "order_count"
   ]
  },
  {
   "cell_type": "code",
   "execution_count": null,
   "id": "77a7fc8c",
   "metadata": {},
   "outputs": [],
   "source": [
    "order = orders[2]"
   ]
  },
  {
   "cell_type": "code",
   "execution_count": null,
   "id": "e9795838",
   "metadata": {},
   "outputs": [],
   "source": [
    "order"
   ]
  },
  {
   "cell_type": "code",
   "execution_count": null,
   "id": "633fe4e5",
   "metadata": {},
   "outputs": [],
   "source": [
    "order_status = order.split(',')[3]"
   ]
  },
  {
   "cell_type": "code",
   "execution_count": null,
   "id": "4461af77",
   "metadata": {},
   "outputs": [],
   "source": [
    "order_status"
   ]
  },
  {
   "cell_type": "code",
   "execution_count": null,
   "id": "2c45b148",
   "metadata": {},
   "outputs": [],
   "source": [
    "order_count"
   ]
  },
  {
   "cell_type": "code",
   "execution_count": null,
   "id": "6b2cb876",
   "metadata": {},
   "outputs": [],
   "source": [
    "if order_status in order_count:\n",
    "    order_count[order_status] += 1\n",
    "else:\n",
    "    order_count[order_status] = 1"
   ]
  },
  {
   "cell_type": "code",
   "execution_count": null,
   "id": "db52fbab",
   "metadata": {},
   "outputs": [],
   "source": [
    "order_count"
   ]
  },
  {
   "cell_type": "code",
   "execution_count": null,
   "id": "b759cecd",
   "metadata": {},
   "outputs": [],
   "source": [
    "order = orders[3]"
   ]
  },
  {
   "cell_type": "code",
   "execution_count": null,
   "id": "a1348a95",
   "metadata": {},
   "outputs": [],
   "source": [
    "order"
   ]
  },
  {
   "cell_type": "code",
   "execution_count": null,
   "id": "f012a6df",
   "metadata": {},
   "outputs": [],
   "source": [
    "order_status = order.split(',')[3]"
   ]
  },
  {
   "cell_type": "code",
   "execution_count": null,
   "id": "f666767b",
   "metadata": {},
   "outputs": [],
   "source": [
    "order_status"
   ]
  },
  {
   "cell_type": "code",
   "execution_count": null,
   "id": "6e1f5f16",
   "metadata": {},
   "outputs": [],
   "source": [
    "order_count"
   ]
  },
  {
   "cell_type": "code",
   "execution_count": null,
   "id": "59658ded",
   "metadata": {},
   "outputs": [],
   "source": [
    "if order_status in order_count:\n",
    "    order_count[order_status] += 1\n",
    "else:\n",
    "    order_count[order_status] = 1"
   ]
  },
  {
   "cell_type": "code",
   "execution_count": null,
   "id": "7f180027",
   "metadata": {},
   "outputs": [],
   "source": [
    "order_count"
   ]
  },
  {
   "cell_type": "code",
   "execution_count": null,
   "id": "e941ae7e",
   "metadata": {},
   "outputs": [],
   "source": [
    "def get_count_by_order_status(orders):\n",
    "    # dict\n",
    "    order_count = {}\n",
    "    for order in orders:\n",
    "        order_status = order.split(',')[3]\n",
    "        if order_status in order_count:\n",
    "            # if order_count contains key,\n",
    "            # then increment the existing value by 1\n",
    "            order_count[order_status] += 1\n",
    "        else:\n",
    "            # if order_count does not contain key,\n",
    "            # then add new element to order_count\n",
    "            order_count[order_status] = 1\n",
    "    return order_count "
   ]
  },
  {
   "cell_type": "code",
   "execution_count": null,
   "id": "0487009b",
   "metadata": {},
   "outputs": [],
   "source": [
    "get_count_by_order_status(orders)"
   ]
  },
  {
   "cell_type": "code",
   "execution_count": null,
   "id": "982b3207",
   "metadata": {},
   "outputs": [],
   "source": [
    "type(get_count_by_order_status(orders))"
   ]
  }
 ],
 "metadata": {
  "kernelspec": {
   "display_name": "Python 3 (ipykernel)",
   "language": "python",
   "name": "python3"
  },
  "language_info": {
   "codemirror_mode": {
    "name": "ipython",
    "version": 3
   },
   "file_extension": ".py",
   "mimetype": "text/x-python",
   "name": "python",
   "nbconvert_exporter": "python",
   "pygments_lexer": "ipython3",
   "version": "3.9.7"
  }
 },
 "nbformat": 4,
 "nbformat_minor": 5
}
