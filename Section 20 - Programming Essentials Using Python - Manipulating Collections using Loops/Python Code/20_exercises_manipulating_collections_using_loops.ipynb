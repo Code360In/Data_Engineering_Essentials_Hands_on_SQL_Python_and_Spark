{
 "cells": [
  {
   "cell_type": "markdown",
   "id": "c08db40c",
   "metadata": {},
   "source": [
    "## Exercises - Manipulating Collections using Loops\n",
    "\n",
    "Let us go throuh some of the exercises to understand how to process collections using conventional loops and conditionals. Create functions for each of the below problem statement.\n",
    "\n",
    "   * Get number of COMPLETE orders placed by each customer.\n",
    "   * Get total number of PENDING or PENDING_PAYMENT orders the month of 2014 January.\n",
    "   * Get outstanding amount for each month considering orders with status PAYMENT_REVIEW, PENDING, PENDING_PAYMENT and PROCESSING.\n",
    "   \n",
    "## Details of Data\n",
    "\n",
    "Here are the details about the orders data which you can leverage to take care of these exercises.\n",
    "\n",
    "   * Location `/data/retail_db/orders/part-00000`.\n",
    "   * Each record is line separated or line delimited.\n",
    "   * Attribute in each record is comma separated.\n",
    "   * Here are the columns in the orders data set.\n",
    "      * order_id\n",
    "      * order_date\n",
    "      * order_customer_id\n",
    "      * order_status"
   ]
  },
  {
   "cell_type": "code",
   "execution_count": null,
   "id": "5f45ee70",
   "metadata": {},
   "outputs": [],
   "source": [
    "# get the details about file\n",
    "!ls -ltr /data/retail_db/orders/part-00000"
   ]
  },
  {
   "cell_type": "code",
   "execution_count": null,
   "id": "144e3a91",
   "metadata": {},
   "outputs": [],
   "source": [
    "# Get first five lines from the file\n",
    "!head -5 /data/retail_db/orders/part-00000"
   ]
  },
  {
   "cell_type": "code",
   "execution_count": null,
   "id": "c9faf47e",
   "metadata": {},
   "outputs": [],
   "source": [
    "# Get number of lines from the file\n",
    "# We can use linux command wc with -l\n",
    "wc -l /data/retail_db/orders/part-00000 "
   ]
  },
  {
   "cell_type": "markdown",
   "id": "50976210",
   "metadata": {},
   "source": [
    "Here are the details about the order_items data which you can leverage to take care of these exercises.\n",
    "\n",
    "   * Location `/data/retail_db/orders/part-00000`.\n",
    "   * Each record is line separated or line delimited.\n",
    "   * Attribute in each record is comma separated.\n",
    "   * Here are the columns in the orders data set.\n",
    "      * order_item_id\n",
    "      * order_item_order_id\n",
    "      * order_item_product_id\n",
    "      * order_item_quantity\n",
    "      * order_item_subtotal\n",
    "      * order_item_product_price"
   ]
  },
  {
   "cell_type": "code",
   "execution_count": null,
   "id": "6e56f77c",
   "metadata": {},
   "outputs": [],
   "source": [
    "# get the details about file\n",
    "!ls -ltr /data/retail_db/items/part-00000"
   ]
  },
  {
   "cell_type": "code",
   "execution_count": null,
   "id": "c3afccb0",
   "metadata": {},
   "outputs": [],
   "source": [
    "# Get first five lines from the file\n",
    "!head -5 /data/retail_db/items/part-00000"
   ]
  },
  {
   "cell_type": "code",
   "execution_count": null,
   "id": "6f0bd353",
   "metadata": {},
   "outputs": [],
   "source": [
    "# Get number of lines from the file\n",
    "# We can use linux command wc with -l\n",
    "wc -l /data/retail_db/items/part-00000 "
   ]
  },
  {
   "cell_type": "markdown",
   "id": "f4a8626f",
   "metadata": {},
   "source": [
    "## Exercise 1 - read data from file\n",
    "\n",
    "Before getting into problem statement, develop the code to read the file into list of elements.\n",
    "\n",
    "   * We should be able to use this function to read any file with text data using line as record delimiter."
   ]
  },
  {
   "cell_type": "code",
   "execution_count": null,
   "id": "9e82ab2c",
   "metadata": {},
   "outputs": [],
   "source": [
    "# Update the logic here\n",
    "def get_list_from_file(file_path):\n",
    "    data_list = open(file_path).read().splitlines()\n",
    "    return data_list"
   ]
  },
  {
   "cell_type": "markdown",
   "id": "54116dd5",
   "metadata": {},
   "source": [
    "* Run below cells to validate the function.\n",
    "* You should see 68883 records as part of the output for the cell with `len(orders)` below.\n",
    "* You should see 172198 records as part of the output for the cell with `len(order_items)` below."
   ]
  },
  {
   "cell_type": "code",
   "execution_count": null,
   "id": "c0add75f",
   "metadata": {},
   "outputs": [],
   "source": [
    "orders = get_list_from_file('/data/retail_db/orders/part-00000 ')"
   ]
  },
  {
   "cell_type": "code",
   "execution_count": null,
   "id": "e44ef237",
   "metadata": {},
   "outputs": [],
   "source": [
    "orders[:5]"
   ]
  },
  {
   "cell_type": "code",
   "execution_count": null,
   "id": "48c458a2",
   "metadata": {},
   "outputs": [],
   "source": [
    "len(orders)"
   ]
  },
  {
   "cell_type": "code",
   "execution_count": null,
   "id": "552266c7",
   "metadata": {},
   "outputs": [],
   "source": [
    "order_items = get_list_from_file('/data/retail_db/items/part-00000 ')"
   ]
  },
  {
   "cell_type": "code",
   "execution_count": null,
   "id": "7ccc4bbe",
   "metadata": {},
   "outputs": [],
   "source": [
    "order_items[:5]"
   ]
  },
  {
   "cell_type": "code",
   "execution_count": null,
   "id": "7402855f",
   "metadata": {},
   "outputs": [],
   "source": [
    "len(order_items)"
   ]
  },
  {
   "cell_type": "markdown",
   "id": "3d8e4f3e",
   "metadata": {},
   "source": [
    "## Exercise 2 - Complete Order Count by Customer\n",
    "\n",
    "Get number of COMPLETE orders placed by each customer. Develop a function which read the orders data and get us complete order count by each customer using **order_customer_id.**\n",
    "\n",
    "   * The function should take the complete order list as argument and return count of complete orders by customer. The function should return **dict** type object.\n",
    "   * The order is said to be complete if the **order_status** is **COMPLETE.**\n",
    "   * You can review structure of the data under **Details of Data** section in this notebook."
   ]
  },
  {
   "cell_type": "code",
   "execution_count": null,
   "id": "44031cdc",
   "metadata": {},
   "outputs": [],
   "source": [
    "# Update the logic here\n",
    "def get_complete_order_count_by_customer(orders):\n",
    "    order_count_by_customer = {}\n",
    "    \n",
    "    return get_complete_order_count_by_customer"
   ]
  },
  {
   "cell_type": "markdown",
   "id": "0df8dc9a",
   "metadata": {},
   "source": [
    "* Run below cell to validate the function. You shoud get **22899** as output."
   ]
  },
  {
   "cell_type": "code",
   "execution_count": null,
   "id": "2af06d68",
   "metadata": {},
   "outputs": [],
   "source": [
    "orders = get_list_from_file('/data/retail_db/items/part-00000 ')"
   ]
  },
  {
   "cell_type": "code",
   "execution_count": null,
   "id": "96d511bd",
   "metadata": {},
   "outputs": [],
   "source": [
    "complete_order_count_by_customer = get_complete_order_count_by_customer(orders)"
   ]
  },
  {
   "cell_type": "code",
   "execution_count": null,
   "id": "62095ae4",
   "metadata": {},
   "outputs": [],
   "source": [
    "# This should return dict\n",
    "type(complete_order_count_by_customer)"
   ]
  },
  {
   "cell_type": "code",
   "execution_count": null,
   "id": "2abc6000",
   "metadata": {},
   "outputs": [],
   "source": [
    "# This should return 10538\n",
    "len(complete_order_count_by_customer)"
   ]
  },
  {
   "cell_type": "markdown",
   "id": "c88abb16",
   "metadata": {},
   "source": [
    "* Run below cell to preview thw data.\n",
    "```json\n",
    "(1, 1)\n",
    "(2, 2)\n",
    "(3, 5)\n",
    "(4, 4)\n",
    "(5, 2)\n",
    "```"
   ]
  },
  {
   "cell_type": "code",
   "execution_count": null,
   "id": "43dd0a90",
   "metadata": {},
   "outputs": [],
   "source": [
    "for e in sorted(complete_order_count_by_customer.items())[:5]:\n",
    "    print(e)"
   ]
  },
  {
   "cell_type": "markdown",
   "id": "6161c1ef",
   "metadata": {},
   "source": [
    "## Exercise 3 - Pending Order Count\n",
    "\n",
    "Get total number of PENDING or PENDING_PAYMENT orders for the month of 2014. Develop a function which read the orders data and get us pending order count.\n",
    "\n",
    "   * The function should take the complete order list as argument and return count of pending orders.\n",
    "   * The order is said to be complete if the status is **PENDING** or **PENDING_PAYMENT.** We should only the orders placed in the month of 2014 January.\n",
    "   * The second element in each comma separated record gives us the date.\n",
    "   * The 4th or last element in each comma separated record gives us the order status."
   ]
  },
  {
   "cell_type": "code",
   "execution_count": null,
   "id": "7edacc0f",
   "metadata": {},
   "outputs": [],
   "source": [
    "# Update the logic here\n",
    "def get_pending_order_count(orders):\n",
    "    return order_count"
   ]
  },
  {
   "cell_type": "markdown",
   "id": "9ddcbe1e",
   "metadata": {},
   "source": [
    "* Run below cell to validate your function. You should get **1969** as output."
   ]
  },
  {
   "cell_type": "code",
   "execution_count": null,
   "id": "94aa01bb",
   "metadata": {},
   "outputs": [],
   "source": [
    "get_pending_order_count(orders)"
   ]
  },
  {
   "cell_type": "markdown",
   "id": "7f909544",
   "metadata": {},
   "source": [
    "* You can also validate results using simple linux scripts."
   ]
  },
  {
   "cell_type": "code",
   "execution_count": null,
   "id": "13efe362",
   "metadata": {},
   "outputs": [],
   "source": [
    "!egrep -w '(PENDING|PENDING_PAYMENT)' /data/retail_db/orders/part-00000|grep 2014-01|wc -l"
   ]
  },
  {
   "cell_type": "markdown",
   "id": "73cf378f",
   "metadata": {},
   "source": [
    "## Exercise 4 - Get Outstanding Revenue\n",
    "\n",
    "Get outstanding amount for each month considering orders witn status PAYMENT_REVIEW, PENDING, PENDING_PAYMENT and PROCESSING. Modularize by developing multiple functions.\n",
    "\n",
    "   * Develop a function which takes orders list as argument and retunr a collection of order ids with one of the pending statuses.\n",
    "   * Develop a function which takes **orders_items list** as well as **orders dict with only status** as arguments and return outstanding amount.\n",
    "   * You can use **order_item_subtotal** to compute the outstanding amount.\n",
    "   * Here are the instructions for the solution.\n",
    "      * Create a list or set or dict for pending orders as part of first function with name that starts with **get_pending_orders.**\n",
    "      * As part of **get_outstanding_revenue** make sure to iterate through **order_items** and lookup into **pending_orders** to get the subtotal for each order item.\n",
    "   * Review **Details of Data** section to get more details of columns.\n",
    "   * Develop a function to create list of orders with pending status and lookup into it."
   ]
  },
  {
   "cell_type": "code",
   "execution_count": null,
   "id": "8b5941b9",
   "metadata": {},
   "outputs": [],
   "source": [
    "# Update the logic here\n"
   ]
  },
  {
   "cell_type": "code",
   "execution_count": null,
   "id": "56f3e54b",
   "metadata": {},
   "outputs": [],
   "source": [
    "# It should return 31644\n",
    "len(pending_orders)"
   ]
  },
  {
   "cell_type": "code",
   "execution_count": null,
   "id": "b7647e3f",
   "metadata": {},
   "outputs": [],
   "source": [
    "def get_outstanding_revenue(order_items, pending_orders):\n",
    "    return round(get_outstanding_revenue, 2)"
   ]
  },
  {
   "cell_type": "code",
   "execution_count": null,
   "id": "cc322815",
   "metadata": {},
   "outputs": [],
   "source": [
    "order_items = get_list_from_file('/data/retail_db/order_items/part-00000')"
   ]
  },
  {
   "cell_type": "code",
   "execution_count": null,
   "id": "9dc7c081",
   "metadata": {},
   "outputs": [],
   "source": [
    "%%time\n",
    "# You should get 15982030.54 as outup. Even if it is different by few dollars it is fine.\n",
    "get_outstanding_revenue(order_items, pending_orders)"
   ]
  },
  {
   "cell_type": "markdown",
   "id": "c0cdf399",
   "metadata": {},
   "source": [
    "## Exercise 5 - Compare Performance\n",
    "\n",
    "As part of the previous exercise you were asked to come up with the solution using 3 different approaches. You need to add a markdown cell below each question and provide answer.\n",
    "\n",
    "   * Question: Which of the 3 approaches is faster? Add a markdown cell below and provide your answer.\n",
    "      * list\n",
    "      * set\n",
    "      * dict"
   ]
  },
  {
   "cell_type": "code",
   "execution_count": null,
   "id": "1959ede1",
   "metadata": {},
   "outputs": [],
   "source": []
  },
  {
   "cell_type": "markdown",
   "id": "bf2f5d29",
   "metadata": {},
   "source": [
    "* Question: Provide explanation why the option you have chosen is faster over others. Add a markdown cell below and provide your answer."
   ]
  },
  {
   "cell_type": "code",
   "execution_count": null,
   "id": "1c571c8a",
   "metadata": {},
   "outputs": [],
   "source": []
  }
 ],
 "metadata": {
  "kernelspec": {
   "display_name": "Python 3 (ipykernel)",
   "language": "python",
   "name": "python3"
  },
  "language_info": {
   "codemirror_mode": {
    "name": "ipython",
    "version": 3
   },
   "file_extension": ".py",
   "mimetype": "text/x-python",
   "name": "python",
   "nbconvert_exporter": "python",
   "pygments_lexer": "ipython3",
   "version": "3.9.7"
  }
 },
 "nbformat": 4,
 "nbformat_minor": 5
}
