{
 "cells": [
  {
   "cell_type": "markdown",
   "id": "140306b0",
   "metadata": {},
   "source": [
    "## Set Comprehensions\n",
    "\n",
    "Let us see how we can process Python collections using set comprehensions.\n",
    "\n",
    "   * Set comprehensions can be applied on top of any iterable.\n",
    "   * We will be using orders data set which wiil be available by running notebook related to preparing data sets.\n",
    "   * We will see how to get all unique months from orders data set using set comprehensions.\n",
    "   * Also we will see how to apply filtering to get months related to year 2014 using the same orders data set."
   ]
  },
  {
   "cell_type": "code",
   "execution_count": null,
   "id": "924d48c0",
   "metadata": {},
   "outputs": [],
   "source": [
    "%run 07_preparing_data_sets.ipynb"
   ]
  },
  {
   "cell_type": "code",
   "execution_count": null,
   "id": "1a012831",
   "metadata": {},
   "outputs": [],
   "source": [
    "orders[:10]"
   ]
  },
  {
   "cell_type": "code",
   "execution_count": null,
   "id": "5e5b21c6",
   "metadata": {},
   "outputs": [],
   "source": [
    "len(orders)"
   ]
  },
  {
   "cell_type": "code",
   "execution_count": null,
   "id": "0a66d6b0",
   "metadata": {},
   "outputs": [],
   "source": [
    "order = orders[0]"
   ]
  },
  {
   "cell_type": "code",
   "execution_count": null,
   "id": "cd0c30ab",
   "metadata": {},
   "outputs": [],
   "source": [
    "order"
   ]
  },
  {
   "cell_type": "code",
   "execution_count": null,
   "id": "d238dc03",
   "metadata": {},
   "outputs": [],
   "source": [
    "order.split(',')[1][:7]"
   ]
  },
  {
   "cell_type": "code",
   "execution_count": null,
   "id": "fceedba9",
   "metadata": {},
   "outputs": [],
   "source": [
    "order_months = {order.split(',')[1][:7] for order in orders}"
   ]
  },
  {
   "cell_type": "code",
   "execution_count": null,
   "id": "897f9f64",
   "metadata": {},
   "outputs": [],
   "source": [
    "order_months"
   ]
  },
  {
   "cell_type": "code",
   "execution_count": null,
   "id": "5c509dcf",
   "metadata": {},
   "outputs": [],
   "source": [
    "type(order_months)"
   ]
  },
  {
   "cell_type": "code",
   "execution_count": null,
   "id": "4406122a",
   "metadata": {},
   "outputs": [],
   "source": [
    "order_months = {order.split(',')[1][:7] for order in orders if order.aplit(',')[1].startwith('2014')}"
   ]
  },
  {
   "cell_type": "code",
   "execution_count": null,
   "id": "d35e8b53",
   "metadata": {},
   "outputs": [],
   "source": [
    "order_months"
   ]
  }
 ],
 "metadata": {
  "kernelspec": {
   "display_name": "Python 3 (ipykernel)",
   "language": "python",
   "name": "python3"
  },
  "language_info": {
   "codemirror_mode": {
    "name": "ipython",
    "version": 3
   },
   "file_extension": ".py",
   "mimetype": "text/x-python",
   "name": "python",
   "nbconvert_exporter": "python",
   "pygments_lexer": "ipython3",
   "version": "3.9.7"
  }
 },
 "nbformat": 4,
 "nbformat_minor": 5
}
