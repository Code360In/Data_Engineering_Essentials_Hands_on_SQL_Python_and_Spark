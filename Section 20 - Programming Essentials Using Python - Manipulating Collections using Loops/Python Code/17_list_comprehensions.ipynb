{
 "cells": [
  {
   "cell_type": "markdown",
   "id": "2b3ef328",
   "metadata": {},
   "source": [
    "## List Comprehensions\n",
    "\n",
    "Let us see how we can process data in Python collections using list comprehensions.\n",
    "\n",
    "   * Let us create list of tuples using id and email from the below employees using list comprehensions.\n",
    "   * We will ensure that employee id is of type `int`.\n",
    "   * Here is the approach with conventional loops.\n",
    "      * Create a global list.\n",
    "      * Process each string and extract id and email. Type cast id to `int`.\n",
    "      * Append to the list.\n",
    "      * By the time `employees` is processed, we will have a new list which contain tuples with is and email."
   ]
  },
  {
   "cell_type": "code",
   "execution_count": 1,
   "id": "371ee57b",
   "metadata": {},
   "outputs": [],
   "source": [
    "employees = [\n",
    "    '1,ktrett0@independent.co.uk,6998.95',\n",
    "    '2,khaddock1@deviantart.com,10572.4',\n",
    "    '3,ecraft2@dell.com,3967.35',\n",
    "    '4,drussam3@t-online.de,17672.44',\n",
    "    '5,graigatt4@github.io,11660.67',\n",
    "    '6,bjaxon5@salon.com,18614.93',\n",
    "    '7,araulstone6@list-manage.com,11550.75',\n",
    "    '8,mcobb7@mozilla.com,17016.15',\n",
    "    '9,grobardley8@unesco.org,14141.25',\n",
    "    '10,bbuye9@vkontakte.ru,12193.2'\n",
    "]"
   ]
  },
  {
   "cell_type": "code",
   "execution_count": 2,
   "id": "ade8e8ad",
   "metadata": {},
   "outputs": [],
   "source": [
    "employees_emails = []\n",
    "for employee in employees:\n",
    "    employees_emails.append((int(employee.split(',')[0]), employee.split(',')[1]))"
   ]
  },
  {
   "cell_type": "code",
   "execution_count": 3,
   "id": "52944075",
   "metadata": {},
   "outputs": [
    {
     "data": {
      "text/plain": [
       "[(1, 'ktrett0@independent.co.uk'),\n",
       " (2, 'khaddock1@deviantart.com'),\n",
       " (3, 'ecraft2@dell.com'),\n",
       " (4, 'drussam3@t-online.de'),\n",
       " (5, 'graigatt4@github.io'),\n",
       " (6, 'bjaxon5@salon.com'),\n",
       " (7, 'araulstone6@list-manage.com'),\n",
       " (8, 'mcobb7@mozilla.com'),\n",
       " (9, 'grobardley8@unesco.org'),\n",
       " (10, 'bbuye9@vkontakte.ru')]"
      ]
     },
     "execution_count": 3,
     "metadata": {},
     "output_type": "execute_result"
    }
   ],
   "source": [
    "employees_emails"
   ]
  },
  {
   "cell_type": "markdown",
   "id": "6e19814d",
   "metadata": {},
   "source": [
    "* Here is the approach using `list` comprehensions.\n",
    "   * We can directly write the code using `for` loop and assign it to a variable.\n",
    "   * The variable will be of type `list`.\n",
    "   * There is no need to initialize a list and use `append` function."
   ]
  },
  {
   "cell_type": "code",
   "execution_count": 4,
   "id": "a44078b1",
   "metadata": {},
   "outputs": [],
   "source": [
    "employees_emails = [(int(employee.split(',')[0]), employee.split(',')[1]) for employee in employees]"
   ]
  },
  {
   "cell_type": "code",
   "execution_count": 5,
   "id": "ecd7715c",
   "metadata": {},
   "outputs": [
    {
     "data": {
      "text/plain": [
       "[(1, 'ktrett0@independent.co.uk'),\n",
       " (2, 'khaddock1@deviantart.com'),\n",
       " (3, 'ecraft2@dell.com'),\n",
       " (4, 'drussam3@t-online.de'),\n",
       " (5, 'graigatt4@github.io'),\n",
       " (6, 'bjaxon5@salon.com'),\n",
       " (7, 'araulstone6@list-manage.com'),\n",
       " (8, 'mcobb7@mozilla.com'),\n",
       " (9, 'grobardley8@unesco.org'),\n",
       " (10, 'bbuye9@vkontakte.ru')]"
      ]
     },
     "execution_count": 5,
     "metadata": {},
     "output_type": "execute_result"
    }
   ],
   "source": [
    "employees_emails"
   ]
  },
  {
   "cell_type": "markdown",
   "id": "ae355d46",
   "metadata": {},
   "source": [
    "* We can also apply conditions as part of list comprehensions. The below logic will create list of employees whose salary is greater than $10000."
   ]
  },
  {
   "cell_type": "code",
   "execution_count": 6,
   "id": "c7b7a81a",
   "metadata": {},
   "outputs": [],
   "source": [
    "highest_salaried_employees = [employee for employee in employees if float(employee.split(',')[2]) > 10000]"
   ]
  },
  {
   "cell_type": "code",
   "execution_count": 7,
   "id": "9d325ad2",
   "metadata": {},
   "outputs": [
    {
     "data": {
      "text/plain": [
       "['2,khaddock1@deviantart.com,10572.4',\n",
       " '4,drussam3@t-online.de,17672.44',\n",
       " '5,graigatt4@github.io,11660.67',\n",
       " '6,bjaxon5@salon.com,18614.93',\n",
       " '7,araulstone6@list-manage.com,11550.75',\n",
       " '8,mcobb7@mozilla.com,17016.15',\n",
       " '9,grobardley8@unesco.org,14141.25',\n",
       " '10,bbuye9@vkontakte.ru,12193.2']"
      ]
     },
     "execution_count": 7,
     "metadata": {},
     "output_type": "execute_result"
    }
   ],
   "source": [
    "highest_salaried_employees"
   ]
  },
  {
   "cell_type": "code",
   "execution_count": 8,
   "id": "58960111",
   "metadata": {},
   "outputs": [],
   "source": [
    "highest_salaried_employees = [\n",
    "    (int(employee.split(',')[0]), employee.split(',')[1])\n",
    "    for employee in employees if float(employee.split(',')[2]) > 10000\n",
    "]"
   ]
  },
  {
   "cell_type": "code",
   "execution_count": 9,
   "id": "9d46824c",
   "metadata": {},
   "outputs": [
    {
     "data": {
      "text/plain": [
       "[(2, 'khaddock1@deviantart.com'),\n",
       " (4, 'drussam3@t-online.de'),\n",
       " (5, 'graigatt4@github.io'),\n",
       " (6, 'bjaxon5@salon.com'),\n",
       " (7, 'araulstone6@list-manage.com'),\n",
       " (8, 'mcobb7@mozilla.com'),\n",
       " (9, 'grobardley8@unesco.org'),\n",
       " (10, 'bbuye9@vkontakte.ru')]"
      ]
     },
     "execution_count": 9,
     "metadata": {},
     "output_type": "execute_result"
    }
   ],
   "source": [
    "highest_salaried_employees"
   ]
  },
  {
   "cell_type": "markdown",
   "id": "7d720b0f",
   "metadata": {},
   "source": [
    "* We can also perform aggregations using comprehensions."
   ]
  },
  {
   "cell_type": "code",
   "execution_count": 10,
   "id": "9413dca9",
   "metadata": {},
   "outputs": [],
   "source": [
    "total_salary = round(sum(float(employee.split(',')[2]) for employee in employees), 2)"
   ]
  },
  {
   "cell_type": "code",
   "execution_count": 11,
   "id": "003fe015",
   "metadata": {},
   "outputs": [
    {
     "data": {
      "text/plain": [
       "124388.09"
      ]
     },
     "execution_count": 11,
     "metadata": {},
     "output_type": "execute_result"
    }
   ],
   "source": [
    "total_salary"
   ]
  },
  {
   "cell_type": "code",
   "execution_count": 12,
   "id": "9c9db24c",
   "metadata": {},
   "outputs": [
    {
     "data": {
      "text/plain": [
       "3967.35"
      ]
     },
     "execution_count": 12,
     "metadata": {},
     "output_type": "execute_result"
    }
   ],
   "source": [
    "min(float(employee.split(',')[2]) for employee in employees)"
   ]
  },
  {
   "cell_type": "code",
   "execution_count": 13,
   "id": "1908e49f",
   "metadata": {},
   "outputs": [
    {
     "data": {
      "text/plain": [
       "18614.93"
      ]
     },
     "execution_count": 13,
     "metadata": {},
     "output_type": "execute_result"
    }
   ],
   "source": [
    "max(float(employee.split(',')[2]) for employee in employees)"
   ]
  }
 ],
 "metadata": {
  "kernelspec": {
   "display_name": "Python 3 (ipykernel)",
   "language": "python",
   "name": "python3"
  },
  "language_info": {
   "codemirror_mode": {
    "name": "ipython",
    "version": 3
   },
   "file_extension": ".py",
   "mimetype": "text/x-python",
   "name": "python",
   "nbconvert_exporter": "python",
   "pygments_lexer": "ipython3",
   "version": "3.9.7"
  }
 },
 "nbformat": 4,
 "nbformat_minor": 5
}
