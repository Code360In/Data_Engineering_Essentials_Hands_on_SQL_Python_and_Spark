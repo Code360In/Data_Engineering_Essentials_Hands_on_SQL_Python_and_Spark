{
 "cells": [
  {
   "cell_type": "markdown",
   "id": "a5a5f9e8",
   "metadata": {},
   "source": [
    "## Dict Comprehensions\n",
    "\n",
    "Let us see how we can process Python collections using dict comprehensions.\n",
    "  \n",
    "   * We will be using orders data set which wiil be available by running notebook related to preparing data sets.\n",
    "   * We will see how to get a dict comprehensions. The outuputshould contain key value pairs for each order where order_id is key and order_customer_id is the value."
   ]
  },
  {
   "cell_type": "code",
   "execution_count": null,
   "id": "fb607f2a",
   "metadata": {},
   "outputs": [],
   "source": [
    "%run 07_preparing_data_sets.ipynb"
   ]
  },
  {
   "cell_type": "code",
   "execution_count": null,
   "id": "258c3b57",
   "metadata": {},
   "outputs": [],
   "source": [
    "orders[:10]"
   ]
  },
  {
   "cell_type": "code",
   "execution_count": null,
   "id": "0e4ed872",
   "metadata": {},
   "outputs": [],
   "source": [
    "len(orders)"
   ]
  },
  {
   "cell_type": "code",
   "execution_count": null,
   "id": "28de2ffd",
   "metadata": {},
   "outputs": [],
   "source": [
    "order_customers = {int(order.split(',')[0]): int(order.split(',')[2]) for order in orders}"
   ]
  },
  {
   "cell_type": "code",
   "execution_count": null,
   "id": "aa34633e",
   "metadata": {},
   "outputs": [],
   "source": [
    "type(order_customers)"
   ]
  },
  {
   "cell_type": "code",
   "execution_count": null,
   "id": "72a8203d",
   "metadata": {},
   "outputs": [],
   "source": [
    "order_customers"
   ]
  },
  {
   "cell_type": "code",
   "execution_count": null,
   "id": "571dcd25",
   "metadata": {},
   "outputs": [],
   "source": [
    "order_customers[1]"
   ]
  },
  {
   "cell_type": "code",
   "execution_count": 1,
   "id": "200082b3",
   "metadata": {},
   "outputs": [],
   "source": [
    "employees = [\n",
    "    '1,ktrett0@independent.co.uk,6998.95',\n",
    "    '2,khaddock1@deviantart.com,10572.4',\n",
    "    '3,ecraft2@dell.com,3967.35',\n",
    "    '4,drussam3@t-online.de,17672.44',\n",
    "    '5,graigatt4@github.io,11660.67',\n",
    "    '6,bjaxon5@salon.com,18614.93',\n",
    "    '7,araulstone6@list-manage.com,11550.75',\n",
    "    '8,mcobb7@mozilla.com,17016.15',\n",
    "    '9,grobardley8@unesco.org,14141.25',\n",
    "    '10,bbuye9@vkontakte.ru,12193.2'\n",
    "]"
   ]
  },
  {
   "cell_type": "code",
   "execution_count": 2,
   "id": "7b716ef1",
   "metadata": {},
   "outputs": [],
   "source": [
    "highest_salaried_employees = {\n",
    "    int(employee.split(',')[0]): float(employee.split(',')[2])\n",
    "    for employee in employees\n",
    "    if float(employee.split(',')[2]) > 10000\n",
    "}"
   ]
  },
  {
   "cell_type": "code",
   "execution_count": 3,
   "id": "63661c3d",
   "metadata": {},
   "outputs": [
    {
     "data": {
      "text/plain": [
       "{2: 10572.4,\n",
       " 4: 17672.44,\n",
       " 5: 11660.67,\n",
       " 6: 18614.93,\n",
       " 7: 11550.75,\n",
       " 8: 17016.15,\n",
       " 9: 14141.25,\n",
       " 10: 12193.2}"
      ]
     },
     "execution_count": 3,
     "metadata": {},
     "output_type": "execute_result"
    }
   ],
   "source": [
    "highest_salaried_employees"
   ]
  }
 ],
 "metadata": {
  "kernelspec": {
   "display_name": "Python 3 (ipykernel)",
   "language": "python",
   "name": "python3"
  },
  "language_info": {
   "codemirror_mode": {
    "name": "ipython",
    "version": 3
   },
   "file_extension": ".py",
   "mimetype": "text/x-python",
   "name": "python",
   "nbconvert_exporter": "python",
   "pygments_lexer": "ipython3",
   "version": "3.9.7"
  }
 },
 "nbformat": 4,
 "nbformat_minor": 5
}
