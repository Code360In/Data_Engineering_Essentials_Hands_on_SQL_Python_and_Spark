{
 "cells": [
  {
   "cell_type": "markdown",
   "id": "dc8a63e3",
   "metadata": {},
   "source": [
    "## Get Revenue Details Per Order\n",
    "\n",
    "Create a function get_revenue_per_order which takes order_items list as argument and returns a dict which contain order_item_order_id and corresponding quantity as well as order_revenue.\n",
    "\n",
    "    This is an example to get order_id and corresponding quantity as weel as revenue. For each order_id, quantity and revenue are treated as list."
   ]
  },
  {
   "cell_type": "code",
   "execution_count": null,
   "id": "6b525a7d",
   "metadata": {},
   "outputs": [],
   "source": [
    "%run 07_preparing_data_sets.ipynb"
   ]
  },
  {
   "cell_type": "code",
   "execution_count": null,
   "id": "f1ab6dab",
   "metadata": {},
   "outputs": [],
   "source": [
    "order_items[:10]"
   ]
  },
  {
   "cell_type": "code",
   "execution_count": null,
   "id": "a33028dc",
   "metadata": {},
   "outputs": [],
   "source": [
    "revenue_per_order = {}"
   ]
  },
  {
   "cell_type": "code",
   "execution_count": null,
   "id": "1bc14e3d",
   "metadata": {},
   "outputs": [],
   "source": [
    "order_item = order_items[0]"
   ]
  },
  {
   "cell_type": "code",
   "execution_count": null,
   "id": "f8daeab4",
   "metadata": {},
   "outputs": [],
   "source": [
    "order_item"
   ]
  },
  {
   "cell_type": "code",
   "execution_count": null,
   "id": "5c7e2654",
   "metadata": {},
   "outputs": [],
   "source": [
    "order_item_order_id = int(order_item.split(',')[1])\n",
    "order_item_quantity = int(order_item.split(',')[3])\n",
    "order_item_subtotal = float(order_item.split(',')[4])"
   ]
  },
  {
   "cell_type": "code",
   "execution_count": null,
   "id": "9ac06e5c",
   "metadata": {},
   "outputs": [],
   "source": [
    "order_metrics = [order_item_quantity, order_item_subtotal]"
   ]
  },
  {
   "cell_type": "code",
   "execution_count": null,
   "id": "21055d2e",
   "metadata": {},
   "outputs": [],
   "source": [
    "order_metrics"
   ]
  },
  {
   "cell_type": "code",
   "execution_count": null,
   "id": "5ffc8b38",
   "metadata": {},
   "outputs": [],
   "source": [
    "order_item_order_id in revenue_per_order"
   ]
  },
  {
   "cell_type": "code",
   "execution_count": null,
   "id": "9ca97c0c",
   "metadata": {},
   "outputs": [],
   "source": [
    "revenue_per_order.get(order_item_order_id)"
   ]
  },
  {
   "cell_type": "code",
   "execution_count": null,
   "id": "ea834be8",
   "metadata": {},
   "outputs": [],
   "source": [
    "if revenue_per_order.get(order_item_order_id):\n",
    "    revenue_per_order[order_item_order][0] += order_metrics[0]\n",
    "    revenue_per_order[order_item_order][1] += order_metrics[1]"
   ]
  },
  {
   "cell_type": "code",
   "execution_count": null,
   "id": "b40f21b0",
   "metadata": {},
   "outputs": [],
   "source": [
    "revenue_per_order"
   ]
  },
  {
   "cell_type": "code",
   "execution_count": null,
   "id": "4b005686",
   "metadata": {},
   "outputs": [],
   "source": [
    "if not revenue_per_order.get(order_item, order_id):\n",
    "    revenue_per_order[order_item_order_id] = order_metrics"
   ]
  },
  {
   "cell_type": "code",
   "execution_count": null,
   "id": "a9878b1d",
   "metadata": {},
   "outputs": [],
   "source": [
    "revenue_per_order"
   ]
  },
  {
   "cell_type": "code",
   "execution_count": null,
   "id": "6469c3b7",
   "metadata": {},
   "outputs": [],
   "source": [
    "order_item = order_items[1]"
   ]
  },
  {
   "cell_type": "code",
   "execution_count": null,
   "id": "8ab5c132",
   "metadata": {},
   "outputs": [],
   "source": [
    "order_item"
   ]
  },
  {
   "cell_type": "code",
   "execution_count": null,
   "id": "e5e6d817",
   "metadata": {},
   "outputs": [],
   "source": [
    "order_item_order_id = int(order_item.split(',')[1])\n",
    "order_item_quantity = int(order_item.split(',')[3])\n",
    "order_item_subtotal = float(order_item.split(',')[4])\n",
    "\n",
    "order_metrics = [order_item_quantity, order_item_subtotal]"
   ]
  },
  {
   "cell_type": "code",
   "execution_count": null,
   "id": "806295a2",
   "metadata": {},
   "outputs": [],
   "source": [
    "order_item_order_id"
   ]
  },
  {
   "cell_type": "code",
   "execution_count": null,
   "id": "8658e0a8",
   "metadata": {},
   "outputs": [],
   "source": [
    "order_metrics"
   ]
  },
  {
   "cell_type": "code",
   "execution_count": null,
   "id": "1299095c",
   "metadata": {},
   "outputs": [],
   "source": [
    "revenue_per_order"
   ]
  },
  {
   "cell_type": "code",
   "execution_count": null,
   "id": "b39a98ff",
   "metadata": {},
   "outputs": [],
   "source": [
    "if revenue_per_order.get(order_item_order_id):\n",
    "    revenue_per_order[order_item_order][0] += order_metrics[0]\n",
    "    revenue_per_order[order_item_order][1] += order_metrics[1]\n",
    "else:\n",
    "    revenue_per_order[order_item_order_id] = order_metrics"
   ]
  },
  {
   "cell_type": "code",
   "execution_count": null,
   "id": "34ee86da",
   "metadata": {},
   "outputs": [],
   "source": [
    "revenue_per_order"
   ]
  },
  {
   "cell_type": "code",
   "execution_count": null,
   "id": "6000aae2",
   "metadata": {},
   "outputs": [],
   "source": [
    "order_item = order_items[2]"
   ]
  },
  {
   "cell_type": "code",
   "execution_count": null,
   "id": "5b79a844",
   "metadata": {},
   "outputs": [],
   "source": [
    "order_item"
   ]
  },
  {
   "cell_type": "code",
   "execution_count": null,
   "id": "41927337",
   "metadata": {},
   "outputs": [],
   "source": [
    "order_item_order_id = int(order_item.split(',')[1])\n",
    "order_item_quantity = int(order_item.split(',')[3])\n",
    "order_item_subtotal = float(order_item.split(',')[4])\n",
    "\n",
    "order_metrics = [order_item_quantity, order_item_subtotal]"
   ]
  },
  {
   "cell_type": "code",
   "execution_count": null,
   "id": "4dd15035",
   "metadata": {},
   "outputs": [],
   "source": [
    "revenue_per_order"
   ]
  },
  {
   "cell_type": "code",
   "execution_count": null,
   "id": "26d80118",
   "metadata": {},
   "outputs": [],
   "source": [
    "revenue_per_order[order_item_order_id][0] = revenue_per_order[order_item_order_id][0] + order_metrics[0]\n",
    "revenue_per_order[order_item_order_id][1] = revenue_per_order[order_item_order_id][1] + order_metrics[1]"
   ]
  },
  {
   "cell_type": "code",
   "execution_count": null,
   "id": "6dae5f78",
   "metadata": {},
   "outputs": [],
   "source": [
    "revenue_per_order"
   ]
  },
  {
   "cell_type": "code",
   "execution_count": null,
   "id": "ae5b62c8",
   "metadata": {},
   "outputs": [],
   "source": [
    "if revenue_per_order.get(order_item_order_id):\n",
    "    revenue_per_order[order_item_order][0] += order_metrics[0]\n",
    "    revenue_per_order[order_item_order][1] += order_metrics[1]\n",
    "else:\n",
    "    revenue_per_order[order_item_order_id] = order_metrics"
   ]
  },
  {
   "cell_type": "code",
   "execution_count": null,
   "id": "1cc3ba69",
   "metadata": {},
   "outputs": [],
   "source": [
    "revenue_per_order"
   ]
  },
  {
   "cell_type": "code",
   "execution_count": null,
   "id": "4ba6cae1",
   "metadata": {},
   "outputs": [],
   "source": [
    "def revenue_per_order(order_items):\n",
    "    revenue_per_order = {}\n",
    "    for order_item = order_items:\n",
    "        order_item_order_id = int(order_item.split(',')[1])\n",
    "        order_item_quantity = int(order_item.split(',')[3])\n",
    "        order_item_subtotal = float(order_item.split(',')[4])\n",
    "        order_metrics = [order_item_quantity, order_item_subtotal]\n",
    "        if revenue_per_order.get(order_item_order_id):\n",
    "            # if revenue_per_order contains key,\n",
    "            # then add order_item_subtotal to existing value\n",
    "            revenue_per_order[order_item_order][0] += order_metrics[0]\n",
    "            revenue_per_order[order_item_order][1] += order_metrics[1]\n",
    "        else:\n",
    "            # if revenue_per_order does not contains key,\n",
    "            # then add new to revenue_per_order\n",
    "            revenue_per_order[order_item_order_id] = order_metrics\n",
    "    return revenue_per_order"
   ]
  },
  {
   "cell_type": "code",
   "execution_count": null,
   "id": "ac6c3280",
   "metadata": {},
   "outputs": [],
   "source": [
    "list(revenue_per_order(order_item).items())[:10]"
   ]
  },
  {
   "cell_type": "markdown",
   "id": "53343863",
   "metadata": {},
   "source": [
    "This is an example to get order_id and corresponding quantity as well as revenue. For each order_id, quantity and revenue are treated as dict."
   ]
  },
  {
   "cell_type": "code",
   "execution_count": null,
   "id": "169005c8",
   "metadata": {},
   "outputs": [],
   "source": [
    "def get_revenue_per_order(order_items):\n",
    "    revenue_per_order = {}\n",
    "    for order_item = order_items:\n",
    "        order_item_order_id = int(order_item.split(',')[1])\n",
    "        order_item_quantity = int(order_item.split(',')[3])\n",
    "        order_item_subtotal = float(order_item.split(',')[4])\n",
    "        order_metrics = {'order_item_quantity': order_item_quantity, 'order_item_subtotal': order_item_subtotal}\n",
    "        if revenue_per_order.get(order_item_order_id):\n",
    "            # if revenue_per_order contains key,\n",
    "            # then add order_item_subtotal to existing value\n",
    "            revenue_per_order[order_item_order]['order_item_quantity'] += order_metrics['order_item_quantity']\n",
    "            revenue_per_order[order_item_order]['order_item_subtotal'] += order_metrics['order_item_subtotal']\n",
    "        else:\n",
    "            # if revenue_per_order does not contains key,\n",
    "            # then add new to revenue_per_order\n",
    "            revenue_per_order[order_item_order_id] = order_metrics\n",
    "    return revenue_per_order"
   ]
  },
  {
   "cell_type": "code",
   "execution_count": null,
   "id": "c9017c64",
   "metadata": {},
   "outputs": [],
   "source": [
    "list(get_revenue_per_order(order_item).items())[:10]"
   ]
  }
 ],
 "metadata": {
  "kernelspec": {
   "display_name": "Python 3 (ipykernel)",
   "language": "python",
   "name": "python3"
  },
  "language_info": {
   "codemirror_mode": {
    "name": "ipython",
    "version": 3
   },
   "file_extension": ".py",
   "mimetype": "text/x-python",
   "name": "python",
   "nbconvert_exporter": "python",
   "pygments_lexer": "ipython3",
   "version": "3.9.7"
  }
 },
 "nbformat": 4,
 "nbformat_minor": 5
}
