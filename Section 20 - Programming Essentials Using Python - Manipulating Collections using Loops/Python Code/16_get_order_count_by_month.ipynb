{
 "cells": [
  {
   "cell_type": "markdown",
   "id": "677022e9",
   "metadata": {},
   "source": [
    "## Get Order Count by Month\n",
    "\n",
    "Create a function get_order_count_by_month which takes orders list and order_status as arguments and returns a dict which contain order_month and count.\n",
    "\n",
    "   * We only have to get count those orders which belong to the passed order_status.\n",
    "   * If order_status is not passed then we need to count all records."
   ]
  },
  {
   "cell_type": "code",
   "execution_count": null,
   "id": "5c7a89e7",
   "metadata": {},
   "outputs": [],
   "source": [
    "%run 07_preparing_data_sets.ipynb"
   ]
  },
  {
   "cell_type": "code",
   "execution_count": null,
   "id": "19f9fade",
   "metadata": {},
   "outputs": [],
   "source": [
    "order[:10]"
   ]
  },
  {
   "cell_type": "code",
   "execution_count": null,
   "id": "a3b3f194",
   "metadata": {},
   "outputs": [],
   "source": [
    "order = orders[0]"
   ]
  },
  {
   "cell_type": "code",
   "execution_count": null,
   "id": "5c939b4a",
   "metadata": {},
   "outputs": [],
   "source": [
    "order"
   ]
  },
  {
   "cell_type": "code",
   "execution_count": null,
   "id": "ed92363e",
   "metadata": {},
   "outputs": [],
   "source": [
    "order.split(',')[1][:7]"
   ]
  },
  {
   "cell_type": "code",
   "execution_count": null,
   "id": "25297eb5",
   "metadata": {},
   "outputs": [],
   "source": [
    "def get_order_count_by_month(orders, orders_status='ALL'):\n",
    "    order_count = {}\n",
    "    for order in orders:\n",
    "        order_month = order.split(',')[1][7]\n",
    "        l_order_status = order.split(',')[3]\n",
    "        if order_status == 'ALL' or l_order_status == order_status:\n",
    "            if order_month in order_count:\n",
    "                order_count[order_month] += 1\n",
    "            else:\n",
    "                order_count[order_month] = 1\n",
    "    return order_count"
   ]
  },
  {
   "cell_type": "code",
   "execution_count": null,
   "id": "dc5bcd50",
   "metadata": {},
   "outputs": [],
   "source": [
    "get_order_count_by_month(orders)"
   ]
  },
  {
   "cell_type": "code",
   "execution_count": null,
   "id": "ec1a9956",
   "metadata": {},
   "outputs": [],
   "source": [
    "get_order_count_by_month(orders, 'COMPLETE')"
   ]
  },
  {
   "cell_type": "code",
   "execution_count": null,
   "id": "25e739e5",
   "metadata": {},
   "outputs": [],
   "source": [
    "get_order_count_by_month(orders, 'CLOSED')"
   ]
  }
 ],
 "metadata": {
  "kernelspec": {
   "display_name": "Python 3 (ipykernel)",
   "language": "python",
   "name": "python3"
  },
  "language_info": {
   "codemirror_mode": {
    "name": "ipython",
    "version": 3
   },
   "file_extension": ".py",
   "mimetype": "text/x-python",
   "name": "python",
   "nbconvert_exporter": "python",
   "pygments_lexer": "ipython3",
   "version": "3.9.7"
  }
 },
 "nbformat": 4,
 "nbformat_minor": 5
}
