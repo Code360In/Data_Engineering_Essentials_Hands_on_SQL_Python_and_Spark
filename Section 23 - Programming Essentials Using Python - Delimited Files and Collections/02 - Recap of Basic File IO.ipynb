{
 "cells": [
  {
   "cell_type": "markdown",
   "id": "b04c34a4",
   "metadata": {},
   "source": [
    "## Recap of Basic File IO\n",
    "\n",
    "Let us quickly recap basic file IO using first class Python functions.\n",
    "\n",
    "* We use `open` to open a file with `r` for read only purpose.\n",
    "* We can use `open` to open a file with `w` to create a new file and write or to overwrite the existing file.\n",
    "* We can use `open` to open a file in append mode by using `a`. If the file does not exists, it will be created and if the file does exists then the content will be appended at the end of the file.\n",
    "* We might have to introduce `\\n` (new line character) after each element if we want to write a list of elements into a file.\n",
    "* In case if we want to create a file, only if it does not exists, then we can use `open` with `x`. If the file exists, it will throw error.\n",
    "* Lets us perform a task to read a file under **data/retail_db/orders.** The data folder which we are trying to write should be under our current folder."
   ]
  },
  {
   "cell_type": "code",
   "execution_count": null,
   "id": "1ff72ca4",
   "metadata": {},
   "outputs": [],
   "source": [
    "!ls -ltr /data/retail_db/orders/part-00000"
   ]
  },
  {
   "cell_type": "code",
   "execution_count": null,
   "id": "d546bdf4",
   "metadata": {},
   "outputs": [],
   "source": [
    "!file /data/retail_db/orders/part-00000"
   ]
  },
  {
   "cell_type": "code",
   "execution_count": null,
   "id": "d0f09277",
   "metadata": {},
   "outputs": [],
   "source": [
    "!head -5 /data/retail_db/orders/part-00000"
   ]
  },
  {
   "cell_type": "code",
   "execution_count": null,
   "id": "93467eb5",
   "metadata": {},
   "outputs": [],
   "source": [
    "orders = open('/data/retail_db/orders/part-00000').read().splitlines()"
   ]
  },
  {
   "cell_type": "code",
   "execution_count": null,
   "id": "797f4f31",
   "metadata": {},
   "outputs": [],
   "source": [
    "type(orders)"
   ]
  },
  {
   "cell_type": "code",
   "execution_count": null,
   "id": "aef631cd",
   "metadata": {},
   "outputs": [],
   "source": [
    "len(orders)"
   ]
  },
  {
   "cell_type": "code",
   "execution_count": null,
   "id": "3c958d02",
   "metadata": {},
   "outputs": [],
   "source": [
    "orders[0]"
   ]
  },
  {
   "cell_type": "markdown",
   "id": "426b8d33",
   "metadata": {},
   "source": [
    "* Write the list `orders` to the target file."
   ]
  },
  {
   "cell_type": "code",
   "execution_count": null,
   "id": "63c1e4ab",
   "metadata": {},
   "outputs": [],
   "source": [
    "!rm -rf data/retail_db/orders"
   ]
  },
  {
   "cell_type": "code",
   "execution_count": null,
   "id": "b499b162",
   "metadata": {},
   "outputs": [],
   "source": [
    "!mkdir -p data/retail_db/orders"
   ]
  },
  {
   "cell_type": "code",
   "execution_count": null,
   "id": "02a4bae0",
   "metadata": {},
   "outputs": [],
   "source": [
    "orders_file = open('data/retail_db/orders/part-00000', 'w')"
   ]
  },
  {
   "cell_type": "code",
   "execution_count": null,
   "id": "a1522736",
   "metadata": {},
   "outputs": [],
   "source": [
    "for order in orders:\n",
    "    orders_file.write(f'{order}\\n')"
   ]
  },
  {
   "cell_type": "code",
   "execution_count": null,
   "id": "53c76e61",
   "metadata": {},
   "outputs": [],
   "source": [
    "orders_file.close()"
   ]
  },
  {
   "cell_type": "markdown",
   "id": "4a314aae",
   "metadata": {},
   "source": [
    "* Validate whether file is created or not as expected."
   ]
  },
  {
   "cell_type": "code",
   "execution_count": null,
   "id": "4e3ef833",
   "metadata": {},
   "outputs": [],
   "source": [
    "!ls -ltr data/retail_db/orders"
   ]
  },
  {
   "cell_type": "code",
   "execution_count": null,
   "id": "ccdfdc66",
   "metadata": {},
   "outputs": [],
   "source": [
    "!head -5 data/retail_db/orders/part-00000"
   ]
  },
  {
   "cell_type": "code",
   "execution_count": null,
   "id": "e5ad92e1",
   "metadata": {},
   "outputs": [],
   "source": [
    "!wc -l data/retail_db/orders/part-00000"
   ]
  }
 ],
 "metadata": {
  "kernelspec": {
   "display_name": "Python 3 (ipykernel)",
   "language": "python",
   "name": "python3"
  },
  "language_info": {
   "codemirror_mode": {
    "name": "ipython",
    "version": 3
   },
   "file_extension": ".py",
   "mimetype": "text/x-python",
   "name": "python",
   "nbconvert_exporter": "python",
   "pygments_lexer": "ipython3",
   "version": "3.9.7"
  }
 },
 "nbformat": 4,
 "nbformat_minor": 5
}
