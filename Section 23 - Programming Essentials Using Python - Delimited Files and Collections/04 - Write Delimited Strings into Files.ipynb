{
 "cells": [
  {
   "cell_type": "markdown",
   "id": "abe2817b",
   "metadata": {},
   "source": [
    "## Write Delimited Strings into Files\n",
    "\n",
    "Let us understand how to write delimited strings into files. We will start with a collection or list of tuples and see how to convert to delimited strings before writing to a file.\n",
    "\n",
    "Here are the steps involved to write list of tuples into file as delimited strings.\n",
    "\n",
    "* Convert the list of tuples into list of delimited strings.\n",
    "* Open the file in write mode using `w` (overwrite) or `a` (append).\n",
    "* Add the data into the file.\n",
    "* Ensure that the data in the file is validated."
   ]
  },
  {
   "cell_type": "code",
   "execution_count": 1,
   "id": "3ec67b8d",
   "metadata": {},
   "outputs": [],
   "source": [
    "orders = [(1,'2013-07-25 00:00:00.0', 11599, 'CLOSED'),\n",
    "          (2,'2013-07-25 00:00:00.0', 256, 'PENDING_PAYMENT'),\n",
    "          (3,'2013-07-25 00:00:00.0', 1211, 'COMPLETE'),\n",
    "          (4,'2013-07-25 00:00:00.0', 8827, 'CLOSED'),\n",
    "          (5,'2013-07-25 00:00:00.0', 11318, 'COMPLETE'),\n",
    "          (6,'2013-07-25 00:00:00.0', 7130, 'COMPLETE'),\n",
    "          (7,'2013-07-25 00:00:00.0', 4530, 'COMPLETE'),\n",
    "          (8,'2013-07-25 00:00:00.0', 2911, 'PROCESSING'),\n",
    "          (9,'2013-07-25 00:00:00.0', 5657, 'PENDING_PAYMENT'),\n",
    "          (10,'2013-07-25 00:00:00.0', 5648, 'PENDING_PAYMENT')\n",
    "         ]"
   ]
  },
  {
   "cell_type": "code",
   "execution_count": 2,
   "id": "4e9dadd8",
   "metadata": {},
   "outputs": [
    {
     "data": {
      "text/plain": [
       "list"
      ]
     },
     "execution_count": 2,
     "metadata": {},
     "output_type": "execute_result"
    }
   ],
   "source": [
    "type(orders)"
   ]
  },
  {
   "cell_type": "code",
   "execution_count": 3,
   "id": "e7924bbf",
   "metadata": {},
   "outputs": [
    {
     "data": {
      "text/plain": [
       "(1, '2013-07-25 00:00:00.0', 11599, 'CLOSED')"
      ]
     },
     "execution_count": 3,
     "metadata": {},
     "output_type": "execute_result"
    }
   ],
   "source": [
    "orders[0]"
   ]
  },
  {
   "cell_type": "code",
   "execution_count": 4,
   "id": "62b0704f",
   "metadata": {},
   "outputs": [
    {
     "data": {
      "text/plain": [
       "tuple"
      ]
     },
     "execution_count": 4,
     "metadata": {},
     "output_type": "execute_result"
    }
   ],
   "source": [
    "type(orders[0])"
   ]
  },
  {
   "cell_type": "code",
   "execution_count": 5,
   "id": "64a0eb4a",
   "metadata": {},
   "outputs": [],
   "source": [
    "order = orders[0]"
   ]
  },
  {
   "cell_type": "code",
   "execution_count": 6,
   "id": "5df3e06f",
   "metadata": {},
   "outputs": [],
   "source": [
    "str.join?"
   ]
  },
  {
   "cell_type": "code",
   "execution_count": 7,
   "id": "d75b5c8f",
   "metadata": {},
   "outputs": [
    {
     "ename": "TypeError",
     "evalue": "sequence item 0: expected str instance, int found",
     "output_type": "error",
     "traceback": [
      "\u001b[1;31m---------------------------------------------------------------------------\u001b[0m",
      "\u001b[1;31mTypeError\u001b[0m                                 Traceback (most recent call last)",
      "\u001b[1;32mC:\\Users\\ROMULO~1\\AppData\\Local\\Temp/ipykernel_5236/1263594501.py\u001b[0m in \u001b[0;36m<module>\u001b[1;34m\u001b[0m\n\u001b[0;32m      1\u001b[0m \u001b[1;31m# Throws error as first and third elements are of type int\u001b[0m\u001b[1;33m\u001b[0m\u001b[1;33m\u001b[0m\u001b[0m\n\u001b[1;32m----> 2\u001b[1;33m \u001b[1;34m','\u001b[0m\u001b[1;33m.\u001b[0m\u001b[0mjoin\u001b[0m\u001b[1;33m(\u001b[0m\u001b[0morder\u001b[0m\u001b[1;33m)\u001b[0m\u001b[1;33m\u001b[0m\u001b[1;33m\u001b[0m\u001b[0m\n\u001b[0m",
      "\u001b[1;31mTypeError\u001b[0m: sequence item 0: expected str instance, int found"
     ]
    }
   ],
   "source": [
    "# Throws error as first and third elements are of type int\n",
    "','.join(order)"
   ]
  },
  {
   "cell_type": "code",
   "execution_count": 8,
   "id": "577179fb",
   "metadata": {},
   "outputs": [
    {
     "data": {
      "text/plain": [
       "['1', '2013-07-25 00:00:00.0', '11599', 'CLOSED']"
      ]
     },
     "execution_count": 8,
     "metadata": {},
     "output_type": "execute_result"
    }
   ],
   "source": [
    "[str(item) for item in order]"
   ]
  },
  {
   "cell_type": "code",
   "execution_count": 9,
   "id": "205c9b07",
   "metadata": {},
   "outputs": [
    {
     "data": {
      "text/plain": [
       "'1,2013-07-25 00:00:00.0,11599,CLOSED'"
      ]
     },
     "execution_count": 9,
     "metadata": {},
     "output_type": "execute_result"
    }
   ],
   "source": [
    "# Converting all the items in tuple to strings using list comprehension\n",
    "','.join([str(item) for item in order])"
   ]
  },
  {
   "cell_type": "code",
   "execution_count": 10,
   "id": "e6ec49f5",
   "metadata": {},
   "outputs": [
    {
     "data": {
      "text/plain": [
       "['1', '2013-07-25 00:00:00.0', '11599', 'CLOSED']"
      ]
     },
     "execution_count": 10,
     "metadata": {},
     "output_type": "execute_result"
    }
   ],
   "source": [
    "list(map(lambda item: str(item), order))"
   ]
  },
  {
   "cell_type": "code",
   "execution_count": 11,
   "id": "9f89c6a4",
   "metadata": {},
   "outputs": [
    {
     "data": {
      "text/plain": [
       "'1,2013-07-25 00:00:00.0,11599,CLOSED'"
      ]
     },
     "execution_count": 11,
     "metadata": {},
     "output_type": "execute_result"
    }
   ],
   "source": [
    "# Converting all the items in tuple to strings using map function\n",
    "','.join(map(lambda item: str(item), order))"
   ]
  },
  {
   "cell_type": "code",
   "execution_count": 12,
   "id": "3010e2db",
   "metadata": {},
   "outputs": [
    {
     "data": {
      "text/plain": [
       "[(1, '2013-07-25 00:00:00.0', 11599, 'CLOSED'),\n",
       " (2, '2013-07-25 00:00:00.0', 256, 'PENDING_PAYMENT'),\n",
       " (3, '2013-07-25 00:00:00.0', 1211, 'COMPLETE'),\n",
       " (4, '2013-07-25 00:00:00.0', 8827, 'CLOSED'),\n",
       " (5, '2013-07-25 00:00:00.0', 11318, 'COMPLETE'),\n",
       " (6, '2013-07-25 00:00:00.0', 7130, 'COMPLETE'),\n",
       " (7, '2013-07-25 00:00:00.0', 4530, 'COMPLETE'),\n",
       " (8, '2013-07-25 00:00:00.0', 2911, 'PROCESSING'),\n",
       " (9, '2013-07-25 00:00:00.0', 5657, 'PENDING_PAYMENT'),\n",
       " (10, '2013-07-25 00:00:00.0', 5648, 'PENDING_PAYMENT')]"
      ]
     },
     "execution_count": 12,
     "metadata": {},
     "output_type": "execute_result"
    }
   ],
   "source": [
    "orders"
   ]
  },
  {
   "cell_type": "code",
   "execution_count": 13,
   "id": "ab211d5b",
   "metadata": {},
   "outputs": [],
   "source": [
    "orders_csv = map(lambda order: ','.join(map(lambda item: str(item), order)), orders)"
   ]
  },
  {
   "cell_type": "code",
   "execution_count": 14,
   "id": "595663f2",
   "metadata": {},
   "outputs": [
    {
     "data": {
      "text/plain": [
       "['1,2013-07-25 00:00:00.0,11599,CLOSED',\n",
       " '2,2013-07-25 00:00:00.0,256,PENDING_PAYMENT',\n",
       " '3,2013-07-25 00:00:00.0,1211,COMPLETE',\n",
       " '4,2013-07-25 00:00:00.0,8827,CLOSED',\n",
       " '5,2013-07-25 00:00:00.0,11318,COMPLETE',\n",
       " '6,2013-07-25 00:00:00.0,7130,COMPLETE',\n",
       " '7,2013-07-25 00:00:00.0,4530,COMPLETE',\n",
       " '8,2013-07-25 00:00:00.0,2911,PROCESSING',\n",
       " '9,2013-07-25 00:00:00.0,5657,PENDING_PAYMENT',\n",
       " '10,2013-07-25 00:00:00.0,5648,PENDING_PAYMENT']"
      ]
     },
     "execution_count": 14,
     "metadata": {},
     "output_type": "execute_result"
    }
   ],
   "source": [
    "list(orders_csv)"
   ]
  },
  {
   "cell_type": "code",
   "execution_count": 15,
   "id": "e2700b72",
   "metadata": {},
   "outputs": [
    {
     "data": {
      "text/plain": [
       "'1,2013-07-25 00:00:00.0,11599,CLOSED'"
      ]
     },
     "execution_count": 15,
     "metadata": {},
     "output_type": "execute_result"
    }
   ],
   "source": [
    "orders_csv = map(lambda order: ','.join(map(lambda item: str(item), order)), orders)\n",
    "order = list(orders_csv)[0]\n",
    "order"
   ]
  },
  {
   "cell_type": "markdown",
   "id": "d0893cf9",
   "metadata": {},
   "source": [
    "* Writing CSV strings one at a time to the file."
   ]
  },
  {
   "cell_type": "code",
   "execution_count": null,
   "id": "d675ab9c",
   "metadata": {},
   "outputs": [],
   "source": [
    "!rm -rf data/retail_db/orders"
   ]
  },
  {
   "cell_type": "code",
   "execution_count": null,
   "id": "8a82aa69",
   "metadata": {},
   "outputs": [],
   "source": [
    "!mkdir -p data/retail_db/orders"
   ]
  },
  {
   "cell_type": "code",
   "execution_count": null,
   "id": "8ad865ee",
   "metadata": {},
   "outputs": [],
   "source": [
    "orders_file = open('data/retail_db/orders/part-00000', 'w')"
   ]
  },
  {
   "cell_type": "code",
   "execution_count": null,
   "id": "8428a6cf",
   "metadata": {},
   "outputs": [],
   "source": [
    "orders_csv = map(lambda order: ','.join(map(lambda item: str(item), order)), orders)\n",
    "\n",
    "for order in orders_csv:\n",
    "    orders_file.write(f'{order}\\n')"
   ]
  },
  {
   "cell_type": "code",
   "execution_count": null,
   "id": "d4119386",
   "metadata": {},
   "outputs": [],
   "source": [
    "orders_file.close()"
   ]
  },
  {
   "cell_type": "markdown",
   "id": "acd4a9ba",
   "metadata": {},
   "source": [
    "* Writing as one big string. As we are opening the file using `w`, the file will be truncated. It means the contents of the file will be overwritten with the string we are trying to write to the file."
   ]
  },
  {
   "cell_type": "code",
   "execution_count": null,
   "id": "5f2ebfde",
   "metadata": {},
   "outputs": [],
   "source": [
    "orders_csv = map(lambda order: ','.join(map(lambda item: str(item), order)), orders)"
   ]
  },
  {
   "cell_type": "code",
   "execution_count": null,
   "id": "eb70f83b",
   "metadata": {},
   "outputs": [],
   "source": [
    "orders_string = '\\n'.join(orders_csv)"
   ]
  },
  {
   "cell_type": "code",
   "execution_count": null,
   "id": "64a2f2df",
   "metadata": {},
   "outputs": [],
   "source": [
    "orders_string"
   ]
  },
  {
   "cell_type": "code",
   "execution_count": null,
   "id": "8fc8da63",
   "metadata": {},
   "outputs": [],
   "source": [
    "orders_file = open('data/retail_db/orders/part-00000', 'w')"
   ]
  },
  {
   "cell_type": "code",
   "execution_count": null,
   "id": "1b5ff325",
   "metadata": {},
   "outputs": [],
   "source": [
    "orders_file.write(order_string)"
   ]
  },
  {
   "cell_type": "code",
   "execution_count": null,
   "id": "19d004ad",
   "metadata": {},
   "outputs": [],
   "source": [
    "orders_file.close()"
   ]
  }
 ],
 "metadata": {
  "kernelspec": {
   "display_name": "Python 3 (ipykernel)",
   "language": "python",
   "name": "python3"
  },
  "language_info": {
   "codemirror_mode": {
    "name": "ipython",
    "version": 3
   },
   "file_extension": ".py",
   "mimetype": "text/x-python",
   "name": "python",
   "nbconvert_exporter": "python",
   "pygments_lexer": "ipython3",
   "version": "3.9.7"
  }
 },
 "nbformat": 4,
 "nbformat_minor": 5
}
