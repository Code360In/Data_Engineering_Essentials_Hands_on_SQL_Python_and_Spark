{
 "cells": [
  {
   "cell_type": "markdown",
   "id": "feca0eca",
   "metadata": {},
   "source": [
    "## Overview of CSV Module\n",
    "\n",
    "Let us get an overview of CSV Module. It provide some wrapper functions to provide structure to the delimited data in collections as well to write the collections back in the form of delimited records.\n",
    "\n",
    "* You need to import `csv` module to use the functions that are part of it.\n",
    "* It exposes several APIs to deal with collections which contain delimited strings. Most of them are to read and write."
   ]
  },
  {
   "cell_type": "code",
   "execution_count": 1,
   "id": "8087e891",
   "metadata": {},
   "outputs": [],
   "source": [
    "import csv"
   ]
  },
  {
   "cell_type": "markdown",
   "id": "2f890c79",
   "metadata": {},
   "source": [
    "* Let us see how we can read the list with delimited strings using `csv.reader`."
   ]
  },
  {
   "cell_type": "code",
   "execution_count": 2,
   "id": "af6a99b8",
   "metadata": {},
   "outputs": [],
   "source": [
    "l = ['1,Scott,Tiger', '2,Donald,Duck']"
   ]
  },
  {
   "cell_type": "code",
   "execution_count": 3,
   "id": "d543c704",
   "metadata": {},
   "outputs": [],
   "source": [
    "csv.reader?"
   ]
  },
  {
   "cell_type": "code",
   "execution_count": 4,
   "id": "0d25ff33",
   "metadata": {},
   "outputs": [
    {
     "data": {
      "text/plain": [
       "[['1', 'Scott', 'Tiger'], ['2', 'Donald', 'Duck']]"
      ]
     },
     "execution_count": 4,
     "metadata": {},
     "output_type": "execute_result"
    }
   ],
   "source": [
    "list(csv.reader(l))"
   ]
  },
  {
   "cell_type": "code",
   "execution_count": 5,
   "id": "1c69abd3",
   "metadata": {},
   "outputs": [
    {
     "name": "stdout",
     "output_type": "stream",
     "text": [
      "['1', 'Scott', 'Tiger']\n",
      "['2', 'Donald', 'Duck']\n"
     ]
    }
   ],
   "source": [
    "for item in list(csv.reader(l)):\n",
    "    print(item)"
   ]
  },
  {
   "cell_type": "code",
   "execution_count": 6,
   "id": "e4b31394",
   "metadata": {},
   "outputs": [],
   "source": [
    "l = ['1\\Scott\\Tiger', '2\\Donald\\Duck']"
   ]
  },
  {
   "cell_type": "code",
   "execution_count": 7,
   "id": "5b1a3639",
   "metadata": {},
   "outputs": [
    {
     "data": {
      "text/plain": [
       "[['1\\\\Scott\\\\Tiger'], ['2\\\\Donald\\\\Duck']]"
      ]
     },
     "execution_count": 7,
     "metadata": {},
     "output_type": "execute_result"
    }
   ],
   "source": [
    "list(csv.reader(l, delimiter='\\t'))"
   ]
  },
  {
   "cell_type": "code",
   "execution_count": 8,
   "id": "1bb1cda2",
   "metadata": {},
   "outputs": [],
   "source": [
    "lt = [(1, 'Scott', 'Tiger'), (2, 'Donald', 'Duck')]"
   ]
  },
  {
   "cell_type": "markdown",
   "id": "f1185a83",
   "metadata": {},
   "source": [
    "Now let us see how we can write list of tuples to the file using `csv.writer`.\n",
    "\n",
    "* First we need to create file object in write mode.\n",
    "* We need to create csv writer object using `csv.writer`. By default, the object will be created with `,` as delimiter or separator.\n",
    "* We can pass key word argument `delimeter` along with the character using which we want the data to be separated by using specific character."
   ]
  },
  {
   "cell_type": "code",
   "execution_count": 9,
   "id": "30219bd4",
   "metadata": {},
   "outputs": [],
   "source": [
    "csv.writer?"
   ]
  },
  {
   "cell_type": "code",
   "execution_count": null,
   "id": "1793ef45",
   "metadata": {},
   "outputs": [],
   "source": [
    "!mkdir -p data/users"
   ]
  },
  {
   "cell_type": "code",
   "execution_count": null,
   "id": "38faddbd",
   "metadata": {},
   "outputs": [],
   "source": [
    "!rm -f data/users/part-00000"
   ]
  },
  {
   "cell_type": "code",
   "execution_count": null,
   "id": "eddceeb8",
   "metadata": {},
   "outputs": [],
   "source": [
    "users_file = open('data/users/part-00000', 'w')"
   ]
  },
  {
   "cell_type": "code",
   "execution_count": null,
   "id": "027ce592",
   "metadata": {},
   "outputs": [],
   "source": [
    "csv_writer = csv.writer(users_file)"
   ]
  },
  {
   "cell_type": "code",
   "execution_count": null,
   "id": "b49b1c85",
   "metadata": {},
   "outputs": [],
   "source": [
    "csv_writer"
   ]
  },
  {
   "cell_type": "code",
   "execution_count": null,
   "id": "1007298c",
   "metadata": {},
   "outputs": [],
   "source": [
    "csv.writer.writerows(lt)"
   ]
  },
  {
   "cell_type": "code",
   "execution_count": null,
   "id": "4a374f2a",
   "metadata": {},
   "outputs": [],
   "source": [
    "users_file.close()"
   ]
  },
  {
   "cell_type": "code",
   "execution_count": null,
   "id": "62634fbb",
   "metadata": {},
   "outputs": [],
   "source": [
    "!ls -ltr data/users/part-00000"
   ]
  },
  {
   "cell_type": "code",
   "execution_count": null,
   "id": "6e28353d",
   "metadata": {},
   "outputs": [],
   "source": [
    "!cat data/users/part-00000"
   ]
  },
  {
   "cell_type": "markdown",
   "id": "08fedd4b",
   "metadata": {},
   "source": [
    "Let us see an example to write the data to file using `|` as delimiter."
   ]
  },
  {
   "cell_type": "code",
   "execution_count": null,
   "id": "7269a2da",
   "metadata": {},
   "outputs": [],
   "source": [
    "!mkdir -p data/users"
   ]
  },
  {
   "cell_type": "code",
   "execution_count": null,
   "id": "ab5d457d",
   "metadata": {},
   "outputs": [],
   "source": [
    "!rm -f data/users/part-00000"
   ]
  },
  {
   "cell_type": "code",
   "execution_count": null,
   "id": "d9fd9349",
   "metadata": {},
   "outputs": [],
   "source": [
    "user_file = open('data/users/part-00000', 'w')"
   ]
  },
  {
   "cell_type": "code",
   "execution_count": null,
   "id": "de26fd27",
   "metadata": {},
   "outputs": [],
   "source": [
    "csv_writer = csv.writer(user_file, delimiter='\\t')"
   ]
  },
  {
   "cell_type": "code",
   "execution_count": null,
   "id": "464f0c74",
   "metadata": {},
   "outputs": [],
   "source": [
    "csv.writer.writerows(lt)"
   ]
  },
  {
   "cell_type": "code",
   "execution_count": null,
   "id": "6df5938f",
   "metadata": {},
   "outputs": [],
   "source": [
    "user_file.close()"
   ]
  },
  {
   "cell_type": "code",
   "execution_count": null,
   "id": "ca6261ed",
   "metadata": {},
   "outputs": [],
   "source": [
    "!ls -ltr data/users/part-00000"
   ]
  },
  {
   "cell_type": "code",
   "execution_count": null,
   "id": "049930c8",
   "metadata": {},
   "outputs": [],
   "source": [
    "!cat data/users/part-00000"
   ]
  }
 ],
 "metadata": {
  "kernelspec": {
   "display_name": "Python 3 (ipykernel)",
   "language": "python",
   "name": "python3"
  },
  "language_info": {
   "codemirror_mode": {
    "name": "ipython",
    "version": 3
   },
   "file_extension": ".py",
   "mimetype": "text/x-python",
   "name": "python",
   "nbconvert_exporter": "python",
   "pygments_lexer": "ipython3",
   "version": "3.9.7"
  }
 },
 "nbformat": 4,
 "nbformat_minor": 5
}
