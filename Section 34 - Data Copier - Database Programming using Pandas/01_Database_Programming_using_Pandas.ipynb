{
 "cells": [
  {
   "cell_type": "markdown",
   "id": "bf65203f",
   "metadata": {},
   "source": [
    "# Database Programming using Pandas\n",
    "As part of this section, we will see how to write data to Postgres Database Tables using Pandas. Here are the topics which we are going to cover.\n",
    "\n",
    "* Validate Postgres Setup using Docker\n",
    "* Add required dependencies\n",
    "* Create users table in retail_db Database\n",
    "* Populate sample data into users table\n",
    "* Reading data from table using Pandas\n",
    "* Truncate users table\n",
    "* Writing Pandas Dataframe to table\n",
    "* Validating users data\n",
    "* Dropping users table"
   ]
  }
 ],
 "metadata": {
  "kernelspec": {
   "display_name": "Python 3 (ipykernel)",
   "language": "python",
   "name": "python3"
  },
  "language_info": {
   "codemirror_mode": {
    "name": "ipython",
    "version": 3
   },
   "file_extension": ".py",
   "mimetype": "text/x-python",
   "name": "python",
   "nbconvert_exporter": "python",
   "pygments_lexer": "ipython3",
   "version": "3.9.7"
  }
 },
 "nbformat": 4,
 "nbformat_minor": 5
}
