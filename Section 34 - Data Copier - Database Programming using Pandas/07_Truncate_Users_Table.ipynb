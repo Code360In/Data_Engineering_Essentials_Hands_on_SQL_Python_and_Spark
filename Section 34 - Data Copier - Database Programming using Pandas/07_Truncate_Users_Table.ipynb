{
 "cells": [
  {
   "cell_type": "markdown",
   "id": "87ed85c1",
   "metadata": {},
   "source": [
    "## Truncate users table\n",
    "\n",
    "As we would like to populate the table using Python Pandas let's truncate the data which is currently populated in the table. We can use `TRUNCATE` statement to clean up the table completely.\n",
    "\n",
    "* Connect to the database.\n",
    "\n",
    "```shell\n",
    "docker exec -it retail psql -U retail_user -d retail_db\n",
    "```\n",
    "\n",
    "* Truncate the table using `TRUNCATE` Statement. `TRUNCATE` is DDL Statement.\n",
    "\n",
    "```sql\n",
    "TRUNCATE TABLE users;\n",
    "\\q\n",
    "```"
   ]
  }
 ],
 "metadata": {
  "kernelspec": {
   "display_name": "Python 3 (ipykernel)",
   "language": "python",
   "name": "python3"
  },
  "language_info": {
   "codemirror_mode": {
    "name": "ipython",
    "version": 3
   },
   "file_extension": ".py",
   "mimetype": "text/x-python",
   "name": "python",
   "nbconvert_exporter": "python",
   "pygments_lexer": "ipython3",
   "version": "3.9.7"
  }
 },
 "nbformat": 4,
 "nbformat_minor": 5
}
