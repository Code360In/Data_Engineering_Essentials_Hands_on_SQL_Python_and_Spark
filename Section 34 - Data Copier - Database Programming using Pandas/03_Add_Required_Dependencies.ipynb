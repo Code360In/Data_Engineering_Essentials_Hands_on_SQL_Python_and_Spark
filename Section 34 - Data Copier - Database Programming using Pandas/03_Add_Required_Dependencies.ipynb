{
 "cells": [
  {
   "cell_type": "markdown",
   "id": "c0efba9a",
   "metadata": {},
   "source": [
    "## Add required dependencies\n",
    "\n",
    "Let us add required dependencies to connect to Postgres database and then perform read as well as write operations against Postgres database tables using Pandas.\n",
    "* `psycopg2` - Database driver to connect to Postgres Database.\n",
    "* `SQLAlchemy` - ORM Wrapper on top of `psycopg2` and other database specific drivers.\n",
    "* Pandas Database related functions uses SQL Alchemy and hence we need to install SQL Alchemy as well.\n",
    "\n",
    "Here is the content of **requirements.txt** file.\n",
    "\n",
    "```text\n",
    "psycopg2-binary==2.8.5\n",
    "SQLAlchemy==1.3.17\n",
    "pandas==1.3.2\n",
    "```\n"
   ]
  }
 ],
 "metadata": {
  "kernelspec": {
   "display_name": "Python 3 (ipykernel)",
   "language": "python",
   "name": "python3"
  },
  "language_info": {
   "codemirror_mode": {
    "name": "ipython",
    "version": 3
   },
   "file_extension": ".py",
   "mimetype": "text/x-python",
   "name": "python",
   "nbconvert_exporter": "python",
   "pygments_lexer": "ipython3",
   "version": "3.9.7"
  }
 },
 "nbformat": 4,
 "nbformat_minor": 5
}
