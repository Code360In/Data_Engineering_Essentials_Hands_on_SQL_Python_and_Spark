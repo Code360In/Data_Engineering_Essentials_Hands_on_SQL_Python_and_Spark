{
 "cells": [
  {
   "cell_type": "markdown",
   "id": "2a7ea35e",
   "metadata": {},
   "source": [
    "## Populating Sample Data into users table\n",
    "\n",
    "Let us connect to the postgres database retail_db and populate the table using `INSERT` command. We will insert multiple records using one `INSERT` statement.\n",
    "\n",
    "* Connect to the database\n",
    "\n",
    "```shell\n",
    "docker exec -it retail_pg psql -U retail_user -d retail_db -W\n",
    "```\n",
    "\n",
    "* Insert data into the table\n",
    "\n",
    "```sql\n",
    "INSERT INTO users (user_first_name, user_last_name)\n",
    "    VALUES ('Scott', 'Tiger'),\n",
    "    ('Donald', 'Duck');\n",
    "\n",
    "SELECT * FROM users;\n",
    "```\n"
   ]
  }
 ],
 "metadata": {
  "kernelspec": {
   "display_name": "Python 3 (ipykernel)",
   "language": "python",
   "name": "python3"
  },
  "language_info": {
   "codemirror_mode": {
    "name": "ipython",
    "version": 3
   },
   "file_extension": ".py",
   "mimetype": "text/x-python",
   "name": "python",
   "nbconvert_exporter": "python",
   "pygments_lexer": "ipython3",
   "version": "3.9.7"
  }
 },
 "nbformat": 4,
 "nbformat_minor": 5
}
