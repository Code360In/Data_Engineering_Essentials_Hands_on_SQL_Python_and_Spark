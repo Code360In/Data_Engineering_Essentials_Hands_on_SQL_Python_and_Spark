{
 "cells": [
  {
   "cell_type": "markdown",
   "id": "9e61abbc",
   "metadata": {},
   "source": [
    "## Validating users data\n",
    "\n",
    "Let us also validate by running query by connecting to the database to confirm data is populated in the correct database table.\n",
    "\n",
    "```shell\n",
    "docker exec -it retail_pg psql -U retail_user -d retail_db -W\n",
    "```\n",
    "\n",
    "```sql\n",
    "SELECT * FROM users;\n",
    "\\q\n",
    "```\n"
   ]
  }
 ],
 "metadata": {
  "kernelspec": {
   "display_name": "Python 3 (ipykernel)",
   "language": "python",
   "name": "python3"
  },
  "language_info": {
   "codemirror_mode": {
    "name": "ipython",
    "version": 3
   },
   "file_extension": ".py",
   "mimetype": "text/x-python",
   "name": "python",
   "nbconvert_exporter": "python",
   "pygments_lexer": "ipython3",
   "version": "3.9.7"
  }
 },
 "nbformat": 4,
 "nbformat_minor": 5
}
