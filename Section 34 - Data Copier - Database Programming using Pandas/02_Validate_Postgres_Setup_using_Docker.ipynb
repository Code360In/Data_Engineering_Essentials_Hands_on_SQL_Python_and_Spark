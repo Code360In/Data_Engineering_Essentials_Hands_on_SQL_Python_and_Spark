{
 "cells": [
  {
   "cell_type": "markdown",
   "id": "6374d620",
   "metadata": {},
   "source": [
    "## Validate Postgres Setup using Docker\n",
    "\n",
    "Let us make sure Postgres database is setup.\n",
    "\n",
    "```shell\n",
    "docker ps -a # to list all the containers. We can check status to see if Postgres container is running.\n",
    "\n",
    "# Run the below command to start the postgres container if it is stopped\n",
    "docker start retail_pg\n",
    "\n",
    "# Validate connectivity to the database in Postgres Server\n",
    "docker exec -it retail_pg psql -U retail_user -d retail_db -W\n",
    "```\n",
    "\n",
    "We can also run below commands to validate the tables in the database.\n"
   ]
  }
 ],
 "metadata": {
  "kernelspec": {
   "display_name": "Python 3 (ipykernel)",
   "language": "python",
   "name": "python3"
  },
  "language_info": {
   "codemirror_mode": {
    "name": "ipython",
    "version": 3
   },
   "file_extension": ".py",
   "mimetype": "text/x-python",
   "name": "python",
   "nbconvert_exporter": "python",
   "pygments_lexer": "ipython3",
   "version": "3.9.7"
  }
 },
 "nbformat": 4,
 "nbformat_minor": 5
}
