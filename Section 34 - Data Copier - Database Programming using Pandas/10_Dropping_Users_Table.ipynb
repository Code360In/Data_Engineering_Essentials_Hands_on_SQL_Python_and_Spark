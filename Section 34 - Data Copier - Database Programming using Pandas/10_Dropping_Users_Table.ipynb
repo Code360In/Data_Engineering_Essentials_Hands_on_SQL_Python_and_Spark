{
 "cells": [
  {
   "cell_type": "markdown",
   "id": "2d75d49d",
   "metadata": {},
   "source": [
    "## Dropping users table\n",
    "\n",
    "As we have gone through the steps related to reading from database table as well as writing to database table using Pandas, let us clean up the table by dropping it.\n",
    "\n",
    "```shell\n",
    "docker exec -it retail_pg psql -U retail_user -d retail_db -W\n",
    "```\n",
    "\n",
    "```sql\n",
    "DROP TABLE users;\n",
    "\\q\n",
    "```"
   ]
  }
 ],
 "metadata": {
  "kernelspec": {
   "display_name": "Python 3 (ipykernel)",
   "language": "python",
   "name": "python3"
  },
  "language_info": {
   "codemirror_mode": {
    "name": "ipython",
    "version": 3
   },
   "file_extension": ".py",
   "mimetype": "text/x-python",
   "name": "python",
   "nbconvert_exporter": "python",
   "pygments_lexer": "ipython3",
   "version": "3.9.7"
  }
 },
 "nbformat": 4,
 "nbformat_minor": 5
}
