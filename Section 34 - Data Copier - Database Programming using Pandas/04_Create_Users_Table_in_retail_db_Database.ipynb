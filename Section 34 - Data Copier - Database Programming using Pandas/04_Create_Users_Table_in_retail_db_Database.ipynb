{
 "cells": [
  {
   "cell_type": "markdown",
   "id": "a30eb05b",
   "metadata": {},
   "source": [
    "## Create users table in retail_db Database\n",
    "\n",
    "Let us go ahead and create a new table in retail_db database. We will use this new table to understand how to use Pandas to read the data from database tables as well as to write data to database tables.\n",
    "\n",
    "```shell\n",
    "docker exec -it retail_pg psql -U retail_user -d retail_db -W\n",
    "```\n",
    "\n",
    "```sql\n",
    "CREATE TABLE users (\n",
    "    user_id SERIAL PRIMARY KEY,\n",
    "    user_first_name VARCHAR(30),\n",
    "    user_last_name VARCHAR(30)\n",
    ");\n",
    "```"
   ]
  }
 ],
 "metadata": {
  "kernelspec": {
   "display_name": "Python 3 (ipykernel)",
   "language": "python",
   "name": "python3"
  },
  "language_info": {
   "codemirror_mode": {
    "name": "ipython",
    "version": 3
   },
   "file_extension": ".py",
   "mimetype": "text/x-python",
   "name": "python",
   "nbconvert_exporter": "python",
   "pygments_lexer": "ipython3",
   "version": "3.9.7"
  }
 },
 "nbformat": 4,
 "nbformat_minor": 5
}
