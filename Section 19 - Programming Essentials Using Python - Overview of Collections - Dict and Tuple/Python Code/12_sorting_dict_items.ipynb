{
 "cells": [
  {
   "cell_type": "markdown",
   "id": "d23d04f7",
   "metadata": {},
   "source": [
    "## Sorting dict items\n",
    "\n",
    "Let us understand how we can sort the dict items in Python.\n",
    "\n",
    "   * `dict` is nothing but group of key value pairs where keys are unique.\n",
    "   * `sorted` on `dict` returns only sorted keys."
   ]
  },
  {
   "cell_type": "code",
   "execution_count": 1,
   "id": "fe8d6e2f",
   "metadata": {},
   "outputs": [],
   "source": [
    "famous_players = {\n",
    "    'Pete Sampras': 'Tenis',\n",
    "    'Sachin Tendulkar': 'Cricket',\n",
    "    'Brian Lara': 'Cricket',\n",
    "    'Diego Maradona': 'Soccer',\n",
    "    'Roger Federer': 'Tennis',\n",
    "    'Ian Thorpe': 'Swimming',\n",
    "    'Ronaldo': 'Soccer',\n",
    "    'Usain Bolt': 'Badminton',\n",
    "    'P. V. Sindhu': 'Badminton',\n",
    "    'Shane Warne': 'Cricket',\n",
    "    'David Beckham': 'Soccer',\n",
    "    'Michael Phelps': 'Swimming'\n",
    "}"
   ]
  },
  {
   "cell_type": "code",
   "execution_count": 2,
   "id": "5c9925ed",
   "metadata": {},
   "outputs": [
    {
     "data": {
      "text/plain": [
       "['Brian Lara',\n",
       " 'David Beckham',\n",
       " 'Diego Maradona',\n",
       " 'Ian Thorpe',\n",
       " 'Michael Phelps',\n",
       " 'P. V. Sindhu',\n",
       " 'Pete Sampras',\n",
       " 'Roger Federer',\n",
       " 'Ronaldo',\n",
       " 'Sachin Tendulkar',\n",
       " 'Shane Warne',\n",
       " 'Usain Bolt']"
      ]
     },
     "execution_count": 2,
     "metadata": {},
     "output_type": "execute_result"
    }
   ],
   "source": [
    "# Creates list with only keys from dict\n",
    "sorted(famous_players)"
   ]
  },
  {
   "cell_type": "code",
   "execution_count": 3,
   "id": "eeebf076",
   "metadata": {},
   "outputs": [
    {
     "data": {
      "text/plain": [
       "list"
      ]
     },
     "execution_count": 3,
     "metadata": {},
     "output_type": "execute_result"
    }
   ],
   "source": [
    "# Creates list with only keys from dict\n",
    "type(sorted(famous_players))"
   ]
  },
  {
   "cell_type": "markdown",
   "id": "6cca19a8",
   "metadata": {},
   "source": [
    "* But at times we might want to sort the items based up on the values in the `dict`.\n",
    "* here are the steps involved to sort the items in dict by values.\n",
    "   * Create list like object using `items`.\n",
    "   * Sort the list like object using `sorted` with custom comparison or sort logic. We need to use `key` argument for that.\n",
    "* The output of `sorted` will be of type `list`."
   ]
  },
  {
   "cell_type": "code",
   "execution_count": 4,
   "id": "11510af7",
   "metadata": {},
   "outputs": [
    {
     "data": {
      "text/plain": [
       "dict_items([('Pete Sampras', 'Tenis'), ('Sachin Tendulkar', 'Cricket'), ('Brian Lara', 'Cricket'), ('Diego Maradona', 'Soccer'), ('Roger Federer', 'Tennis'), ('Ian Thorpe', 'Swimming'), ('Ronaldo', 'Soccer'), ('Usain Bolt', 'Badminton'), ('P. V. Sindhu', 'Badminton'), ('Shane Warne', 'Cricket'), ('David Beckham', 'Soccer'), ('Michael Phelps', 'Swimming')])"
      ]
     },
     "execution_count": 4,
     "metadata": {},
     "output_type": "execute_result"
    }
   ],
   "source": [
    "famous_players.items()"
   ]
  },
  {
   "cell_type": "code",
   "execution_count": 5,
   "id": "be77c275",
   "metadata": {},
   "outputs": [
    {
     "data": {
      "text/plain": [
       "[('Brian Lara', 'Cricket'),\n",
       " ('David Beckham', 'Soccer'),\n",
       " ('Diego Maradona', 'Soccer'),\n",
       " ('Ian Thorpe', 'Swimming'),\n",
       " ('Michael Phelps', 'Swimming'),\n",
       " ('P. V. Sindhu', 'Badminton'),\n",
       " ('Pete Sampras', 'Tenis'),\n",
       " ('Roger Federer', 'Tennis'),\n",
       " ('Ronaldo', 'Soccer'),\n",
       " ('Sachin Tendulkar', 'Cricket'),\n",
       " ('Shane Warne', 'Cricket'),\n",
       " ('Usain Bolt', 'Badminton')]"
      ]
     },
     "execution_count": 5,
     "metadata": {},
     "output_type": "execute_result"
    }
   ],
   "source": [
    "# Sorts based up on natural order of tuples.\n",
    "# By default data will be sorted by names of the players.\n",
    "# Player names are first elemen in the tuples.\n",
    "sorted(famous_players.items())"
   ]
  },
  {
   "cell_type": "code",
   "execution_count": 6,
   "id": "9d27ffa9",
   "metadata": {},
   "outputs": [
    {
     "data": {
      "text/plain": [
       "[('Usain Bolt', 'Badminton'),\n",
       " ('P. V. Sindhu', 'Badminton'),\n",
       " ('Sachin Tendulkar', 'Cricket'),\n",
       " ('Brian Lara', 'Cricket'),\n",
       " ('Shane Warne', 'Cricket'),\n",
       " ('Diego Maradona', 'Soccer'),\n",
       " ('Ronaldo', 'Soccer'),\n",
       " ('David Beckham', 'Soccer'),\n",
       " ('Ian Thorpe', 'Swimming'),\n",
       " ('Michael Phelps', 'Swimming'),\n",
       " ('Pete Sampras', 'Tenis'),\n",
       " ('Roger Federer', 'Tennis')]"
      ]
     },
     "execution_count": 6,
     "metadata": {},
     "output_type": "execute_result"
    }
   ],
   "source": [
    "# Use key argument to pass the custom comparison logic.\n",
    "# We would like to compare by sport name.\n",
    "# Sport name is second element in tuple.\n",
    "sorted(famous_players.items(), key=lambda player: player[1])"
   ]
  },
  {
   "cell_type": "markdown",
   "id": "79762232",
   "metadata": {},
   "source": [
    "* You can see that data is sorted in ascending order by name of the sport now."
   ]
  }
 ],
 "metadata": {
  "kernelspec": {
   "display_name": "Python 3 (ipykernel)",
   "language": "python",
   "name": "python3"
  },
  "language_info": {
   "codemirror_mode": {
    "name": "ipython",
    "version": 3
   },
   "file_extension": ".py",
   "mimetype": "text/x-python",
   "name": "python",
   "nbconvert_exporter": "python",
   "pygments_lexer": "ipython3",
   "version": "3.9.7"
  }
 },
 "nbformat": 4,
 "nbformat_minor": 5
}
