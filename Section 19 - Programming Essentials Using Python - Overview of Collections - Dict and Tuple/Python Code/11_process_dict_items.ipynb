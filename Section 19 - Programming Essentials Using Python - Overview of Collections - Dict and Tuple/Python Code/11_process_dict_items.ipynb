{
 "cells": [
  {
   "cell_type": "markdown",
   "id": "c6bd3d77",
   "metadata": {},
   "source": [
    "## Process dict items\n",
    "\n",
    "Let us understand how we can process the items in dicts.\n",
    "\n",
    "   * We have a function called as `items` which return all the items as a list like object.\n",
    "   * Each element in the list like object that is generated because of `items` will be of type tuple."
   ]
  },
  {
   "cell_type": "code",
   "execution_count": 1,
   "id": "6981acb3",
   "metadata": {},
   "outputs": [],
   "source": [
    "order_item_subtotals = {\n",
    "    1: 299.98,\n",
    "    2: 199.99,\n",
    "    3: 250.0,\n",
    "    4: 129.99\n",
    "}"
   ]
  },
  {
   "cell_type": "code",
   "execution_count": 2,
   "id": "ec1b259a",
   "metadata": {},
   "outputs": [
    {
     "data": {
      "text/plain": [
       "{1: 299.98, 2: 199.99, 3: 250.0, 4: 129.99}"
      ]
     },
     "execution_count": 2,
     "metadata": {},
     "output_type": "execute_result"
    }
   ],
   "source": [
    "order_item_subtotals"
   ]
  },
  {
   "cell_type": "code",
   "execution_count": 3,
   "id": "3b99da38",
   "metadata": {},
   "outputs": [
    {
     "data": {
      "text/plain": [
       "dict"
      ]
     },
     "execution_count": 3,
     "metadata": {},
     "output_type": "execute_result"
    }
   ],
   "source": [
    "type(order_item_subtotals)"
   ]
  },
  {
   "cell_type": "code",
   "execution_count": 4,
   "id": "50b8224e",
   "metadata": {},
   "outputs": [
    {
     "data": {
      "text/plain": [
       "dict_items([(1, 299.98), (2, 199.99), (3, 250.0), (4, 129.99)])"
      ]
     },
     "execution_count": 4,
     "metadata": {},
     "output_type": "execute_result"
    }
   ],
   "source": [
    "order_item_subtotals.items()"
   ]
  },
  {
   "cell_type": "code",
   "execution_count": 5,
   "id": "090ce990",
   "metadata": {},
   "outputs": [
    {
     "name": "stdout",
     "output_type": "stream",
     "text": [
      "The type of (1, 299.98) is <class 'tuple'>\n",
      "The type of (2, 199.99) is <class 'tuple'>\n",
      "The type of (3, 250.0) is <class 'tuple'>\n",
      "The type of (4, 129.99) is <class 'tuple'>\n"
     ]
    }
   ],
   "source": [
    "for ois in order_item_subtotals.items():\n",
    "    print(f'The type of {ois} is {type(ois)}')"
   ]
  },
  {
   "cell_type": "markdown",
   "id": "384f43e6",
   "metadata": {},
   "source": [
    "* Each value in the dict can be of basic type like above or it can be of complex type.\n",
    "* In the below example each value in the dict is of type list."
   ]
  },
  {
   "cell_type": "code",
   "execution_count": 6,
   "id": "e841922f",
   "metadata": {},
   "outputs": [],
   "source": [
    "order_item_subtotals = {\n",
    "    1: [299.98],\n",
    "    2: [199.99, 250.0, 129.99],\n",
    "    4: [49.98, 150.0, 199.92],\n",
    "    5: [299.98, 299.98, 99.96, 299.98, 129.99],\n",
    "    7: [199.99, 299.98, 79.95],\n",
    "    8: [179.97, 299.95, 199.92, 50.0]\n",
    "}"
   ]
  },
  {
   "cell_type": "markdown",
   "id": "95abf018",
   "metadata": {},
   "source": [
    "* Following are some of the real examples on top of `dict` objects like above. The keys in the dicts are nothing but order ids.\n",
    "   * Get the number of items for each order id.\n",
    "   * Get the revenue for each order id."
   ]
  },
  {
   "cell_type": "code",
   "execution_count": 7,
   "id": "3245711a",
   "metadata": {},
   "outputs": [
    {
     "data": {
      "text/plain": [
       "dict_items([(1, [299.98]), (2, [199.99, 250.0, 129.99]), (4, [49.98, 150.0, 199.92]), (5, [299.98, 299.98, 99.96, 299.98, 129.99]), (7, [199.99, 299.98, 79.95]), (8, [179.97, 299.95, 199.92, 50.0])])"
      ]
     },
     "execution_count": 7,
     "metadata": {},
     "output_type": "execute_result"
    }
   ],
   "source": [
    "order_item_subtotals.items()"
   ]
  },
  {
   "cell_type": "code",
   "execution_count": 8,
   "id": "aac7f45a",
   "metadata": {},
   "outputs": [
    {
     "name": "stdout",
     "output_type": "stream",
     "text": [
      "The type of [299.98] is <class 'list'>\n",
      "The type of [199.99, 250.0, 129.99] is <class 'list'>\n",
      "The type of [49.98, 150.0, 199.92] is <class 'list'>\n",
      "The type of [299.98, 299.98, 99.96, 299.98, 129.99] is <class 'list'>\n",
      "The type of [199.99, 299.98, 79.95] is <class 'list'>\n",
      "The type of [179.97, 299.95, 199.92, 50.0] is <class 'list'>\n"
     ]
    }
   ],
   "source": [
    "for ois in order_item_subtotals.items():\n",
    "    print(f'The type of {ois[1]} is {type(ois[1])}')"
   ]
  },
  {
   "cell_type": "markdown",
   "id": "8a0fff99",
   "metadata": {},
   "source": [
    "## Task 1 - Number of items per order\n",
    "\n",
    "Let us take the **order_item_subtotals** which is of type `dict` where each value is of type list and try to get the number of items per order.\n",
    "\n",
    "   * Convert the `dict` to list like object using `items`.\n",
    "   * Iterate through the list generated and apply `len` on second element. This will get us a new list with tuples, where first element is order id and second element is number of elements.\n",
    "   * Apply `dict` to create a dict on top of results."
   ]
  },
  {
   "cell_type": "code",
   "execution_count": 9,
   "id": "d515c538",
   "metadata": {},
   "outputs": [],
   "source": [
    "order_item_subtotals = {\n",
    "    1: [299.98],\n",
    "    2: [199.99, 250.0, 129.99],\n",
    "    4: [49.98, 150.0, 199.92],\n",
    "    5: [299.98, 299.98, 99.96, 299.98, 129.99],\n",
    "    7: [199.99, 299.98, 79.95],\n",
    "    8: [179.97, 299.95, 199.92, 50.0]\n",
    "}"
   ]
  },
  {
   "cell_type": "code",
   "execution_count": 10,
   "id": "3668d5fa",
   "metadata": {},
   "outputs": [],
   "source": [
    "number_of_items_per_order = []\n",
    "\n",
    "for oi in order_item_subtotals.items():\n",
    "    number_of_items_per_order.append((oi[0], len(oi[1])))"
   ]
  },
  {
   "cell_type": "code",
   "execution_count": 11,
   "id": "6843b9f6",
   "metadata": {},
   "outputs": [
    {
     "data": {
      "text/plain": [
       "[(1, 1), (2, 3), (4, 3), (5, 5), (7, 3), (8, 4)]"
      ]
     },
     "execution_count": 11,
     "metadata": {},
     "output_type": "execute_result"
    }
   ],
   "source": [
    "number_of_items_per_order"
   ]
  },
  {
   "cell_type": "code",
   "execution_count": 12,
   "id": "c4f34b5c",
   "metadata": {},
   "outputs": [
    {
     "data": {
      "text/plain": [
       "{1: 1, 2: 3, 4: 3, 5: 5, 7: 3, 8: 4}"
      ]
     },
     "execution_count": 12,
     "metadata": {},
     "output_type": "execute_result"
    }
   ],
   "source": [
    "dict(number_of_items_per_order)"
   ]
  },
  {
   "cell_type": "markdown",
   "id": "c9e0d5a3",
   "metadata": {},
   "source": [
    "## Task 2 - Revenue per order\n",
    "\n",
    "Let us perform another task to get revenue per order. Most of the logic is same as in the previous task. We just need to use `sum` to get revenue per order."
   ]
  },
  {
   "cell_type": "code",
   "execution_count": 13,
   "id": "56b571c8",
   "metadata": {},
   "outputs": [],
   "source": [
    "order_item_subtotals = {\n",
    "    1: [299.98],\n",
    "    2: [199.99, 250.0, 129.99],\n",
    "    4: [49.98, 150.0, 199.92],\n",
    "    5: [299.98, 299.98, 99.96, 299.98, 129.99],\n",
    "    7: [199.99, 299.98, 79.95],\n",
    "    8: [179.97, 299.95, 199.92, 50.0]\n",
    "}"
   ]
  },
  {
   "cell_type": "code",
   "execution_count": 14,
   "id": "26a01ccd",
   "metadata": {},
   "outputs": [],
   "source": [
    "revenue_per_order = []\n",
    "\n",
    "for oi in order_item_subtotals.items():\n",
    "    revenue_per_order.append((oi[0], round(sum(oi[1]), 2)))"
   ]
  },
  {
   "cell_type": "code",
   "execution_count": 15,
   "id": "3197e1f7",
   "metadata": {},
   "outputs": [
    {
     "data": {
      "text/plain": [
       "[(1, 299.98), (2, 579.98), (4, 399.9), (5, 1129.89), (7, 579.92), (8, 729.84)]"
      ]
     },
     "execution_count": 15,
     "metadata": {},
     "output_type": "execute_result"
    }
   ],
   "source": [
    "revenue_per_order"
   ]
  },
  {
   "cell_type": "code",
   "execution_count": 16,
   "id": "8acfef83",
   "metadata": {},
   "outputs": [
    {
     "data": {
      "text/plain": [
       "{1: 299.98, 2: 579.98, 4: 399.9, 5: 1129.89, 7: 579.92, 8: 729.84}"
      ]
     },
     "execution_count": 16,
     "metadata": {},
     "output_type": "execute_result"
    }
   ],
   "source": [
    "dict(revenue_per_order)"
   ]
  }
 ],
 "metadata": {
  "kernelspec": {
   "display_name": "Python 3 (ipykernel)",
   "language": "python",
   "name": "python3"
  },
  "language_info": {
   "codemirror_mode": {
    "name": "ipython",
    "version": 3
   },
   "file_extension": ".py",
   "mimetype": "text/x-python",
   "name": "python",
   "nbconvert_exporter": "python",
   "pygments_lexer": "ipython3",
   "version": "3.9.7"
  }
 },
 "nbformat": 4,
 "nbformat_minor": 5
}
