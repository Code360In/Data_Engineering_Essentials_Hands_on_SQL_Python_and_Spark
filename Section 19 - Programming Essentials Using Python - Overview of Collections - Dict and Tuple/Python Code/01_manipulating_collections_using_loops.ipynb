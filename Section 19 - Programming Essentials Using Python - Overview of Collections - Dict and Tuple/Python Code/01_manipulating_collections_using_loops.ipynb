{
 "cells": [
  {
   "cell_type": "markdown",
   "id": "878054b5",
   "metadata": {},
   "source": [
    "## Manipulating Collections using Loops\n",
    "\n",
    "Let us understand how to manipulate collections using loops. We will be performing quite a lot of tasks to get enough programming practice.\n",
    "\n",
    "   * Reading Files Into Collections.\n",
    "   * Overview of Standard Transformations.\n",
    "   * Row Level Transformations.\n",
    "   * Getting Unique Elements.\n",
    "   * Filtering Data.\n",
    "   * Preparing Data Sets.\n",
    "   * Quick Recap of Dict Operations.\n",
    "   * Performing Total Aggregations.\n",
    "   * Joining Data Sets.\n",
    "   * Limitations of Using Loops.\n",
    "   * Exercises - Manipulating Collections."
   ]
  }
 ],
 "metadata": {
  "kernelspec": {
   "display_name": "Python 3 (ipykernel)",
   "language": "python",
   "name": "python3"
  },
  "language_info": {
   "codemirror_mode": {
    "name": "ipython",
    "version": 3
   },
   "file_extension": ".py",
   "mimetype": "text/x-python",
   "name": "python",
   "nbconvert_exporter": "python",
   "pygments_lexer": "ipython3",
   "version": "3.9.7"
  }
 },
 "nbformat": 4,
 "nbformat_minor": 5
}
