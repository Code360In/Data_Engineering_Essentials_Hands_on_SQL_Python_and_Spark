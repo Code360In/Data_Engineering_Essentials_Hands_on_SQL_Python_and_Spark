{
 "cells": [
  {
   "cell_type": "markdown",
   "id": "a8c983c5",
   "metadata": {},
   "source": [
    "## Process dict values\n",
    "\n",
    "Let us understand how we can process the values in dicts.\n",
    "\n",
    "   * We have already seen a function called as `value` which return all the values as a list like object."
   ]
  },
  {
   "cell_type": "code",
   "execution_count": 1,
   "id": "9d6cbb07",
   "metadata": {},
   "outputs": [],
   "source": [
    "order_item_subtotals = {\n",
    "    1: 299.98,\n",
    "    2: 199.99,\n",
    "    3: 250.0,\n",
    "    4: 129.99\n",
    "}"
   ]
  },
  {
   "cell_type": "code",
   "execution_count": 2,
   "id": "6b8f3366",
   "metadata": {},
   "outputs": [
    {
     "data": {
      "text/plain": [
       "{1: 299.98, 2: 199.99, 3: 250.0, 4: 129.99}"
      ]
     },
     "execution_count": 2,
     "metadata": {},
     "output_type": "execute_result"
    }
   ],
   "source": [
    "order_item_subtotals"
   ]
  },
  {
   "cell_type": "code",
   "execution_count": 3,
   "id": "ba61d803",
   "metadata": {},
   "outputs": [
    {
     "data": {
      "text/plain": [
       "dict"
      ]
     },
     "execution_count": 3,
     "metadata": {},
     "output_type": "execute_result"
    }
   ],
   "source": [
    "type(order_item_subtotals)"
   ]
  },
  {
   "cell_type": "code",
   "execution_count": 4,
   "id": "e591e5cf",
   "metadata": {},
   "outputs": [
    {
     "data": {
      "text/plain": [
       "dict_values([299.98, 199.99, 250.0, 129.99])"
      ]
     },
     "execution_count": 4,
     "metadata": {},
     "output_type": "execute_result"
    }
   ],
   "source": [
    "order_item_subtotals.values()"
   ]
  },
  {
   "cell_type": "code",
   "execution_count": 5,
   "id": "53d51d8b",
   "metadata": {},
   "outputs": [
    {
     "data": {
      "text/plain": [
       "dict_values"
      ]
     },
     "execution_count": 5,
     "metadata": {},
     "output_type": "execute_result"
    }
   ],
   "source": [
    "type(order_item_subtotals.values())"
   ]
  },
  {
   "cell_type": "markdown",
   "id": "eddf38fb",
   "metadata": {},
   "source": [
    "* If we would like to get total revenue by adding all the values, we can apply `sum`."
   ]
  },
  {
   "cell_type": "code",
   "execution_count": 6,
   "id": "f188ddeb",
   "metadata": {},
   "outputs": [
    {
     "data": {
      "text/plain": [
       "879.96"
      ]
     },
     "execution_count": 6,
     "metadata": {},
     "output_type": "execute_result"
    }
   ],
   "source": [
    "# sum\n",
    "sum(order_item_subtotals.values())"
   ]
  },
  {
   "cell_type": "code",
   "execution_count": 7,
   "id": "79f9a667",
   "metadata": {},
   "outputs": [
    {
     "data": {
      "text/plain": [
       "129.99"
      ]
     },
     "execution_count": 7,
     "metadata": {},
     "output_type": "execute_result"
    }
   ],
   "source": [
    "# min\n",
    "min(order_item_subtotals.values())"
   ]
  },
  {
   "cell_type": "code",
   "execution_count": 8,
   "id": "f2ed8f4f",
   "metadata": {},
   "outputs": [
    {
     "data": {
      "text/plain": [
       "299.98"
      ]
     },
     "execution_count": 8,
     "metadata": {},
     "output_type": "execute_result"
    }
   ],
   "source": [
    "# max\n",
    "max(order_item_subtotals.values())"
   ]
  },
  {
   "cell_type": "code",
   "execution_count": 9,
   "id": "f38e22b3",
   "metadata": {},
   "outputs": [
    {
     "data": {
      "text/plain": [
       "[129.99, 199.99, 250.0, 299.98]"
      ]
     },
     "execution_count": 9,
     "metadata": {},
     "output_type": "execute_result"
    }
   ],
   "source": [
    "# sort\n",
    "sorted(order_item_subtotals.values())"
   ]
  },
  {
   "cell_type": "markdown",
   "id": "6820595a",
   "metadata": {},
   "source": [
    "* We can convert the values `list` and perform all available list operations."
   ]
  },
  {
   "cell_type": "code",
   "execution_count": 10,
   "id": "c73932dc",
   "metadata": {},
   "outputs": [
    {
     "data": {
      "text/plain": [
       "[299.98, 199.99, 250.0, 129.99]"
      ]
     },
     "execution_count": 10,
     "metadata": {},
     "output_type": "execute_result"
    }
   ],
   "source": [
    "list(order_item_subtotals.values())"
   ]
  },
  {
   "cell_type": "markdown",
   "id": "7289bb80",
   "metadata": {},
   "source": [
    "* The values in the `dict` need not be unique. Sometimes, we might want to get all the unique values.\n",
    "* For example, get all the unique sports that is part of this dict. In this `dict`, the key is name of thje sports person and the value is the sport the person plays.\n",
    "    You can always use `set` to get unique elements from any list type object."
   ]
  },
  {
   "cell_type": "code",
   "execution_count": 11,
   "id": "6938cf1b",
   "metadata": {},
   "outputs": [],
   "source": [
    "famous_players = {\n",
    "    'Pete Sampras': 'Tenis',\n",
    "    'Sachin Tendulkar': 'Cricket',\n",
    "    'Brian Lara': 'Cricket',\n",
    "    'Diego Maradona': 'Soccer',\n",
    "    'Roger Federer': 'Tennis',\n",
    "    'Ian Thorpe': 'Swimming',\n",
    "    'Ronaldo': 'Soccer',\n",
    "    'Usain Bolt': 'Badminton',\n",
    "    'P. V. Sindhu': 'Badminton',\n",
    "    'Shane Warne': 'Cricket',\n",
    "    'David Beckham': 'Soccer',\n",
    "    'Michael Phelps': 'Swimming'\n",
    "}"
   ]
  },
  {
   "cell_type": "code",
   "execution_count": 12,
   "id": "2f119f75",
   "metadata": {},
   "outputs": [
    {
     "data": {
      "text/plain": [
       "dict_values(['Tenis', 'Cricket', 'Cricket', 'Soccer', 'Tennis', 'Swimming', 'Soccer', 'Badminton', 'Badminton', 'Cricket', 'Soccer', 'Swimming'])"
      ]
     },
     "execution_count": 12,
     "metadata": {},
     "output_type": "execute_result"
    }
   ],
   "source": [
    "famous_players.values()"
   ]
  },
  {
   "cell_type": "code",
   "execution_count": 13,
   "id": "dabd4932",
   "metadata": {},
   "outputs": [
    {
     "data": {
      "text/plain": [
       "12"
      ]
     },
     "execution_count": 13,
     "metadata": {},
     "output_type": "execute_result"
    }
   ],
   "source": [
    "len(famous_players.values())"
   ]
  },
  {
   "cell_type": "code",
   "execution_count": 14,
   "id": "014cf928",
   "metadata": {},
   "outputs": [
    {
     "data": {
      "text/plain": [
       "{'Badminton', 'Cricket', 'Soccer', 'Swimming', 'Tenis', 'Tennis'}"
      ]
     },
     "execution_count": 14,
     "metadata": {},
     "output_type": "execute_result"
    }
   ],
   "source": [
    "set(famous_players.values())"
   ]
  },
  {
   "cell_type": "code",
   "execution_count": 15,
   "id": "e7e0abda",
   "metadata": {},
   "outputs": [
    {
     "data": {
      "text/plain": [
       "6"
      ]
     },
     "execution_count": 15,
     "metadata": {},
     "output_type": "execute_result"
    }
   ],
   "source": [
    "len(set(famous_players.values()))"
   ]
  }
 ],
 "metadata": {
  "kernelspec": {
   "display_name": "Python 3 (ipykernel)",
   "language": "python",
   "name": "python3"
  },
  "language_info": {
   "codemirror_mode": {
    "name": "ipython",
    "version": 3
   },
   "file_extension": ".py",
   "mimetype": "text/x-python",
   "name": "python",
   "nbconvert_exporter": "python",
   "pygments_lexer": "ipython3",
   "version": "3.9.7"
  }
 },
 "nbformat": 4,
 "nbformat_minor": 5
}
