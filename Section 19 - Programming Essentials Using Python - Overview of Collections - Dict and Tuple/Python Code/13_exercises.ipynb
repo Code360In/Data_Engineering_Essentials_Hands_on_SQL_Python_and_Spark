{
 "cells": [
  {
   "cell_type": "markdown",
   "id": "9d7172b8",
   "metadata": {},
   "source": [
    "## Exercises - Dicts and Tuples\n",
    "\n",
    "Let us through some execises related to dict and tuple.\n",
    "\n",
    "\n",
    "### Exercise 1 - Access all the values\n",
    "\n",
    "Get the values from the below dict in the form of a list."
   ]
  },
  {
   "cell_type": "code",
   "execution_count": 1,
   "id": "a50c889f",
   "metadata": {},
   "outputs": [],
   "source": [
    "d = {\n",
    "    'order_id': 1,\n",
    "    'order_date': '2013-07-25',\n",
    "    'order_customer_id': 100,\n",
    "    'order_status': 'COMPLETE'\n",
    "}"
   ]
  },
  {
   "cell_type": "code",
   "execution_count": 2,
   "id": "ccc50f97",
   "metadata": {},
   "outputs": [],
   "source": [
    "def get_values(d):\n",
    "    a = d.values()\n",
    "    b = list(a)\n",
    "    return b"
   ]
  },
  {
   "cell_type": "code",
   "execution_count": 3,
   "id": "3af98d53",
   "metadata": {},
   "outputs": [
    {
     "data": {
      "text/plain": [
       "[1, '2013-07-25', 100, 'COMPLETE']"
      ]
     },
     "execution_count": 3,
     "metadata": {},
     "output_type": "execute_result"
    }
   ],
   "source": [
    "# Desired output: [1, '2013-07-25', 100, 'COMPLETE']\n",
    "get_values(d)"
   ]
  },
  {
   "cell_type": "code",
   "execution_count": 4,
   "id": "d7ad989a",
   "metadata": {},
   "outputs": [
    {
     "data": {
      "text/plain": [
       "list"
      ]
     },
     "execution_count": 4,
     "metadata": {},
     "output_type": "execute_result"
    }
   ],
   "source": [
    "# list\n",
    "type(get_values(d))"
   ]
  },
  {
   "cell_type": "markdown",
   "id": "469d8030",
   "metadata": {},
   "source": [
    "### Exercise 2 - Get Data types of values\n",
    "\n",
    "Continue on previous exercise and print data type of each type value returned by get_values."
   ]
  },
  {
   "cell_type": "code",
   "execution_count": 5,
   "id": "3644e601",
   "metadata": {},
   "outputs": [],
   "source": [
    "l = get_values(d)"
   ]
  },
  {
   "cell_type": "markdown",
   "id": "68507ee4",
   "metadata": {},
   "source": [
    "* As l is list, you will be able to use `for` loop to access the elements from l. Here is the desired output.\n",
    "    ```\n",
    "    <class 'int'>\n",
    "    <class 'str'>\n",
    "    <class 'int'>\n",
    "    <class 'str'>\n",
    "    ```"
   ]
  },
  {
   "cell_type": "code",
   "execution_count": 6,
   "id": "efced8cd",
   "metadata": {},
   "outputs": [
    {
     "name": "stdout",
     "output_type": "stream",
     "text": [
      "<class 'int'>\n",
      "<class 'str'>\n",
      "<class 'int'>\n",
      "<class 'str'>\n"
     ]
    }
   ],
   "source": [
    "for e in l:\n",
    "    print(type(e))"
   ]
  },
  {
   "cell_type": "markdown",
   "id": "2b30802b",
   "metadata": {},
   "source": [
    "### Exercise 3 - Data Type Conversion\n",
    "\n",
    "As part of the below dict object, order_date is of type string. You need to convert the data type of **order_date** to date type."
   ]
  },
  {
   "cell_type": "code",
   "execution_count": null,
   "id": "5309a9ab",
   "metadata": {},
   "outputs": [],
   "source": [
    "d = {\n",
    "    'order_id': 1,\n",
    "    'order_date': '2013-07-25',\n",
    "    'order_customer_id': 100,\n",
    "    'order_status': 'COMPLETE'\n",
    "}"
   ]
  },
  {
   "cell_type": "code",
   "execution_count": null,
   "id": "5a0a6a2d",
   "metadata": {},
   "outputs": [],
   "source": [
    "import datetime\n",
    "\n",
    "def convert_date_type(d):\n",
    "    return d"
   ]
  },
  {
   "cell_type": "markdown",
   "id": "edfe4602",
   "metadata": {},
   "source": [
    "* Run below cell to validate the output. Here is the desired output.\n",
    "\n",
    "```json\n",
    "    \n",
    "```"
   ]
  },
  {
   "cell_type": "code",
   "execution_count": null,
   "id": "f2bb9de6",
   "metadata": {},
   "outputs": [],
   "source": [
    "d_converted = convert_date_type(a)\n",
    "d_converted"
   ]
  },
  {
   "cell_type": "code",
   "execution_count": null,
   "id": "e5dcde3e",
   "metadata": {},
   "outputs": [],
   "source": [
    "# Output: datetime.datetime\n",
    "type(d_converted['order_date'])"
   ]
  },
  {
   "cell_type": "markdown",
   "id": "034035a7",
   "metadata": {},
   "source": [
    "### Exercise 4 - Create list of dicts\n",
    "\n",
    "Create list of dicts for the following data.\n",
    "\n",
    "   * Each element in the list should be of type dict.\n",
    "   * The dict should **order_item_order_id** and **order_item_subtotal** as keys.\n",
    "   \n",
    "   |**order_item_order_id**|**order_item_subtotal**|\n",
    "   |-----------------------|-----------------------|\n",
    "   1                       | 299.98\n",
    "   2                       | 199.98\n",
    "   2                       | 250.0\n",
    "   2                       | 129.99\n",
    "   4                       | 49.98\n",
    "   4                       | 299.95\n",
    "   4                       | 150.0\n",
    "   4                       | 199.92"
   ]
  },
  {
   "cell_type": "markdown",
   "id": "1dbf9abb",
   "metadata": {},
   "source": [
    "### Exercise 5 - Dict with max value\n",
    "\n",
    "Create a dict with order id and max order item subtotal using the below dict. The below dict contains order id as key and order item subtotals list as corresponding value."
   ]
  },
  {
   "cell_type": "code",
   "execution_count": 7,
   "id": "ba425706",
   "metadata": {},
   "outputs": [],
   "source": [
    "order_item_subtotals = {\n",
    "    1: [299.98],\n",
    "    2: [199.99, 250.0, 129.99],\n",
    "    4: [49.98, 150.0, 199.92],\n",
    "    5: [299.98, 299.98, 99.96, 299.98, 129.99],\n",
    "    7: [199.99, 299.98, 79.95],\n",
    "    8: [179.97, 299.95, 199.92, 50.0]\n",
    "}"
   ]
  },
  {
   "cell_type": "code",
   "execution_count": 8,
   "id": "e8613f5b",
   "metadata": {},
   "outputs": [],
   "source": [
    "# Your solution should go here\n",
    "order_item_max = []\n",
    "\n",
    "for oi in order_item_subtotals.items():\n",
    "    order_item_max.append((oi[0], round(max(oi[1]), 2)))"
   ]
  },
  {
   "cell_type": "code",
   "execution_count": 9,
   "id": "024cdfd3",
   "metadata": {},
   "outputs": [
    {
     "data": {
      "text/plain": [
       "{1: 299.98, 2: 250.0, 4: 199.92, 5: 299.98, 7: 299.98, 8: 299.95}"
      ]
     },
     "execution_count": 9,
     "metadata": {},
     "output_type": "execute_result"
    }
   ],
   "source": [
    "dict(order_item_max)"
   ]
  },
  {
   "cell_type": "markdown",
   "id": "5f42243a",
   "metadata": {},
   "source": [
    "* Here is the desired output.\n",
    "```json\n",
    "{1: 299.98, 2: 250.0, 4: 199.92, 5: 299.98, 7: 299.98, 8: 299.95}\n",
    "```"
   ]
  },
  {
   "cell_type": "markdown",
   "id": "d7855021",
   "metadata": {},
   "source": [
    "### Exercise 6 - Dict with order revenue\n",
    "\n",
    "Create a dict with order item id and order item subtotal. The input dict will contain order item id as key and quantity along with price as value. **order item subtotal** is product of quantity and price."
   ]
  },
  {
   "cell_type": "code",
   "execution_count": 10,
   "id": "4e4e3ac2",
   "metadata": {},
   "outputs": [],
   "source": [
    "order_items = {\n",
    "    1: (1, 299.98),\n",
    "    2: (1, 199.99),\n",
    "    3: (5, 50.0),\n",
    "    4: (1, 129.99),\n",
    "    5: (2, 24.99),\n",
    "    6: (5, 59.99),\n",
    "    7: (3, 50.0),\n",
    "    8: (4, 49.98),\n",
    "    9: (1, 299.98),\n",
    "    10: (5, 59.99)\n",
    "}"
   ]
  },
  {
   "cell_type": "code",
   "execution_count": 11,
   "id": "b7545e5e",
   "metadata": {},
   "outputs": [
    {
     "data": {
      "text/plain": [
       "{1: 299.98,\n",
       " 2: 199.99,\n",
       " 3: 50.0,\n",
       " 4: 129.99,\n",
       " 5: 24.99,\n",
       " 6: 59.99,\n",
       " 7: 50.0,\n",
       " 8: 49.98,\n",
       " 9: 299.98,\n",
       " 10: 59.99}"
      ]
     },
     "execution_count": 11,
     "metadata": {},
     "output_type": "execute_result"
    }
   ],
   "source": [
    "# Your solution should go here\n",
    "order_item_max = []\n",
    "\n",
    "for oi in order_items.items():\n",
    "    order_item_max.append((oi[0], (oi[1][1])))\n",
    "    \n",
    "dict(order_item_max)"
   ]
  },
  {
   "cell_type": "markdown",
   "id": "d25e8025",
   "metadata": {},
   "source": [
    "* Here is the expected outup.\n",
    "```json\n",
    "{1, 299.98,\n",
    " 2: 199.99,\n",
    " 3: 50.0,\n",
    " 4: 129.99,\n",
    " 5: 24.99,\n",
    " 6: 59.99,\n",
    " 7: 50.0,\n",
    " 8: 49.98,\n",
    " 9: 299.98,\n",
    " 10: 59.99}\n",
    "```"
   ]
  }
 ],
 "metadata": {
  "kernelspec": {
   "display_name": "Python 3 (ipykernel)",
   "language": "python",
   "name": "python3"
  },
  "language_info": {
   "codemirror_mode": {
    "name": "ipython",
    "version": 3
   },
   "file_extension": ".py",
   "mimetype": "text/x-python",
   "name": "python",
   "nbconvert_exporter": "python",
   "pygments_lexer": "ipython3",
   "version": "3.9.7"
  }
 },
 "nbformat": 4,
 "nbformat_minor": 5
}
