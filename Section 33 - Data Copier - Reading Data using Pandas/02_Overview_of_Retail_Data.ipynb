{
 "cells": [
  {
   "cell_type": "markdown",
   "id": "196bc50d",
   "metadata": {},
   "source": [
    "## Overview of Retail Data\n",
    "Here are the details related to retail data. It is important to understand the data to come up with a strategy to copy the data.\n",
    "* The data is sourced from RDBMS database.\n",
    "* In the source the tables are related.\n",
    "* There are 6 tables, out of which 3 tables are related to product catalog.\n",
    "  * **departments**\n",
    "  * **categories**\n",
    "  * **products**\n",
    "  * **departments** is the root table, and it has **one to many** relationship with **categories** table.\n",
    "  * **categories** is the parent table to **products**. We have product level details in **products** table. \n",
    "* One of the table is to store customer data. It is **customers**\n",
    "* **orders** and **order_items** are the transactional tables.\n",
    "  * **orders** contain order level details such as **order_date**, **order_customer_id**, **order_status**, etc.\n",
    "  * Each order can have multiple items. All item level details are part of **order_items** table.\n",
    "  * There is a one-to-many relationship between **orders** and **order_items**.\n",
    "* For each table, we have a folder and the folder contains one file. The file is of type json.\n",
    "* If there are foreign key relationships to tables in the target database, then we need to populate root or parent tables first and then go down in the hierarchy. Another common way is to disable the constraints, populate data in tables in any order and then enable the constraints back.\n",
    "* As our tables does not have constraints to enforce relationships we can load them in any order."
   ]
  }
 ],
 "metadata": {
  "kernelspec": {
   "display_name": "Python 3 (ipykernel)",
   "language": "python",
   "name": "python3"
  },
  "language_info": {
   "codemirror_mode": {
    "name": "ipython",
    "version": 3
   },
   "file_extension": ".py",
   "mimetype": "text/x-python",
   "name": "python",
   "nbconvert_exporter": "python",
   "pygments_lexer": "ipython3",
   "version": "3.9.7"
  }
 },
 "nbformat": 4,
 "nbformat_minor": 5
}
