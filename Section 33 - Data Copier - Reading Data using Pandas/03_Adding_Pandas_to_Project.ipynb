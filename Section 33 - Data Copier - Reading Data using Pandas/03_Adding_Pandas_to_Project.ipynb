{
 "cells": [
  {
   "cell_type": "markdown",
   "id": "16dfb101",
   "metadata": {},
   "source": [
    "## Adding Pandas to the project\n",
    "We will be using Pandas to read the data from JSON files. Let us see how we can install and quickly validate.\n",
    "* Update **requirements.txt** with Pandas 1.3.2.\n",
    "```\n",
    "pandas==1.3.2\n",
    "```\n",
    "* Run `pip install -r requirements.txt` to ensure Pandas is installed as part of our project.\n",
    "* We can quickly validate by running this piece of code. This code will convert list of dicts to Pandas Data Frame.\n",
    "\n",
    "```python\n",
    "import pandas as pd\n",
    "users = [\n",
    "    {'user_id': 1, 'user_name': 'Scott, Tiger'},\n",
    "    {'user_id': 2, 'user_name': 'Donald, Duck'}\n",
    "]\n",
    "users_df = pd.DataFrame(users)\n",
    "users_df\n",
    "```\n"
   ]
  }
 ],
 "metadata": {
  "kernelspec": {
   "display_name": "Python 3 (ipykernel)",
   "language": "python",
   "name": "python3"
  },
  "language_info": {
   "codemirror_mode": {
    "name": "ipython",
    "version": 3
   },
   "file_extension": ".py",
   "mimetype": "text/x-python",
   "name": "python",
   "nbconvert_exporter": "python",
   "pygments_lexer": "ipython3",
   "version": "3.9.7"
  }
 },
 "nbformat": 4,
 "nbformat_minor": 5
}
