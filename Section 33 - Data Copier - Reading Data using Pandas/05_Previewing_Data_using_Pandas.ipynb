{
 "cells": [
  {
   "cell_type": "markdown",
   "id": "af043851",
   "metadata": {},
   "source": [
    "## Previewing Data using Pandas\n",
    "Let us go through how we can use **Pandas** APIs to preview the data in Dataframe.\n",
    "* We will perform following tasks.\n",
    "  * Get not null count of each attribute\n",
    "  * Get the names and data types of each attribute\n",
    "  * Project some of the fields in the Dataframe\n",
    "  * Filter the data for a given order_item_order_id\n",
    "\n",
    "```python\n",
    "\n",
    "# The file name is hardcoded and assigned to fp.\n",
    "fp = '/Users/itversity/Projects/Internal/bootcamp/data-copier/data/retail_db_json/order_items/part-r-00000-6b83977e-3f20-404b-9b5f-29376ab1419e'\n",
    "\n",
    "import pandas as pd\n",
    "df = pd.read_json(fp, lines=True)\n",
    "\n",
    "df.count()\n",
    "df.describe()\n",
    "\n",
    "df.columns\n",
    "df.dtypes\n",
    "\n",
    "df[['order_item_order_id', 'order_item_subtotal']]\n",
    "\n",
    "df[df['order_item_order_id'] == 2]\n",
    "\n",
    "\n",
    "```\n"
   ]
  }
 ],
 "metadata": {
  "kernelspec": {
   "display_name": "Python 3 (ipykernel)",
   "language": "python",
   "name": "python3"
  },
  "language_info": {
   "codemirror_mode": {
    "name": "ipython",
    "version": 3
   },
   "file_extension": ".py",
   "mimetype": "text/x-python",
   "name": "python",
   "nbconvert_exporter": "python",
   "pygments_lexer": "ipython3",
   "version": "3.9.7"
  }
 },
 "nbformat": 4,
 "nbformat_minor": 5
}
