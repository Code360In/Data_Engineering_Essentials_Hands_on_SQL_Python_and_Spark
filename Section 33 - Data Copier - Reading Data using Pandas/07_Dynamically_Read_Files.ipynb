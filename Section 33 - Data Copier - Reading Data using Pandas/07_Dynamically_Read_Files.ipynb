{
 "cells": [
  {
   "cell_type": "markdown",
   "id": "6c233869",
   "metadata": {},
   "source": [
    "## Dynamically read files\n",
    "Let us understand how to read the files dynamically based on the table name which we are interested in. For now we will create variable for the table name and use it to dynamically load the files that belong to the table name.\n",
    "\n",
    "```python\n",
    "import os\n",
    "BASE_DIR = '/Users/itversity/Projects/Internal/bootcamp/data-copier/data/retail_db_json'\n",
    "table_name = 'order_items'\n",
    "\n",
    "# Lists all the files in the folder. \n",
    "# All our folders contain only one file.\n",
    "# Hence, we can access it by reading first element in the list as below.\n",
    "\n",
    "file_name = os.listdir(f'{BASE_DIR}/{table_name}')[0]\n",
    "fp = f'{BASE_DIR}/{table_name}/{file_name}'\n",
    "\n",
    "# Here is the piece of code to read the content of the file as Pandas Dataframe.\n",
    "import pandas as pd\n",
    "df = pd.read_json(fp, lines=True)\n",
    "\n",
    "df.shape\n",
    "df.dtypes\n",
    "```\n"
   ]
  }
 ],
 "metadata": {
  "kernelspec": {
   "display_name": "Python 3 (ipykernel)",
   "language": "python",
   "name": "python3"
  },
  "language_info": {
   "codemirror_mode": {
    "name": "ipython",
    "version": 3
   },
   "file_extension": ".py",
   "mimetype": "text/x-python",
   "name": "python",
   "nbconvert_exporter": "python",
   "pygments_lexer": "ipython3",
   "version": "3.9.7"
  }
 },
 "nbformat": 4,
 "nbformat_minor": 5
}
