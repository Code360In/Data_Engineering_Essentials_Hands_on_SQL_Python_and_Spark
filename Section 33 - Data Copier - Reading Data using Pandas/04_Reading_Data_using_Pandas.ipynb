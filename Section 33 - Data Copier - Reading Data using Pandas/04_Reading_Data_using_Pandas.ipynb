{
 "cells": [
  {
   "cell_type": "markdown",
   "id": "ece537f9",
   "metadata": {},
   "source": [
    "## Reading Data using Pandas\n",
    "Let us understand how to read our Retail data using Pandas. The files which contain data related to retail are of type **JSON**.\n",
    "* **Pandas** provides functions to read the data in JSON Files.\n",
    "* We can use `read_json` by passing path to it to convert the JSON data in files into **Pandas Dataframe**.\n",
    "* Here is the sample code to read **order_items** data into Pandas Dataframe.\n",
    "\n",
    "```python\n",
    "# Make sure fp is pointing to the file name which you are trying to read\n",
    "fp = '/Users/itversity/Projects/Internal/bootcamp/data-copier/data/retail_db_json/order_items/part-r-00000-6b83977e-3f20-404b-9b5f-29376ab1419e'\n",
    "\n",
    "import pandas as pd\n",
    "df = pd.read_json(fp, lines=True)\n",
    "df.shape()\n",
    "```\n",
    "* You can also try reading data related to other tables as an exercise.\n"
   ]
  }
 ],
 "metadata": {
  "kernelspec": {
   "display_name": "Python 3 (ipykernel)",
   "language": "python",
   "name": "python3"
  },
  "language_info": {
   "codemirror_mode": {
    "name": "ipython",
    "version": 3
   },
   "file_extension": ".py",
   "mimetype": "text/x-python",
   "name": "python",
   "nbconvert_exporter": "python",
   "pygments_lexer": "ipython3",
   "version": "3.9.7"
  }
 },
 "nbformat": 4,
 "nbformat_minor": 5
}
