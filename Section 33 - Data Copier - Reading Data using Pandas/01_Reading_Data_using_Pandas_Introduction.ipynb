{
 "cells": [
  {
   "cell_type": "markdown",
   "id": "56f4418c",
   "metadata": {},
   "source": [
    "# Reading Data\n",
    "As part of this section we will primarily see how to read the JSON data from files using Pandas.\n",
    "\n",
    "* Overview of Retail Data\n",
    "* Adding Pandas to the project\n",
    "* Reading Data using Pandas\n",
    "* Previewing Data using Pandas\n",
    "* Reading Data in Chunks\n",
    "* Dynamically read files\n",
    "* Create read program"
   ]
  }
 ],
 "metadata": {
  "kernelspec": {
   "display_name": "Python 3 (ipykernel)",
   "language": "python",
   "name": "python3"
  },
  "language_info": {
   "codemirror_mode": {
    "name": "ipython",
    "version": 3
   },
   "file_extension": ".py",
   "mimetype": "text/x-python",
   "name": "python",
   "nbconvert_exporter": "python",
   "pygments_lexer": "ipython3",
   "version": "3.9.7"
  }
 },
 "nbformat": 4,
 "nbformat_minor": 5
}
