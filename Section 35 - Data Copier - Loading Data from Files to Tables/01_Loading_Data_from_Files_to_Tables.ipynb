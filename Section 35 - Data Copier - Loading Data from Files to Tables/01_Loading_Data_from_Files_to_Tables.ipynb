{
 "cells": [
  {
   "cell_type": "markdown",
   "id": "cd458545",
   "metadata": {},
   "source": [
    "# Loading Data from files to tables\n",
    "\n",
    "As part of this section let us get into the details about loading data from files into database tables using Pandas.\n",
    "\n",
    "* Populating departments table\n",
    "* Validate departments table\n",
    "* Populating orders table\n",
    "* Validate orders table in database\n",
    "* Validate orders table using Pandas"
   ]
  }
 ],
 "metadata": {
  "kernelspec": {
   "display_name": "Python 3 (ipykernel)",
   "language": "python",
   "name": "python3"
  },
  "language_info": {
   "codemirror_mode": {
    "name": "ipython",
    "version": 3
   },
   "file_extension": ".py",
   "mimetype": "text/x-python",
   "name": "python",
   "nbconvert_exporter": "python",
   "pygments_lexer": "ipython3",
   "version": "3.9.7"
  }
 },
 "nbformat": 4,
 "nbformat_minor": 5
}
