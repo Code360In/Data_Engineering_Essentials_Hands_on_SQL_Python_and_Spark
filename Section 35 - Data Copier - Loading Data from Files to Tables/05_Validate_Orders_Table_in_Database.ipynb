{
 "cells": [
  {
   "cell_type": "markdown",
   "id": "fd5ec1b7",
   "metadata": {},
   "source": [
    "## Validate orders table in database\n",
    "\n",
    "As data is loaded into the table using Pandas, let us connect to the database and validate to see if the data is populated into the right table as per our expectations.\n",
    "\n",
    "* Connecting to the database.\n",
    "\n",
    "```shell\n",
    "docker exec -it retail_pg psql -U retail_user -d retail_db -W\n",
    "```\n",
    "\n",
    "* Running queries to validate data in the table.\n",
    "```sql\n",
    "\\d orders\n",
    "\n",
    "SELECT * FROM orders LIMIT 10;\n",
    "\n",
    "SELECT count(*) FROM orders;\n",
    "\n",
    "SELECT order_status, count(1) FROM orders GROUP BY order_status;\n",
    "```\n"
   ]
  }
 ],
 "metadata": {
  "kernelspec": {
   "display_name": "Python 3 (ipykernel)",
   "language": "python",
   "name": "python3"
  },
  "language_info": {
   "codemirror_mode": {
    "name": "ipython",
    "version": 3
   },
   "file_extension": ".py",
   "mimetype": "text/x-python",
   "name": "python",
   "nbconvert_exporter": "python",
   "pygments_lexer": "ipython3",
   "version": "3.9.7"
  }
 },
 "nbformat": 4,
 "nbformat_minor": 5
}
