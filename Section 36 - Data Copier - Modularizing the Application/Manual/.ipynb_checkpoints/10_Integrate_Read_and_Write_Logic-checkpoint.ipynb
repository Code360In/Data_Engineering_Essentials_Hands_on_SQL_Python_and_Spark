{
 "cells": [
  {
   "cell_type": "markdown",
   "id": "0f6284bc",
   "metadata": {},
   "source": [
    "## Integrate read and write logic\n",
    "\n",
    "As we are done with read and write logic, let us integrate both by using driver program.\n",
    "* We can update **app.py** with the below logic.\n",
    "```python\n",
    "import os\n",
    "from read import get_json_reader\n",
    "from write import load_db_table\n",
    "\n",
    "\n",
    "def process_table(BASE_DIR, conn, table_name):\n",
    "    json_reader = get_json_reader(BASE_DIR, table_name)\n",
    "    for df in json_reader:\n",
    "        load_db_table(df, conn, table_name, df.columns[0])\n",
    "\n",
    "\n",
    "def main():\n",
    "    BASE_DIR = os.environ.get('BASE_DIR')\n",
    "    table_name = os.environ.get('TABLE_NAME')\n",
    "\n",
    "    configs = dict(os.environ.items())\n",
    "    conn = f'postgresql://{configs[\"DB_USER\"]}:{configs[\"DB_PASS\"]}@{configs[\"DB_HOST\"]}:{configs[\"DB_PORT\"]}/{configs[\"DB_NAME\"]}'\n",
    "    process_table(BASE_DIR, conn, table_name)\n",
    "\n",
    "\n",
    "if __name__ == '__main__':\n",
    "    main()\n",
    "```\n"
   ]
  }
 ],
 "metadata": {
  "kernelspec": {
   "display_name": "Python 3 (ipykernel)",
   "language": "python",
   "name": "python3"
  },
  "language_info": {
   "codemirror_mode": {
    "name": "ipython",
    "version": 3
   },
   "file_extension": ".py",
   "mimetype": "text/x-python",
   "name": "python",
   "nbconvert_exporter": "python",
   "pygments_lexer": "ipython3",
   "version": "3.10.2"
  }
 },
 "nbformat": 4,
 "nbformat_minor": 5
}
