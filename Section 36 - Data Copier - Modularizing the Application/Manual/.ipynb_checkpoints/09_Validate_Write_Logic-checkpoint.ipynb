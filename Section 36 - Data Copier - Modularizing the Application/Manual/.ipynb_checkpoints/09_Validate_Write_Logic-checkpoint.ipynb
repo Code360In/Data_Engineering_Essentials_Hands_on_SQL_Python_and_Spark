{
 "cells": [
  {
   "cell_type": "markdown",
   "id": "cdbe0a45",
   "metadata": {},
   "source": [
    "## Validate write logic\n",
    "\n",
    "As we have developed the function to write Dataframe to Postgres database table along with test logic, it is time for us to validate.\n",
    "* We can validate either by using Pycharm Run Configurations or Python command using CLI.\n",
    "* Here are the steps using Pycharm Run Configurations.\n",
    "  * Run the application to create configuration under run. Ignore any errors.\n",
    "  * Set the required environment variables under run configuration of the application.\n",
    "  * Run the application using Pycharm run option.\n",
    "  * Review the output to confirm if the data is loaded successfully or not.\n",
    "  * Connect to the database and validate data in the users table.\n",
    "* Here are the steps using Python command as part of CLI.\n",
    "  * Set required environment variables (on Windows we need to use `$env` and on Mac or Linux we need to use `export` command).\n",
    "  * Run the program using `python write.py`.\n",
    "  * Review the output to confirm if the data is loaded successfully or not.\n",
    "  * Connect to the database and validate data in the users table. We should see duplicate records in the table as we loaded same data twice.\n"
   ]
  }
 ],
 "metadata": {
  "kernelspec": {
   "display_name": "Python 3 (ipykernel)",
   "language": "python",
   "name": "python3"
  },
  "language_info": {
   "codemirror_mode": {
    "name": "ipython",
    "version": 3
   },
   "file_extension": ".py",
   "mimetype": "text/x-python",
   "name": "python",
   "nbconvert_exporter": "python",
   "pygments_lexer": "ipython3",
   "version": "3.10.2"
  }
 },
 "nbformat": 4,
 "nbformat_minor": 5
}
