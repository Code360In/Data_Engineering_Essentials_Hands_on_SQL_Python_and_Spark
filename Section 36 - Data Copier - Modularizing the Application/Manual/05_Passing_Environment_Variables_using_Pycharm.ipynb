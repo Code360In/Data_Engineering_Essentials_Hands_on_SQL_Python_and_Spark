{
 "cells": [
  {
   "cell_type": "markdown",
   "id": "58ea3f35",
   "metadata": {},
   "source": [
    "## Passing Environment Variables using Pycharm\n",
    "\n",
    "Let us understand how we can pass environment variables using Pycharm. We will use below logic as part of `app.py` to understand how to access environment variables using Pycharm\n",
    "\n",
    "```python\n",
    "import os\n",
    "\n",
    "\n",
    "def main():\n",
    "    DB_NAME = os.environ.get('DB_NAME')\n",
    "    print(f'Hello World from {DB_NAME}')\n",
    "```\n",
    "\n",
    "* Now we can run the application and then go to **Run -> \"Edit Configurations\"**.\n",
    "* We can set the environment variables as part of the popup as demonstrated.\n",
    "* We can also validate using Terminal by setting the environment variable and then by running the program using `python` command.\n"
   ]
  }
 ],
 "metadata": {
  "kernelspec": {
   "display_name": "Python 3 (ipykernel)",
   "language": "python",
   "name": "python3"
  },
  "language_info": {
   "codemirror_mode": {
    "name": "ipython",
    "version": 3
   },
   "file_extension": ".py",
   "mimetype": "text/x-python",
   "name": "python",
   "nbconvert_exporter": "python",
   "pygments_lexer": "ipython3",
   "version": "3.9.7"
  }
 },
 "nbformat": 4,
 "nbformat_minor": 5
}
