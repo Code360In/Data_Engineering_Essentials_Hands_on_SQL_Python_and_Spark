{
 "cells": [
  {
   "cell_type": "markdown",
   "id": "5b8e1320",
   "metadata": {},
   "source": [
    "## Validate read logic\n",
    "\n",
    "Let us validate the read logic that is developed as part of **read.py** program.\n",
    "* We can validate either by using Pycharm Run option or using Python CLI.\n",
    "* Here are the steps that are involved using Pycharm Run option.\n",
    "  * Run the program and ignore any errors. It will create application under **Edit Configurations**.\n",
    "  * Go to **Edit Configurations** and set required environment variables - `BASE_DIR` and `TABLE_NAME`.\n",
    "  * Run the application and see the output.\n",
    "* Here are the steps that are involved using Python CLI (under Terminal).\n",
    "  * Launch Terminal within Pycharm.\n",
    "  * Set environment variables. We can use `export` on Linux or Mac and `$env` on Windows to set the environment variables.\n",
    "  * Run using `python app.py` and review the output."
   ]
  }
 ],
 "metadata": {
  "kernelspec": {
   "display_name": "Python 3 (ipykernel)",
   "language": "python",
   "name": "python3"
  },
  "language_info": {
   "codemirror_mode": {
    "name": "ipython",
    "version": 3
   },
   "file_extension": ".py",
   "mimetype": "text/x-python",
   "name": "python",
   "nbconvert_exporter": "python",
   "pygments_lexer": "ipython3",
   "version": "3.9.7"
  }
 },
 "nbformat": 4,
 "nbformat_minor": 5
}
