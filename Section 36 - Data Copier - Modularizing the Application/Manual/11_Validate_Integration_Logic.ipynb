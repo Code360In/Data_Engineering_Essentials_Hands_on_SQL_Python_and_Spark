{
 "cells": [
  {
   "cell_type": "markdown",
   "id": "2aeba967",
   "metadata": {},
   "source": [
    "## Validate Integration logic\n",
    "\n",
    "As we are done with integration of read and write logic as part of driver program, let us go ahead and validate.\n",
    "* As we have seen before you can either validate using Pycharm run with proper configurations or Python command using CLI.\n",
    "* We just need to set all required environment variables and run the driver program.\n",
    "* Also, we need to validate by running queries against the table by connecting to the database.\n",
    "* Let us get into the validation using Pycharm Run using configurations."
   ]
  }
 ],
 "metadata": {
  "kernelspec": {
   "display_name": "Python 3 (ipykernel)",
   "language": "python",
   "name": "python3"
  },
  "language_info": {
   "codemirror_mode": {
    "name": "ipython",
    "version": 3
   },
   "file_extension": ".py",
   "mimetype": "text/x-python",
   "name": "python",
   "nbconvert_exporter": "python",
   "pygments_lexer": "ipython3",
   "version": "3.10.2"
  }
 },
 "nbformat": 4,
 "nbformat_minor": 5
}
