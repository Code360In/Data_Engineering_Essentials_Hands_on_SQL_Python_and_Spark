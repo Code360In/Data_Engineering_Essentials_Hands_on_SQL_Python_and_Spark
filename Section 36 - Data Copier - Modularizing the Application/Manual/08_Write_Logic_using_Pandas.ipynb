{
 "cells": [
  {
   "cell_type": "markdown",
   "id": "1720f389",
   "metadata": {},
   "source": [
    "## Write logic using Pandas\n",
    "\n",
    "Let us develop the logic to write Dataframe into postgres database table as part of **write.py** program.\n",
    "* Create program by name **write.py**.\n",
    "* Here is the function to write the Dataframe to database table. It also contains required logic to test the functionality.\n",
    "\n",
    "```python\n",
    "def load_db_table(df, conn, table_name, key):\n",
    "    min_key = df[key].min()\n",
    "    max_key = df[key].max()\n",
    "    df.to_sql(table_name, conn, if_exists='append', index=False)\n",
    "    print(f'Loaded data for {table_name} with in the range of {min_key} and {max_key}')\n",
    "\n",
    "\n",
    "if __name__ == '__main__':\n",
    "    import pandas as pd\n",
    "    import os\n",
    "\n",
    "    data = [\n",
    "        {'user_id': 1, 'user_first_name': 'Scott', 'user_last_name': 'Tiger'},\n",
    "        {'user_id': 2, 'user_first_name': 'Donald', 'user_last_name': 'Duck'}\n",
    "    ]\n",
    "    df = pd.DataFrame(data)\n",
    "    configs = dict(os.environ.items())\n",
    "    conn = f'postgresql://{configs[\"DB_USER\"]}:{configs[\"DB_PASS\"]}@{configs[\"DB_HOST\"]}:{configs[\"DB_PORT\"]}/{configs[\"DB_NAME\"]}'\n",
    "\n",
    "    load_db_table(df, conn, 'users', 'user_id')\n",
    "```"
   ]
  }
 ],
 "metadata": {
  "kernelspec": {
   "display_name": "Python 3 (ipykernel)",
   "language": "python",
   "name": "python3"
  },
  "language_info": {
   "codemirror_mode": {
    "name": "ipython",
    "version": 3
   },
   "file_extension": ".py",
   "mimetype": "text/x-python",
   "name": "python",
   "nbconvert_exporter": "python",
   "pygments_lexer": "ipython3",
   "version": "3.9.7"
  }
 },
 "nbformat": 4,
 "nbformat_minor": 5
}
