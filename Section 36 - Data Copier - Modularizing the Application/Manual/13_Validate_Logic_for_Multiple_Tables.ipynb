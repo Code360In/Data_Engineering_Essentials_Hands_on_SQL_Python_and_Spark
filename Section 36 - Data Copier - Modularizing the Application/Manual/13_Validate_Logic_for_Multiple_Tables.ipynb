{
 "cells": [
  {
   "cell_type": "markdown",
   "id": "cc433e1e",
   "metadata": {},
   "source": [
    "## Validate logic for multiple tables\n",
    "\n",
    "As our program to process multiple tables takes run time arguments, let us understand how to pass the run time arguments to validate.\n",
    "* We can either use Pycharm run or Python command using CLI for the validation.\n",
    "* Here is the process to pass the run time arguments using Pycharm.\n",
    "  * Go to **Edit Configurations** and pass the argument as part of parameters.\n",
    "  * Make sure all the environment variables defined.\n",
    "  * Now we should be able to run the program which takes arguments using Pycharm.\n",
    "  * Let us populate **departments** and **categories** using this approach and validate.\n",
    "* Here is the process to pass the run time arguments using Python command as part of CLI.\n",
    "  * Go to the Terminal or Powershell and make sure virtual environment is activated. We also need to make sure that we are in the working directory of the project.\n",
    "  * If we use Pycharm integrated terminal, we will be in working directory as part of correct Python virtual environment.\n",
    "  * Now we can pass the run time arguments to the program as part of `python` command after the program name.\n",
    "  * Let us populate **products** using this approach and validate."
   ]
  }
 ],
 "metadata": {
  "kernelspec": {
   "display_name": "Python 3 (ipykernel)",
   "language": "python",
   "name": "python3"
  },
  "language_info": {
   "codemirror_mode": {
    "name": "ipython",
    "version": 3
   },
   "file_extension": ".py",
   "mimetype": "text/x-python",
   "name": "python",
   "nbconvert_exporter": "python",
   "pygments_lexer": "ipython3",
   "version": "3.10.2"
  }
 },
 "nbformat": 4,
 "nbformat_minor": 5
}
