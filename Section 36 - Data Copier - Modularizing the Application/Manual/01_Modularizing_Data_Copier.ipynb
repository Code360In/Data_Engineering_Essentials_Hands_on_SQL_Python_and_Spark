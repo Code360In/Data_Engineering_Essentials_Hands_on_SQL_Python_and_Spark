{
 "cells": [
  {
   "cell_type": "markdown",
   "id": "92a78adb",
   "metadata": {},
   "source": [
    "# Modularizing Data Copier\n",
    "\n",
    "As part of this section we will see how to modularize the code so that it is easily manageable.\n",
    "\n",
    "* Overview of main function\n",
    "* Overview of Environment Variables\n",
    "* Using os module for Environment Variables\n",
    "* Passing Environment Variables using Pycharm\n",
    "* Read logic using Pandas\n",
    "* Validate read logic\n",
    "* Write logic using Pandas\n",
    "* Validate write logic\n",
    "* Create Driver Program\n",
    "* Validate Driver Program\n",
    "* Validate Application using Pycharm\n",
    "* Validate Application using Terminal\n",
    "* Passing Table List as argument\n",
    "* Passing Table List using file"
   ]
  }
 ],
 "metadata": {
  "kernelspec": {
   "display_name": "Python 3 (ipykernel)",
   "language": "python",
   "name": "python3"
  },
  "language_info": {
   "codemirror_mode": {
    "name": "ipython",
    "version": 3
   },
   "file_extension": ".py",
   "mimetype": "text/x-python",
   "name": "python",
   "nbconvert_exporter": "python",
   "pygments_lexer": "ipython3",
   "version": "3.9.7"
  }
 },
 "nbformat": 4,
 "nbformat_minor": 5
}
