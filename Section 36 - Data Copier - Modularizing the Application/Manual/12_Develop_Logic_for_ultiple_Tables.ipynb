{
 "cells": [
  {
   "cell_type": "markdown",
   "id": "4c72da13",
   "metadata": {},
   "source": [
    "## Develop logic for multiple tables\n",
    "\n",
    "Let us go through the details of developing the logic to load the data from files into respective tables where we need to pass list of tables as argument.\n",
    "* We will pass list of tables as part of comma separated string.\n",
    "* For now we will pass the comma separated string as run time argument. It can be accessed using `sys` module.\n",
    "* Once the list of tables is passed as comma separated string, we need to do the following:\n",
    "  * Split the comma separated string into a list of tables.\n",
    "  * Iterate through the list and invoke the logic to read from file and write to the table for each item in the list.\n",
    "  * We will also modularize to make sure we have a function which will read and write for a table which is passed as argument.\n"
   ]
  }
 ],
 "metadata": {
  "kernelspec": {
   "display_name": "Python 3 (ipykernel)",
   "language": "python",
   "name": "python3"
  },
  "language_info": {
   "codemirror_mode": {
    "name": "ipython",
    "version": 3
   },
   "file_extension": ".py",
   "mimetype": "text/x-python",
   "name": "python",
   "nbconvert_exporter": "python",
   "pygments_lexer": "ipython3",
   "version": "3.10.2"
  }
 },
 "nbformat": 4,
 "nbformat_minor": 5
}
