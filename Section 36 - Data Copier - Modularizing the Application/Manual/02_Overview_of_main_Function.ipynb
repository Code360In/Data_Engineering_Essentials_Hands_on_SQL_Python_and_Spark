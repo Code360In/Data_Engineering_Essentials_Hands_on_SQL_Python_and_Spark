{
 "cells": [
  {
   "cell_type": "markdown",
   "id": "e60ca6d9",
   "metadata": {},
   "source": [
    "## Overview of main function\n",
    "\n",
    "Let us get an overview of main function in Python.\n",
    "* If you develop code in Python script without making it part of any function, then such code will execute whenever we try to import the program to access functions in it.\n",
    "* The code which is not part of any function will also run when we try to run directly.\n",
    "* Create the program by name **read.py** and paste the below code.\n",
    "\n",
    "```python\n",
    "print('Hello from read')\n",
    "\n",
    "\n",
    "def dummy():\n",
    "    print('Hello from dummy of read')\n",
    "```\n",
    "\n",
    "* Create the program by name **app.py** and paste the below code.\n",
    "\n",
    "```python\n",
    "from read import dummy\n",
    "\n",
    "\n",
    "def main():\n",
    "    print('Hello World from itversity')\n",
    "    dummy()\n",
    "    \n",
    "\n",
    "if __name__ == \"__main__\":\n",
    "    main()\n",
    "```\n",
    "\n",
    "* Now run both **read.py** and **app.py**. When we run **app.py**, we see output of both the print statements.\n",
    "* Generally we want to see the results of first print statement only when we run **read.py** directly, but not when we import in other programs.\n",
    "* Also, Python have a special variable by name `__name__`. When we run any Python program, the value of `__name__` is set to `__main__`.\n",
    "* We can leverage it to make sure that the certain code can run when we run the program, but not when we import it as part of another program.\n",
    "* Now update **read.py** with below code.\n",
    "\n",
    "```python\n",
    "def dummy():\n",
    "    print('Hello from dummy of read')\n",
    "\n",
    "\n",
    "if __name__ == '__main__':\n",
    "    print('Hello from read')\n",
    "```\n",
    "\n",
    "* Now if you run **read.py** you will see the results of print statement in main and when you run **app.py**, that piece of code will not be executed.\n"
   ]
  }
 ],
 "metadata": {
  "kernelspec": {
   "display_name": "Python 3 (ipykernel)",
   "language": "python",
   "name": "python3"
  },
  "language_info": {
   "codemirror_mode": {
    "name": "ipython",
    "version": 3
   },
   "file_extension": ".py",
   "mimetype": "text/x-python",
   "name": "python",
   "nbconvert_exporter": "python",
   "pygments_lexer": "ipython3",
   "version": "3.9.7"
  }
 },
 "nbformat": 4,
 "nbformat_minor": 5
}
