{
 "cells": [
  {
   "cell_type": "markdown",
   "id": "faa00b57",
   "metadata": {},
   "source": [
    "## Overview of Environment Variables\n",
    "\n",
    "Let us get an overview of environment variables. \n",
    "* We typically develop applications using Pycharm on PC or Mac.\n",
    "* Once the development is done we will deploy them in QA/UAT and then in Production.\n",
    "* There will be several components such as databases which we need to connect our application to.\n",
    "* For each of the environments such as Dev, QA/UAT, Production, etc the connectivity information will differ. However, the core logic remain same.\n",
    "* Instead of hard coding such information we need to pass them as variables.\n",
    "* One of the way to pass the such information is to pass them as environment variables.\n",
    "* In Mac or Linux, we can pass environment variables using `export` command. For example, `export DB_NAME=retail_db`.\n",
    "* On Windows, we can pass environment variables using `$env:DB_NAME = \"retail_db\"`."
   ]
  }
 ],
 "metadata": {
  "kernelspec": {
   "display_name": "Python 3 (ipykernel)",
   "language": "python",
   "name": "python3"
  },
  "language_info": {
   "codemirror_mode": {
    "name": "ipython",
    "version": 3
   },
   "file_extension": ".py",
   "mimetype": "text/x-python",
   "name": "python",
   "nbconvert_exporter": "python",
   "pygments_lexer": "ipython3",
   "version": "3.9.7"
  }
 },
 "nbformat": 4,
 "nbformat_minor": 5
}
