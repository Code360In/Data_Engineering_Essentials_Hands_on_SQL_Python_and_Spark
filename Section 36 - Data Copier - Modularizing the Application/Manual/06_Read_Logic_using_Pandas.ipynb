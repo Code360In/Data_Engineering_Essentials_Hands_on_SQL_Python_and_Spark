{
 "cells": [
  {
   "cell_type": "markdown",
   "id": "dd4012b8",
   "metadata": {},
   "source": [
    "## Read logic using Pandas\n",
    "\n",
    "Let us add read logic using pandas to our application.\n",
    "* We will create a program by name **read.py** with the below logic.\n",
    "\n",
    "```python\n",
    "import os\n",
    "import pandas as pd\n",
    "\n",
    "\n",
    "def get_json_reader(BASE_DIR, table_name, chunksize=1000):\n",
    "    file_name = os.listdir(f'{BASE_DIR}/{table_name}')[0]\n",
    "    fp = f'{BASE_DIR}/{table_name}/{file_name}'\n",
    "    return pd.read_json(fp, lines=True, chunksize=chunksize)\n",
    "\n",
    "\n",
    "if __name__ == '__main__':\n",
    "    # This code will only run when we run the program.\n",
    "    # When we import, the program will not run.\n",
    "    BASE_DIR = os.environ.get('BASE_DIR')\n",
    "    table_name = os.environ.get('TABLE_NAME')\n",
    "    json_reader = get_json_reader(BASE_DIR, table_name)\n",
    "    for idx, df in enumerate(json_reader):\n",
    "        print(f'Number of records in chunk with index {idx} is {df.shape[0]}')\n",
    "```"
   ]
  }
 ],
 "metadata": {
  "kernelspec": {
   "display_name": "Python 3 (ipykernel)",
   "language": "python",
   "name": "python3"
  },
  "language_info": {
   "codemirror_mode": {
    "name": "ipython",
    "version": 3
   },
   "file_extension": ".py",
   "mimetype": "text/x-python",
   "name": "python",
   "nbconvert_exporter": "python",
   "pygments_lexer": "ipython3",
   "version": "3.9.7"
  }
 },
 "nbformat": 4,
 "nbformat_minor": 5
}
