{
 "cells": [
  {
   "cell_type": "markdown",
   "id": "400bfc8f",
   "metadata": {},
   "source": [
    "## Using os module for Environment Variables\n",
    "\n",
    "Let us understand how we can leverage `os` module to access environment variables.\n",
    "\n",
    "* Make sure to set the environment variable.\n",
    "\n",
    "```shell\n",
    "# On Mac or Linux\n",
    "export DB_NAME=retail_db\n",
    "\n",
    "# On Windows\n",
    "$env:DB_NAME = \"retail_db\"\n",
    "```\n",
    "* Once environment variables are set, we should be able to launch Python CLI and import `os` module.\n",
    "* We can get the value of **DB_NAME** by passing it to `os.environ.get`.\n",
    "* We can also access all the environment variables by saying `os.environ.items()`. We can convert the returned object to dict and then access the value by passing the name of the environment variable.\n",
    "\n",
    "```python\n",
    "import os\n",
    "db_name = os.environ.get('DB_NAME')\n",
    "\n",
    "configs = dict(os.environ.items())\n",
    "configs['DB_NAME']\n",
    "```"
   ]
  }
 ],
 "metadata": {
  "kernelspec": {
   "display_name": "Python 3 (ipykernel)",
   "language": "python",
   "name": "python3"
  },
  "language_info": {
   "codemirror_mode": {
    "name": "ipython",
    "version": 3
   },
   "file_extension": ".py",
   "mimetype": "text/x-python",
   "name": "python",
   "nbconvert_exporter": "python",
   "pygments_lexer": "ipython3",
   "version": "3.9.7"
  }
 },
 "nbformat": 4,
 "nbformat_minor": 5
}
